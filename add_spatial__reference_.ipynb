{
  "nbformat": 4,
  "nbformat_minor": 0,
  "metadata": {
    "colab": {
      "provenance": [],
      "authorship_tag": "ABX9TyP7Y2olbw8Nh7YSLlCTKi+3",
      "include_colab_link": true
    },
    "kernelspec": {
      "name": "python3",
      "display_name": "Python 3"
    },
    "language_info": {
      "name": "python"
    }
  },
  "cells": [
    {
      "cell_type": "markdown",
      "metadata": {
        "id": "view-in-github",
        "colab_type": "text"
      },
      "source": [
        "<a href=\"https://colab.research.google.com/github/ishancoderr/3D_modeling/blob/main/add_spatial__reference_.ipynb\" target=\"_parent\"><img src=\"https://colab.research.google.com/assets/colab-badge.svg\" alt=\"Open In Colab\"/></a>"
      ]
    },
    {
      "cell_type": "code",
      "source": [
        "from PIL import Image\n",
        "import numpy as np\n"
      ],
      "metadata": {
        "id": "nJXhA9vCrJ-U"
      },
      "execution_count": 14,
      "outputs": []
    },
    {
      "cell_type": "code",
      "source": [
        "img = Image.open(\"/content/categories.tif\")\n",
        "img_array = np.array(img)\n"
      ],
      "metadata": {
        "id": "Yvgk1MURrLpi"
      },
      "execution_count": 15,
      "outputs": []
    },
    {
      "cell_type": "code",
      "source": [
        "single_band_array = np.zeros((img_array.shape[0], img_array.shape[1]), dtype=np.uint8)\n"
      ],
      "metadata": {
        "id": "EoK5dprrrS9L"
      },
      "execution_count": 16,
      "outputs": []
    },
    {
      "cell_type": "code",
      "source": [
        "for i in range(img_array.shape[0]):\n",
        "    for j in range(img_array.shape[1]):\n",
        "        if np.all(img_array[i,j,:] == [0, 0, 255]):  # blue\n",
        "            single_band_array[i,j] = 1\n",
        "        elif np.all(img_array[i,j,:] == [255, 255, 255]):  # white\n",
        "            single_band_array[i,j] = 2\n",
        "        elif np.all(img_array[i,j,:] == [255, 255, 0]):  # yellow\n",
        "            single_band_array[i,j] = 3\n",
        "        elif np.all(img_array[i,j,:] == [255, 0, 0]):  # red\n",
        "            single_band_array[i,j] = 4\n"
      ],
      "metadata": {
        "id": "U-TcCcw9rZYE"
      },
      "execution_count": 17,
      "outputs": []
    },
    {
      "cell_type": "code",
      "source": [
        "single_band_img = Image.fromarray(single_band_array)\n",
        "single_band_img.save(\"/content/output_image.tif\")\n"
      ],
      "metadata": {
        "id": "BXb0dFfzreQL"
      },
      "execution_count": 19,
      "outputs": []
    },
    {
      "cell_type": "code",
      "source": [
        "from osgeo import gdal, osr\n",
        "\n",
        "\n",
        "src_ds = gdal.Open('/content/Slope.tif')\n",
        "dst_ds = gdal.Open('/content/output_image.tif', gdal.GA_Update)\n",
        "\n",
        "# Get the geotransform and spatial reference information from the source file\n",
        "src_geotransform = src_ds.GetGeoTransform()\n",
        "src_proj = src_ds.GetProjection()\n",
        "src_srs = osr.SpatialReference()\n",
        "src_srs.ImportFromWkt(src_proj)\n",
        "\n",
        "\n",
        "dst_ds.SetGeoTransform(src_geotransform)\n",
        "dst_ds.SetProjection(src_proj)\n",
        "\n",
        "src_ds = None\n",
        "dst_ds = None"
      ],
      "metadata": {
        "id": "deCrtUV9snTs"
      },
      "execution_count": 23,
      "outputs": []
    },
    {
      "cell_type": "code",
      "source": [
        "\n",
        "ds = gdal.Open('/content/output_image.tif')\n",
        "\n",
        "geotransform = ds.GetGeoTransform()\n",
        "projection = ds.GetProjection()\n",
        "\n",
        "print('Geotransform:', geotransform)\n",
        "print('Projection:', projection)\n",
        "\n",
        "ds = None"
      ],
      "metadata": {
        "colab": {
          "base_uri": "https://localhost:8080/"
        },
        "id": "ij49UpFxtDCN",
        "outputId": "abbf1225-8445-4797-9da7-dcb26f6baade"
      },
      "execution_count": 24,
      "outputs": [
        {
          "output_type": "stream",
          "name": "stdout",
          "text": [
            "Geotransform: (428122.4950000001, 14.030000000000005, 0.0, 755741.5723999995, 0.0, -14.030000000000017)\n",
            "Projection: PROJCS[\"WGS 84 / UTM zone 44N\",GEOGCS[\"WGS 84\",DATUM[\"WGS_1984\",SPHEROID[\"WGS 84\",6378137,298.257223563,AUTHORITY[\"EPSG\",\"7030\"]],AUTHORITY[\"EPSG\",\"6326\"]],PRIMEM[\"Greenwich\",0,AUTHORITY[\"EPSG\",\"8901\"]],UNIT[\"degree\",0.0174532925199433,AUTHORITY[\"EPSG\",\"9122\"]],AUTHORITY[\"EPSG\",\"4326\"]],PROJECTION[\"Transverse_Mercator\"],PARAMETER[\"latitude_of_origin\",0],PARAMETER[\"central_meridian\",81],PARAMETER[\"scale_factor\",0.9996],PARAMETER[\"false_easting\",500000],PARAMETER[\"false_northing\",0],UNIT[\"metre\",1,AUTHORITY[\"EPSG\",\"9001\"]],AXIS[\"Easting\",EAST],AXIS[\"Northing\",NORTH],AUTHORITY[\"EPSG\",\"32644\"]]\n"
          ]
        }
      ]
    },
    {
      "cell_type": "code",
      "source": [
        "!pip install geopandas\n"
      ],
      "metadata": {
        "colab": {
          "base_uri": "https://localhost:8080/"
        },
        "id": "5qKd2-0nXypF",
        "outputId": "31f5ae31-1946-49b0-de31-6573bd42a69d"
      },
      "execution_count": 26,
      "outputs": [
        {
          "output_type": "stream",
          "name": "stdout",
          "text": [
            "Looking in indexes: https://pypi.org/simple, https://us-python.pkg.dev/colab-wheels/public/simple/\n",
            "Collecting geopandas\n",
            "  Downloading geopandas-0.13.0-py3-none-any.whl (1.1 MB)\n",
            "\u001b[2K     \u001b[90m━━━━━━━━━━━━━━━━━━━━━━━━━━━━━━━━━━━━━━━━\u001b[0m \u001b[32m1.1/1.1 MB\u001b[0m \u001b[31m25.3 MB/s\u001b[0m eta \u001b[36m0:00:00\u001b[0m\n",
            "\u001b[?25hRequirement already satisfied: pandas>=1.1.0 in /usr/local/lib/python3.10/dist-packages (from geopandas) (1.5.3)\n",
            "Collecting pyproj>=3.0.1\n",
            "  Downloading pyproj-3.5.0-cp310-cp310-manylinux_2_17_x86_64.manylinux2014_x86_64.whl (7.7 MB)\n",
            "\u001b[2K     \u001b[90m━━━━━━━━━━━━━━━━━━━━━━━━━━━━━━━━━━━━━━━━\u001b[0m \u001b[32m7.7/7.7 MB\u001b[0m \u001b[31m46.1 MB/s\u001b[0m eta \u001b[36m0:00:00\u001b[0m\n",
            "\u001b[?25hCollecting fiona>=1.8.19\n",
            "  Downloading Fiona-1.9.3-cp310-cp310-manylinux_2_17_x86_64.manylinux2014_x86_64.whl (16.0 MB)\n",
            "\u001b[2K     \u001b[90m━━━━━━━━━━━━━━━━━━━━━━━━━━━━━━━━━━━━━━━━\u001b[0m \u001b[32m16.0/16.0 MB\u001b[0m \u001b[31m40.8 MB/s\u001b[0m eta \u001b[36m0:00:00\u001b[0m\n",
            "\u001b[?25hRequirement already satisfied: shapely>=1.7.1 in /usr/local/lib/python3.10/dist-packages (from geopandas) (2.0.1)\n",
            "Requirement already satisfied: packaging in /usr/local/lib/python3.10/dist-packages (from geopandas) (23.1)\n",
            "Requirement already satisfied: certifi in /usr/local/lib/python3.10/dist-packages (from fiona>=1.8.19->geopandas) (2022.12.7)\n",
            "Collecting munch>=2.3.2\n",
            "  Downloading munch-2.5.0-py2.py3-none-any.whl (10 kB)\n",
            "Requirement already satisfied: click~=8.0 in /usr/local/lib/python3.10/dist-packages (from fiona>=1.8.19->geopandas) (8.1.3)\n",
            "Collecting click-plugins>=1.0\n",
            "  Downloading click_plugins-1.1.1-py2.py3-none-any.whl (7.5 kB)\n",
            "Collecting cligj>=0.5\n",
            "  Downloading cligj-0.7.2-py3-none-any.whl (7.1 kB)\n",
            "Requirement already satisfied: attrs>=19.2.0 in /usr/local/lib/python3.10/dist-packages (from fiona>=1.8.19->geopandas) (23.1.0)\n",
            "Requirement already satisfied: numpy>=1.21.0 in /usr/local/lib/python3.10/dist-packages (from pandas>=1.1.0->geopandas) (1.22.4)\n",
            "Requirement already satisfied: python-dateutil>=2.8.1 in /usr/local/lib/python3.10/dist-packages (from pandas>=1.1.0->geopandas) (2.8.2)\n",
            "Requirement already satisfied: pytz>=2020.1 in /usr/local/lib/python3.10/dist-packages (from pandas>=1.1.0->geopandas) (2022.7.1)\n",
            "Requirement already satisfied: six in /usr/local/lib/python3.10/dist-packages (from munch>=2.3.2->fiona>=1.8.19->geopandas) (1.16.0)\n",
            "Installing collected packages: pyproj, munch, cligj, click-plugins, fiona, geopandas\n",
            "Successfully installed click-plugins-1.1.1 cligj-0.7.2 fiona-1.9.3 geopandas-0.13.0 munch-2.5.0 pyproj-3.5.0\n"
          ]
        }
      ]
    },
    {
      "cell_type": "code",
      "source": [
        "import geopandas as gpd\n",
        "\n",
        "# Read the shapefile into a GeoDataFrame\n",
        "gdf = gpd.read_file('/content/RiskMap_ShapeFile.shp')\n",
        "\n",
        "# Drop unnecessary columns to make the GeoDataFrame lighter\n",
        "gdf = gdf[['geometry']]\n",
        "\n",
        "# Convert the GeoDataFrame to GeoJSON and write it to a file\n",
        "gdf.to_file('/content/output.geojson', driver='GeoJSON')\n"
      ],
      "metadata": {
        "id": "1X2ZpA4jJVXP"
      },
      "execution_count": 27,
      "outputs": []
    },
    {
      "cell_type": "code",
      "source": [
        "from osgeo import gdal\n",
        "\n",
        "# Open the tiff file\n",
        "ds = gdal.Open('/content/Reclassified.tif')\n",
        "\n",
        "# Get the geotransform and spatial reference information from the file\n",
        "geotransform = ds.GetGeoTransform()\n",
        "srs = osr.SpatialReference()\n",
        "srs.ImportFromWkt(ds.GetProjection())\n",
        "\n",
        "# Define the point to check\n",
        "lon = 6.68278 \n",
        "lat = 80.39917\n",
        "\n",
        "# Convert the point's coordinates to the same projection as the TIFF file\n",
        "point_srs = osr.SpatialReference()\n",
        "point_srs.ImportFromEPSG(4326)  # WGS 84\n",
        "transform = osr.CoordinateTransformation(point_srs, srs)\n",
        "point = transform.TransformPoint(lon, lat)\n",
        "\n",
        "# Check if the point is within the extent of the TIFF file\n",
        "x, y = point[0], point[1]\n",
        "if (x >= geotransform[0] and x <= geotransform[0] + geotransform[1] * ds.RasterXSize and \n",
        "    y <= geotransform[3] and y >= geotransform[3] + geotransform[5] * ds.RasterYSize):\n",
        "    print(\"The point is within the extent of the TIFF file.\")\n",
        "else:\n",
        "    print(\"The point is not within the extent of the TIFF file.\")\n",
        "    \n",
        "# Close the file\n",
        "ds = None\n"
      ],
      "metadata": {
        "colab": {
          "base_uri": "https://localhost:8080/"
        },
        "id": "fYSUPEmdfM2K",
        "outputId": "ab4f1400-7b7e-4625-cac4-d84695e22669"
      },
      "execution_count": 34,
      "outputs": [
        {
          "output_type": "stream",
          "name": "stdout",
          "text": [
            "The point is within the extent of the TIFF file.\n"
          ]
        }
      ]
    },
    {
      "cell_type": "code",
      "source": [
        "from osgeo import gdal\n",
        "\n",
        "# Open the tiff file\n",
        "ds = gdal.Open('/content/Reclassified.tif')\n",
        "\n",
        "# Get the geotransform and spatial reference information from the file\n",
        "geotransform = ds.GetGeoTransform()\n",
        "srs = osr.SpatialReference()\n",
        "srs.ImportFromWkt(ds.GetProjection())\n",
        "\n",
        "# Define the point to check\n",
        "lon = 6.747836\n",
        "lat = 80.664644\n",
        "\n",
        "# Convert the point's coordinates to the same projection as the TIFF file\n",
        "point_srs = osr.SpatialReference()\n",
        "point_srs.ImportFromEPSG(4326)  # WGS 84\n",
        "transform = osr.CoordinateTransformation(point_srs, srs)\n",
        "point = transform.TransformPoint(lon, lat)\n",
        "\n",
        "# Check if the point is within the extent of the TIFF file\n",
        "x, y = point[0], point[1]\n",
        "if (x >= geotransform[0] and x <= geotransform[0] + geotransform[1] * ds.RasterXSize and \n",
        "    y <= geotransform[3] and y >= geotransform[3] + geotransform[5] * ds.RasterYSize):\n",
        "    print(\"The point is within the extent of the TIFF file.\")\n",
        "    \n",
        "    # Get the raster band\n",
        "    band = ds.GetRasterBand(1)\n",
        "    \n",
        "    # Get the value of the pixel at the location\n",
        "    px = int((x - geotransform[0]) / geotransform[1])\n",
        "    py = int((y - geotransform[3]) / geotransform[5])\n",
        "    pixel_value = band.ReadAsArray(px, py, 1, 1)[0][0]\n",
        "    \n",
        "    print(\"Pixel value at the location is:\", pixel_value)\n",
        "    \n",
        "else:\n",
        "    print(\"The point is not within the extent of the TIFF file.\")\n",
        "    \n",
        "# Close the file\n",
        "ds = None\n",
        "print(\"GDAL version:\", gdal.__version__)"
      ],
      "metadata": {
        "colab": {
          "base_uri": "https://localhost:8080/"
        },
        "id": "jjyFnxfmhyJX",
        "outputId": "ed7be22e-49db-4ee9-b86c-a35a82317b86"
      },
      "execution_count": 38,
      "outputs": [
        {
          "output_type": "stream",
          "name": "stdout",
          "text": [
            "The point is within the extent of the TIFF file.\n",
            "Pixel value at the location is: 3\n",
            "GDAL version: 3.3.2\n"
          ]
        }
      ]
    },
    {
      "cell_type": "code",
      "source": [
        "!pip install rasterio"
      ],
      "metadata": {
        "colab": {
          "base_uri": "https://localhost:8080/"
        },
        "id": "-FQ49MnTvApA",
        "outputId": "99e9dde3-08df-4437-d1cc-06976494bf65"
      },
      "execution_count": 40,
      "outputs": [
        {
          "output_type": "stream",
          "name": "stdout",
          "text": [
            "Looking in indexes: https://pypi.org/simple, https://us-python.pkg.dev/colab-wheels/public/simple/\n",
            "Collecting rasterio\n",
            "  Downloading rasterio-1.3.6-cp310-cp310-manylinux_2_17_x86_64.manylinux2014_x86_64.whl (20.0 MB)\n",
            "\u001b[2K     \u001b[90m━━━━━━━━━━━━━━━━━━━━━━━━━━━━━━━━━━━━━━━━\u001b[0m \u001b[32m20.0/20.0 MB\u001b[0m \u001b[31m25.7 MB/s\u001b[0m eta \u001b[36m0:00:00\u001b[0m\n",
            "\u001b[?25hCollecting affine\n",
            "  Downloading affine-2.4.0-py3-none-any.whl (15 kB)\n",
            "Requirement already satisfied: cligj>=0.5 in /usr/local/lib/python3.10/dist-packages (from rasterio) (0.7.2)\n",
            "Collecting snuggs>=1.4.1\n",
            "  Downloading snuggs-1.4.7-py3-none-any.whl (5.4 kB)\n",
            "Requirement already satisfied: numpy>=1.18 in /usr/local/lib/python3.10/dist-packages (from rasterio) (1.22.4)\n",
            "Requirement already satisfied: click-plugins in /usr/local/lib/python3.10/dist-packages (from rasterio) (1.1.1)\n",
            "Requirement already satisfied: certifi in /usr/local/lib/python3.10/dist-packages (from rasterio) (2022.12.7)\n",
            "Requirement already satisfied: setuptools in /usr/local/lib/python3.10/dist-packages (from rasterio) (67.7.2)\n",
            "Requirement already satisfied: attrs in /usr/local/lib/python3.10/dist-packages (from rasterio) (23.1.0)\n",
            "Requirement already satisfied: click>=4.0 in /usr/local/lib/python3.10/dist-packages (from rasterio) (8.1.3)\n",
            "Requirement already satisfied: pyparsing>=2.1.6 in /usr/local/lib/python3.10/dist-packages (from snuggs>=1.4.1->rasterio) (3.0.9)\n",
            "Installing collected packages: snuggs, affine, rasterio\n",
            "Successfully installed affine-2.4.0 rasterio-1.3.6 snuggs-1.4.7\n"
          ]
        }
      ]
    },
    {
      "cell_type": "code",
      "source": [
        "import sys\n",
        "\n",
        "print(\"Python version\")\n",
        "print(sys.version)\n",
        "print(\"Version info.\")\n",
        "print(sys.version_info)\n"
      ],
      "metadata": {
        "colab": {
          "base_uri": "https://localhost:8080/"
        },
        "id": "WnzzpU-7u9vE",
        "outputId": "353ef3dd-3415-4266-964e-cfefa5bdd83e"
      },
      "execution_count": 42,
      "outputs": [
        {
          "output_type": "stream",
          "name": "stdout",
          "text": [
            "Python version\n",
            "3.10.11 (main, Apr  5 2023, 14:15:10) [GCC 9.4.0]\n",
            "Version info.\n",
            "sys.version_info(major=3, minor=10, micro=11, releaselevel='final', serial=0)\n"
          ]
        }
      ]
    }
  ]
}