{
  "nbformat": 4,
  "nbformat_minor": 0,
  "metadata": {
    "colab": {
      "provenance": [],
      "authorship_tag": "ABX9TyNSUZ3cykEgXQKgduS9Sld1",
      "include_colab_link": true
    },
    "kernelspec": {
      "name": "python3",
      "display_name": "Python 3"
    },
    "language_info": {
      "name": "python"
    }
  },
  "cells": [
    {
      "cell_type": "markdown",
      "metadata": {
        "id": "view-in-github",
        "colab_type": "text"
      },
      "source": [
        "<a href=\"https://colab.research.google.com/github/ishancoderr/3D_modeling/blob/main/python_list_and_tuples.ipynb\" target=\"_parent\"><img src=\"https://colab.research.google.com/assets/colab-badge.svg\" alt=\"Open In Colab\"/></a>"
      ]
    },
    {
      "cell_type": "code",
      "execution_count": 1,
      "metadata": {
        "id": "1M3zhkCHErYx"
      },
      "outputs": [],
      "source": [
        "a=[\"we\",1,2,\"err\",78.78]\n"
      ]
    },
    {
      "cell_type": "code",
      "source": [
        "a[0:4]"
      ],
      "metadata": {
        "colab": {
          "base_uri": "https://localhost:8080/"
        },
        "id": "E6doOFcBFh6F",
        "outputId": "1bd54abf-90ae-4476-f545-9f28b637cdfc"
      },
      "execution_count": 6,
      "outputs": [
        {
          "output_type": "execute_result",
          "data": {
            "text/plain": [
              "['we', 1, 2, 'err']"
            ]
          },
          "metadata": {},
          "execution_count": 6
        }
      ]
    },
    {
      "cell_type": "code",
      "source": [
        "a.append(\"ishan\")"
      ],
      "metadata": {
        "id": "IvxeL5foFoXU"
      },
      "execution_count": 7,
      "outputs": []
    },
    {
      "cell_type": "code",
      "source": [
        "a.remove(\"ishan\")"
      ],
      "metadata": {
        "id": "3kbQVIP4GFlF"
      },
      "execution_count": 9,
      "outputs": []
    },
    {
      "cell_type": "code",
      "source": [
        "a.pop(4)"
      ],
      "metadata": {
        "colab": {
          "base_uri": "https://localhost:8080/"
        },
        "id": "WYui4hVXGNn8",
        "outputId": "8442332a-9265-4cec-c679-853521d129b7"
      },
      "execution_count": 16,
      "outputs": [
        {
          "output_type": "execute_result",
          "data": {
            "text/plain": [
              "78.78"
            ]
          },
          "metadata": {},
          "execution_count": 16
        }
      ]
    },
    {
      "cell_type": "code",
      "source": [
        "print(a)"
      ],
      "metadata": {
        "colab": {
          "base_uri": "https://localhost:8080/"
        },
        "id": "LuMKh9rTGv7L",
        "outputId": "c0a86f67-7784-468d-af49-20aa7fcba59d"
      },
      "execution_count": 17,
      "outputs": [
        {
          "output_type": "stream",
          "name": "stdout",
          "text": [
            "['we', 1, 2, 'err']\n"
          ]
        }
      ]
    },
    {
      "cell_type": "code",
      "source": [
        "thislist = [\"apple\", \"banana\", \"cherry\"]\n",
        "thislist[1] = \"black\"\n",
        "print(thislist)"
      ],
      "metadata": {
        "colab": {
          "base_uri": "https://localhost:8080/"
        },
        "id": "U6xwEorGG98r",
        "outputId": "e7b60da7-7930-4919-99d7-7accdc32c9a0"
      },
      "execution_count": 19,
      "outputs": [
        {
          "output_type": "stream",
          "name": "stdout",
          "text": [
            "['apple', 'black', 'cherry']\n"
          ]
        }
      ]
    },
    {
      "cell_type": "code",
      "source": [
        "thislist = [\"apple\", \"banana\", \"cherry\"]\n",
        "thislist.insert(1, \"orange\")\n",
        "print(thislist)"
      ],
      "metadata": {
        "colab": {
          "base_uri": "https://localhost:8080/"
        },
        "id": "s4bKo82nHEOz",
        "outputId": "3fd6a8d4-84a0-41bd-ade2-41ea726fc80a"
      },
      "execution_count": 21,
      "outputs": [
        {
          "output_type": "stream",
          "name": "stdout",
          "text": [
            "['apple', 'orange', 'banana', 'cherry']\n"
          ]
        }
      ]
    },
    {
      "cell_type": "code",
      "source": [
        "a = [\"apple\", \"banana\", \"cherry\"]\n",
        "a.pop(1)\n",
        "a.insert(1,\"orange\")\n",
        "print(a)"
      ],
      "metadata": {
        "colab": {
          "base_uri": "https://localhost:8080/"
        },
        "id": "3-pE8K0_HZqL",
        "outputId": "bc0135d9-c6ca-477f-c6ee-d1a8180cf744"
      },
      "execution_count": 22,
      "outputs": [
        {
          "output_type": "stream",
          "name": "stdout",
          "text": [
            "['apple', 'orange', 'cherry']\n"
          ]
        }
      ]
    },
    {
      "cell_type": "code",
      "source": [
        "thislist = [\"apple\", \"banana\", \"cherry\"]\n",
        "del thislist[0]\n",
        "print(thislist)"
      ],
      "metadata": {
        "colab": {
          "base_uri": "https://localhost:8080/"
        },
        "id": "_lT9lvCNHtqE",
        "outputId": "d3c96b09-9418-4f70-ab0c-b8970b23b950"
      },
      "execution_count": 27,
      "outputs": [
        {
          "output_type": "stream",
          "name": "stdout",
          "text": [
            "['banana', 'cherry']\n"
          ]
        }
      ]
    },
    {
      "cell_type": "code",
      "source": [
        "del thislist\n"
      ],
      "metadata": {
        "id": "fyIZa8uOH7As"
      },
      "execution_count": 28,
      "outputs": []
    },
    {
      "cell_type": "code",
      "source": [
        "thislist = [\"apple\", \"banana\", \"cherry\",\"banana\",\"orange\",\"apple\", \"banana\", \"cherry\",\"banana\",\"orange\"]\n",
        "\n",
        "\n",
        "for x in range(len(thislist)):\n",
        " \n",
        "  if thislist[x]==\"banana\":\n",
        "    thislist.pop(x)\n",
        "    break\n",
        "    \n",
        "\n",
        "print(thislist)"
      ],
      "metadata": {
        "colab": {
          "base_uri": "https://localhost:8080/"
        },
        "id": "RXS8TTbLIVB9",
        "outputId": "f3d40aae-ddc8-4d13-a7ae-98f82b23e419"
      },
      "execution_count": 40,
      "outputs": [
        {
          "output_type": "stream",
          "name": "stdout",
          "text": [
            "['apple', 'cherry', 'banana', 'orange', 'apple', 'banana', 'cherry', 'banana', 'orange']\n"
          ]
        }
      ]
    },
    {
      "cell_type": "code",
      "source": [
        "b= [\"apple\", \"banana\", \"cherry\",\"banana\",\"orange\",\"apple\", \"banana\", \"cherry\",\"banana\",\"orange\"]\n",
        "\n",
        "count=0\n",
        "for i in range(len(b)):\n",
        "  if b[i]==\"banana\":\n",
        "    print(i)\n",
        "    b.pop(i)\n",
        "    count+=1\n",
        "    if count==2:\n",
        "      break\n",
        "    \n",
        "    \n",
        "\n",
        "print(b)"
      ],
      "metadata": {
        "colab": {
          "base_uri": "https://localhost:8080/"
        },
        "id": "ZLjKbidIQKZ2",
        "outputId": "be28a754-5c58-4aad-965c-763bf1dc6af9"
      },
      "execution_count": 51,
      "outputs": [
        {
          "output_type": "stream",
          "name": "stdout",
          "text": [
            "1\n",
            "2\n",
            "['apple', 'cherry', 'orange', 'apple', 'banana', 'cherry', 'banana', 'orange']\n"
          ]
        }
      ]
    },
    {
      "cell_type": "code",
      "source": [
        "fruits = [\"apple\", \"banana\", \"cherry\", \"kiwi\", \"mango\"]\n",
        "newlist = []\n",
        "\n",
        "for x in fruits:\n",
        "  if \"a\" in x:\n",
        "    newlist.append(x)\n",
        "\n",
        "print(newlist)"
      ],
      "metadata": {
        "colab": {
          "base_uri": "https://localhost:8080/"
        },
        "id": "sJC-Nib3SIwe",
        "outputId": "920be2a9-0a90-4d0c-b428-11958308c253"
      },
      "execution_count": 52,
      "outputs": [
        {
          "output_type": "stream",
          "name": "stdout",
          "text": [
            "['apple', 'banana', 'mango']\n"
          ]
        }
      ]
    },
    {
      "cell_type": "code",
      "source": [
        "list1 = [\"a\", \"b\", \"c\"]\n",
        "list2 = [1, 2, 3]\n",
        "\n",
        "list3 = list1 + list2\n",
        "print(list3)"
      ],
      "metadata": {
        "colab": {
          "base_uri": "https://localhost:8080/"
        },
        "id": "Id-XhVSYSiVv",
        "outputId": "15b86133-d4f5-4ace-a453-74b8e17b219e"
      },
      "execution_count": 54,
      "outputs": [
        {
          "output_type": "stream",
          "name": "stdout",
          "text": [
            "['a', 'b', 'c', 1, 2, 3]\n"
          ]
        }
      ]
    },
    {
      "cell_type": "code",
      "source": [
        "thistuple = (\"apple\", \"banana\", \"cherry\", \"orange\", \"kiwi\", \"melon\", \"mango\")\n",
        "print(thistuple[2:5])"
      ],
      "metadata": {
        "colab": {
          "base_uri": "https://localhost:8080/"
        },
        "id": "Hi9eD9PzSvwu",
        "outputId": "26fb9636-7817-4c9b-9061-0160969d4900"
      },
      "execution_count": 55,
      "outputs": [
        {
          "output_type": "stream",
          "name": "stdout",
          "text": [
            "('cherry', 'orange', 'kiwi')\n"
          ]
        }
      ]
    },
    {
      "cell_type": "code",
      "source": [
        "x = (\"apple\", \"banana\", \"cherry\")\n",
        "y = list(x)\n",
        "y[1] = \"kiwi\"\n",
        "x = tuple(y)\n",
        "\n",
        "print(x)\n"
      ],
      "metadata": {
        "colab": {
          "base_uri": "https://localhost:8080/"
        },
        "id": "HsxufFLFTdJm",
        "outputId": "aaeaab09-f2d8-4716-981a-52c4e1efa9c9"
      },
      "execution_count": 56,
      "outputs": [
        {
          "output_type": "stream",
          "name": "stdout",
          "text": [
            "('apple', 'kiwi', 'cherry')\n"
          ]
        }
      ]
    },
    {
      "cell_type": "code",
      "source": [
        "thistuple = (1, 3, 7, 8, 7, 5, 4, 6, 8, 5)\n",
        "\n",
        "x = thistuple.count(5)\n",
        "\n",
        "print(x)"
      ],
      "metadata": {
        "colab": {
          "base_uri": "https://localhost:8080/"
        },
        "id": "1Y1ztSuFUkze",
        "outputId": "fdfbdb9c-012a-444e-c797-4b9e01d897b7"
      },
      "execution_count": 60,
      "outputs": [
        {
          "output_type": "stream",
          "name": "stdout",
          "text": [
            "2\n"
          ]
        }
      ]
    },
    {
      "cell_type": "code",
      "source": [
        "fruits = (\"apple\", \"banana\", \"cherry\")\n",
        "\n",
        "(green, yellow, red) = fruits\n",
        "\n",
        "print(green)\n",
        "print(yellow)\n",
        "print(red)"
      ],
      "metadata": {
        "colab": {
          "base_uri": "https://localhost:8080/"
        },
        "id": "5mNSl03DT7UG",
        "outputId": "42f88b4d-3e75-4ee6-8e13-2d8abc4ac16a"
      },
      "execution_count": 57,
      "outputs": [
        {
          "output_type": "stream",
          "name": "stdout",
          "text": [
            "apple\n",
            "banana\n",
            "cherry\n"
          ]
        }
      ]
    },
    {
      "cell_type": "code",
      "source": [
        "thistuple = (1, 3, 7, 8, 7, 5, 4, 6, 8, 5)\n",
        "\n",
        "x = thistuple.index(8)\n",
        "\n",
        "print(x)"
      ],
      "metadata": {
        "colab": {
          "base_uri": "https://localhost:8080/"
        },
        "id": "5IpLGhVcUg9f",
        "outputId": "738562ad-b930-40b0-f304-ef4a838ea7e8"
      },
      "execution_count": 61,
      "outputs": [
        {
          "output_type": "stream",
          "name": "stdout",
          "text": [
            "3\n"
          ]
        }
      ]
    },
    {
      "cell_type": "code",
      "source": [
        "def removeDuplicates(s):\n",
        "\n",
        "  result=[]\n",
        "  seen=set()\n",
        "\n",
        "  for char in s:\n",
        "    if char not in seen:\n",
        "      seen.add(char)\n",
        "      print(seen)\n",
        "      result.append(char)\n",
        "      print(result)\n",
        "\n",
        "  return ''.join(result)"
      ],
      "metadata": {
        "id": "wouof4zyVPDv"
      },
      "execution_count": 70,
      "outputs": []
    },
    {
      "cell_type": "code",
      "source": [
        "\n",
        "s='weerakoon'\n",
        "removeDuplicates(s)"
      ],
      "metadata": {
        "colab": {
          "base_uri": "https://localhost:8080/",
          "height": 278
        },
        "id": "z9BuRpF8W9xv",
        "outputId": "e3d04284-941b-4de8-b80e-07dc38ea41a6"
      },
      "execution_count": 71,
      "outputs": [
        {
          "output_type": "stream",
          "name": "stdout",
          "text": [
            "{'w'}\n",
            "['w']\n",
            "{'w', 'e'}\n",
            "['w', 'e']\n",
            "{'w', 'r', 'e'}\n",
            "['w', 'e', 'r']\n",
            "{'w', 'r', 'e', 'a'}\n",
            "['w', 'e', 'r', 'a']\n",
            "{'w', 'k', 'a', 'r', 'e'}\n",
            "['w', 'e', 'r', 'a', 'k']\n",
            "{'w', 'o', 'k', 'a', 'r', 'e'}\n",
            "['w', 'e', 'r', 'a', 'k', 'o']\n",
            "{'w', 'o', 'k', 'a', 'n', 'r', 'e'}\n",
            "['w', 'e', 'r', 'a', 'k', 'o', 'n']\n"
          ]
        },
        {
          "output_type": "execute_result",
          "data": {
            "text/plain": [
              "'werakon'"
            ],
            "application/vnd.google.colaboratory.intrinsic+json": {
              "type": "string"
            }
          },
          "metadata": {},
          "execution_count": 71
        }
      ]
    }
  ]
}