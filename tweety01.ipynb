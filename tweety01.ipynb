{
  "nbformat": 4,
  "nbformat_minor": 0,
  "metadata": {
    "colab": {
      "name": "Untitled38.ipynb",
      "provenance": [],
      "authorship_tag": "ABX9TyPMAt//hDS4lZo/Jlre/anh",
      "include_colab_link": true
    },
    "kernelspec": {
      "name": "python3",
      "display_name": "Python 3"
    },
    "language_info": {
      "name": "python"
    }
  },
  "cells": [
    {
      "cell_type": "markdown",
      "metadata": {
        "id": "view-in-github",
        "colab_type": "text"
      },
      "source": [
        "<a href=\"https://colab.research.google.com/github/ishancoderr/3D_modeling/blob/main/tweety01.ipynb\" target=\"_parent\"><img src=\"https://colab.research.google.com/assets/colab-badge.svg\" alt=\"Open In Colab\"/></a>"
      ]
    },
    {
      "cell_type": "code",
      "metadata": {
        "id": "BMF0B83LQAYh"
      },
      "source": [
        "import tweepy\n",
        "from textblob import TextBlob\n",
        "consumer_key='MiPlOEtMiZDUU0A286jcN3jrr'\n",
        "consumer_secret_key='O9nv0WXPkcHgu6ry2CweZOgp08lA19na5TXxWQNl4Xw1FiH5NI'\n",
        "access_token='1498074007-l0DlAvQPXooOd5oNJCCuV9LIHa3yzjUgT1VBl7R'\n",
        "access_token_secret='oFqbnqacvyLxuDUrNF4Jzao0W7TaHBwFc9odVxQ9GvjA4'"
      ],
      "execution_count": 2,
      "outputs": []
    },
    {
      "cell_type": "code",
      "metadata": {
        "colab": {
          "base_uri": "https://localhost:8080/"
        },
        "id": "c5QnWIalRW-j",
        "outputId": "c5a84bbb-9fdc-4e53-e24a-9d084428628b"
      },
      "source": [
        "auth=tweepy.OAuthHandler(consumer_key,consumer_secret_key)\n",
        "auth.set_access_token(access_token,access_token_secret)\n",
        "api=tweepy.API(auth)\n",
        "public_tweet=api.search('Brexit')\n",
        "for tweet in public_tweet:\n",
        "  print(tweet.text)\n",
        "  "
      ],
      "execution_count": 7,
      "outputs": [
        {
          "output_type": "stream",
          "text": [
            "RT @jonsnowC4: More BREXIT fall-out as three hundred Creative Arts  Organisations (ISM) urge Boris Johnson to negotiate a 'Visa Waver Agree…\n",
            "RT @RogerHelmerMEP: I see that BBC News is doing a series looking at “the promises made during the Brexit campaign, and whether they’ve bee…\n",
            "Rishi Sunak gearing up for bonfire of EU rules – City braced for 'big change' https://t.co/P0CP4erK1y\n",
            "RT @UPR_Asselineau: 🇬🇧BRAVO LE BREXIT !\n",
            "Selon les européistes, le #Brexit allait entraîner l'Apocalypse 🥶 au Royaume-Uni.\n",
            "Le pays serait is…\n",
            "@Sylvania_Light  \n",
            "And please give me work again in newhaven again because I've worked ther over a year and really e… https://t.co/Ilele8LWBV\n",
            "RT @MartinGenier: 🇬🇧🇪🇺 Brexit pour bcp la ratification par le @Europarl_FR de l’accord sur le Brexit met fin aux conflits. Pour des éditori…\n",
            "RT @LeslieH24367191: Liz Truss hails 'historic moment for Global Britain' as UK unlocks £891bn trade bonanza https://t.co/83g2rdvrqw\n",
            "RT @mattprescott: The SCANDAL not to forget about during the excitement over Boris JOHNSON'S curtains is the GREENSILL SCANDAL... Oh! and t…\n",
            "RT @DMinghella: In the heat of it all, many things are slipping our attention, but this maddens me: at least one Cabinet member essentially…\n",
            "@steveremain @RichTWarms @MarinaNigrelli @SkyNews @Ofcom @FullFact lol nothing to do with brexit, that;s a good one… https://t.co/ZR5L7ECrN8\n",
            "RT @scotfoodjames: In a busy news agenda, this report by cross-party MPs deserves to cut through.\n",
            "- Brexit pain for food exporters is real…\n",
            "@BBCPolitics Blame Brexit.\n",
            "RT @mattprescott: Oh! and the RUSSIAN / FASCIST interference in BREXIT SCANDAL...\n",
            "RT @nealerichmond: This is the same Protocol that Mr Bridgen voted for, the same Protocol that his Govt negotiated &amp; agreed, a Protocol bro…\n",
            "RT @BBE_Info: 📬Europa-Nachrichten🇪🇺 \n",
            "Brexit: Welche Rolle hat die Zivilgesellschaft gespielt? Beiträge: @debrige_berlin, @juliaunwin, @wcva…\n"
          ],
          "name": "stdout"
        }
      ]
    }
  ]
}