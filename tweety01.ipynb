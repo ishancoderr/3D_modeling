{
  "nbformat": 4,
  "nbformat_minor": 0,
  "metadata": {
    "colab": {
      "name": "Untitled38.ipynb",
      "provenance": [],
      "authorship_tag": "ABX9TyMVAZ8jZkEolEcE2JYziyiF",
      "include_colab_link": true
    },
    "kernelspec": {
      "name": "python3",
      "display_name": "Python 3"
    },
    "language_info": {
      "name": "python"
    },
    "widgets": {
      "application/vnd.jupyter.widget-state+json": {
        "d16e7d6d92354f7b821f180738680a6f": {
          "model_module": "@jupyter-widgets/controls",
          "model_name": "HBoxModel",
          "state": {
            "_view_name": "HBoxView",
            "_dom_classes": [],
            "_model_name": "HBoxModel",
            "_view_module": "@jupyter-widgets/controls",
            "_model_module_version": "1.5.0",
            "_view_count": null,
            "_view_module_version": "1.5.0",
            "box_style": "",
            "layout": "IPY_MODEL_15d67f03718b49808f71b51dbe342aba",
            "_model_module": "@jupyter-widgets/controls",
            "children": [
              "IPY_MODEL_dd191f56ef0c4188a6231791c851d7d8",
              "IPY_MODEL_517bea60ff4b497d875221b3a906641c"
            ]
          }
        },
        "15d67f03718b49808f71b51dbe342aba": {
          "model_module": "@jupyter-widgets/base",
          "model_name": "LayoutModel",
          "state": {
            "_view_name": "LayoutView",
            "grid_template_rows": null,
            "right": null,
            "justify_content": null,
            "_view_module": "@jupyter-widgets/base",
            "overflow": null,
            "_model_module_version": "1.2.0",
            "_view_count": null,
            "flex_flow": null,
            "width": null,
            "min_width": null,
            "border": null,
            "align_items": null,
            "bottom": null,
            "_model_module": "@jupyter-widgets/base",
            "top": null,
            "grid_column": null,
            "overflow_y": null,
            "overflow_x": null,
            "grid_auto_flow": null,
            "grid_area": null,
            "grid_template_columns": null,
            "flex": null,
            "_model_name": "LayoutModel",
            "justify_items": null,
            "grid_row": null,
            "max_height": null,
            "align_content": null,
            "visibility": null,
            "align_self": null,
            "height": null,
            "min_height": null,
            "padding": null,
            "grid_auto_rows": null,
            "grid_gap": null,
            "max_width": null,
            "order": null,
            "_view_module_version": "1.2.0",
            "grid_template_areas": null,
            "object_position": null,
            "object_fit": null,
            "grid_auto_columns": null,
            "margin": null,
            "display": null,
            "left": null
          }
        },
        "dd191f56ef0c4188a6231791c851d7d8": {
          "model_module": "@jupyter-widgets/controls",
          "model_name": "FloatProgressModel",
          "state": {
            "_view_name": "ProgressView",
            "style": "IPY_MODEL_16162b083a3f4d468fdc0dadebfbe58c",
            "_dom_classes": [],
            "description": "Downloading: 100%",
            "_model_name": "FloatProgressModel",
            "bar_style": "success",
            "max": 1649,
            "_view_module": "@jupyter-widgets/controls",
            "_model_module_version": "1.5.0",
            "value": 1649,
            "_view_count": null,
            "_view_module_version": "1.5.0",
            "orientation": "horizontal",
            "min": 0,
            "description_tooltip": null,
            "_model_module": "@jupyter-widgets/controls",
            "layout": "IPY_MODEL_f76409d6a8ea4656bc78c136883ca66b"
          }
        },
        "517bea60ff4b497d875221b3a906641c": {
          "model_module": "@jupyter-widgets/controls",
          "model_name": "HTMLModel",
          "state": {
            "_view_name": "HTMLView",
            "style": "IPY_MODEL_6c2584c2b3d9428abad42276fffa9de1",
            "_dom_classes": [],
            "description": "",
            "_model_name": "HTMLModel",
            "placeholder": "​",
            "_view_module": "@jupyter-widgets/controls",
            "_model_module_version": "1.5.0",
            "value": " 1.65k/1.65k [00:00&lt;00:00, 2.54kB/s]",
            "_view_count": null,
            "_view_module_version": "1.5.0",
            "description_tooltip": null,
            "_model_module": "@jupyter-widgets/controls",
            "layout": "IPY_MODEL_50c33463ddca480ca544234e0869cfc5"
          }
        },
        "16162b083a3f4d468fdc0dadebfbe58c": {
          "model_module": "@jupyter-widgets/controls",
          "model_name": "ProgressStyleModel",
          "state": {
            "_view_name": "StyleView",
            "_model_name": "ProgressStyleModel",
            "description_width": "initial",
            "_view_module": "@jupyter-widgets/base",
            "_model_module_version": "1.5.0",
            "_view_count": null,
            "_view_module_version": "1.2.0",
            "bar_color": null,
            "_model_module": "@jupyter-widgets/controls"
          }
        },
        "f76409d6a8ea4656bc78c136883ca66b": {
          "model_module": "@jupyter-widgets/base",
          "model_name": "LayoutModel",
          "state": {
            "_view_name": "LayoutView",
            "grid_template_rows": null,
            "right": null,
            "justify_content": null,
            "_view_module": "@jupyter-widgets/base",
            "overflow": null,
            "_model_module_version": "1.2.0",
            "_view_count": null,
            "flex_flow": null,
            "width": null,
            "min_width": null,
            "border": null,
            "align_items": null,
            "bottom": null,
            "_model_module": "@jupyter-widgets/base",
            "top": null,
            "grid_column": null,
            "overflow_y": null,
            "overflow_x": null,
            "grid_auto_flow": null,
            "grid_area": null,
            "grid_template_columns": null,
            "flex": null,
            "_model_name": "LayoutModel",
            "justify_items": null,
            "grid_row": null,
            "max_height": null,
            "align_content": null,
            "visibility": null,
            "align_self": null,
            "height": null,
            "min_height": null,
            "padding": null,
            "grid_auto_rows": null,
            "grid_gap": null,
            "max_width": null,
            "order": null,
            "_view_module_version": "1.2.0",
            "grid_template_areas": null,
            "object_position": null,
            "object_fit": null,
            "grid_auto_columns": null,
            "margin": null,
            "display": null,
            "left": null
          }
        },
        "6c2584c2b3d9428abad42276fffa9de1": {
          "model_module": "@jupyter-widgets/controls",
          "model_name": "DescriptionStyleModel",
          "state": {
            "_view_name": "StyleView",
            "_model_name": "DescriptionStyleModel",
            "description_width": "",
            "_view_module": "@jupyter-widgets/base",
            "_model_module_version": "1.5.0",
            "_view_count": null,
            "_view_module_version": "1.2.0",
            "_model_module": "@jupyter-widgets/controls"
          }
        },
        "50c33463ddca480ca544234e0869cfc5": {
          "model_module": "@jupyter-widgets/base",
          "model_name": "LayoutModel",
          "state": {
            "_view_name": "LayoutView",
            "grid_template_rows": null,
            "right": null,
            "justify_content": null,
            "_view_module": "@jupyter-widgets/base",
            "overflow": null,
            "_model_module_version": "1.2.0",
            "_view_count": null,
            "flex_flow": null,
            "width": null,
            "min_width": null,
            "border": null,
            "align_items": null,
            "bottom": null,
            "_model_module": "@jupyter-widgets/base",
            "top": null,
            "grid_column": null,
            "overflow_y": null,
            "overflow_x": null,
            "grid_auto_flow": null,
            "grid_area": null,
            "grid_template_columns": null,
            "flex": null,
            "_model_name": "LayoutModel",
            "justify_items": null,
            "grid_row": null,
            "max_height": null,
            "align_content": null,
            "visibility": null,
            "align_self": null,
            "height": null,
            "min_height": null,
            "padding": null,
            "grid_auto_rows": null,
            "grid_gap": null,
            "max_width": null,
            "order": null,
            "_view_module_version": "1.2.0",
            "grid_template_areas": null,
            "object_position": null,
            "object_fit": null,
            "grid_auto_columns": null,
            "margin": null,
            "display": null,
            "left": null
          }
        },
        "a052271bcd22431d91142d51db515173": {
          "model_module": "@jupyter-widgets/controls",
          "model_name": "HBoxModel",
          "state": {
            "_view_name": "HBoxView",
            "_dom_classes": [],
            "_model_name": "HBoxModel",
            "_view_module": "@jupyter-widgets/controls",
            "_model_module_version": "1.5.0",
            "_view_count": null,
            "_view_module_version": "1.5.0",
            "box_style": "",
            "layout": "IPY_MODEL_fe24a840859349948428daad87274f7f",
            "_model_module": "@jupyter-widgets/controls",
            "children": [
              "IPY_MODEL_da929e79dd1248999b7811f3523c7644",
              "IPY_MODEL_991bdbfe989a4e26a7f6f3f1343b6cf7"
            ]
          }
        },
        "fe24a840859349948428daad87274f7f": {
          "model_module": "@jupyter-widgets/base",
          "model_name": "LayoutModel",
          "state": {
            "_view_name": "LayoutView",
            "grid_template_rows": null,
            "right": null,
            "justify_content": null,
            "_view_module": "@jupyter-widgets/base",
            "overflow": null,
            "_model_module_version": "1.2.0",
            "_view_count": null,
            "flex_flow": null,
            "width": null,
            "min_width": null,
            "border": null,
            "align_items": null,
            "bottom": null,
            "_model_module": "@jupyter-widgets/base",
            "top": null,
            "grid_column": null,
            "overflow_y": null,
            "overflow_x": null,
            "grid_auto_flow": null,
            "grid_area": null,
            "grid_template_columns": null,
            "flex": null,
            "_model_name": "LayoutModel",
            "justify_items": null,
            "grid_row": null,
            "max_height": null,
            "align_content": null,
            "visibility": null,
            "align_self": null,
            "height": null,
            "min_height": null,
            "padding": null,
            "grid_auto_rows": null,
            "grid_gap": null,
            "max_width": null,
            "order": null,
            "_view_module_version": "1.2.0",
            "grid_template_areas": null,
            "object_position": null,
            "object_fit": null,
            "grid_auto_columns": null,
            "margin": null,
            "display": null,
            "left": null
          }
        },
        "da929e79dd1248999b7811f3523c7644": {
          "model_module": "@jupyter-widgets/controls",
          "model_name": "FloatProgressModel",
          "state": {
            "_view_name": "ProgressView",
            "style": "IPY_MODEL_a0204086bfb643648db61f4da9d8f0b8",
            "_dom_classes": [],
            "description": "Downloading: 100%",
            "_model_name": "FloatProgressModel",
            "bar_style": "success",
            "max": 1222317369,
            "_view_module": "@jupyter-widgets/controls",
            "_model_module_version": "1.5.0",
            "value": 1222317369,
            "_view_count": null,
            "_view_module_version": "1.5.0",
            "orientation": "horizontal",
            "min": 0,
            "description_tooltip": null,
            "_model_module": "@jupyter-widgets/controls",
            "layout": "IPY_MODEL_bb691e52fa844925b67eabae55fbdb73"
          }
        },
        "991bdbfe989a4e26a7f6f3f1343b6cf7": {
          "model_module": "@jupyter-widgets/controls",
          "model_name": "HTMLModel",
          "state": {
            "_view_name": "HTMLView",
            "style": "IPY_MODEL_5579feec6c9a4a11843ae76f0e16fc62",
            "_dom_classes": [],
            "description": "",
            "_model_name": "HTMLModel",
            "placeholder": "​",
            "_view_module": "@jupyter-widgets/controls",
            "_model_module_version": "1.5.0",
            "value": " 1.22G/1.22G [03:01&lt;00:00, 6.72MB/s]",
            "_view_count": null,
            "_view_module_version": "1.5.0",
            "description_tooltip": null,
            "_model_module": "@jupyter-widgets/controls",
            "layout": "IPY_MODEL_eaa308e0e52445c1bd698d3b47846817"
          }
        },
        "a0204086bfb643648db61f4da9d8f0b8": {
          "model_module": "@jupyter-widgets/controls",
          "model_name": "ProgressStyleModel",
          "state": {
            "_view_name": "StyleView",
            "_model_name": "ProgressStyleModel",
            "description_width": "initial",
            "_view_module": "@jupyter-widgets/base",
            "_model_module_version": "1.5.0",
            "_view_count": null,
            "_view_module_version": "1.2.0",
            "bar_color": null,
            "_model_module": "@jupyter-widgets/controls"
          }
        },
        "bb691e52fa844925b67eabae55fbdb73": {
          "model_module": "@jupyter-widgets/base",
          "model_name": "LayoutModel",
          "state": {
            "_view_name": "LayoutView",
            "grid_template_rows": null,
            "right": null,
            "justify_content": null,
            "_view_module": "@jupyter-widgets/base",
            "overflow": null,
            "_model_module_version": "1.2.0",
            "_view_count": null,
            "flex_flow": null,
            "width": null,
            "min_width": null,
            "border": null,
            "align_items": null,
            "bottom": null,
            "_model_module": "@jupyter-widgets/base",
            "top": null,
            "grid_column": null,
            "overflow_y": null,
            "overflow_x": null,
            "grid_auto_flow": null,
            "grid_area": null,
            "grid_template_columns": null,
            "flex": null,
            "_model_name": "LayoutModel",
            "justify_items": null,
            "grid_row": null,
            "max_height": null,
            "align_content": null,
            "visibility": null,
            "align_self": null,
            "height": null,
            "min_height": null,
            "padding": null,
            "grid_auto_rows": null,
            "grid_gap": null,
            "max_width": null,
            "order": null,
            "_view_module_version": "1.2.0",
            "grid_template_areas": null,
            "object_position": null,
            "object_fit": null,
            "grid_auto_columns": null,
            "margin": null,
            "display": null,
            "left": null
          }
        },
        "5579feec6c9a4a11843ae76f0e16fc62": {
          "model_module": "@jupyter-widgets/controls",
          "model_name": "DescriptionStyleModel",
          "state": {
            "_view_name": "StyleView",
            "_model_name": "DescriptionStyleModel",
            "description_width": "",
            "_view_module": "@jupyter-widgets/base",
            "_model_module_version": "1.5.0",
            "_view_count": null,
            "_view_module_version": "1.2.0",
            "_model_module": "@jupyter-widgets/controls"
          }
        },
        "eaa308e0e52445c1bd698d3b47846817": {
          "model_module": "@jupyter-widgets/base",
          "model_name": "LayoutModel",
          "state": {
            "_view_name": "LayoutView",
            "grid_template_rows": null,
            "right": null,
            "justify_content": null,
            "_view_module": "@jupyter-widgets/base",
            "overflow": null,
            "_model_module_version": "1.2.0",
            "_view_count": null,
            "flex_flow": null,
            "width": null,
            "min_width": null,
            "border": null,
            "align_items": null,
            "bottom": null,
            "_model_module": "@jupyter-widgets/base",
            "top": null,
            "grid_column": null,
            "overflow_y": null,
            "overflow_x": null,
            "grid_auto_flow": null,
            "grid_area": null,
            "grid_template_columns": null,
            "flex": null,
            "_model_name": "LayoutModel",
            "justify_items": null,
            "grid_row": null,
            "max_height": null,
            "align_content": null,
            "visibility": null,
            "align_self": null,
            "height": null,
            "min_height": null,
            "padding": null,
            "grid_auto_rows": null,
            "grid_gap": null,
            "max_width": null,
            "order": null,
            "_view_module_version": "1.2.0",
            "grid_template_areas": null,
            "object_position": null,
            "object_fit": null,
            "grid_auto_columns": null,
            "margin": null,
            "display": null,
            "left": null
          }
        },
        "76611c0ea8634dc0937af420712dee37": {
          "model_module": "@jupyter-widgets/controls",
          "model_name": "HBoxModel",
          "state": {
            "_view_name": "HBoxView",
            "_dom_classes": [],
            "_model_name": "HBoxModel",
            "_view_module": "@jupyter-widgets/controls",
            "_model_module_version": "1.5.0",
            "_view_count": null,
            "_view_module_version": "1.5.0",
            "box_style": "",
            "layout": "IPY_MODEL_17116fbf625247d38cdfd554fb085204",
            "_model_module": "@jupyter-widgets/controls",
            "children": [
              "IPY_MODEL_d133802a19ed41a3b3b8b67b93cc0ef9",
              "IPY_MODEL_95337b5059fa4da381204f58b726040c"
            ]
          }
        },
        "17116fbf625247d38cdfd554fb085204": {
          "model_module": "@jupyter-widgets/base",
          "model_name": "LayoutModel",
          "state": {
            "_view_name": "LayoutView",
            "grid_template_rows": null,
            "right": null,
            "justify_content": null,
            "_view_module": "@jupyter-widgets/base",
            "overflow": null,
            "_model_module_version": "1.2.0",
            "_view_count": null,
            "flex_flow": null,
            "width": null,
            "min_width": null,
            "border": null,
            "align_items": null,
            "bottom": null,
            "_model_module": "@jupyter-widgets/base",
            "top": null,
            "grid_column": null,
            "overflow_y": null,
            "overflow_x": null,
            "grid_auto_flow": null,
            "grid_area": null,
            "grid_template_columns": null,
            "flex": null,
            "_model_name": "LayoutModel",
            "justify_items": null,
            "grid_row": null,
            "max_height": null,
            "align_content": null,
            "visibility": null,
            "align_self": null,
            "height": null,
            "min_height": null,
            "padding": null,
            "grid_auto_rows": null,
            "grid_gap": null,
            "max_width": null,
            "order": null,
            "_view_module_version": "1.2.0",
            "grid_template_areas": null,
            "object_position": null,
            "object_fit": null,
            "grid_auto_columns": null,
            "margin": null,
            "display": null,
            "left": null
          }
        },
        "d133802a19ed41a3b3b8b67b93cc0ef9": {
          "model_module": "@jupyter-widgets/controls",
          "model_name": "FloatProgressModel",
          "state": {
            "_view_name": "ProgressView",
            "style": "IPY_MODEL_f950fb3ba7fd4de589280d1e4b65b092",
            "_dom_classes": [],
            "description": "Downloading: 100%",
            "_model_name": "FloatProgressModel",
            "bar_style": "success",
            "max": 898822,
            "_view_module": "@jupyter-widgets/controls",
            "_model_module_version": "1.5.0",
            "value": 898822,
            "_view_count": null,
            "_view_module_version": "1.5.0",
            "orientation": "horizontal",
            "min": 0,
            "description_tooltip": null,
            "_model_module": "@jupyter-widgets/controls",
            "layout": "IPY_MODEL_203ed12083304dcc91bf4500a2611563"
          }
        },
        "95337b5059fa4da381204f58b726040c": {
          "model_module": "@jupyter-widgets/controls",
          "model_name": "HTMLModel",
          "state": {
            "_view_name": "HTMLView",
            "style": "IPY_MODEL_fcdbb25e596c4c58acb1ea3ff8e709fe",
            "_dom_classes": [],
            "description": "",
            "_model_name": "HTMLModel",
            "placeholder": "​",
            "_view_module": "@jupyter-widgets/controls",
            "_model_module_version": "1.5.0",
            "value": " 899k/899k [00:00&lt;00:00, 1.12MB/s]",
            "_view_count": null,
            "_view_module_version": "1.5.0",
            "description_tooltip": null,
            "_model_module": "@jupyter-widgets/controls",
            "layout": "IPY_MODEL_bd797e39d8fd4506a9196582d6f959e3"
          }
        },
        "f950fb3ba7fd4de589280d1e4b65b092": {
          "model_module": "@jupyter-widgets/controls",
          "model_name": "ProgressStyleModel",
          "state": {
            "_view_name": "StyleView",
            "_model_name": "ProgressStyleModel",
            "description_width": "initial",
            "_view_module": "@jupyter-widgets/base",
            "_model_module_version": "1.5.0",
            "_view_count": null,
            "_view_module_version": "1.2.0",
            "bar_color": null,
            "_model_module": "@jupyter-widgets/controls"
          }
        },
        "203ed12083304dcc91bf4500a2611563": {
          "model_module": "@jupyter-widgets/base",
          "model_name": "LayoutModel",
          "state": {
            "_view_name": "LayoutView",
            "grid_template_rows": null,
            "right": null,
            "justify_content": null,
            "_view_module": "@jupyter-widgets/base",
            "overflow": null,
            "_model_module_version": "1.2.0",
            "_view_count": null,
            "flex_flow": null,
            "width": null,
            "min_width": null,
            "border": null,
            "align_items": null,
            "bottom": null,
            "_model_module": "@jupyter-widgets/base",
            "top": null,
            "grid_column": null,
            "overflow_y": null,
            "overflow_x": null,
            "grid_auto_flow": null,
            "grid_area": null,
            "grid_template_columns": null,
            "flex": null,
            "_model_name": "LayoutModel",
            "justify_items": null,
            "grid_row": null,
            "max_height": null,
            "align_content": null,
            "visibility": null,
            "align_self": null,
            "height": null,
            "min_height": null,
            "padding": null,
            "grid_auto_rows": null,
            "grid_gap": null,
            "max_width": null,
            "order": null,
            "_view_module_version": "1.2.0",
            "grid_template_areas": null,
            "object_position": null,
            "object_fit": null,
            "grid_auto_columns": null,
            "margin": null,
            "display": null,
            "left": null
          }
        },
        "fcdbb25e596c4c58acb1ea3ff8e709fe": {
          "model_module": "@jupyter-widgets/controls",
          "model_name": "DescriptionStyleModel",
          "state": {
            "_view_name": "StyleView",
            "_model_name": "DescriptionStyleModel",
            "description_width": "",
            "_view_module": "@jupyter-widgets/base",
            "_model_module_version": "1.5.0",
            "_view_count": null,
            "_view_module_version": "1.2.0",
            "_model_module": "@jupyter-widgets/controls"
          }
        },
        "bd797e39d8fd4506a9196582d6f959e3": {
          "model_module": "@jupyter-widgets/base",
          "model_name": "LayoutModel",
          "state": {
            "_view_name": "LayoutView",
            "grid_template_rows": null,
            "right": null,
            "justify_content": null,
            "_view_module": "@jupyter-widgets/base",
            "overflow": null,
            "_model_module_version": "1.2.0",
            "_view_count": null,
            "flex_flow": null,
            "width": null,
            "min_width": null,
            "border": null,
            "align_items": null,
            "bottom": null,
            "_model_module": "@jupyter-widgets/base",
            "top": null,
            "grid_column": null,
            "overflow_y": null,
            "overflow_x": null,
            "grid_auto_flow": null,
            "grid_area": null,
            "grid_template_columns": null,
            "flex": null,
            "_model_name": "LayoutModel",
            "justify_items": null,
            "grid_row": null,
            "max_height": null,
            "align_content": null,
            "visibility": null,
            "align_self": null,
            "height": null,
            "min_height": null,
            "padding": null,
            "grid_auto_rows": null,
            "grid_gap": null,
            "max_width": null,
            "order": null,
            "_view_module_version": "1.2.0",
            "grid_template_areas": null,
            "object_position": null,
            "object_fit": null,
            "grid_auto_columns": null,
            "margin": null,
            "display": null,
            "left": null
          }
        },
        "1fab203c65c24190b63961d7202ee043": {
          "model_module": "@jupyter-widgets/controls",
          "model_name": "HBoxModel",
          "state": {
            "_view_name": "HBoxView",
            "_dom_classes": [],
            "_model_name": "HBoxModel",
            "_view_module": "@jupyter-widgets/controls",
            "_model_module_version": "1.5.0",
            "_view_count": null,
            "_view_module_version": "1.5.0",
            "box_style": "",
            "layout": "IPY_MODEL_542b7116be3a45fd8744d461d46fe24f",
            "_model_module": "@jupyter-widgets/controls",
            "children": [
              "IPY_MODEL_6838ab71e77440db842db796925c98b3",
              "IPY_MODEL_f5df176c3a3249e69a82fda17e878297"
            ]
          }
        },
        "542b7116be3a45fd8744d461d46fe24f": {
          "model_module": "@jupyter-widgets/base",
          "model_name": "LayoutModel",
          "state": {
            "_view_name": "LayoutView",
            "grid_template_rows": null,
            "right": null,
            "justify_content": null,
            "_view_module": "@jupyter-widgets/base",
            "overflow": null,
            "_model_module_version": "1.2.0",
            "_view_count": null,
            "flex_flow": null,
            "width": null,
            "min_width": null,
            "border": null,
            "align_items": null,
            "bottom": null,
            "_model_module": "@jupyter-widgets/base",
            "top": null,
            "grid_column": null,
            "overflow_y": null,
            "overflow_x": null,
            "grid_auto_flow": null,
            "grid_area": null,
            "grid_template_columns": null,
            "flex": null,
            "_model_name": "LayoutModel",
            "justify_items": null,
            "grid_row": null,
            "max_height": null,
            "align_content": null,
            "visibility": null,
            "align_self": null,
            "height": null,
            "min_height": null,
            "padding": null,
            "grid_auto_rows": null,
            "grid_gap": null,
            "max_width": null,
            "order": null,
            "_view_module_version": "1.2.0",
            "grid_template_areas": null,
            "object_position": null,
            "object_fit": null,
            "grid_auto_columns": null,
            "margin": null,
            "display": null,
            "left": null
          }
        },
        "6838ab71e77440db842db796925c98b3": {
          "model_module": "@jupyter-widgets/controls",
          "model_name": "FloatProgressModel",
          "state": {
            "_view_name": "ProgressView",
            "style": "IPY_MODEL_06c097d510384b36ab6851a9f7d532c1",
            "_dom_classes": [],
            "description": "Downloading: 100%",
            "_model_name": "FloatProgressModel",
            "bar_style": "success",
            "max": 456318,
            "_view_module": "@jupyter-widgets/controls",
            "_model_module_version": "1.5.0",
            "value": 456318,
            "_view_count": null,
            "_view_module_version": "1.5.0",
            "orientation": "horizontal",
            "min": 0,
            "description_tooltip": null,
            "_model_module": "@jupyter-widgets/controls",
            "layout": "IPY_MODEL_5349943f6a5542499c69813cb5d167a6"
          }
        },
        "f5df176c3a3249e69a82fda17e878297": {
          "model_module": "@jupyter-widgets/controls",
          "model_name": "HTMLModel",
          "state": {
            "_view_name": "HTMLView",
            "style": "IPY_MODEL_feb9143294414c08875925448d90369d",
            "_dom_classes": [],
            "description": "",
            "_model_name": "HTMLModel",
            "placeholder": "​",
            "_view_module": "@jupyter-widgets/controls",
            "_model_module_version": "1.5.0",
            "value": " 456k/456k [00:01&lt;00:00, 321kB/s]",
            "_view_count": null,
            "_view_module_version": "1.5.0",
            "description_tooltip": null,
            "_model_module": "@jupyter-widgets/controls",
            "layout": "IPY_MODEL_bdf4040744b04ce583719771ade323ad"
          }
        },
        "06c097d510384b36ab6851a9f7d532c1": {
          "model_module": "@jupyter-widgets/controls",
          "model_name": "ProgressStyleModel",
          "state": {
            "_view_name": "StyleView",
            "_model_name": "ProgressStyleModel",
            "description_width": "initial",
            "_view_module": "@jupyter-widgets/base",
            "_model_module_version": "1.5.0",
            "_view_count": null,
            "_view_module_version": "1.2.0",
            "bar_color": null,
            "_model_module": "@jupyter-widgets/controls"
          }
        },
        "5349943f6a5542499c69813cb5d167a6": {
          "model_module": "@jupyter-widgets/base",
          "model_name": "LayoutModel",
          "state": {
            "_view_name": "LayoutView",
            "grid_template_rows": null,
            "right": null,
            "justify_content": null,
            "_view_module": "@jupyter-widgets/base",
            "overflow": null,
            "_model_module_version": "1.2.0",
            "_view_count": null,
            "flex_flow": null,
            "width": null,
            "min_width": null,
            "border": null,
            "align_items": null,
            "bottom": null,
            "_model_module": "@jupyter-widgets/base",
            "top": null,
            "grid_column": null,
            "overflow_y": null,
            "overflow_x": null,
            "grid_auto_flow": null,
            "grid_area": null,
            "grid_template_columns": null,
            "flex": null,
            "_model_name": "LayoutModel",
            "justify_items": null,
            "grid_row": null,
            "max_height": null,
            "align_content": null,
            "visibility": null,
            "align_self": null,
            "height": null,
            "min_height": null,
            "padding": null,
            "grid_auto_rows": null,
            "grid_gap": null,
            "max_width": null,
            "order": null,
            "_view_module_version": "1.2.0",
            "grid_template_areas": null,
            "object_position": null,
            "object_fit": null,
            "grid_auto_columns": null,
            "margin": null,
            "display": null,
            "left": null
          }
        },
        "feb9143294414c08875925448d90369d": {
          "model_module": "@jupyter-widgets/controls",
          "model_name": "DescriptionStyleModel",
          "state": {
            "_view_name": "StyleView",
            "_model_name": "DescriptionStyleModel",
            "description_width": "",
            "_view_module": "@jupyter-widgets/base",
            "_model_module_version": "1.5.0",
            "_view_count": null,
            "_view_module_version": "1.2.0",
            "_model_module": "@jupyter-widgets/controls"
          }
        },
        "bdf4040744b04ce583719771ade323ad": {
          "model_module": "@jupyter-widgets/base",
          "model_name": "LayoutModel",
          "state": {
            "_view_name": "LayoutView",
            "grid_template_rows": null,
            "right": null,
            "justify_content": null,
            "_view_module": "@jupyter-widgets/base",
            "overflow": null,
            "_model_module_version": "1.2.0",
            "_view_count": null,
            "flex_flow": null,
            "width": null,
            "min_width": null,
            "border": null,
            "align_items": null,
            "bottom": null,
            "_model_module": "@jupyter-widgets/base",
            "top": null,
            "grid_column": null,
            "overflow_y": null,
            "overflow_x": null,
            "grid_auto_flow": null,
            "grid_area": null,
            "grid_template_columns": null,
            "flex": null,
            "_model_name": "LayoutModel",
            "justify_items": null,
            "grid_row": null,
            "max_height": null,
            "align_content": null,
            "visibility": null,
            "align_self": null,
            "height": null,
            "min_height": null,
            "padding": null,
            "grid_auto_rows": null,
            "grid_gap": null,
            "max_width": null,
            "order": null,
            "_view_module_version": "1.2.0",
            "grid_template_areas": null,
            "object_position": null,
            "object_fit": null,
            "grid_auto_columns": null,
            "margin": null,
            "display": null,
            "left": null
          }
        },
        "26b5f0ea93cc43c4a263bb3b7ea38a78": {
          "model_module": "@jupyter-widgets/controls",
          "model_name": "HBoxModel",
          "state": {
            "_view_name": "HBoxView",
            "_dom_classes": [],
            "_model_name": "HBoxModel",
            "_view_module": "@jupyter-widgets/controls",
            "_model_module_version": "1.5.0",
            "_view_count": null,
            "_view_module_version": "1.5.0",
            "box_style": "",
            "layout": "IPY_MODEL_0698ce1fa5844690b7c2592182f8ca2a",
            "_model_module": "@jupyter-widgets/controls",
            "children": [
              "IPY_MODEL_5285474185b24a298c0818885404fe13",
              "IPY_MODEL_1dd48888555f4efdb7e96f3ea8107071"
            ]
          }
        },
        "0698ce1fa5844690b7c2592182f8ca2a": {
          "model_module": "@jupyter-widgets/base",
          "model_name": "LayoutModel",
          "state": {
            "_view_name": "LayoutView",
            "grid_template_rows": null,
            "right": null,
            "justify_content": null,
            "_view_module": "@jupyter-widgets/base",
            "overflow": null,
            "_model_module_version": "1.2.0",
            "_view_count": null,
            "flex_flow": null,
            "width": null,
            "min_width": null,
            "border": null,
            "align_items": null,
            "bottom": null,
            "_model_module": "@jupyter-widgets/base",
            "top": null,
            "grid_column": null,
            "overflow_y": null,
            "overflow_x": null,
            "grid_auto_flow": null,
            "grid_area": null,
            "grid_template_columns": null,
            "flex": null,
            "_model_name": "LayoutModel",
            "justify_items": null,
            "grid_row": null,
            "max_height": null,
            "align_content": null,
            "visibility": null,
            "align_self": null,
            "height": null,
            "min_height": null,
            "padding": null,
            "grid_auto_rows": null,
            "grid_gap": null,
            "max_width": null,
            "order": null,
            "_view_module_version": "1.2.0",
            "grid_template_areas": null,
            "object_position": null,
            "object_fit": null,
            "grid_auto_columns": null,
            "margin": null,
            "display": null,
            "left": null
          }
        },
        "5285474185b24a298c0818885404fe13": {
          "model_module": "@jupyter-widgets/controls",
          "model_name": "FloatProgressModel",
          "state": {
            "_view_name": "ProgressView",
            "style": "IPY_MODEL_dd05bbd2e2cf4795bede1447d418dd4c",
            "_dom_classes": [],
            "description": "Downloading: 100%",
            "_model_name": "FloatProgressModel",
            "bar_style": "success",
            "max": 26,
            "_view_module": "@jupyter-widgets/controls",
            "_model_module_version": "1.5.0",
            "value": 26,
            "_view_count": null,
            "_view_module_version": "1.5.0",
            "orientation": "horizontal",
            "min": 0,
            "description_tooltip": null,
            "_model_module": "@jupyter-widgets/controls",
            "layout": "IPY_MODEL_1aa3221bcfd044028ec79bf015c226ee"
          }
        },
        "1dd48888555f4efdb7e96f3ea8107071": {
          "model_module": "@jupyter-widgets/controls",
          "model_name": "HTMLModel",
          "state": {
            "_view_name": "HTMLView",
            "style": "IPY_MODEL_941b3297b8da439aa2ae3d44d939a324",
            "_dom_classes": [],
            "description": "",
            "_model_name": "HTMLModel",
            "placeholder": "​",
            "_view_module": "@jupyter-widgets/controls",
            "_model_module_version": "1.5.0",
            "value": " 26.0/26.0 [00:00&lt;00:00, 243B/s]",
            "_view_count": null,
            "_view_module_version": "1.5.0",
            "description_tooltip": null,
            "_model_module": "@jupyter-widgets/controls",
            "layout": "IPY_MODEL_7ccc93aab6c04dda99fdba5b92d113c5"
          }
        },
        "dd05bbd2e2cf4795bede1447d418dd4c": {
          "model_module": "@jupyter-widgets/controls",
          "model_name": "ProgressStyleModel",
          "state": {
            "_view_name": "StyleView",
            "_model_name": "ProgressStyleModel",
            "description_width": "initial",
            "_view_module": "@jupyter-widgets/base",
            "_model_module_version": "1.5.0",
            "_view_count": null,
            "_view_module_version": "1.2.0",
            "bar_color": null,
            "_model_module": "@jupyter-widgets/controls"
          }
        },
        "1aa3221bcfd044028ec79bf015c226ee": {
          "model_module": "@jupyter-widgets/base",
          "model_name": "LayoutModel",
          "state": {
            "_view_name": "LayoutView",
            "grid_template_rows": null,
            "right": null,
            "justify_content": null,
            "_view_module": "@jupyter-widgets/base",
            "overflow": null,
            "_model_module_version": "1.2.0",
            "_view_count": null,
            "flex_flow": null,
            "width": null,
            "min_width": null,
            "border": null,
            "align_items": null,
            "bottom": null,
            "_model_module": "@jupyter-widgets/base",
            "top": null,
            "grid_column": null,
            "overflow_y": null,
            "overflow_x": null,
            "grid_auto_flow": null,
            "grid_area": null,
            "grid_template_columns": null,
            "flex": null,
            "_model_name": "LayoutModel",
            "justify_items": null,
            "grid_row": null,
            "max_height": null,
            "align_content": null,
            "visibility": null,
            "align_self": null,
            "height": null,
            "min_height": null,
            "padding": null,
            "grid_auto_rows": null,
            "grid_gap": null,
            "max_width": null,
            "order": null,
            "_view_module_version": "1.2.0",
            "grid_template_areas": null,
            "object_position": null,
            "object_fit": null,
            "grid_auto_columns": null,
            "margin": null,
            "display": null,
            "left": null
          }
        },
        "941b3297b8da439aa2ae3d44d939a324": {
          "model_module": "@jupyter-widgets/controls",
          "model_name": "DescriptionStyleModel",
          "state": {
            "_view_name": "StyleView",
            "_model_name": "DescriptionStyleModel",
            "description_width": "",
            "_view_module": "@jupyter-widgets/base",
            "_model_module_version": "1.5.0",
            "_view_count": null,
            "_view_module_version": "1.2.0",
            "_model_module": "@jupyter-widgets/controls"
          }
        },
        "7ccc93aab6c04dda99fdba5b92d113c5": {
          "model_module": "@jupyter-widgets/base",
          "model_name": "LayoutModel",
          "state": {
            "_view_name": "LayoutView",
            "grid_template_rows": null,
            "right": null,
            "justify_content": null,
            "_view_module": "@jupyter-widgets/base",
            "overflow": null,
            "_model_module_version": "1.2.0",
            "_view_count": null,
            "flex_flow": null,
            "width": null,
            "min_width": null,
            "border": null,
            "align_items": null,
            "bottom": null,
            "_model_module": "@jupyter-widgets/base",
            "top": null,
            "grid_column": null,
            "overflow_y": null,
            "overflow_x": null,
            "grid_auto_flow": null,
            "grid_area": null,
            "grid_template_columns": null,
            "flex": null,
            "_model_name": "LayoutModel",
            "justify_items": null,
            "grid_row": null,
            "max_height": null,
            "align_content": null,
            "visibility": null,
            "align_self": null,
            "height": null,
            "min_height": null,
            "padding": null,
            "grid_auto_rows": null,
            "grid_gap": null,
            "max_width": null,
            "order": null,
            "_view_module_version": "1.2.0",
            "grid_template_areas": null,
            "object_position": null,
            "object_fit": null,
            "grid_auto_columns": null,
            "margin": null,
            "display": null,
            "left": null
          }
        }
      }
    }
  },
  "cells": [
    {
      "cell_type": "markdown",
      "metadata": {
        "id": "view-in-github",
        "colab_type": "text"
      },
      "source": [
        "<a href=\"https://colab.research.google.com/github/ishancoderr/3D_modeling/blob/main/tweety01.ipynb\" target=\"_parent\"><img src=\"https://colab.research.google.com/assets/colab-badge.svg\" alt=\"Open In Colab\"/></a>"
      ]
    },
    {
      "cell_type": "markdown",
      "metadata": {
        "id": "q1rGKxON0DP8"
      },
      "source": [
        "1. \tChoose an event/campaign that happened in the UK or worldwide recently (eg., Brexit). Apply sentiment analysis to show users’ opinions about the topic on Twitter. Represent your findings using statistical descriptive methods. "
      ]
    },
    {
      "cell_type": "code",
      "metadata": {
        "id": "tvG3m5vt0Guz"
      },
      "source": [
        "import tweepy\n",
        "from textblob import TextBlob\n",
        "consumer_key='MiPlOEtMiZDUU0A286jcN3jrr'\n",
        "consumer_secret_key='O9nv0WXPkcHgu6ry2CweZOgp08lA19na5TXxWQNl4Xw1FiH5NI'\n",
        "access_token='1498074007-l0DlAvQPXooOd5oNJCCuV9LIHa3yzjUgT1VBl7R'\n",
        "access_token_secret='oFqbnqacvyLxuDUrNF4Jzao0W7TaHBwFc9odVxQ9GvjA4'"
      ],
      "execution_count": 5,
      "outputs": []
    },
    {
      "cell_type": "code",
      "metadata": {
        "id": "qDmaqzQJ4cte",
        "colab": {
          "base_uri": "https://localhost:8080/"
        },
        "outputId": "e4f9ebfd-e531-4c48-cebd-9b05c42707db"
      },
      "source": [
        "auth=tweepy.OAuthHandler(consumer_key,consumer_secret_key)\n",
        "auth.set_access_token(access_token,access_token_secret)\n",
        "api=tweepy.API(auth)\n",
        "posts=api.user_timeline(screen_name='Brexit',count=100,lang=\"en\",tweet_mode=\"extended\")\n",
        "print('Show the 5 recent tweets:\\n')\n",
        "for tweet in posts[0:5]:\n",
        "  print(tweet.full_text+'\\n')\n"
      ],
      "execution_count": 6,
      "outputs": [
        {
          "output_type": "stream",
          "text": [
            "Show the 5 recent tweets:\n",
            "\n",
            "These are the allegations facing Boris Johnson, and what might happen next https://t.co/gjVFuGBj8r\n",
            "\n",
            "RT @Joe_Mayes: This week I was in Hartlepool and here's what I learnt about British politics in a Brexit heartland 1/ https://t.co/Q0qPCMjd…\n",
            "\n",
            "Northern Irish voters continue to oppose uniting the two sides of the island, a poll shows https://t.co/X1jMErLvr4\n",
            "\n",
            "Boris Johnson believes the British public is unfussed by his “cash for curtains” scandal, but class is dangerous territory in the U.K., says Martin Ivens https://t.co/eLC3PwGFES\n",
            "\n",
            "Boris Johnson is trying to win another district in Labour's heartland just as he faces a scandal over allegations about his conduct https://t.co/CJgY29oB6T\n",
            "\n"
          ],
          "name": "stdout"
        }
      ]
    },
    {
      "cell_type": "code",
      "metadata": {
        "id": "9EysZt-b8l7H",
        "colab": {
          "base_uri": "https://localhost:8080/",
          "height": 204
        },
        "outputId": "25b85f75-bc1e-485a-f3d9-956bba70513a"
      },
      "source": [
        "import pandas as pd\n",
        "\n",
        "df=pd.DataFrame([tweet.full_text for tweet in posts],columns=['Tweets'])\n",
        "df.head()"
      ],
      "execution_count": 7,
      "outputs": [
        {
          "output_type": "execute_result",
          "data": {
            "text/html": [
              "<div>\n",
              "<style scoped>\n",
              "    .dataframe tbody tr th:only-of-type {\n",
              "        vertical-align: middle;\n",
              "    }\n",
              "\n",
              "    .dataframe tbody tr th {\n",
              "        vertical-align: top;\n",
              "    }\n",
              "\n",
              "    .dataframe thead th {\n",
              "        text-align: right;\n",
              "    }\n",
              "</style>\n",
              "<table border=\"1\" class=\"dataframe\">\n",
              "  <thead>\n",
              "    <tr style=\"text-align: right;\">\n",
              "      <th></th>\n",
              "      <th>Tweets</th>\n",
              "    </tr>\n",
              "  </thead>\n",
              "  <tbody>\n",
              "    <tr>\n",
              "      <th>0</th>\n",
              "      <td>These are the allegations facing Boris Johnson...</td>\n",
              "    </tr>\n",
              "    <tr>\n",
              "      <th>1</th>\n",
              "      <td>RT @Joe_Mayes: This week I was in Hartlepool a...</td>\n",
              "    </tr>\n",
              "    <tr>\n",
              "      <th>2</th>\n",
              "      <td>Northern Irish voters continue to oppose uniti...</td>\n",
              "    </tr>\n",
              "    <tr>\n",
              "      <th>3</th>\n",
              "      <td>Boris Johnson believes the British public is u...</td>\n",
              "    </tr>\n",
              "    <tr>\n",
              "      <th>4</th>\n",
              "      <td>Boris Johnson is trying to win another distric...</td>\n",
              "    </tr>\n",
              "  </tbody>\n",
              "</table>\n",
              "</div>"
            ],
            "text/plain": [
              "                                              Tweets\n",
              "0  These are the allegations facing Boris Johnson...\n",
              "1  RT @Joe_Mayes: This week I was in Hartlepool a...\n",
              "2  Northern Irish voters continue to oppose uniti...\n",
              "3  Boris Johnson believes the British public is u...\n",
              "4  Boris Johnson is trying to win another distric..."
            ]
          },
          "metadata": {
            "tags": []
          },
          "execution_count": 7
        }
      ]
    },
    {
      "cell_type": "code",
      "metadata": {
        "id": "fzZjW6509Pln",
        "colab": {
          "base_uri": "https://localhost:8080/",
          "height": 419
        },
        "outputId": "fa873c2f-801a-42e8-be0b-123eadccbb4e"
      },
      "source": [
        "import re\n",
        "#cleaning data\n",
        "def cleanData(text):\n",
        "  text=re.sub(r'@[A-Za-z0-9]+','',text)#Remove @mentions\n",
        "  text=re.sub(r'#','',text)#Remove #mentions\n",
        "  text=re.sub(r'RT[\\s]+','',text)#Remove RT mentions\n",
        "  text=re.sub(r'https?:\\/\\/\\S+','',text)#Remove hyper links\n",
        "\n",
        "  return text\n",
        "\n",
        "df['Tweets']=df['Tweets'].apply(cleanData)\n",
        "\n",
        "#show data\n",
        "df"
      ],
      "execution_count": 8,
      "outputs": [
        {
          "output_type": "execute_result",
          "data": {
            "text/html": [
              "<div>\n",
              "<style scoped>\n",
              "    .dataframe tbody tr th:only-of-type {\n",
              "        vertical-align: middle;\n",
              "    }\n",
              "\n",
              "    .dataframe tbody tr th {\n",
              "        vertical-align: top;\n",
              "    }\n",
              "\n",
              "    .dataframe thead th {\n",
              "        text-align: right;\n",
              "    }\n",
              "</style>\n",
              "<table border=\"1\" class=\"dataframe\">\n",
              "  <thead>\n",
              "    <tr style=\"text-align: right;\">\n",
              "      <th></th>\n",
              "      <th>Tweets</th>\n",
              "    </tr>\n",
              "  </thead>\n",
              "  <tbody>\n",
              "    <tr>\n",
              "      <th>0</th>\n",
              "      <td>These are the allegations facing Boris Johnson...</td>\n",
              "    </tr>\n",
              "    <tr>\n",
              "      <th>1</th>\n",
              "      <td>_Mayes: This week I was in Hartlepool and here...</td>\n",
              "    </tr>\n",
              "    <tr>\n",
              "      <th>2</th>\n",
              "      <td>Northern Irish voters continue to oppose uniti...</td>\n",
              "    </tr>\n",
              "    <tr>\n",
              "      <th>3</th>\n",
              "      <td>Boris Johnson believes the British public is u...</td>\n",
              "    </tr>\n",
              "    <tr>\n",
              "      <th>4</th>\n",
              "      <td>Boris Johnson is trying to win another distric...</td>\n",
              "    </tr>\n",
              "    <tr>\n",
              "      <th>...</th>\n",
              "      <td>...</td>\n",
              "    </tr>\n",
              "    <tr>\n",
              "      <th>95</th>\n",
              "      <td>100 days after Brexit, a key question is wheth...</td>\n",
              "    </tr>\n",
              "    <tr>\n",
              "      <th>96</th>\n",
              "      <td>Biden tackles gun violence, while the true sca...</td>\n",
              "    </tr>\n",
              "    <tr>\n",
              "      <th>97</th>\n",
              "      <td>The British monarchy has survived exactly beca...</td>\n",
              "    </tr>\n",
              "    <tr>\n",
              "      <th>98</th>\n",
              "      <td>: EXPLAINED: What's behind the violence in Nor...</td>\n",
              "    </tr>\n",
              "    <tr>\n",
              "      <th>99</th>\n",
              "      <td>: ⚡️ What's behind the violence in Northern Ir...</td>\n",
              "    </tr>\n",
              "  </tbody>\n",
              "</table>\n",
              "<p>100 rows × 1 columns</p>\n",
              "</div>"
            ],
            "text/plain": [
              "                                               Tweets\n",
              "0   These are the allegations facing Boris Johnson...\n",
              "1   _Mayes: This week I was in Hartlepool and here...\n",
              "2   Northern Irish voters continue to oppose uniti...\n",
              "3   Boris Johnson believes the British public is u...\n",
              "4   Boris Johnson is trying to win another distric...\n",
              "..                                                ...\n",
              "95  100 days after Brexit, a key question is wheth...\n",
              "96  Biden tackles gun violence, while the true sca...\n",
              "97  The British monarchy has survived exactly beca...\n",
              "98  : EXPLAINED: What's behind the violence in Nor...\n",
              "99  : ⚡️ What's behind the violence in Northern Ir...\n",
              "\n",
              "[100 rows x 1 columns]"
            ]
          },
          "metadata": {
            "tags": []
          },
          "execution_count": 8
        }
      ]
    },
    {
      "cell_type": "code",
      "metadata": {
        "id": "r-shudu4EkHY",
        "colab": {
          "base_uri": "https://localhost:8080/",
          "height": 419
        },
        "outputId": "1ddd152f-fc38-4ea0-8d74-74b9af254d46"
      },
      "source": [
        "def getSubjectivity(text):\n",
        "  return TextBlob(text).sentiment.subjectivity\n",
        "def getPolarity(text):\n",
        "  return TextBlob(text).sentiment.polarity\n",
        "\n",
        "df['subjectivity']=df['Tweets'].apply(getSubjectivity)\n",
        "df['Polarity']=df['Tweets'].apply(getPolarity)\n",
        "df"
      ],
      "execution_count": 9,
      "outputs": [
        {
          "output_type": "execute_result",
          "data": {
            "text/html": [
              "<div>\n",
              "<style scoped>\n",
              "    .dataframe tbody tr th:only-of-type {\n",
              "        vertical-align: middle;\n",
              "    }\n",
              "\n",
              "    .dataframe tbody tr th {\n",
              "        vertical-align: top;\n",
              "    }\n",
              "\n",
              "    .dataframe thead th {\n",
              "        text-align: right;\n",
              "    }\n",
              "</style>\n",
              "<table border=\"1\" class=\"dataframe\">\n",
              "  <thead>\n",
              "    <tr style=\"text-align: right;\">\n",
              "      <th></th>\n",
              "      <th>Tweets</th>\n",
              "      <th>subjectivity</th>\n",
              "      <th>Polarity</th>\n",
              "    </tr>\n",
              "  </thead>\n",
              "  <tbody>\n",
              "    <tr>\n",
              "      <th>0</th>\n",
              "      <td>These are the allegations facing Boris Johnson...</td>\n",
              "      <td>0.000000</td>\n",
              "      <td>0.00</td>\n",
              "    </tr>\n",
              "    <tr>\n",
              "      <th>1</th>\n",
              "      <td>_Mayes: This week I was in Hartlepool and here...</td>\n",
              "      <td>0.000000</td>\n",
              "      <td>0.00</td>\n",
              "    </tr>\n",
              "    <tr>\n",
              "      <th>2</th>\n",
              "      <td>Northern Irish voters continue to oppose uniti...</td>\n",
              "      <td>0.000000</td>\n",
              "      <td>0.00</td>\n",
              "    </tr>\n",
              "    <tr>\n",
              "      <th>3</th>\n",
              "      <td>Boris Johnson believes the British public is u...</td>\n",
              "      <td>0.322222</td>\n",
              "      <td>-0.20</td>\n",
              "    </tr>\n",
              "    <tr>\n",
              "      <th>4</th>\n",
              "      <td>Boris Johnson is trying to win another distric...</td>\n",
              "      <td>0.400000</td>\n",
              "      <td>0.80</td>\n",
              "    </tr>\n",
              "    <tr>\n",
              "      <th>...</th>\n",
              "      <td>...</td>\n",
              "      <td>...</td>\n",
              "      <td>...</td>\n",
              "    </tr>\n",
              "    <tr>\n",
              "      <th>95</th>\n",
              "      <td>100 days after Brexit, a key question is wheth...</td>\n",
              "      <td>1.000000</td>\n",
              "      <td>0.00</td>\n",
              "    </tr>\n",
              "    <tr>\n",
              "      <th>96</th>\n",
              "      <td>Biden tackles gun violence, while the true sca...</td>\n",
              "      <td>0.375000</td>\n",
              "      <td>0.20</td>\n",
              "    </tr>\n",
              "    <tr>\n",
              "      <th>97</th>\n",
              "      <td>The British monarchy has survived exactly beca...</td>\n",
              "      <td>0.426667</td>\n",
              "      <td>0.07</td>\n",
              "    </tr>\n",
              "    <tr>\n",
              "      <th>98</th>\n",
              "      <td>: EXPLAINED: What's behind the violence in Nor...</td>\n",
              "      <td>0.700000</td>\n",
              "      <td>-0.40</td>\n",
              "    </tr>\n",
              "    <tr>\n",
              "      <th>99</th>\n",
              "      <td>: ⚡️ What's behind the violence in Northern Ir...</td>\n",
              "      <td>0.700000</td>\n",
              "      <td>-0.40</td>\n",
              "    </tr>\n",
              "  </tbody>\n",
              "</table>\n",
              "<p>100 rows × 3 columns</p>\n",
              "</div>"
            ],
            "text/plain": [
              "                                               Tweets  subjectivity  Polarity\n",
              "0   These are the allegations facing Boris Johnson...      0.000000      0.00\n",
              "1   _Mayes: This week I was in Hartlepool and here...      0.000000      0.00\n",
              "2   Northern Irish voters continue to oppose uniti...      0.000000      0.00\n",
              "3   Boris Johnson believes the British public is u...      0.322222     -0.20\n",
              "4   Boris Johnson is trying to win another distric...      0.400000      0.80\n",
              "..                                                ...           ...       ...\n",
              "95  100 days after Brexit, a key question is wheth...      1.000000      0.00\n",
              "96  Biden tackles gun violence, while the true sca...      0.375000      0.20\n",
              "97  The British monarchy has survived exactly beca...      0.426667      0.07\n",
              "98  : EXPLAINED: What's behind the violence in Nor...      0.700000     -0.40\n",
              "99  : ⚡️ What's behind the violence in Northern Ir...      0.700000     -0.40\n",
              "\n",
              "[100 rows x 3 columns]"
            ]
          },
          "metadata": {
            "tags": []
          },
          "execution_count": 9
        }
      ]
    },
    {
      "cell_type": "code",
      "metadata": {
        "id": "mfoTrx4JPSe6",
        "colab": {
          "base_uri": "https://localhost:8080/",
          "height": 404
        },
        "outputId": "4973d23c-cadd-404f-f2c9-b588abca85d9"
      },
      "source": [
        "import matplotlib.pyplot as plt\n",
        "%matplotlib inline\n",
        "#plot the polarity and subjectivity\n",
        "plt.figure(figsize=(8,6))\n",
        "for i in range(0,df.shape[0]):\n",
        "  plt.scatter(df['Polarity'][i],df['subjectivity'][i],color='red')\n",
        "\n",
        "plt.title('Sentiment Analysis')\n",
        "plt.xlabel('polarity')\n",
        "plt.ylabel('subjectivity')\n",
        "plt.show()"
      ],
      "execution_count": 10,
      "outputs": [
        {
          "output_type": "display_data",
          "data": {
            "image/png": "[encoded data removed]",
            "text/plain": [
              "<Figure size 576x432 with 1 Axes>"
            ]
          },
          "metadata": {
            "tags": [],
            "needs_background": "light"
          }
        }
      ]
    },
    {
      "cell_type": "code",
      "metadata": {
        "colab": {
          "base_uri": "https://localhost:8080/",
          "height": 377
        },
        "id": "gD35PoIYcjox",
        "outputId": "f1fa1e15-bedb-45b9-daaf-62998d8d0adf"
      },
      "source": [
        "from collections import Counter\n",
        "import numpy as np\n",
        "m=df['subjectivity']\n",
        "n= np.array(m) \n",
        "A=[]\n",
        "for i in range(len(n)):\n",
        "  s=n[i]\n",
        "  A.append(s)\n",
        "\n",
        "print(A)\n",
        "a = dict(Counter(A))\n",
        "print(a)\n",
        "a_dictionary = a\n",
        "keys = a_dictionary.keys()\n",
        "values = a_dictionary.values()\n",
        "plt.figure(figsize=(5,4), dpi= 80)\n",
        "\n",
        "plt.bar(keys, values, color='blue', width=0.05)\n",
        "plt.title('collected tweets')\n",
        "plt.xlabel('Sentiment')\n",
        "plt.ylabel('Count')\n",
        "\n",
        "plt.show()"
      ],
      "execution_count": 11,
      "outputs": [
        {
          "output_type": "stream",
          "text": [
            "[0.0, 0.0, 0.0, 0.32222222222222224, 0.4, 0.0, 0.0, 0.25, 0.0, 0.25, 0.3333333333333333, 0.41666666666666663, 0.05, 0.5277777777777778, 0.5, 0.0, 0.05, 0.0, 0.13333333333333333, 0.21428571428571427, 0.0, 0.5, 0.0, 0.0, 0.0, 0.26988636363636365, 0.0, 0.22625, 0.0, 0.0, 0.0, 0.0, 0.45, 0.75, 0.45, 0.19999999999999998, 0.45, 0.22916666666666666, 0.0, 0.5, 0.0, 0.0, 0.5333333333333333, 0.0, 0.0, 0.0, 0.47590909090909095, 0.0, 0.19999999999999998, 0.0, 0.0, 0.19999999999999998, 0.0, 0.0, 0.3888888888888889, 0.0, 0.2, 0.0, 0.5, 0.0, 0.0, 0.34166666666666673, 0.42000000000000004, 0.275, 0.0, 0.0, 0.22727272727272727, 0.3, 0.3444444444444445, 0.0, 0.275, 1.0, 0.275, 0.0, 0.5499999999999999, 0.42000000000000004, 0.0, 0.5499999999999999, 0.42000000000000004, 0.5, 0.0, 0.6, 0.22727272727272727, 1.0, 0.05, 0.37777777777777777, 0.49756493506493504, 0.5266666666666666, 0.0, 0.5, 0.25833333333333336, 0.6000000000000001, 0.5, 0.0, 0.3277777777777778, 1.0, 0.375, 0.42666666666666664, 0.7, 0.7]\n",
            "{0.0: 40, 0.32222222222222224: 1, 0.4: 1, 0.25: 2, 0.3333333333333333: 1, 0.41666666666666663: 1, 0.05: 3, 0.5277777777777778: 1, 0.5: 7, 0.13333333333333333: 1, 0.21428571428571427: 1, 0.26988636363636365: 1, 0.22625: 1, 0.45: 3, 0.75: 1, 0.19999999999999998: 3, 0.22916666666666666: 1, 0.5333333333333333: 1, 0.47590909090909095: 1, 0.3888888888888889: 1, 0.2: 1, 0.34166666666666673: 1, 0.42000000000000004: 3, 0.275: 3, 0.22727272727272727: 2, 0.3: 1, 0.3444444444444445: 1, 1.0: 3, 0.5499999999999999: 2, 0.6: 1, 0.37777777777777777: 1, 0.49756493506493504: 1, 0.5266666666666666: 1, 0.25833333333333336: 1, 0.6000000000000001: 1, 0.3277777777777778: 1, 0.375: 1, 0.42666666666666664: 1, 0.7: 2}\n"
          ],
          "name": "stdout"
        },
        {
          "output_type": "display_data",
          "data": {
            "image/png": "[encoded data removed]",
            "text/plain": [
              "<Figure size 400x320 with 1 Axes>"
            ]
          },
          "metadata": {
            "tags": [],
            "needs_background": "light"
          }
        }
      ]
    },
    {
      "cell_type": "code",
      "metadata": {
        "colab": {
          "base_uri": "https://localhost:8080/",
          "height": 349
        },
        "id": "z2MCwXBgtvgb",
        "outputId": "dd61b245-e86b-43f2-b60d-b08b7b1429cc"
      },
      "source": [
        "from collections import Counter\n",
        "import numpy as np\n",
        "m=df['Polarity']\n",
        "n=np.array(m) \n",
        "A=[]\n",
        "for i in range(len(n)):\n",
        "  s=n[i]\n",
        "  \n",
        "  A.append(s)\n",
        "\n",
        "print(A)\n",
        "a = dict(Counter(A))\n",
        "print(a)\n",
        "a_dictionary = a\n",
        "keys = a_dictionary.keys()\n",
        "values = a_dictionary.values()\n",
        "plt.bar(keys, values, color='blue', width=0.14)\n",
        "plt.title('collected tweets')\n",
        "plt.xlabel('Polarity')\n",
        "plt.ylabel('Count')\n",
        "plt.show()"
      ],
      "execution_count": 12,
      "outputs": [
        {
          "output_type": "stream",
          "text": [
            "[0.0, 0.0, 0.0, -0.19999999999999998, 0.8, 0.0, 0.0, 0.0, 0.0, 0.0, 0.25, 0.375, 0.0, 0.18333333333333335, 0.13636363636363635, 0.0, 0.0, 0.0, -0.09999999999999999, -0.07142857142857142, 0.0, 0.5, 0.0, 0.0, 0.0, 0.1590909090909091, 0.0, 0.0, 0.0, 0.0, 0.0, 0.0, 0.2, 0.4, 0.2, 0.13333333333333333, 0.2, 0.0625, 0.0, 0.375, 0.0, 0.0, -0.033333333333333354, 0.0, 0.0, 0.0, 0.16893939393939394, 0.0, 0.2333333333333333, 0.0, 0.0, 0.2333333333333333, 0.0, 0.0, 0.011111111111111108, 0.0, -0.1, 0.0, 0.05208333333333334, 0.0, 0.0, 0.03333333333333333, 0.09, 0.1, 0.0, 0.3, 0.06818181818181818, -0.2333333333333333, 0.2111111111111111, 0.0, 0.1, -1.0, 0.1, 0.0, 0.43333333333333335, 0.09, 0.0, 0.43333333333333335, 0.09, 0.5, 0.0, 0.0, 0.06818181818181818, 0.1, 0.0, 0.21666666666666667, 0.1305194805194805, 0.22999999999999998, 0.3, 0.0, 0.2125, 0.7, 0.4, 0.0, 1.850371707708594e-17, 0.0, 0.19999999999999998, 0.07, -0.4, -0.4]\n",
            "{0.0: 47, -0.19999999999999998: 1, 0.8: 1, 0.25: 1, 0.375: 2, 0.18333333333333335: 1, 0.13636363636363635: 1, -0.09999999999999999: 1, -0.07142857142857142: 1, 0.5: 2, 0.1590909090909091: 1, 0.2: 3, 0.4: 2, 0.13333333333333333: 1, 0.0625: 1, -0.033333333333333354: 1, 0.16893939393939394: 1, 0.2333333333333333: 2, 0.011111111111111108: 1, -0.1: 1, 0.05208333333333334: 1, 0.03333333333333333: 1, 0.09: 3, 0.1: 4, 0.3: 2, 0.06818181818181818: 2, -0.2333333333333333: 1, 0.2111111111111111: 1, -1.0: 1, 0.43333333333333335: 2, 0.21666666666666667: 1, 0.1305194805194805: 1, 0.22999999999999998: 1, 0.2125: 1, 0.7: 1, 1.850371707708594e-17: 1, 0.19999999999999998: 1, 0.07: 1, -0.4: 2}\n"
          ],
          "name": "stdout"
        },
        {
          "output_type": "display_data",
          "data": {
            "image/png": "[encoded data removed]",
            "text/plain": [
              "<Figure size 432x288 with 1 Axes>"
            ]
          },
          "metadata": {
            "tags": [],
            "needs_background": "light"
          }
        }
      ]
    },
    {
      "cell_type": "markdown",
      "metadata": {
        "id": "dEgOUdPOc5jD"
      },
      "source": [
        "2.\t**Access News APIs for articles related to the chosen event/campaign (Minimum of 5 articles)** \n",
        "\n",
        "\n",
        "*   Perform all required cleaning and pre-processing on the articles.\n",
        "*   Perform basic descriptive analysis of the collected articles (time distribution, word counts. etc).\n",
        "\n",
        "*   Use topic modelling techniques to discover key topics. Display your findings using proper graphs, such as word cloud.\n",
        "* Provide a summary on one of the news articles. Comment on the summarisation quality  \n"
      ]
    },
    {
      "cell_type": "code",
      "metadata": {
        "id": "6ZVlbN7uhzww",
        "colab": {
          "base_uri": "https://localhost:8080/"
        },
        "outputId": "b65259bd-2f78-4d4b-f9e5-c0d5cd389ca8"
      },
      "source": [
        "!pip install newsapi-python"
      ],
      "execution_count": 14,
      "outputs": [
        {
          "output_type": "stream",
          "text": [
            "Collecting newsapi-python\n",
            "  Downloading https://files.pythonhosted.org/packages/de/9e/9050199ac7cbc755d1c49577fdaa5517901124b574264b3602a8b8028440/newsapi_python-0.2.6-py2.py3-none-any.whl\n",
            "Requirement already satisfied: requests<3.0.0 in /usr/local/lib/python3.7/dist-packages (from newsapi-python) (2.23.0)\n",
            "Requirement already satisfied: urllib3!=1.25.0,!=1.25.1,<1.26,>=1.21.1 in /usr/local/lib/python3.7/dist-packages (from requests<3.0.0->newsapi-python) (1.24.3)\n",
            "Requirement already satisfied: idna<3,>=2.5 in /usr/local/lib/python3.7/dist-packages (from requests<3.0.0->newsapi-python) (2.10)\n",
            "Requirement already satisfied: certifi>=2017.4.17 in /usr/local/lib/python3.7/dist-packages (from requests<3.0.0->newsapi-python) (2020.12.5)\n",
            "Requirement already satisfied: chardet<4,>=3.0.2 in /usr/local/lib/python3.7/dist-packages (from requests<3.0.0->newsapi-python) (3.0.4)\n",
            "Installing collected packages: newsapi-python\n",
            "Successfully installed newsapi-python-0.2.6\n"
          ],
          "name": "stdout"
        }
      ]
    },
    {
      "cell_type": "code",
      "metadata": {
        "id": "7hKOQjD9iHGb"
      },
      "source": [
        "from newsapi import NewsApiClient\n",
        "import datetime as dt\n",
        "import pandas as pd"
      ],
      "execution_count": 15,
      "outputs": []
    },
    {
      "cell_type": "code",
      "metadata": {
        "id": "vHJwydQokKHB"
      },
      "source": [
        "my_api_key='37925137cd4749ad8db14762cf5dd24d'\n",
        "newsapi = NewsApiClient(api_key=my_api_key)"
      ],
      "execution_count": 16,
      "outputs": []
    },
    {
      "cell_type": "code",
      "metadata": {
        "id": "RAoS80mTxBcT"
      },
      "source": [
        "all_articles = newsapi.get_everything(q='Brexit',\n",
        "                                      sources='bbc-news,the-verge',\n",
        "                                      domains='bbc.co.uk,techcrunch.com',\n",
        "                                      language='en',\n",
        "                                      sort_by='relevancy',\n",
        "                                      page=2)"
      ],
      "execution_count": 17,
      "outputs": []
    },
    {
      "cell_type": "code",
      "metadata": {
        "id": "NMo6jjEjlFtp",
        "colab": {
          "base_uri": "https://localhost:8080/"
        },
        "outputId": "53ee3c06-c195-4e87-b77c-531f40d9719e"
      },
      "source": [
        "type(all_articles)"
      ],
      "execution_count": 18,
      "outputs": [
        {
          "output_type": "execute_result",
          "data": {
            "text/plain": [
              "dict"
            ]
          },
          "metadata": {
            "tags": []
          },
          "execution_count": 18
        }
      ]
    },
    {
      "cell_type": "code",
      "metadata": {
        "id": "NB69XCUvxOOz",
        "colab": {
          "base_uri": "https://localhost:8080/"
        },
        "outputId": "9a39eb64-7ebb-4672-f60e-14b6d84334b2"
      },
      "source": [
        "all_articles.keys()"
      ],
      "execution_count": 19,
      "outputs": [
        {
          "output_type": "execute_result",
          "data": {
            "text/plain": [
              "dict_keys(['status', 'totalResults', 'articles'])"
            ]
          },
          "metadata": {
            "tags": []
          },
          "execution_count": 19
        }
      ]
    },
    {
      "cell_type": "code",
      "metadata": {
        "id": "KvzFGSUDxj_c",
        "colab": {
          "base_uri": "https://localhost:8080/",
          "height": 35
        },
        "outputId": "7bcdd662-7b3d-45b8-9c00-e22a4f0dc7b7"
      },
      "source": [
        "all_articles['status']"
      ],
      "execution_count": 20,
      "outputs": [
        {
          "output_type": "execute_result",
          "data": {
            "application/vnd.google.colaboratory.intrinsic+json": {
              "type": "string"
            },
            "text/plain": [
              "'ok'"
            ]
          },
          "metadata": {
            "tags": []
          },
          "execution_count": 20
        }
      ]
    },
    {
      "cell_type": "code",
      "metadata": {
        "id": "NYb5BKmUzNcd",
        "colab": {
          "base_uri": "https://localhost:8080/"
        },
        "outputId": "3c2f6bce-90d8-43ba-9770-85142c2d8ce0"
      },
      "source": [
        "all_articles['totalResults']"
      ],
      "execution_count": 21,
      "outputs": [
        {
          "output_type": "execute_result",
          "data": {
            "text/plain": [
              "103"
            ]
          },
          "metadata": {
            "tags": []
          },
          "execution_count": 21
        }
      ]
    },
    {
      "cell_type": "code",
      "metadata": {
        "id": "GXw2WVHUzRXj"
      },
      "source": [
        "x=all_articles['articles']"
      ],
      "execution_count": 22,
      "outputs": []
    },
    {
      "cell_type": "code",
      "metadata": {
        "id": "4hGFTBtjk0CN",
        "colab": {
          "base_uri": "https://localhost:8080/",
          "height": 785
        },
        "outputId": "a4be2607-affb-427d-a74b-9d80fba3ed3e"
      },
      "source": [
        "df=pd.DataFrame(x)\n",
        "                            \n",
        "df.head()"
      ],
      "execution_count": 23,
      "outputs": [
        {
          "output_type": "execute_result",
          "data": {
            "text/html": [
              "<div>\n",
              "<style scoped>\n",
              "    .dataframe tbody tr th:only-of-type {\n",
              "        vertical-align: middle;\n",
              "    }\n",
              "\n",
              "    .dataframe tbody tr th {\n",
              "        vertical-align: top;\n",
              "    }\n",
              "\n",
              "    .dataframe thead th {\n",
              "        text-align: right;\n",
              "    }\n",
              "</style>\n",
              "<table border=\"1\" class=\"dataframe\">\n",
              "  <thead>\n",
              "    <tr style=\"text-align: right;\">\n",
              "      <th></th>\n",
              "      <th>source</th>\n",
              "      <th>author</th>\n",
              "      <th>title</th>\n",
              "      <th>description</th>\n",
              "      <th>url</th>\n",
              "      <th>urlToImage</th>\n",
              "      <th>publishedAt</th>\n",
              "      <th>content</th>\n",
              "    </tr>\n",
              "  </thead>\n",
              "  <tbody>\n",
              "    <tr>\n",
              "      <th>0</th>\n",
              "      <td>{'id': 'bbc-news', 'name': 'BBC News'}</td>\n",
              "      <td>https://www.facebook.com/bbcnews</td>\n",
              "      <td>Arlene Foster: Why did the DUP move against it...</td>\n",
              "      <td>The BBC's Jayne McCormack takes a look at what...</td>\n",
              "      <td>https://www.bbc.co.uk/news/uk-northern-ireland...</td>\n",
              "      <td>https://ichef.bbci.co.uk/news/1024/branded_new...</td>\n",
              "      <td>2021-04-28T15:16:48Z</td>\n",
              "      <td>By Jayne McCormackBBC News NI Political Report...</td>\n",
              "    </tr>\n",
              "    <tr>\n",
              "      <th>1</th>\n",
              "      <td>{'id': 'bbc-news', 'name': 'BBC News'}</td>\n",
              "      <td>https://www.facebook.com/bbcnews</td>\n",
              "      <td>French warn UK ahead of vote on Brexit trade deal</td>\n",
              "      <td>French concern over fishing rights overshadows...</td>\n",
              "      <td>https://www.bbc.co.uk/news/world-europe-56899831</td>\n",
              "      <td>https://ichef.bbci.co.uk/news/1024/branded_new...</td>\n",
              "      <td>2021-04-27T09:21:09Z</td>\n",
              "      <td>image captionEU Commission chief Ursula von de...</td>\n",
              "    </tr>\n",
              "    <tr>\n",
              "      <th>2</th>\n",
              "      <td>{'id': 'techcrunch', 'name': 'TechCrunch'}</td>\n",
              "      <td>Anthony Ha</td>\n",
              "      <td>Daily Crunch: Apple Arcade expands with classi...</td>\n",
              "      <td>Apple adds classic titles to Apple Arcade, Mic...</td>\n",
              "      <td>https://techcrunch.com/2021/04/02/daily-crunch...</td>\n",
              "      <td>https://s.yimg.com/uu/api/res/1.2/Z.DSTEMdfzA7...</td>\n",
              "      <td>2021-04-02T22:10:28Z</td>\n",
              "      <td>(Bloomberg) -- Britishvolt Ltd., the developer...</td>\n",
              "    </tr>\n",
              "    <tr>\n",
              "      <th>3</th>\n",
              "      <td>{'id': 'bbc-news', 'name': 'BBC News'}</td>\n",
              "      <td>https://www.facebook.com/bbcnews</td>\n",
              "      <td>NI riots: Church leaders plead for unified pol...</td>\n",
              "      <td>The Catholic and Protestant clergymen say the ...</td>\n",
              "      <td>https://www.bbc.co.uk/news/uk-northern-ireland...</td>\n",
              "      <td>https://ichef.bbci.co.uk/news/1024/branded_new...</td>\n",
              "      <td>2021-04-13T05:28:34Z</td>\n",
              "      <td>image copyrightChurch Leaders Group (Ireland) ...</td>\n",
              "    </tr>\n",
              "    <tr>\n",
              "      <th>4</th>\n",
              "      <td>{'id': 'bbc-news', 'name': 'BBC News'}</td>\n",
              "      <td>https://www.facebook.com/bbcnews</td>\n",
              "      <td>Arts venues urge PM to act over post-Brexit to...</td>\n",
              "      <td>The Royal Shakespeare Company, Royal Opera Hou...</td>\n",
              "      <td>https://www.bbc.co.uk/news/entertainment-arts-...</td>\n",
              "      <td>https://ichef.bbci.co.uk/news/1024/branded_new...</td>\n",
              "      <td>2021-04-28T12:01:20Z</td>\n",
              "      <td>image copyrightGetty Images\\r\\nimage captionTh...</td>\n",
              "    </tr>\n",
              "  </tbody>\n",
              "</table>\n",
              "</div>"
            ],
            "text/plain": [
              "                                       source  ...                                            content\n",
              "0      {'id': 'bbc-news', 'name': 'BBC News'}  ...  By Jayne McCormackBBC News NI Political Report...\n",
              "1      {'id': 'bbc-news', 'name': 'BBC News'}  ...  image captionEU Commission chief Ursula von de...\n",
              "2  {'id': 'techcrunch', 'name': 'TechCrunch'}  ...  (Bloomberg) -- Britishvolt Ltd., the developer...\n",
              "3      {'id': 'bbc-news', 'name': 'BBC News'}  ...  image copyrightChurch Leaders Group (Ireland) ...\n",
              "4      {'id': 'bbc-news', 'name': 'BBC News'}  ...  image copyrightGetty Images\\r\\nimage captionTh...\n",
              "\n",
              "[5 rows x 8 columns]"
            ]
          },
          "metadata": {
            "tags": []
          },
          "execution_count": 23
        }
      ]
    },
    {
      "cell_type": "markdown",
      "metadata": {
        "id": "qNyWmwCCvrlQ"
      },
      "source": [
        "**Perform all required cleaning and pre-processing on the articles**"
      ]
    },
    {
      "cell_type": "code",
      "metadata": {
        "id": "-u5KOebvv0rV",
        "colab": {
          "base_uri": "https://localhost:8080/",
          "height": 768
        },
        "outputId": "9ac12d03-a62b-4f9a-aadd-681d531cb69c"
      },
      "source": [
        "import re\n",
        "#cleaning data\n",
        "def cleanData(text):\n",
        "  text=re.sub(r'@[A-Za-z0-9]+','',text)#Remove @mentions\n",
        "  text=re.sub(r'#','',text)#Remove #mentions\n",
        "  text=re.sub(r':','',text)#Remove :\n",
        "  text=re.sub(r',','',text)#Remove ,\n",
        "  text=re.sub(r'RT[\\s]+','',text)#Remove RT mentions\n",
        "  text=re.sub(r'https?:\\/\\/\\S+','',text)#Remove hyper links\n",
        "\n",
        "  return text\n",
        "\n",
        "df['description']=df['description'].apply(cleanData)\n",
        "df['title']=df['title'].apply(cleanData)\n",
        "df['content']=df['content'].apply(cleanData)\n",
        "df['index'] = df.index\n",
        "#show data\n",
        "df.head()"
      ],
      "execution_count": 24,
      "outputs": [
        {
          "output_type": "execute_result",
          "data": {
            "text/html": [
              "<div>\n",
              "<style scoped>\n",
              "    .dataframe tbody tr th:only-of-type {\n",
              "        vertical-align: middle;\n",
              "    }\n",
              "\n",
              "    .dataframe tbody tr th {\n",
              "        vertical-align: top;\n",
              "    }\n",
              "\n",
              "    .dataframe thead th {\n",
              "        text-align: right;\n",
              "    }\n",
              "</style>\n",
              "<table border=\"1\" class=\"dataframe\">\n",
              "  <thead>\n",
              "    <tr style=\"text-align: right;\">\n",
              "      <th></th>\n",
              "      <th>source</th>\n",
              "      <th>author</th>\n",
              "      <th>title</th>\n",
              "      <th>description</th>\n",
              "      <th>url</th>\n",
              "      <th>urlToImage</th>\n",
              "      <th>publishedAt</th>\n",
              "      <th>content</th>\n",
              "      <th>index</th>\n",
              "    </tr>\n",
              "  </thead>\n",
              "  <tbody>\n",
              "    <tr>\n",
              "      <th>0</th>\n",
              "      <td>{'id': 'bbc-news', 'name': 'BBC News'}</td>\n",
              "      <td>https://www.facebook.com/bbcnews</td>\n",
              "      <td>Arlene Foster Why did the DUP move against its...</td>\n",
              "      <td>The BBC's Jayne McCormack takes a look at what...</td>\n",
              "      <td>https://www.bbc.co.uk/news/uk-northern-ireland...</td>\n",
              "      <td>https://ichef.bbci.co.uk/news/1024/branded_new...</td>\n",
              "      <td>2021-04-28T15:16:48Z</td>\n",
              "      <td>By Jayne McCormackBBC News NI Political Report...</td>\n",
              "      <td>0</td>\n",
              "    </tr>\n",
              "    <tr>\n",
              "      <th>1</th>\n",
              "      <td>{'id': 'bbc-news', 'name': 'BBC News'}</td>\n",
              "      <td>https://www.facebook.com/bbcnews</td>\n",
              "      <td>French warn UK ahead of vote on Brexit trade deal</td>\n",
              "      <td>French concern over fishing rights overshadows...</td>\n",
              "      <td>https://www.bbc.co.uk/news/world-europe-56899831</td>\n",
              "      <td>https://ichef.bbci.co.uk/news/1024/branded_new...</td>\n",
              "      <td>2021-04-27T09:21:09Z</td>\n",
              "      <td>image captionEU Commission chief Ursula von de...</td>\n",
              "      <td>1</td>\n",
              "    </tr>\n",
              "    <tr>\n",
              "      <th>2</th>\n",
              "      <td>{'id': 'techcrunch', 'name': 'TechCrunch'}</td>\n",
              "      <td>Anthony Ha</td>\n",
              "      <td>Daily Crunch Apple Arcade expands with classic...</td>\n",
              "      <td>Apple adds classic titles to Apple Arcade Micr...</td>\n",
              "      <td>https://techcrunch.com/2021/04/02/daily-crunch...</td>\n",
              "      <td>https://s.yimg.com/uu/api/res/1.2/Z.DSTEMdfzA7...</td>\n",
              "      <td>2021-04-02T22:10:28Z</td>\n",
              "      <td>(Bloomberg) -- Britishvolt Ltd. the developer ...</td>\n",
              "      <td>2</td>\n",
              "    </tr>\n",
              "    <tr>\n",
              "      <th>3</th>\n",
              "      <td>{'id': 'bbc-news', 'name': 'BBC News'}</td>\n",
              "      <td>https://www.facebook.com/bbcnews</td>\n",
              "      <td>NI riots Church leaders plead for unified poli...</td>\n",
              "      <td>The Catholic and Protestant clergymen say the ...</td>\n",
              "      <td>https://www.bbc.co.uk/news/uk-northern-ireland...</td>\n",
              "      <td>https://ichef.bbci.co.uk/news/1024/branded_new...</td>\n",
              "      <td>2021-04-13T05:28:34Z</td>\n",
              "      <td>image copyrightChurch Leaders Group (Ireland) ...</td>\n",
              "      <td>3</td>\n",
              "    </tr>\n",
              "    <tr>\n",
              "      <th>4</th>\n",
              "      <td>{'id': 'bbc-news', 'name': 'BBC News'}</td>\n",
              "      <td>https://www.facebook.com/bbcnews</td>\n",
              "      <td>Arts venues urge PM to act over post-Brexit to...</td>\n",
              "      <td>The Royal Shakespeare Company Royal Opera Hous...</td>\n",
              "      <td>https://www.bbc.co.uk/news/entertainment-arts-...</td>\n",
              "      <td>https://ichef.bbci.co.uk/news/1024/branded_new...</td>\n",
              "      <td>2021-04-28T12:01:20Z</td>\n",
              "      <td>image copyrightGetty Images\\r\\nimage captionTh...</td>\n",
              "      <td>4</td>\n",
              "    </tr>\n",
              "  </tbody>\n",
              "</table>\n",
              "</div>"
            ],
            "text/plain": [
              "                                       source  ... index\n",
              "0      {'id': 'bbc-news', 'name': 'BBC News'}  ...     0\n",
              "1      {'id': 'bbc-news', 'name': 'BBC News'}  ...     1\n",
              "2  {'id': 'techcrunch', 'name': 'TechCrunch'}  ...     2\n",
              "3      {'id': 'bbc-news', 'name': 'BBC News'}  ...     3\n",
              "4      {'id': 'bbc-news', 'name': 'BBC News'}  ...     4\n",
              "\n",
              "[5 rows x 9 columns]"
            ]
          },
          "metadata": {
            "tags": []
          },
          "execution_count": 24
        }
      ]
    },
    {
      "cell_type": "code",
      "metadata": {
        "id": "J0MoSWUu7K3z"
      },
      "source": [
        "new_data=df[['index','title','description','publishedAt','content']]"
      ],
      "execution_count": 25,
      "outputs": []
    },
    {
      "cell_type": "markdown",
      "metadata": {
        "id": "ASIyRiqaDs8T"
      },
      "source": [
        "**Perform basic descriptive analysis of the collected articles (time distribution, word counts. etc).**"
      ]
    },
    {
      "cell_type": "code",
      "metadata": {
        "id": "h_KXg2WhAH-b",
        "colab": {
          "base_uri": "https://localhost:8080/",
          "height": 312
        },
        "outputId": "da4877d6-cb43-4db3-ab02-11b03f9056f1"
      },
      "source": [
        "from collections import Counter\n",
        "import numpy as np\n",
        "m=new_data['publishedAt']\n",
        "n=np.array(m) \n",
        "A=[]\n",
        "for i in range(len(n)):\n",
        "  string=n[i]\n",
        "  s=string[5:7]\n",
        "  A.append(s)\n",
        "  \n",
        "  \n",
        "\n",
        "a = dict(Counter(A))\n",
        "print(a)\n",
        "a_dictionary = a\n",
        "keys = a_dictionary.keys()\n",
        "values = a_dictionary.values()\n",
        "\n",
        "plt.bar(keys, values)\n",
        "plt.title('collected articles count in months in 2021')\n",
        "plt.xlabel('month')\n",
        "plt.ylabel('article count in each month')\n",
        "plt.show()"
      ],
      "execution_count": 26,
      "outputs": [
        {
          "output_type": "stream",
          "text": [
            "{'04': 19, '05': 1}\n"
          ],
          "name": "stdout"
        },
        {
          "output_type": "display_data",
          "data": {
            "image/png": "[encoded data removed]",
            "text/plain": [
              "<Figure size 432x288 with 1 Axes>"
            ]
          },
          "metadata": {
            "tags": [],
            "needs_background": "light"
          }
        }
      ]
    },
    {
      "cell_type": "code",
      "metadata": {
        "id": "BMNkx9plTfGV",
        "colab": {
          "base_uri": "https://localhost:8080/"
        },
        "outputId": "d2b1d04f-443f-49a8-f672-560ef1a6ebd4"
      },
      "source": [
        "new_data['description_count']=new_data['description'].apply(lambda n:len(n.split(' ')))\n",
        "new_data['title_count']=new_data['title'].apply(lambda n:len(n.split(' ')))"
      ],
      "execution_count": 34,
      "outputs": [
        {
          "output_type": "stream",
          "text": [
            "/usr/local/lib/python3.7/dist-packages/ipykernel_launcher.py:1: SettingWithCopyWarning: \n",
            "A value is trying to be set on a copy of a slice from a DataFrame.\n",
            "Try using .loc[row_indexer,col_indexer] = value instead\n",
            "\n",
            "See the caveats in the documentation: https://pandas.pydata.org/pandas-docs/stable/user_guide/indexing.html#returning-a-view-versus-a-copy\n",
            "  \"\"\"Entry point for launching an IPython kernel.\n",
            "/usr/local/lib/python3.7/dist-packages/ipykernel_launcher.py:2: SettingWithCopyWarning: \n",
            "A value is trying to be set on a copy of a slice from a DataFrame.\n",
            "Try using .loc[row_indexer,col_indexer] = value instead\n",
            "\n",
            "See the caveats in the documentation: https://pandas.pydata.org/pandas-docs/stable/user_guide/indexing.html#returning-a-view-versus-a-copy\n",
            "  \n"
          ],
          "name": "stderr"
        }
      ]
    },
    {
      "cell_type": "code",
      "metadata": {
        "id": "WqIjwtxSp6dJ",
        "colab": {
          "base_uri": "https://localhost:8080/",
          "height": 1000
        },
        "outputId": "4a2935b6-c6ec-43c2-b9ba-8c41e557c0b9"
      },
      "source": [
        "new_data"
      ],
      "execution_count": 35,
      "outputs": [
        {
          "output_type": "execute_result",
          "data": {
            "text/html": [
              "<div>\n",
              "<style scoped>\n",
              "    .dataframe tbody tr th:only-of-type {\n",
              "        vertical-align: middle;\n",
              "    }\n",
              "\n",
              "    .dataframe tbody tr th {\n",
              "        vertical-align: top;\n",
              "    }\n",
              "\n",
              "    .dataframe thead th {\n",
              "        text-align: right;\n",
              "    }\n",
              "</style>\n",
              "<table border=\"1\" class=\"dataframe\">\n",
              "  <thead>\n",
              "    <tr style=\"text-align: right;\">\n",
              "      <th></th>\n",
              "      <th>index</th>\n",
              "      <th>title</th>\n",
              "      <th>description</th>\n",
              "      <th>publishedAt</th>\n",
              "      <th>content</th>\n",
              "      <th>content_count</th>\n",
              "      <th>title_count</th>\n",
              "      <th>description_count</th>\n",
              "    </tr>\n",
              "  </thead>\n",
              "  <tbody>\n",
              "    <tr>\n",
              "      <th>0</th>\n",
              "      <td>0</td>\n",
              "      <td>Arlene Foster Why did the DUP move against its...</td>\n",
              "      <td>The BBC's Jayne McCormack takes a look at what...</td>\n",
              "      <td>2021-04-28T15:16:48Z</td>\n",
              "      <td>By Jayne McCormackBBC News NI Political Report...</td>\n",
              "      <td>32</td>\n",
              "      <td>10</td>\n",
              "      <td>17</td>\n",
              "    </tr>\n",
              "    <tr>\n",
              "      <th>1</th>\n",
              "      <td>1</td>\n",
              "      <td>French warn UK ahead of vote on Brexit trade deal</td>\n",
              "      <td>French concern over fishing rights overshadows...</td>\n",
              "      <td>2021-04-27T09:21:09Z</td>\n",
              "      <td>image captionEU Commission chief Ursula von de...</td>\n",
              "      <td>32</td>\n",
              "      <td>10</td>\n",
              "      <td>14</td>\n",
              "    </tr>\n",
              "    <tr>\n",
              "      <th>2</th>\n",
              "      <td>2</td>\n",
              "      <td>Daily Crunch Apple Arcade expands with classic...</td>\n",
              "      <td>Apple adds classic titles to Apple Arcade Micr...</td>\n",
              "      <td>2021-04-02T22:10:28Z</td>\n",
              "      <td>(Bloomberg) -- Britishvolt Ltd. the developer ...</td>\n",
              "      <td>32</td>\n",
              "      <td>8</td>\n",
              "      <td>24</td>\n",
              "    </tr>\n",
              "    <tr>\n",
              "      <th>3</th>\n",
              "      <td>3</td>\n",
              "      <td>NI riots Church leaders plead for unified poli...</td>\n",
              "      <td>The Catholic and Protestant clergymen say the ...</td>\n",
              "      <td>2021-04-13T05:28:34Z</td>\n",
              "      <td>image copyrightChurch Leaders Group (Ireland) ...</td>\n",
              "      <td>29</td>\n",
              "      <td>9</td>\n",
              "      <td>14</td>\n",
              "    </tr>\n",
              "    <tr>\n",
              "      <th>4</th>\n",
              "      <td>4</td>\n",
              "      <td>Arts venues urge PM to act over post-Brexit to...</td>\n",
              "      <td>The Royal Shakespeare Company Royal Opera Hous...</td>\n",
              "      <td>2021-04-28T12:01:20Z</td>\n",
              "      <td>image copyrightGetty Images\\r\\nimage captionTh...</td>\n",
              "      <td>28</td>\n",
              "      <td>10</td>\n",
              "      <td>16</td>\n",
              "    </tr>\n",
              "    <tr>\n",
              "      <th>5</th>\n",
              "      <td>5</td>\n",
              "      <td>8 investors founders and execs predict cyberse...</td>\n",
              "      <td>Things have been looking up for Belfast since ...</td>\n",
              "      <td>2021-04-24T06:38:29Z</td>\n",
              "      <td>Things have been looking up for Belfast since ...</td>\n",
              "      <td>35</td>\n",
              "      <td>13</td>\n",
              "      <td>30</td>\n",
              "    </tr>\n",
              "    <tr>\n",
              "      <th>6</th>\n",
              "      <td>6</td>\n",
              "      <td>Welsh election Party leaders on beds of nails ...</td>\n",
              "      <td>As the Welsh election nears three party leader...</td>\n",
              "      <td>2021-04-25T06:23:33Z</td>\n",
              "      <td>By James WilliamsBBC Wales political correspon...</td>\n",
              "      <td>28</td>\n",
              "      <td>12</td>\n",
              "      <td>16</td>\n",
              "    </tr>\n",
              "    <tr>\n",
              "      <th>7</th>\n",
              "      <td>7</td>\n",
              "      <td>UK and Norway fail to reach fishing deal</td>\n",
              "      <td>Hundreds of crew members will be out of work a...</td>\n",
              "      <td>2021-04-29T20:10:24Z</td>\n",
              "      <td>The UK and Norway have failed to reach a fishi...</td>\n",
              "      <td>40</td>\n",
              "      <td>8</td>\n",
              "      <td>19</td>\n",
              "    </tr>\n",
              "    <tr>\n",
              "      <th>8</th>\n",
              "      <td>8</td>\n",
              "      <td>Billionaire Sir James Dyson moves residency ba...</td>\n",
              "      <td>Sir James faced criticism in 2019 over relocat...</td>\n",
              "      <td>2021-04-22T04:06:50Z</td>\n",
              "      <td>image copyrightJason Kempin\\r\\nimage captionHe...</td>\n",
              "      <td>29</td>\n",
              "      <td>10</td>\n",
              "      <td>14</td>\n",
              "    </tr>\n",
              "    <tr>\n",
              "      <th>9</th>\n",
              "      <td>9</td>\n",
              "      <td>Boris Johnson urged to 'step up' to tackle rec...</td>\n",
              "      <td>Several high-profile figures including former ...</td>\n",
              "      <td>2021-04-26T05:17:05Z</td>\n",
              "      <td>image captionBoris Johnson visited a vaccinati...</td>\n",
              "      <td>33</td>\n",
              "      <td>11</td>\n",
              "      <td>13</td>\n",
              "    </tr>\n",
              "    <tr>\n",
              "      <th>10</th>\n",
              "      <td>10</td>\n",
              "      <td>Brexit Lord Frost to meet EU to discuss NI Pro...</td>\n",
              "      <td>Lord Frost and Maros Sefcovic will discuss the...</td>\n",
              "      <td>2021-04-14T08:10:59Z</td>\n",
              "      <td>By John Campbell &amp;amp; Adam FlemingBBC News\\r\\...</td>\n",
              "      <td>30</td>\n",
              "      <td>10</td>\n",
              "      <td>19</td>\n",
              "    </tr>\n",
              "    <tr>\n",
              "      <th>11</th>\n",
              "      <td>11</td>\n",
              "      <td>Edwin Poots Majority of DUP MPs and MLAs back ...</td>\n",
              "      <td>Edwin Poots' campaign manager says he has the ...</td>\n",
              "      <td>2021-05-01T11:16:00Z</td>\n",
              "      <td>image captionEdwin Poots is one of three DUP p...</td>\n",
              "      <td>36</td>\n",
              "      <td>14</td>\n",
              "      <td>17</td>\n",
              "    </tr>\n",
              "    <tr>\n",
              "      <th>12</th>\n",
              "      <td>12</td>\n",
              "      <td>Analysis What do Northern Ireland riots mean f...</td>\n",
              "      <td>Anger over post-Brexit trading rules is a fact...</td>\n",
              "      <td>2021-04-09T08:55:15Z</td>\n",
              "      <td>By Adam FlemingBBC News Chief Political Corres...</td>\n",
              "      <td>28</td>\n",
              "      <td>10</td>\n",
              "      <td>17</td>\n",
              "    </tr>\n",
              "    <tr>\n",
              "      <th>13</th>\n",
              "      <td>13</td>\n",
              "      <td>DUP criticised over north-south meeting absence</td>\n",
              "      <td>Opposing parties accuse the DUP of obstructing...</td>\n",
              "      <td>2021-04-16T13:21:00Z</td>\n",
              "      <td>By Stephen WalkerBBC News NI Political Corresp...</td>\n",
              "      <td>34</td>\n",
              "      <td>6</td>\n",
              "      <td>12</td>\n",
              "    </tr>\n",
              "    <tr>\n",
              "      <th>14</th>\n",
              "      <td>14</td>\n",
              "      <td>Simon Byrne to update policing board on NI vio...</td>\n",
              "      <td>NI's chief constable Simon Byrne to give asses...</td>\n",
              "      <td>2021-04-07T05:26:55Z</td>\n",
              "      <td>image captionThere was a police presence in La...</td>\n",
              "      <td>34</td>\n",
              "      <td>9</td>\n",
              "      <td>17</td>\n",
              "    </tr>\n",
              "    <tr>\n",
              "      <th>15</th>\n",
              "      <td>15</td>\n",
              "      <td>John le Carré Spy novelist 'died an Irishman'</td>\n",
              "      <td>The Tinker Tailor Soldier Spy author became an...</td>\n",
              "      <td>2021-04-01T13:03:32Z</td>\n",
              "      <td>By Alan HaslamBBC News NI\\r\\nimage captionJohn...</td>\n",
              "      <td>35</td>\n",
              "      <td>8</td>\n",
              "      <td>16</td>\n",
              "    </tr>\n",
              "    <tr>\n",
              "      <th>16</th>\n",
              "      <td>16</td>\n",
              "      <td>Arlene Foster From trailblazing leader to part...</td>\n",
              "      <td>BBC News NI looks back at the career of first ...</td>\n",
              "      <td>2021-04-28T15:12:41Z</td>\n",
              "      <td>image captionArlene Foster on the steps of Sto...</td>\n",
              "      <td>32</td>\n",
              "      <td>9</td>\n",
              "      <td>16</td>\n",
              "    </tr>\n",
              "    <tr>\n",
              "      <th>17</th>\n",
              "      <td>17</td>\n",
              "      <td>Brexit Anger over government's failure to get ...</td>\n",
              "      <td>One Hull-based trawler which catches 10% of fi...</td>\n",
              "      <td>2021-04-30T10:04:28Z</td>\n",
              "      <td>Fishing crews have been \"disastrously let down...</td>\n",
              "      <td>34</td>\n",
              "      <td>10</td>\n",
              "      <td>20</td>\n",
              "    </tr>\n",
              "    <tr>\n",
              "      <th>18</th>\n",
              "      <td>18</td>\n",
              "      <td>Scottish election 2021 Scottish party leaders ...</td>\n",
              "      <td>Leaders of the country's five larger parties w...</td>\n",
              "      <td>2021-04-13T21:35:52Z</td>\n",
              "      <td>image captionThe leaders of Scotland's five ma...</td>\n",
              "      <td>32</td>\n",
              "      <td>10</td>\n",
              "      <td>17</td>\n",
              "    </tr>\n",
              "    <tr>\n",
              "      <th>19</th>\n",
              "      <td>19</td>\n",
              "      <td>Greensill Bank of England releases emails amid...</td>\n",
              "      <td>The former prime minister's work for the now-f...</td>\n",
              "      <td>2021-04-22T15:57:47Z</td>\n",
              "      <td>image captionDavid Cameron resigned as prime m...</td>\n",
              "      <td>31</td>\n",
              "      <td>10</td>\n",
              "      <td>16</td>\n",
              "    </tr>\n",
              "  </tbody>\n",
              "</table>\n",
              "</div>"
            ],
            "text/plain": [
              "    index  ... description_count\n",
              "0       0  ...                17\n",
              "1       1  ...                14\n",
              "2       2  ...                24\n",
              "3       3  ...                14\n",
              "4       4  ...                16\n",
              "5       5  ...                30\n",
              "6       6  ...                16\n",
              "7       7  ...                19\n",
              "8       8  ...                14\n",
              "9       9  ...                13\n",
              "10     10  ...                19\n",
              "11     11  ...                17\n",
              "12     12  ...                17\n",
              "13     13  ...                12\n",
              "14     14  ...                17\n",
              "15     15  ...                16\n",
              "16     16  ...                16\n",
              "17     17  ...                20\n",
              "18     18  ...                17\n",
              "19     19  ...                16\n",
              "\n",
              "[20 rows x 8 columns]"
            ]
          },
          "metadata": {
            "tags": []
          },
          "execution_count": 35
        }
      ]
    },
    {
      "cell_type": "code",
      "metadata": {
        "id": "apefasVIq3F0",
        "colab": {
          "base_uri": "https://localhost:8080/",
          "height": 295
        },
        "outputId": "80d42b51-fcad-4840-a9f7-bf8f08f86257"
      },
      "source": [
        "plt.bar(new_data['index'],new_data['content_count'])\n",
        "plt.title('collected articles')\n",
        "plt.xlabel('Index of the Artcle')\n",
        "plt.ylabel('description word counts')\n",
        "plt.show()"
      ],
      "execution_count": 36,
      "outputs": [
        {
          "output_type": "display_data",
          "data": {
            "image/png": "[encoded data removed]",
            "text/plain": [
              "<Figure size 432x288 with 1 Axes>"
            ]
          },
          "metadata": {
            "tags": [],
            "needs_background": "light"
          }
        }
      ]
    },
    {
      "cell_type": "code",
      "metadata": {
        "colab": {
          "base_uri": "https://localhost:8080/",
          "height": 295
        },
        "id": "nrWTFMcFEIsk",
        "outputId": "3b73f017-9d03-4a04-8c0f-1929f7c16585"
      },
      "source": [
        "plt.bar(new_data['index'],new_data['title_count'])\n",
        "plt.title('collected articles')\n",
        "plt.xlabel('Index of the Artcle')\n",
        "plt.ylabel('Title word counts')\n",
        "plt.show()"
      ],
      "execution_count": null,
      "outputs": [
        {
          "output_type": "display_data",
          "data": {
            "image/png": "[encoded data removed]",
            "text/plain": [
              "<Figure size 432x288 with 1 Axes>"
            ]
          },
          "metadata": {
            "tags": [],
            "needs_background": "light"
          }
        }
      ]
    },
    {
      "cell_type": "markdown",
      "metadata": {
        "id": "FKCHj5BB3kkl"
      },
      "source": [
        "**Use topic modelling techniques to discover key topics. Display your findings using proper graphs, such as word cloud.**"
      ]
    },
    {
      "cell_type": "code",
      "metadata": {
        "colab": {
          "base_uri": "https://localhost:8080/",
          "height": 232
        },
        "id": "LciA1GFmxrty",
        "outputId": "6af8bfc9-198c-4037-a038-2b9a475e3edc"
      },
      "source": [
        "from wordcloud import WordCloud\n",
        "#Plot the world cloud\n",
        "allwords=''.join([twts for twts in new_data['title']])\n",
        "WordCloud=WordCloud(width=500,height=300,random_state=21,max_font_size=119).generate(allwords)\n",
        "plt.imshow(WordCloud,interpolation='bilinear')\n",
        "plt.axis('off')\n",
        "plt.show()"
      ],
      "execution_count": null,
      "outputs": [
        {
          "output_type": "display_data",
          "data": {
            "image/png": "[encoded data removed]",
            "text/plain": [
              "<Figure size 432x288 with 1 Axes>"
            ]
          },
          "metadata": {
            "tags": [],
            "needs_background": "light"
          }
        }
      ]
    },
    {
      "cell_type": "markdown",
      "metadata": {
        "id": "dCAwezmx4GnK"
      },
      "source": [
        "**Provide a summary on one of the news articles. Comment on the summarisation quality**"
      ]
    },
    {
      "cell_type": "code",
      "metadata": {
        "colab": {
          "base_uri": "https://localhost:8080/"
        },
        "id": "B-b82cLy7vcs",
        "outputId": "76047da4-1591-4877-e87a-d8236f356b79"
      },
      "source": [
        "!pip install transformers"
      ],
      "execution_count": 39,
      "outputs": [
        {
          "output_type": "stream",
          "text": [
            "Collecting transformers\n",
            "\u001b[?25l  Downloading https://files.pythonhosted.org/packages/d8/b2/57495b5309f09fa501866e225c84532d1fd89536ea62406b2181933fb418/transformers-4.5.1-py3-none-any.whl (2.1MB)\n",
            "\u001b[K     |████████████████████████████████| 2.1MB 8.6MB/s \n",
            "\u001b[?25hCollecting sacremoses\n",
            "\u001b[?25l  Downloading https://files.pythonhosted.org/packages/75/ee/67241dc87f266093c533a2d4d3d69438e57d7a90abb216fa076e7d475d4a/sacremoses-0.0.45-py3-none-any.whl (895kB)\n",
            "\u001b[K     |████████████████████████████████| 901kB 51.1MB/s \n",
            "\u001b[?25hRequirement already satisfied: packaging in /usr/local/lib/python3.7/dist-packages (from transformers) (20.9)\n",
            "Requirement already satisfied: numpy>=1.17 in /usr/local/lib/python3.7/dist-packages (from transformers) (1.19.5)\n",
            "Requirement already satisfied: tqdm>=4.27 in /usr/local/lib/python3.7/dist-packages (from transformers) (4.41.1)\n",
            "Requirement already satisfied: filelock in /usr/local/lib/python3.7/dist-packages (from transformers) (3.0.12)\n",
            "Requirement already satisfied: importlib-metadata; python_version < \"3.8\" in /usr/local/lib/python3.7/dist-packages (from transformers) (3.10.1)\n",
            "Collecting tokenizers<0.11,>=0.10.1\n",
            "\u001b[?25l  Downloading https://files.pythonhosted.org/packages/ae/04/5b870f26a858552025a62f1649c20d29d2672c02ff3c3fb4c688ca46467a/tokenizers-0.10.2-cp37-cp37m-manylinux2010_x86_64.whl (3.3MB)\n",
            "\u001b[K     |████████████████████████████████| 3.3MB 43.7MB/s \n",
            "\u001b[?25hRequirement already satisfied: regex!=2019.12.17 in /usr/local/lib/python3.7/dist-packages (from transformers) (2019.12.20)\n",
            "Requirement already satisfied: requests in /usr/local/lib/python3.7/dist-packages (from transformers) (2.23.0)\n",
            "Requirement already satisfied: click in /usr/local/lib/python3.7/dist-packages (from sacremoses->transformers) (7.1.2)\n",
            "Requirement already satisfied: six in /usr/local/lib/python3.7/dist-packages (from sacremoses->transformers) (1.15.0)\n",
            "Requirement already satisfied: joblib in /usr/local/lib/python3.7/dist-packages (from sacremoses->transformers) (1.0.1)\n",
            "Requirement already satisfied: pyparsing>=2.0.2 in /usr/local/lib/python3.7/dist-packages (from packaging->transformers) (2.4.7)\n",
            "Requirement already satisfied: typing-extensions>=3.6.4; python_version < \"3.8\" in /usr/local/lib/python3.7/dist-packages (from importlib-metadata; python_version < \"3.8\"->transformers) (3.7.4.3)\n",
            "Requirement already satisfied: zipp>=0.5 in /usr/local/lib/python3.7/dist-packages (from importlib-metadata; python_version < \"3.8\"->transformers) (3.4.1)\n",
            "Requirement already satisfied: chardet<4,>=3.0.2 in /usr/local/lib/python3.7/dist-packages (from requests->transformers) (3.0.4)\n",
            "Requirement already satisfied: urllib3!=1.25.0,!=1.25.1,<1.26,>=1.21.1 in /usr/local/lib/python3.7/dist-packages (from requests->transformers) (1.24.3)\n",
            "Requirement already satisfied: idna<3,>=2.5 in /usr/local/lib/python3.7/dist-packages (from requests->transformers) (2.10)\n",
            "Requirement already satisfied: certifi>=2017.4.17 in /usr/local/lib/python3.7/dist-packages (from requests->transformers) (2020.12.5)\n",
            "Installing collected packages: sacremoses, tokenizers, transformers\n",
            "Successfully installed sacremoses-0.0.45 tokenizers-0.10.2 transformers-4.5.1\n"
          ],
          "name": "stdout"
        }
      ]
    },
    {
      "cell_type": "code",
      "metadata": {
        "id": "_hgVvR144JBc",
        "outputId": "84f08cda-a135-4434-dd60-4816153d668b",
        "colab": {
          "base_uri": "https://localhost:8080/",
          "height": 262,
          "referenced_widgets": [
            "d16e7d6d92354f7b821f180738680a6f",
            "15d67f03718b49808f71b51dbe342aba",
            "dd191f56ef0c4188a6231791c851d7d8",
            "517bea60ff4b497d875221b3a906641c",
            "16162b083a3f4d468fdc0dadebfbe58c",
            "f76409d6a8ea4656bc78c136883ca66b",
            "6c2584c2b3d9428abad42276fffa9de1",
            "50c33463ddca480ca544234e0869cfc5",
            "a052271bcd22431d91142d51db515173",
            "fe24a840859349948428daad87274f7f",
            "da929e79dd1248999b7811f3523c7644",
            "991bdbfe989a4e26a7f6f3f1343b6cf7",
            "a0204086bfb643648db61f4da9d8f0b8",
            "bb691e52fa844925b67eabae55fbdb73",
            "5579feec6c9a4a11843ae76f0e16fc62",
            "eaa308e0e52445c1bd698d3b47846817",
            "76611c0ea8634dc0937af420712dee37",
            "17116fbf625247d38cdfd554fb085204",
            "d133802a19ed41a3b3b8b67b93cc0ef9",
            "95337b5059fa4da381204f58b726040c",
            "f950fb3ba7fd4de589280d1e4b65b092",
            "203ed12083304dcc91bf4500a2611563",
            "fcdbb25e596c4c58acb1ea3ff8e709fe",
            "bd797e39d8fd4506a9196582d6f959e3",
            "1fab203c65c24190b63961d7202ee043",
            "542b7116be3a45fd8744d461d46fe24f",
            "6838ab71e77440db842db796925c98b3",
            "f5df176c3a3249e69a82fda17e878297",
            "06c097d510384b36ab6851a9f7d532c1",
            "5349943f6a5542499c69813cb5d167a6",
            "feb9143294414c08875925448d90369d",
            "bdf4040744b04ce583719771ade323ad",
            "26b5f0ea93cc43c4a263bb3b7ea38a78",
            "0698ce1fa5844690b7c2592182f8ca2a",
            "5285474185b24a298c0818885404fe13",
            "1dd48888555f4efdb7e96f3ea8107071",
            "dd05bbd2e2cf4795bede1447d418dd4c",
            "1aa3221bcfd044028ec79bf015c226ee",
            "941b3297b8da439aa2ae3d44d939a324",
            "7ccc93aab6c04dda99fdba5b92d113c5"
          ]
        }
      },
      "source": [
        "from transformers import pipeline\n",
        "summarization=pipeline(\"summarization\")"
      ],
      "execution_count": 42,
      "outputs": [
        {
          "output_type": "display_data",
          "data": {
            "application/vnd.jupyter.widget-view+json": {
              "model_id": "d16e7d6d92354f7b821f180738680a6f",
              "version_minor": 0,
              "version_major": 2
            },
            "text/plain": [
              "HBox(children=(FloatProgress(value=0.0, description='Downloading', max=1649.0, style=ProgressStyle(description…"
            ]
          },
          "metadata": {
            "tags": []
          }
        },
        {
          "output_type": "stream",
          "text": [
            "\n"
          ],
          "name": "stdout"
        },
        {
          "output_type": "display_data",
          "data": {
            "application/vnd.jupyter.widget-view+json": {
              "model_id": "a052271bcd22431d91142d51db515173",
              "version_minor": 0,
              "version_major": 2
            },
            "text/plain": [
              "HBox(children=(FloatProgress(value=0.0, description='Downloading', max=1222317369.0, style=ProgressStyle(descr…"
            ]
          },
          "metadata": {
            "tags": []
          }
        },
        {
          "output_type": "stream",
          "text": [
            "\n"
          ],
          "name": "stdout"
        },
        {
          "output_type": "display_data",
          "data": {
            "application/vnd.jupyter.widget-view+json": {
              "model_id": "76611c0ea8634dc0937af420712dee37",
              "version_minor": 0,
              "version_major": 2
            },
            "text/plain": [
              "HBox(children=(FloatProgress(value=0.0, description='Downloading', max=898822.0, style=ProgressStyle(descripti…"
            ]
          },
          "metadata": {
            "tags": []
          }
        },
        {
          "output_type": "stream",
          "text": [
            "\n"
          ],
          "name": "stdout"
        },
        {
          "output_type": "display_data",
          "data": {
            "application/vnd.jupyter.widget-view+json": {
              "model_id": "1fab203c65c24190b63961d7202ee043",
              "version_minor": 0,
              "version_major": 2
            },
            "text/plain": [
              "HBox(children=(FloatProgress(value=0.0, description='Downloading', max=456318.0, style=ProgressStyle(descripti…"
            ]
          },
          "metadata": {
            "tags": []
          }
        },
        {
          "output_type": "stream",
          "text": [
            "\n"
          ],
          "name": "stdout"
        },
        {
          "output_type": "display_data",
          "data": {
            "application/vnd.jupyter.widget-view+json": {
              "model_id": "26b5f0ea93cc43c4a263bb3b7ea38a78",
              "version_minor": 0,
              "version_major": 2
            },
            "text/plain": [
              "HBox(children=(FloatProgress(value=0.0, description='Downloading', max=26.0, style=ProgressStyle(description_w…"
            ]
          },
          "metadata": {
            "tags": []
          }
        },
        {
          "output_type": "stream",
          "text": [
            "\n"
          ],
          "name": "stdout"
        }
      ]
    },
    {
      "cell_type": "code",
      "metadata": {
        "colab": {
          "base_uri": "https://localhost:8080/",
          "height": 52
        },
        "id": "bPWinKTH8grM",
        "outputId": "53a7af8c-7f5d-4128-c658-d2d7455856e7"
      },
      "source": [
        "orginal_text=new_data['content']\n",
        "y=orginal_text[0]\n",
        "y\n"
      ],
      "execution_count": 43,
      "outputs": [
        {
          "output_type": "execute_result",
          "data": {
            "application/vnd.google.colaboratory.intrinsic+json": {
              "type": "string"
            },
            "text/plain": [
              "'By Jayne McCormackBBC News NI Political Reporter\\r\\nRumours about bids to remove Arlene Foster from the helm of the Democratic Unionist Party (DUP) had been swirling for months.\\r\\nOn many occasions they… [+4002 chars]'"
            ]
          },
          "metadata": {
            "tags": []
          },
          "execution_count": 43
        }
      ]
    },
    {
      "cell_type": "code",
      "metadata": {
        "colab": {
          "base_uri": "https://localhost:8080/"
        },
        "id": "CW2UV-Lo9eLd",
        "outputId": "de4c15d0-754e-4bdd-8374-0c0fcbd2a9b3"
      },
      "source": [
        "summary_text=summarization(y, max_length=20)[0]['summary_text']\n",
        "print(\"Summary:\", summary_text)"
      ],
      "execution_count": 55,
      "outputs": [
        {
          "output_type": "stream",
          "text": [
            "Summary:  Rumours about bids to remove Arlene Foster from the helm of the Democratic Unionist\n"
          ],
          "name": "stdout"
        }
      ]
    },
    {
      "cell_type": "code",
      "metadata": {
        "id": "WUp0uMhA0q07",
        "outputId": "e76bd601-4dd2-495c-b2fc-6e3bc12997d1",
        "colab": {
          "base_uri": "https://localhost:8080/"
        }
      },
      "source": [
        "\n",
        "\n",
        "text_word_count=len(y.split())\n",
        "\n",
        "summary_word_count=len(summary_text.split())\n",
        "print('summary_word_count',summary_word_count)\n",
        "print('text_word_count',text_word_count)\n"
      ],
      "execution_count": 57,
      "outputs": [
        {
          "output_type": "stream",
          "text": [
            "summary_word_count 14\n",
            "text_word_count 34\n"
          ],
          "name": "stdout"
        }
      ]
    }
  ]
}