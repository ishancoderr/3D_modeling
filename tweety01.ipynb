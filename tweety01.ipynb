{
  "nbformat": 4,
  "nbformat_minor": 0,
  "metadata": {
    "colab": {
      "name": "Untitled38.ipynb",
      "provenance": [],
      "authorship_tag": "ABX9TyOYxO2A+yK2k+34IkJ9AXpx",
      "include_colab_link": true
    },
    "kernelspec": {
      "name": "python3",
      "display_name": "Python 3"
    },
    "language_info": {
      "name": "python"
    }
  },
  "cells": [
    {
      "cell_type": "markdown",
      "metadata": {
        "id": "view-in-github",
        "colab_type": "text"
      },
      "source": [
        "<a href=\"https://colab.research.google.com/github/ishancoderr/3D_modeling/blob/main/tweety01.ipynb\" target=\"_parent\"><img src=\"https://colab.research.google.com/assets/colab-badge.svg\" alt=\"Open In Colab\"/></a>"
      ]
    },
    {
      "cell_type": "markdown",
      "metadata": {
        "id": "q1rGKxON0DP8"
      },
      "source": [
        "1. \tChoose an event/campaign that happened in the UK or worldwide recently (eg., Brexit). Apply sentiment analysis to show users’ opinions about the topic on Twitter. Represent your findings using statistical descriptive methods. "
      ]
    },
    {
      "cell_type": "code",
      "metadata": {
        "id": "tvG3m5vt0Guz"
      },
      "source": [
        "import tweepy\n",
        "from textblob import TextBlob\n",
        "consumer_key='MiPlOEtMiZDUU0A286jcN3jrr'\n",
        "consumer_secret_key='O9nv0WXPkcHgu6ry2CweZOgp08lA19na5TXxWQNl4Xw1FiH5NI'\n",
        "access_token='1498074007-l0DlAvQPXooOd5oNJCCuV9LIHa3yzjUgT1VBl7R'\n",
        "access_token_secret='oFqbnqacvyLxuDUrNF4Jzao0W7TaHBwFc9odVxQ9GvjA4'"
      ],
      "execution_count": 214,
      "outputs": []
    },
    {
      "cell_type": "code",
      "metadata": {
        "id": "qDmaqzQJ4cte",
        "outputId": "4bd080bb-e268-4447-d9aa-254dfcfd01f5",
        "colab": {
          "base_uri": "https://localhost:8080/"
        }
      },
      "source": [
        "auth=tweepy.OAuthHandler(consumer_key,consumer_secret_key)\n",
        "auth.set_access_token(access_token,access_token_secret)\n",
        "api=tweepy.API(auth)\n",
        "posts=api.user_timeline(screen_name='Brexit',count=100,lang=\"en\",tweet_mode=\"extended\")\n",
        "print('Show the 5 recent tweets:\\n')\n",
        "for tweet in posts[0:5]:\n",
        "  print(tweet.full_text+'\\n')\n"
      ],
      "execution_count": 215,
      "outputs": [
        {
          "output_type": "stream",
          "text": [
            "Show the 5 recent tweets:\n",
            "\n",
            "RT @business: U.K. house prices surge at the strongest pace since 2004 https://t.co/bnodtuju03\n",
            "\n",
            "This week in Brexit: A political reckoning unfolds in Northern Ireland after a deeply unpopular trade deal https://t.co/JAqF2wiupb\n",
            "\n",
            "These are the allegations facing Boris Johnson, and what might happen next https://t.co/WCWxWNV0kL\n",
            "\n",
            "This week in Brexit: A political reckoning unfolds in Northern Ireland after a deeply unpopular trade deal https://t.co/3ncWPX93ir\n",
            "\n",
            "Here's what you need to know about Arlene Foster's resignation as First Minister of Northern Ireland, and what it means for Brexit https://t.co/bcKj8shCnQ\n",
            "\n"
          ],
          "name": "stdout"
        }
      ]
    },
    {
      "cell_type": "code",
      "metadata": {
        "id": "9EysZt-b8l7H",
        "outputId": "60aedd5c-c682-47fa-e863-3a26a4c2fcaf",
        "colab": {
          "base_uri": "https://localhost:8080/",
          "height": 204
        }
      },
      "source": [
        "import pandas as pd\n",
        "\n",
        "df=pd.DataFrame([tweet.full_text for tweet in posts],columns=['Tweets'])\n",
        "df.head()"
      ],
      "execution_count": 216,
      "outputs": [
        {
          "output_type": "execute_result",
          "data": {
            "text/html": [
              "<div>\n",
              "<style scoped>\n",
              "    .dataframe tbody tr th:only-of-type {\n",
              "        vertical-align: middle;\n",
              "    }\n",
              "\n",
              "    .dataframe tbody tr th {\n",
              "        vertical-align: top;\n",
              "    }\n",
              "\n",
              "    .dataframe thead th {\n",
              "        text-align: right;\n",
              "    }\n",
              "</style>\n",
              "<table border=\"1\" class=\"dataframe\">\n",
              "  <thead>\n",
              "    <tr style=\"text-align: right;\">\n",
              "      <th></th>\n",
              "      <th>Tweets</th>\n",
              "    </tr>\n",
              "  </thead>\n",
              "  <tbody>\n",
              "    <tr>\n",
              "      <th>0</th>\n",
              "      <td>RT @business: U.K. house prices surge at the s...</td>\n",
              "    </tr>\n",
              "    <tr>\n",
              "      <th>1</th>\n",
              "      <td>This week in Brexit: A political reckoning unf...</td>\n",
              "    </tr>\n",
              "    <tr>\n",
              "      <th>2</th>\n",
              "      <td>These are the allegations facing Boris Johnson...</td>\n",
              "    </tr>\n",
              "    <tr>\n",
              "      <th>3</th>\n",
              "      <td>This week in Brexit: A political reckoning unf...</td>\n",
              "    </tr>\n",
              "    <tr>\n",
              "      <th>4</th>\n",
              "      <td>Here's what you need to know about Arlene Fost...</td>\n",
              "    </tr>\n",
              "  </tbody>\n",
              "</table>\n",
              "</div>"
            ],
            "text/plain": [
              "                                              Tweets\n",
              "0  RT @business: U.K. house prices surge at the s...\n",
              "1  This week in Brexit: A political reckoning unf...\n",
              "2  These are the allegations facing Boris Johnson...\n",
              "3  This week in Brexit: A political reckoning unf...\n",
              "4  Here's what you need to know about Arlene Fost..."
            ]
          },
          "metadata": {
            "tags": []
          },
          "execution_count": 216
        }
      ]
    },
    {
      "cell_type": "code",
      "metadata": {
        "id": "fzZjW6509Pln",
        "outputId": "fb389ac2-a5d9-49b0-db98-37f832dd7a99",
        "colab": {
          "base_uri": "https://localhost:8080/",
          "height": 419
        }
      },
      "source": [
        "import re\n",
        "#cleaning data\n",
        "def cleanData(text):\n",
        "  text=re.sub(r'@[A-Za-z0-9]+','',text)#Remove @mentions\n",
        "  text=re.sub(r'#','',text)#Remove #mentions\n",
        "  text=re.sub(r'RT[\\s]+','',text)#Remove RT mentions\n",
        "  text=re.sub(r'https?:\\/\\/\\S+','',text)#Remove hyper links\n",
        "\n",
        "  return text\n",
        "\n",
        "df['Tweets']=df['Tweets'].apply(cleanData)\n",
        "\n",
        "#show data\n",
        "df"
      ],
      "execution_count": 217,
      "outputs": [
        {
          "output_type": "execute_result",
          "data": {
            "text/html": [
              "<div>\n",
              "<style scoped>\n",
              "    .dataframe tbody tr th:only-of-type {\n",
              "        vertical-align: middle;\n",
              "    }\n",
              "\n",
              "    .dataframe tbody tr th {\n",
              "        vertical-align: top;\n",
              "    }\n",
              "\n",
              "    .dataframe thead th {\n",
              "        text-align: right;\n",
              "    }\n",
              "</style>\n",
              "<table border=\"1\" class=\"dataframe\">\n",
              "  <thead>\n",
              "    <tr style=\"text-align: right;\">\n",
              "      <th></th>\n",
              "      <th>Tweets</th>\n",
              "    </tr>\n",
              "  </thead>\n",
              "  <tbody>\n",
              "    <tr>\n",
              "      <th>0</th>\n",
              "      <td>: U.K. house prices surge at the strongest pac...</td>\n",
              "    </tr>\n",
              "    <tr>\n",
              "      <th>1</th>\n",
              "      <td>This week in Brexit: A political reckoning unf...</td>\n",
              "    </tr>\n",
              "    <tr>\n",
              "      <th>2</th>\n",
              "      <td>These are the allegations facing Boris Johnson...</td>\n",
              "    </tr>\n",
              "    <tr>\n",
              "      <th>3</th>\n",
              "      <td>This week in Brexit: A political reckoning unf...</td>\n",
              "    </tr>\n",
              "    <tr>\n",
              "      <th>4</th>\n",
              "      <td>Here's what you need to know about Arlene Fost...</td>\n",
              "    </tr>\n",
              "    <tr>\n",
              "      <th>...</th>\n",
              "      <td>...</td>\n",
              "    </tr>\n",
              "    <tr>\n",
              "      <th>95</th>\n",
              "      <td>The EU is set to postpone legal action against...</td>\n",
              "    </tr>\n",
              "    <tr>\n",
              "      <th>96</th>\n",
              "      <td>: The European Union’s drug regulator starts a...</td>\n",
              "    </tr>\n",
              "    <tr>\n",
              "      <th>97</th>\n",
              "      <td>8/ So where does that leave the U.K.?\\n\\nThe f...</td>\n",
              "    </tr>\n",
              "    <tr>\n",
              "      <th>98</th>\n",
              "      <td>7/ Before the referendum, many in the City of ...</td>\n",
              "    </tr>\n",
              "    <tr>\n",
              "      <th>99</th>\n",
              "      <td>6/ The U.K. government also warned that leavin...</td>\n",
              "    </tr>\n",
              "  </tbody>\n",
              "</table>\n",
              "<p>100 rows × 1 columns</p>\n",
              "</div>"
            ],
            "text/plain": [
              "                                               Tweets\n",
              "0   : U.K. house prices surge at the strongest pac...\n",
              "1   This week in Brexit: A political reckoning unf...\n",
              "2   These are the allegations facing Boris Johnson...\n",
              "3   This week in Brexit: A political reckoning unf...\n",
              "4   Here's what you need to know about Arlene Fost...\n",
              "..                                                ...\n",
              "95  The EU is set to postpone legal action against...\n",
              "96  : The European Union’s drug regulator starts a...\n",
              "97  8/ So where does that leave the U.K.?\\n\\nThe f...\n",
              "98  7/ Before the referendum, many in the City of ...\n",
              "99  6/ The U.K. government also warned that leavin...\n",
              "\n",
              "[100 rows x 1 columns]"
            ]
          },
          "metadata": {
            "tags": []
          },
          "execution_count": 217
        }
      ]
    },
    {
      "cell_type": "code",
      "metadata": {
        "id": "r-shudu4EkHY",
        "outputId": "256a5b6c-6b54-4ffc-b6db-c679f5280556",
        "colab": {
          "base_uri": "https://localhost:8080/",
          "height": 419
        }
      },
      "source": [
        "def getSubjectivity(text):\n",
        "  return TextBlob(text).sentiment.subjectivity\n",
        "def getPolarity(text):\n",
        "  return TextBlob(text).sentiment.polarity\n",
        "\n",
        "df['subjectivity']=df['Tweets'].apply(getSubjectivity)\n",
        "df['Polarity']=df['Tweets'].apply(getPolarity)\n",
        "df"
      ],
      "execution_count": 218,
      "outputs": [
        {
          "output_type": "execute_result",
          "data": {
            "text/html": [
              "<div>\n",
              "<style scoped>\n",
              "    .dataframe tbody tr th:only-of-type {\n",
              "        vertical-align: middle;\n",
              "    }\n",
              "\n",
              "    .dataframe tbody tr th {\n",
              "        vertical-align: top;\n",
              "    }\n",
              "\n",
              "    .dataframe thead th {\n",
              "        text-align: right;\n",
              "    }\n",
              "</style>\n",
              "<table border=\"1\" class=\"dataframe\">\n",
              "  <thead>\n",
              "    <tr style=\"text-align: right;\">\n",
              "      <th></th>\n",
              "      <th>Tweets</th>\n",
              "      <th>subjectivity</th>\n",
              "      <th>Polarity</th>\n",
              "    </tr>\n",
              "  </thead>\n",
              "  <tbody>\n",
              "    <tr>\n",
              "      <th>0</th>\n",
              "      <td>: U.K. house prices surge at the strongest pac...</td>\n",
              "      <td>0.000000</td>\n",
              "      <td>0.000000</td>\n",
              "    </tr>\n",
              "    <tr>\n",
              "      <th>1</th>\n",
              "      <td>This week in Brexit: A political reckoning unf...</td>\n",
              "      <td>0.250000</td>\n",
              "      <td>0.000000</td>\n",
              "    </tr>\n",
              "    <tr>\n",
              "      <th>2</th>\n",
              "      <td>These are the allegations facing Boris Johnson...</td>\n",
              "      <td>0.000000</td>\n",
              "      <td>0.000000</td>\n",
              "    </tr>\n",
              "    <tr>\n",
              "      <th>3</th>\n",
              "      <td>This week in Brexit: A political reckoning unf...</td>\n",
              "      <td>0.250000</td>\n",
              "      <td>0.000000</td>\n",
              "    </tr>\n",
              "    <tr>\n",
              "      <th>4</th>\n",
              "      <td>Here's what you need to know about Arlene Fost...</td>\n",
              "      <td>0.333333</td>\n",
              "      <td>0.250000</td>\n",
              "    </tr>\n",
              "    <tr>\n",
              "      <th>...</th>\n",
              "      <td>...</td>\n",
              "      <td>...</td>\n",
              "      <td>...</td>\n",
              "    </tr>\n",
              "    <tr>\n",
              "      <th>95</th>\n",
              "      <td>The EU is set to postpone legal action against...</td>\n",
              "      <td>0.100000</td>\n",
              "      <td>0.100000</td>\n",
              "    </tr>\n",
              "    <tr>\n",
              "      <th>96</th>\n",
              "      <td>: The European Union’s drug regulator starts a...</td>\n",
              "      <td>0.000000</td>\n",
              "      <td>0.000000</td>\n",
              "    </tr>\n",
              "    <tr>\n",
              "      <th>97</th>\n",
              "      <td>8/ So where does that leave the U.K.?\\n\\nThe f...</td>\n",
              "      <td>0.583333</td>\n",
              "      <td>0.157143</td>\n",
              "    </tr>\n",
              "    <tr>\n",
              "      <th>98</th>\n",
              "      <td>7/ Before the referendum, many in the City of ...</td>\n",
              "      <td>0.500000</td>\n",
              "      <td>0.250000</td>\n",
              "    </tr>\n",
              "    <tr>\n",
              "      <th>99</th>\n",
              "      <td>6/ The U.K. government also warned that leavin...</td>\n",
              "      <td>0.416667</td>\n",
              "      <td>-0.041667</td>\n",
              "    </tr>\n",
              "  </tbody>\n",
              "</table>\n",
              "<p>100 rows × 3 columns</p>\n",
              "</div>"
            ],
            "text/plain": [
              "                                               Tweets  subjectivity  Polarity\n",
              "0   : U.K. house prices surge at the strongest pac...      0.000000  0.000000\n",
              "1   This week in Brexit: A political reckoning unf...      0.250000  0.000000\n",
              "2   These are the allegations facing Boris Johnson...      0.000000  0.000000\n",
              "3   This week in Brexit: A political reckoning unf...      0.250000  0.000000\n",
              "4   Here's what you need to know about Arlene Fost...      0.333333  0.250000\n",
              "..                                                ...           ...       ...\n",
              "95  The EU is set to postpone legal action against...      0.100000  0.100000\n",
              "96  : The European Union’s drug regulator starts a...      0.000000  0.000000\n",
              "97  8/ So where does that leave the U.K.?\\n\\nThe f...      0.583333  0.157143\n",
              "98  7/ Before the referendum, many in the City of ...      0.500000  0.250000\n",
              "99  6/ The U.K. government also warned that leavin...      0.416667 -0.041667\n",
              "\n",
              "[100 rows x 3 columns]"
            ]
          },
          "metadata": {
            "tags": []
          },
          "execution_count": 218
        }
      ]
    },
    {
      "cell_type": "code",
      "metadata": {
        "id": "mfoTrx4JPSe6",
        "outputId": "385318cd-c567-401d-cff2-33e812c907ba",
        "colab": {
          "base_uri": "https://localhost:8080/",
          "height": 404
        }
      },
      "source": [
        "import matplotlib.pyplot as plt\n",
        "%matplotlib inline\n",
        "#plot the polarity and subjectivity\n",
        "plt.figure(figsize=(8,6))\n",
        "for i in range(0,df.shape[0]):\n",
        "  plt.scatter(df['Polarity'][i],df['subjectivity'][i],color='red')\n",
        "\n",
        "plt.title('Sentiment Analysis')\n",
        "plt.xlabel('polarity')\n",
        "plt.ylabel('subjectivity')\n",
        "plt.show()"
      ],
      "execution_count": 220,
      "outputs": [
        {
          "output_type": "display_data",
          "data": {
            "image/png": "[encoded data removed]",
            "text/plain": [
              "<Figure size 576x432 with 1 Axes>"
            ]
          },
          "metadata": {
            "tags": [],
            "needs_background": "light"
          }
        }
      ]
    },
    {
      "cell_type": "markdown",
      "metadata": {
        "id": "dEgOUdPOc5jD"
      },
      "source": [
        "2.\t**Access News APIs for articles related to the chosen event/campaign (Minimum of 5 articles)** \n",
        "\n",
        "\n",
        "*   Perform all required cleaning and pre-processing on the articles.\n",
        "*   Perform basic descriptive analysis of the collected articles (time distribution, word counts. etc).\n",
        "\n",
        "*   Use topic modelling techniques to discover key topics. Display your findings using proper graphs, such as word cloud.\n",
        "* Provide a summary on one of the news articles. Comment on the summarisation quality  \n"
      ]
    },
    {
      "cell_type": "code",
      "metadata": {
        "id": "6ZVlbN7uhzww",
        "outputId": "46b94232-a8be-460a-a96a-8ef1698e7567",
        "colab": {
          "base_uri": "https://localhost:8080/"
        }
      },
      "source": [
        "!pip install newsapi-python"
      ],
      "execution_count": 195,
      "outputs": [
        {
          "output_type": "stream",
          "text": [
            "Requirement already satisfied: newsapi-python in /usr/local/lib/python3.7/dist-packages (0.2.6)\n",
            "Requirement already satisfied: requests<3.0.0 in /usr/local/lib/python3.7/dist-packages (from newsapi-python) (2.23.0)\n",
            "Requirement already satisfied: chardet<4,>=3.0.2 in /usr/local/lib/python3.7/dist-packages (from requests<3.0.0->newsapi-python) (3.0.4)\n",
            "Requirement already satisfied: urllib3!=1.25.0,!=1.25.1,<1.26,>=1.21.1 in /usr/local/lib/python3.7/dist-packages (from requests<3.0.0->newsapi-python) (1.24.3)\n",
            "Requirement already satisfied: certifi>=2017.4.17 in /usr/local/lib/python3.7/dist-packages (from requests<3.0.0->newsapi-python) (2020.12.5)\n",
            "Requirement already satisfied: idna<3,>=2.5 in /usr/local/lib/python3.7/dist-packages (from requests<3.0.0->newsapi-python) (2.10)\n"
          ],
          "name": "stdout"
        }
      ]
    },
    {
      "cell_type": "code",
      "metadata": {
        "id": "7hKOQjD9iHGb"
      },
      "source": [
        "from newsapi import NewsApiClient\n",
        "import datetime as dt\n",
        "import pandas as pd"
      ],
      "execution_count": 196,
      "outputs": []
    },
    {
      "cell_type": "code",
      "metadata": {
        "id": "vHJwydQokKHB"
      },
      "source": [
        "my_api_key='37925137cd4749ad8db14762cf5dd24d'\n",
        "newsapi = NewsApiClient(api_key=my_api_key)"
      ],
      "execution_count": 197,
      "outputs": []
    },
    {
      "cell_type": "code",
      "metadata": {
        "id": "RAoS80mTxBcT"
      },
      "source": [
        "all_articles = newsapi.get_everything(q='Brexit',\n",
        "                                      sources='bbc-news,the-verge',\n",
        "                                      domains='bbc.co.uk,techcrunch.com',\n",
        "                                      language='en',\n",
        "                                      sort_by='relevancy',\n",
        "                                      page=2)"
      ],
      "execution_count": 198,
      "outputs": []
    },
    {
      "cell_type": "code",
      "metadata": {
        "id": "NMo6jjEjlFtp",
        "outputId": "b7fa1172-c1ec-414a-807d-7b7df89f8b02",
        "colab": {
          "base_uri": "https://localhost:8080/"
        }
      },
      "source": [
        "type(all_articles)"
      ],
      "execution_count": 199,
      "outputs": [
        {
          "output_type": "execute_result",
          "data": {
            "text/plain": [
              "dict"
            ]
          },
          "metadata": {
            "tags": []
          },
          "execution_count": 199
        }
      ]
    },
    {
      "cell_type": "code",
      "metadata": {
        "id": "NB69XCUvxOOz",
        "outputId": "45d07da2-7f62-4d3f-e658-9639de435a28",
        "colab": {
          "base_uri": "https://localhost:8080/"
        }
      },
      "source": [
        "all_articles.keys()"
      ],
      "execution_count": 200,
      "outputs": [
        {
          "output_type": "execute_result",
          "data": {
            "text/plain": [
              "dict_keys(['status', 'totalResults', 'articles'])"
            ]
          },
          "metadata": {
            "tags": []
          },
          "execution_count": 200
        }
      ]
    },
    {
      "cell_type": "code",
      "metadata": {
        "id": "KvzFGSUDxj_c",
        "outputId": "da877993-e3bd-4ae1-8511-5d96d5e32d18",
        "colab": {
          "base_uri": "https://localhost:8080/",
          "height": 35
        }
      },
      "source": [
        "all_articles['status']"
      ],
      "execution_count": 201,
      "outputs": [
        {
          "output_type": "execute_result",
          "data": {
            "application/vnd.google.colaboratory.intrinsic+json": {
              "type": "string"
            },
            "text/plain": [
              "'ok'"
            ]
          },
          "metadata": {
            "tags": []
          },
          "execution_count": 201
        }
      ]
    },
    {
      "cell_type": "code",
      "metadata": {
        "id": "NYb5BKmUzNcd",
        "outputId": "c4f6e302-e229-46fe-d979-eff4ca523b85",
        "colab": {
          "base_uri": "https://localhost:8080/"
        }
      },
      "source": [
        "all_articles['totalResults']"
      ],
      "execution_count": 202,
      "outputs": [
        {
          "output_type": "execute_result",
          "data": {
            "text/plain": [
              "117"
            ]
          },
          "metadata": {
            "tags": []
          },
          "execution_count": 202
        }
      ]
    },
    {
      "cell_type": "code",
      "metadata": {
        "id": "GXw2WVHUzRXj"
      },
      "source": [
        "x=all_articles['articles']"
      ],
      "execution_count": 203,
      "outputs": []
    },
    {
      "cell_type": "code",
      "metadata": {
        "id": "4hGFTBtjk0CN",
        "outputId": "ba7d1ea6-19d4-4736-c6a8-58e14045ca43",
        "colab": {
          "base_uri": "https://localhost:8080/",
          "height": 649
        }
      },
      "source": [
        "df=pd.DataFrame(x)\n",
        "                            \n",
        "df.head()"
      ],
      "execution_count": 205,
      "outputs": [
        {
          "output_type": "execute_result",
          "data": {
            "text/html": [
              "<div>\n",
              "<style scoped>\n",
              "    .dataframe tbody tr th:only-of-type {\n",
              "        vertical-align: middle;\n",
              "    }\n",
              "\n",
              "    .dataframe tbody tr th {\n",
              "        vertical-align: top;\n",
              "    }\n",
              "\n",
              "    .dataframe thead th {\n",
              "        text-align: right;\n",
              "    }\n",
              "</style>\n",
              "<table border=\"1\" class=\"dataframe\">\n",
              "  <thead>\n",
              "    <tr style=\"text-align: right;\">\n",
              "      <th></th>\n",
              "      <th>source</th>\n",
              "      <th>author</th>\n",
              "      <th>title</th>\n",
              "      <th>description</th>\n",
              "      <th>url</th>\n",
              "      <th>urlToImage</th>\n",
              "      <th>publishedAt</th>\n",
              "      <th>content</th>\n",
              "    </tr>\n",
              "  </thead>\n",
              "  <tbody>\n",
              "    <tr>\n",
              "      <th>0</th>\n",
              "      <td>{'id': 'bbc-news', 'name': 'BBC News'}</td>\n",
              "      <td>https://www.facebook.com/bbcnews</td>\n",
              "      <td>Wales election: Details on independent Wales '...</td>\n",
              "      <td>Plaid Cymru has pledged to hold an independenc...</td>\n",
              "      <td>https://www.bbc.co.uk/news/uk-wales-politics-5...</td>\n",
              "      <td>https://ichef.bbci.co.uk/news/1024/branded_new...</td>\n",
              "      <td>2021-04-19T20:29:46Z</td>\n",
              "      <td>image copyrightGetty Images\\r\\nimage captionAd...</td>\n",
              "    </tr>\n",
              "    <tr>\n",
              "      <th>1</th>\n",
              "      <td>{'id': 'bbc-news', 'name': 'BBC News'}</td>\n",
              "      <td>https://www.facebook.com/bbcnews</td>\n",
              "      <td>Brexit: Euro MPs' vote bolsters EU-UK trade deal</td>\n",
              "      <td>The key Brexit trade deal now stands a better ...</td>\n",
              "      <td>https://www.bbc.co.uk/news/world-europe-56765681</td>\n",
              "      <td>https://ichef.bbci.co.uk/news/1024/branded_new...</td>\n",
              "      <td>2021-04-15T17:30:15Z</td>\n",
              "      <td>image captionZeebrugge: Channel ports have new...</td>\n",
              "    </tr>\n",
              "    <tr>\n",
              "      <th>2</th>\n",
              "      <td>{'id': 'bbc-news', 'name': 'BBC News'}</td>\n",
              "      <td>None</td>\n",
              "      <td>What it's like driving across the new Irish tr...</td>\n",
              "      <td>Three months since the creation of the new Iri...</td>\n",
              "      <td>https://www.bbc.co.uk/news/av/uk-northern-irel...</td>\n",
              "      <td>https://ichef.bbci.co.uk/images/ic/400xn/p09ck...</td>\n",
              "      <td>2021-04-01T23:07:43Z</td>\n",
              "      <td>The ferry operator, Stena Line, says Brexit is...</td>\n",
              "    </tr>\n",
              "    <tr>\n",
              "      <th>3</th>\n",
              "      <td>{'id': 'bbc-news', 'name': 'BBC News'}</td>\n",
              "      <td>None</td>\n",
              "      <td>Keeping score on UK-EU relations since Brexit</td>\n",
              "      <td>Despite promises to work together, it has been...</td>\n",
              "      <td>https://www.bbc.co.uk/news/av/uk-politics-5657...</td>\n",
              "      <td>https://ichef.bbci.co.uk/images/ic/400xn/p09c6...</td>\n",
              "      <td>2021-03-29T23:00:56Z</td>\n",
              "      <td>The relationship between the UK and the EU sin...</td>\n",
              "    </tr>\n",
              "    <tr>\n",
              "      <th>4</th>\n",
              "      <td>{'id': 'bbc-news', 'name': 'BBC News'}</td>\n",
              "      <td>https://www.facebook.com/bbcnews</td>\n",
              "      <td>Restaurants struggle to find staff ahead of re...</td>\n",
              "      <td>Some venues may have to limit their opening ho...</td>\n",
              "      <td>https://www.bbc.co.uk/news/business-56919575</td>\n",
              "      <td>https://ichef.bbci.co.uk/news/1024/branded_new...</td>\n",
              "      <td>2021-04-29T23:03:34Z</td>\n",
              "      <td>By Amie Keeley Business reporter\\r\\nimage copy...</td>\n",
              "    </tr>\n",
              "  </tbody>\n",
              "</table>\n",
              "</div>"
            ],
            "text/plain": [
              "                                   source  ...                                            content\n",
              "0  {'id': 'bbc-news', 'name': 'BBC News'}  ...  image copyrightGetty Images\\r\\nimage captionAd...\n",
              "1  {'id': 'bbc-news', 'name': 'BBC News'}  ...  image captionZeebrugge: Channel ports have new...\n",
              "2  {'id': 'bbc-news', 'name': 'BBC News'}  ...  The ferry operator, Stena Line, says Brexit is...\n",
              "3  {'id': 'bbc-news', 'name': 'BBC News'}  ...  The relationship between the UK and the EU sin...\n",
              "4  {'id': 'bbc-news', 'name': 'BBC News'}  ...  By Amie Keeley Business reporter\\r\\nimage copy...\n",
              "\n",
              "[5 rows x 8 columns]"
            ]
          },
          "metadata": {
            "tags": []
          },
          "execution_count": 205
        }
      ]
    },
    {
      "cell_type": "markdown",
      "metadata": {
        "id": "qNyWmwCCvrlQ"
      },
      "source": [
        "**Perform all required cleaning and pre-processing on the articles**"
      ]
    },
    {
      "cell_type": "code",
      "metadata": {
        "id": "-u5KOebvv0rV",
        "outputId": "c8d85508-1efc-48ce-fa8a-e82e01b4310d",
        "colab": {
          "base_uri": "https://localhost:8080/",
          "height": 649
        }
      },
      "source": [
        "import re\n",
        "#cleaning data\n",
        "def cleanData(text):\n",
        "  text=re.sub(r'@[A-Za-z0-9]+','',text)#Remove @mentions\n",
        "  text=re.sub(r'#','',text)#Remove #mentions\n",
        "  text=re.sub(r':','',text)#Remove :\n",
        "  text=re.sub(r',','',text)#Remove ,\n",
        "  text=re.sub(r'RT[\\s]+','',text)#Remove RT mentions\n",
        "  text=re.sub(r'https?:\\/\\/\\S+','',text)#Remove hyper links\n",
        "\n",
        "  return text\n",
        "\n",
        "df['description']=df['description'].apply(cleanData)\n",
        "df['title']=df['title'].apply(cleanData)\n",
        "df['content']=df['content'].apply(cleanData)\n",
        "df['index'] = df.index\n",
        "#show data\n",
        "df.head()"
      ],
      "execution_count": 206,
      "outputs": [
        {
          "output_type": "execute_result",
          "data": {
            "text/html": [
              "<div>\n",
              "<style scoped>\n",
              "    .dataframe tbody tr th:only-of-type {\n",
              "        vertical-align: middle;\n",
              "    }\n",
              "\n",
              "    .dataframe tbody tr th {\n",
              "        vertical-align: top;\n",
              "    }\n",
              "\n",
              "    .dataframe thead th {\n",
              "        text-align: right;\n",
              "    }\n",
              "</style>\n",
              "<table border=\"1\" class=\"dataframe\">\n",
              "  <thead>\n",
              "    <tr style=\"text-align: right;\">\n",
              "      <th></th>\n",
              "      <th>source</th>\n",
              "      <th>author</th>\n",
              "      <th>title</th>\n",
              "      <th>description</th>\n",
              "      <th>url</th>\n",
              "      <th>urlToImage</th>\n",
              "      <th>publishedAt</th>\n",
              "      <th>content</th>\n",
              "      <th>index</th>\n",
              "    </tr>\n",
              "  </thead>\n",
              "  <tbody>\n",
              "    <tr>\n",
              "      <th>0</th>\n",
              "      <td>{'id': 'bbc-news', 'name': 'BBC News'}</td>\n",
              "      <td>https://www.facebook.com/bbcnews</td>\n",
              "      <td>Wales election Details on independent Wales 'n...</td>\n",
              "      <td>Plaid Cymru has pledged to hold an independenc...</td>\n",
              "      <td>https://www.bbc.co.uk/news/uk-wales-politics-5...</td>\n",
              "      <td>https://ichef.bbci.co.uk/news/1024/branded_new...</td>\n",
              "      <td>2021-04-19T20:29:46Z</td>\n",
              "      <td>image copyrightGetty Images\\r\\nimage captionAd...</td>\n",
              "      <td>0</td>\n",
              "    </tr>\n",
              "    <tr>\n",
              "      <th>1</th>\n",
              "      <td>{'id': 'bbc-news', 'name': 'BBC News'}</td>\n",
              "      <td>https://www.facebook.com/bbcnews</td>\n",
              "      <td>Brexit Euro MPs' vote bolsters EU-UK trade deal</td>\n",
              "      <td>The key Brexit trade deal now stands a better ...</td>\n",
              "      <td>https://www.bbc.co.uk/news/world-europe-56765681</td>\n",
              "      <td>https://ichef.bbci.co.uk/news/1024/branded_new...</td>\n",
              "      <td>2021-04-15T17:30:15Z</td>\n",
              "      <td>image captionZeebrugge Channel ports have new ...</td>\n",
              "      <td>1</td>\n",
              "    </tr>\n",
              "    <tr>\n",
              "      <th>2</th>\n",
              "      <td>{'id': 'bbc-news', 'name': 'BBC News'}</td>\n",
              "      <td>None</td>\n",
              "      <td>What it's like driving across the new Irish tr...</td>\n",
              "      <td>Three months since the creation of the new Iri...</td>\n",
              "      <td>https://www.bbc.co.uk/news/av/uk-northern-irel...</td>\n",
              "      <td>https://ichef.bbci.co.uk/images/ic/400xn/p09ck...</td>\n",
              "      <td>2021-04-01T23:07:43Z</td>\n",
              "      <td>The ferry operator Stena Line says Brexit is s...</td>\n",
              "      <td>2</td>\n",
              "    </tr>\n",
              "    <tr>\n",
              "      <th>3</th>\n",
              "      <td>{'id': 'bbc-news', 'name': 'BBC News'}</td>\n",
              "      <td>None</td>\n",
              "      <td>Keeping score on UK-EU relations since Brexit</td>\n",
              "      <td>Despite promises to work together it has been ...</td>\n",
              "      <td>https://www.bbc.co.uk/news/av/uk-politics-5657...</td>\n",
              "      <td>https://ichef.bbci.co.uk/images/ic/400xn/p09c6...</td>\n",
              "      <td>2021-03-29T23:00:56Z</td>\n",
              "      <td>The relationship between the UK and the EU sin...</td>\n",
              "      <td>3</td>\n",
              "    </tr>\n",
              "    <tr>\n",
              "      <th>4</th>\n",
              "      <td>{'id': 'bbc-news', 'name': 'BBC News'}</td>\n",
              "      <td>https://www.facebook.com/bbcnews</td>\n",
              "      <td>Restaurants struggle to find staff ahead of re...</td>\n",
              "      <td>Some venues may have to limit their opening ho...</td>\n",
              "      <td>https://www.bbc.co.uk/news/business-56919575</td>\n",
              "      <td>https://ichef.bbci.co.uk/news/1024/branded_new...</td>\n",
              "      <td>2021-04-29T23:03:34Z</td>\n",
              "      <td>By Amie Keeley Business reporter\\r\\nimage copy...</td>\n",
              "      <td>4</td>\n",
              "    </tr>\n",
              "  </tbody>\n",
              "</table>\n",
              "</div>"
            ],
            "text/plain": [
              "                                   source  ... index\n",
              "0  {'id': 'bbc-news', 'name': 'BBC News'}  ...     0\n",
              "1  {'id': 'bbc-news', 'name': 'BBC News'}  ...     1\n",
              "2  {'id': 'bbc-news', 'name': 'BBC News'}  ...     2\n",
              "3  {'id': 'bbc-news', 'name': 'BBC News'}  ...     3\n",
              "4  {'id': 'bbc-news', 'name': 'BBC News'}  ...     4\n",
              "\n",
              "[5 rows x 9 columns]"
            ]
          },
          "metadata": {
            "tags": []
          },
          "execution_count": 206
        }
      ]
    },
    {
      "cell_type": "code",
      "metadata": {
        "id": "J0MoSWUu7K3z"
      },
      "source": [
        "new_data=df[['index','title','description','publishedAt','content']]\n"
      ],
      "execution_count": 207,
      "outputs": []
    },
    {
      "cell_type": "markdown",
      "metadata": {
        "id": "ASIyRiqaDs8T"
      },
      "source": [
        "**Perform basic descriptive analysis of the collected articles (time distribution, word counts. etc).**"
      ]
    },
    {
      "cell_type": "code",
      "metadata": {
        "id": "h_KXg2WhAH-b",
        "outputId": "87b1353d-afc9-4246-a91c-6b38ec8a97a3",
        "colab": {
          "base_uri": "https://localhost:8080/",
          "height": 282
        }
      },
      "source": [
        "plt.scatter(new_data['index'],new_data['publishedAt'])"
      ],
      "execution_count": 208,
      "outputs": [
        {
          "output_type": "execute_result",
          "data": {
            "text/plain": [
              "<matplotlib.collections.PathCollection at 0x7f24df7e3c90>"
            ]
          },
          "metadata": {
            "tags": []
          },
          "execution_count": 208
        },
        {
          "output_type": "display_data",
          "data": {
            "image/png": "[encoded data removed]",
            "text/plain": [
              "<Figure size 432x288 with 1 Axes>"
            ]
          },
          "metadata": {
            "tags": [],
            "needs_background": "light"
          }
        }
      ]
    },
    {
      "cell_type": "code",
      "metadata": {
        "id": "BMNkx9plTfGV",
        "outputId": "28865897-613b-4fd9-c871-203b21c09823",
        "colab": {
          "base_uri": "https://localhost:8080/"
        }
      },
      "source": [
        "new_data['content_count']=new_data['content'].apply(lambda n:len(n.split(' ')))\n"
      ],
      "execution_count": 209,
      "outputs": [
        {
          "output_type": "stream",
          "text": [
            "/usr/local/lib/python3.7/dist-packages/ipykernel_launcher.py:1: SettingWithCopyWarning: \n",
            "A value is trying to be set on a copy of a slice from a DataFrame.\n",
            "Try using .loc[row_indexer,col_indexer] = value instead\n",
            "\n",
            "See the caveats in the documentation: https://pandas.pydata.org/pandas-docs/stable/user_guide/indexing.html#returning-a-view-versus-a-copy\n",
            "  \"\"\"Entry point for launching an IPython kernel.\n"
          ],
          "name": "stderr"
        }
      ]
    },
    {
      "cell_type": "code",
      "metadata": {
        "id": "WqIjwtxSp6dJ",
        "outputId": "51544982-b23a-4011-c4ad-6140e8643e9f",
        "colab": {
          "base_uri": "https://localhost:8080/",
          "height": 1000
        }
      },
      "source": [
        "new_data"
      ],
      "execution_count": 210,
      "outputs": [
        {
          "output_type": "execute_result",
          "data": {
            "text/html": [
              "<div>\n",
              "<style scoped>\n",
              "    .dataframe tbody tr th:only-of-type {\n",
              "        vertical-align: middle;\n",
              "    }\n",
              "\n",
              "    .dataframe tbody tr th {\n",
              "        vertical-align: top;\n",
              "    }\n",
              "\n",
              "    .dataframe thead th {\n",
              "        text-align: right;\n",
              "    }\n",
              "</style>\n",
              "<table border=\"1\" class=\"dataframe\">\n",
              "  <thead>\n",
              "    <tr style=\"text-align: right;\">\n",
              "      <th></th>\n",
              "      <th>index</th>\n",
              "      <th>title</th>\n",
              "      <th>description</th>\n",
              "      <th>publishedAt</th>\n",
              "      <th>content</th>\n",
              "      <th>content_count</th>\n",
              "    </tr>\n",
              "  </thead>\n",
              "  <tbody>\n",
              "    <tr>\n",
              "      <th>0</th>\n",
              "      <td>0</td>\n",
              "      <td>Wales election Details on independent Wales 'n...</td>\n",
              "      <td>Plaid Cymru has pledged to hold an independenc...</td>\n",
              "      <td>2021-04-19T20:29:46Z</td>\n",
              "      <td>image copyrightGetty Images\\r\\nimage captionAd...</td>\n",
              "      <td>35</td>\n",
              "    </tr>\n",
              "    <tr>\n",
              "      <th>1</th>\n",
              "      <td>1</td>\n",
              "      <td>Brexit Euro MPs' vote bolsters EU-UK trade deal</td>\n",
              "      <td>The key Brexit trade deal now stands a better ...</td>\n",
              "      <td>2021-04-15T17:30:15Z</td>\n",
              "      <td>image captionZeebrugge Channel ports have new ...</td>\n",
              "      <td>29</td>\n",
              "    </tr>\n",
              "    <tr>\n",
              "      <th>2</th>\n",
              "      <td>2</td>\n",
              "      <td>What it's like driving across the new Irish tr...</td>\n",
              "      <td>Three months since the creation of the new Iri...</td>\n",
              "      <td>2021-04-01T23:07:43Z</td>\n",
              "      <td>The ferry operator Stena Line says Brexit is s...</td>\n",
              "      <td>35</td>\n",
              "    </tr>\n",
              "    <tr>\n",
              "      <th>3</th>\n",
              "      <td>3</td>\n",
              "      <td>Keeping score on UK-EU relations since Brexit</td>\n",
              "      <td>Despite promises to work together it has been ...</td>\n",
              "      <td>2021-03-29T23:00:56Z</td>\n",
              "      <td>The relationship between the UK and the EU sin...</td>\n",
              "      <td>35</td>\n",
              "    </tr>\n",
              "    <tr>\n",
              "      <th>4</th>\n",
              "      <td>4</td>\n",
              "      <td>Restaurants struggle to find staff ahead of re...</td>\n",
              "      <td>Some venues may have to limit their opening ho...</td>\n",
              "      <td>2021-04-29T23:03:34Z</td>\n",
              "      <td>By Amie Keeley Business reporter\\r\\nimage copy...</td>\n",
              "      <td>33</td>\n",
              "    </tr>\n",
              "    <tr>\n",
              "      <th>5</th>\n",
              "      <td>5</td>\n",
              "      <td>Arlene Foster to quit DUP after leaving leader...</td>\n",
              "      <td>Arlene Foster believes the DUP is no longer th...</td>\n",
              "      <td>2021-04-30T05:07:23Z</td>\n",
              "      <td>image captionArlene Foster has been a member o...</td>\n",
              "      <td>35</td>\n",
              "    </tr>\n",
              "    <tr>\n",
              "      <th>6</th>\n",
              "      <td>6</td>\n",
              "      <td>Arlene Foster Why did the DUP move against its...</td>\n",
              "      <td>The BBC's Jayne McCormack takes a look at what...</td>\n",
              "      <td>2021-04-28T15:16:48Z</td>\n",
              "      <td>By Jayne McCormackBBC News NI Political Report...</td>\n",
              "      <td>32</td>\n",
              "    </tr>\n",
              "    <tr>\n",
              "      <th>7</th>\n",
              "      <td>7</td>\n",
              "      <td>French warn UK ahead of vote on Brexit trade deal</td>\n",
              "      <td>French concern over fishing rights overshadows...</td>\n",
              "      <td>2021-04-27T09:21:09Z</td>\n",
              "      <td>image captionEU Commission chief Ursula von de...</td>\n",
              "      <td>32</td>\n",
              "    </tr>\n",
              "    <tr>\n",
              "      <th>8</th>\n",
              "      <td>8</td>\n",
              "      <td>Palantir NHS says future deals 'will be transp...</td>\n",
              "      <td>It follows a lawsuit accusing the NHS of “snea...</td>\n",
              "      <td>2021-03-31T14:06:06Z</td>\n",
              "      <td>image copyrightGetty Images\\r\\nThe NHS has pro...</td>\n",
              "      <td>31</td>\n",
              "    </tr>\n",
              "    <tr>\n",
              "      <th>9</th>\n",
              "      <td>9</td>\n",
              "      <td>Daily Crunch Apple Arcade expands with classic...</td>\n",
              "      <td>Apple adds classic titles to Apple Arcade Micr...</td>\n",
              "      <td>2021-04-02T22:10:28Z</td>\n",
              "      <td>(Bloomberg) -- Britishvolt Ltd. the developer ...</td>\n",
              "      <td>32</td>\n",
              "    </tr>\n",
              "    <tr>\n",
              "      <th>10</th>\n",
              "      <td>10</td>\n",
              "      <td>NI riots Church leaders plead for unified poli...</td>\n",
              "      <td>The Catholic and Protestant clergymen say the ...</td>\n",
              "      <td>2021-04-13T05:28:34Z</td>\n",
              "      <td>image copyrightChurch Leaders Group (Ireland) ...</td>\n",
              "      <td>29</td>\n",
              "    </tr>\n",
              "    <tr>\n",
              "      <th>11</th>\n",
              "      <td>11</td>\n",
              "      <td>Arts venues urge PM to act over post-Brexit to...</td>\n",
              "      <td>The Royal Shakespeare Company Royal Opera Hous...</td>\n",
              "      <td>2021-04-28T12:01:20Z</td>\n",
              "      <td>image copyrightGetty Images\\r\\nimage captionTh...</td>\n",
              "      <td>28</td>\n",
              "    </tr>\n",
              "    <tr>\n",
              "      <th>12</th>\n",
              "      <td>12</td>\n",
              "      <td>8 investors founders and execs predict cyberse...</td>\n",
              "      <td>Things have been looking up for Belfast since ...</td>\n",
              "      <td>2021-04-24T06:38:29Z</td>\n",
              "      <td>Things have been looking up for Belfast since ...</td>\n",
              "      <td>35</td>\n",
              "    </tr>\n",
              "    <tr>\n",
              "      <th>13</th>\n",
              "      <td>13</td>\n",
              "      <td>Welsh election Party leaders on beds of nails ...</td>\n",
              "      <td>As the Welsh election nears three party leader...</td>\n",
              "      <td>2021-04-25T06:23:33Z</td>\n",
              "      <td>By James WilliamsBBC Wales political correspon...</td>\n",
              "      <td>28</td>\n",
              "    </tr>\n",
              "    <tr>\n",
              "      <th>14</th>\n",
              "      <td>14</td>\n",
              "      <td>UK and Norway fail to reach fishing deal</td>\n",
              "      <td>Hundreds of crew members will be out of work a...</td>\n",
              "      <td>2021-04-29T20:10:24Z</td>\n",
              "      <td>The UK and Norway have failed to reach a fishi...</td>\n",
              "      <td>40</td>\n",
              "    </tr>\n",
              "    <tr>\n",
              "      <th>15</th>\n",
              "      <td>15</td>\n",
              "      <td>Billionaire Sir James Dyson moves residency ba...</td>\n",
              "      <td>Sir James faced criticism in 2019 over relocat...</td>\n",
              "      <td>2021-04-22T04:06:50Z</td>\n",
              "      <td>image copyrightJason Kempin\\r\\nimage captionHe...</td>\n",
              "      <td>29</td>\n",
              "    </tr>\n",
              "    <tr>\n",
              "      <th>16</th>\n",
              "      <td>16</td>\n",
              "      <td>Boris Johnson urged to 'step up' to tackle rec...</td>\n",
              "      <td>Several high-profile figures including former ...</td>\n",
              "      <td>2021-04-26T05:17:05Z</td>\n",
              "      <td>image captionBoris Johnson visited a vaccinati...</td>\n",
              "      <td>33</td>\n",
              "    </tr>\n",
              "    <tr>\n",
              "      <th>17</th>\n",
              "      <td>17</td>\n",
              "      <td>Brexit Lord Frost to meet EU to discuss NI Pro...</td>\n",
              "      <td>Lord Frost and Maros Sefcovic will discuss the...</td>\n",
              "      <td>2021-04-14T08:10:59Z</td>\n",
              "      <td>By John Campbell &amp;amp; Adam FlemingBBC News\\r\\...</td>\n",
              "      <td>30</td>\n",
              "    </tr>\n",
              "    <tr>\n",
              "      <th>18</th>\n",
              "      <td>18</td>\n",
              "      <td>Analysis What do Northern Ireland riots mean f...</td>\n",
              "      <td>Anger over post-Brexit trading rules is a fact...</td>\n",
              "      <td>2021-04-09T08:55:15Z</td>\n",
              "      <td>By Adam FlemingBBC News Chief Political Corres...</td>\n",
              "      <td>28</td>\n",
              "    </tr>\n",
              "    <tr>\n",
              "      <th>19</th>\n",
              "      <td>19</td>\n",
              "      <td>DUP criticised over north-south meeting absence</td>\n",
              "      <td>Opposing parties accuse the DUP of obstructing...</td>\n",
              "      <td>2021-04-16T13:21:00Z</td>\n",
              "      <td>By Stephen WalkerBBC News NI Political Corresp...</td>\n",
              "      <td>34</td>\n",
              "    </tr>\n",
              "  </tbody>\n",
              "</table>\n",
              "</div>"
            ],
            "text/plain": [
              "    index  ... content_count\n",
              "0       0  ...            35\n",
              "1       1  ...            29\n",
              "2       2  ...            35\n",
              "3       3  ...            35\n",
              "4       4  ...            33\n",
              "5       5  ...            35\n",
              "6       6  ...            32\n",
              "7       7  ...            32\n",
              "8       8  ...            31\n",
              "9       9  ...            32\n",
              "10     10  ...            29\n",
              "11     11  ...            28\n",
              "12     12  ...            35\n",
              "13     13  ...            28\n",
              "14     14  ...            40\n",
              "15     15  ...            29\n",
              "16     16  ...            33\n",
              "17     17  ...            30\n",
              "18     18  ...            28\n",
              "19     19  ...            34\n",
              "\n",
              "[20 rows x 6 columns]"
            ]
          },
          "metadata": {
            "tags": []
          },
          "execution_count": 210
        }
      ]
    },
    {
      "cell_type": "code",
      "metadata": {
        "id": "apefasVIq3F0",
        "outputId": "901d28d5-e516-495f-e8e0-7c3a4572fdd3",
        "colab": {
          "base_uri": "https://localhost:8080/",
          "height": 295
        }
      },
      "source": [
        "plt.bar(new_data['index'],new_data['content_count'])\n",
        "plt.title('collected articles')\n",
        "plt.xlabel('Index of the Artcle')\n",
        "plt.ylabel('word counts')\n",
        "plt.show()"
      ],
      "execution_count": 221,
      "outputs": [
        {
          "output_type": "display_data",
          "data": {
            "image/png": "[encoded data removed]",
            "text/plain": [
              "<Figure size 432x288 with 1 Axes>"
            ]
          },
          "metadata": {
            "tags": [],
            "needs_background": "light"
          }
        }
      ]
    }
  ]
}