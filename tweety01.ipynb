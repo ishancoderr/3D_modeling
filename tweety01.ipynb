{
  "nbformat": 4,
  "nbformat_minor": 0,
  "metadata": {
    "colab": {
      "name": "Untitled38.ipynb",
      "provenance": [],
      "authorship_tag": "ABX9TyPKPJXVjsuWrE0IvPpLtGIz",
      "include_colab_link": true
    },
    "kernelspec": {
      "name": "python3",
      "display_name": "Python 3"
    },
    "language_info": {
      "name": "python"
    }
  },
  "cells": [
    {
      "cell_type": "markdown",
      "metadata": {
        "id": "view-in-github",
        "colab_type": "text"
      },
      "source": [
        "<a href=\"https://colab.research.google.com/github/ishancoderr/3D_modeling/blob/main/tweety01.ipynb\" target=\"_parent\"><img src=\"https://colab.research.google.com/assets/colab-badge.svg\" alt=\"Open In Colab\"/></a>"
      ]
    },
    {
      "cell_type": "markdown",
      "metadata": {
        "id": "q1rGKxON0DP8"
      },
      "source": [
        "1. \tChoose an event/campaign that happened in the UK or worldwide recently (eg., Brexit). Apply sentiment analysis to show users’ opinions about the topic on Twitter. Represent your findings using statistical descriptive methods. "
      ]
    },
    {
      "cell_type": "code",
      "metadata": {
        "id": "tvG3m5vt0Guz"
      },
      "source": [
        "import tweepy\n",
        "from textblob import TextBlob\n",
        "consumer_key='MiPlOEtMiZDUU0A286jcN3jrr'\n",
        "consumer_secret_key='O9nv0WXPkcHgu6ry2CweZOgp08lA19na5TXxWQNl4Xw1FiH5NI'\n",
        "access_token='1498074007-l0DlAvQPXooOd5oNJCCuV9LIHa3yzjUgT1VBl7R'\n",
        "access_token_secret='oFqbnqacvyLxuDUrNF4Jzao0W7TaHBwFc9odVxQ9GvjA4'"
      ],
      "execution_count": 23,
      "outputs": []
    },
    {
      "cell_type": "code",
      "metadata": {
        "id": "qDmaqzQJ4cte",
        "colab": {
          "base_uri": "https://localhost:8080/"
        },
        "outputId": "2940f2b4-4a5b-43b7-bbf8-ae975d96596c"
      },
      "source": [
        "auth=tweepy.OAuthHandler(consumer_key,consumer_secret_key)\n",
        "auth.set_access_token(access_token,access_token_secret)\n",
        "api=tweepy.API(auth)\n",
        "posts=api.user_timeline(screen_name='Brexit',count=100,lang=\"en\",tweet_mode=\"extended\")\n",
        "print('Show the 5 recent tweets:\\n')\n",
        "for tweet in posts[0:5]:\n",
        "  print(tweet.full_text+'\\n')\n"
      ],
      "execution_count": 24,
      "outputs": [
        {
          "output_type": "stream",
          "text": [
            "Show the 5 recent tweets:\n",
            "\n",
            "These are the allegations facing Boris Johnson, and what might happen next https://t.co/gjVFuGBj8r\n",
            "\n",
            "RT @Joe_Mayes: This week I was in Hartlepool and here's what I learnt about British politics in a Brexit heartland 1/ https://t.co/Q0qPCMjd…\n",
            "\n",
            "Northern Irish voters continue to oppose uniting the two sides of the island, a poll shows https://t.co/X1jMErLvr4\n",
            "\n",
            "Boris Johnson believes the British public is unfussed by his “cash for curtains” scandal, but class is dangerous territory in the U.K., says Martin Ivens https://t.co/eLC3PwGFES\n",
            "\n",
            "Boris Johnson is trying to win another district in Labour's heartland just as he faces a scandal over allegations about his conduct https://t.co/CJgY29oB6T\n",
            "\n"
          ],
          "name": "stdout"
        }
      ]
    },
    {
      "cell_type": "code",
      "metadata": {
        "id": "9EysZt-b8l7H",
        "colab": {
          "base_uri": "https://localhost:8080/",
          "height": 204
        },
        "outputId": "02d5c683-71fe-4a99-e321-d94ab560b1ec"
      },
      "source": [
        "import pandas as pd\n",
        "\n",
        "df=pd.DataFrame([tweet.full_text for tweet in posts],columns=['Tweets'])\n",
        "df.head()"
      ],
      "execution_count": 25,
      "outputs": [
        {
          "output_type": "execute_result",
          "data": {
            "text/html": [
              "<div>\n",
              "<style scoped>\n",
              "    .dataframe tbody tr th:only-of-type {\n",
              "        vertical-align: middle;\n",
              "    }\n",
              "\n",
              "    .dataframe tbody tr th {\n",
              "        vertical-align: top;\n",
              "    }\n",
              "\n",
              "    .dataframe thead th {\n",
              "        text-align: right;\n",
              "    }\n",
              "</style>\n",
              "<table border=\"1\" class=\"dataframe\">\n",
              "  <thead>\n",
              "    <tr style=\"text-align: right;\">\n",
              "      <th></th>\n",
              "      <th>Tweets</th>\n",
              "    </tr>\n",
              "  </thead>\n",
              "  <tbody>\n",
              "    <tr>\n",
              "      <th>0</th>\n",
              "      <td>These are the allegations facing Boris Johnson...</td>\n",
              "    </tr>\n",
              "    <tr>\n",
              "      <th>1</th>\n",
              "      <td>RT @Joe_Mayes: This week I was in Hartlepool a...</td>\n",
              "    </tr>\n",
              "    <tr>\n",
              "      <th>2</th>\n",
              "      <td>Northern Irish voters continue to oppose uniti...</td>\n",
              "    </tr>\n",
              "    <tr>\n",
              "      <th>3</th>\n",
              "      <td>Boris Johnson believes the British public is u...</td>\n",
              "    </tr>\n",
              "    <tr>\n",
              "      <th>4</th>\n",
              "      <td>Boris Johnson is trying to win another distric...</td>\n",
              "    </tr>\n",
              "  </tbody>\n",
              "</table>\n",
              "</div>"
            ],
            "text/plain": [
              "                                              Tweets\n",
              "0  These are the allegations facing Boris Johnson...\n",
              "1  RT @Joe_Mayes: This week I was in Hartlepool a...\n",
              "2  Northern Irish voters continue to oppose uniti...\n",
              "3  Boris Johnson believes the British public is u...\n",
              "4  Boris Johnson is trying to win another distric..."
            ]
          },
          "metadata": {
            "tags": []
          },
          "execution_count": 25
        }
      ]
    },
    {
      "cell_type": "code",
      "metadata": {
        "id": "fzZjW6509Pln",
        "colab": {
          "base_uri": "https://localhost:8080/",
          "height": 419
        },
        "outputId": "8f58d414-cd24-4c77-9997-37bfdfe4a4b3"
      },
      "source": [
        "import re\n",
        "#cleaning data\n",
        "def cleanData(text):\n",
        "  text=re.sub(r'@[A-Za-z0-9]+','',text)#Remove @mentions\n",
        "  text=re.sub(r'#','',text)#Remove #mentions\n",
        "  text=re.sub(r'RT[\\s]+','',text)#Remove RT mentions\n",
        "  text=re.sub(r'https?:\\/\\/\\S+','',text)#Remove hyper links\n",
        "\n",
        "  return text\n",
        "\n",
        "df['Tweets']=df['Tweets'].apply(cleanData)\n",
        "\n",
        "#show data\n",
        "df"
      ],
      "execution_count": 26,
      "outputs": [
        {
          "output_type": "execute_result",
          "data": {
            "text/html": [
              "<div>\n",
              "<style scoped>\n",
              "    .dataframe tbody tr th:only-of-type {\n",
              "        vertical-align: middle;\n",
              "    }\n",
              "\n",
              "    .dataframe tbody tr th {\n",
              "        vertical-align: top;\n",
              "    }\n",
              "\n",
              "    .dataframe thead th {\n",
              "        text-align: right;\n",
              "    }\n",
              "</style>\n",
              "<table border=\"1\" class=\"dataframe\">\n",
              "  <thead>\n",
              "    <tr style=\"text-align: right;\">\n",
              "      <th></th>\n",
              "      <th>Tweets</th>\n",
              "    </tr>\n",
              "  </thead>\n",
              "  <tbody>\n",
              "    <tr>\n",
              "      <th>0</th>\n",
              "      <td>These are the allegations facing Boris Johnson...</td>\n",
              "    </tr>\n",
              "    <tr>\n",
              "      <th>1</th>\n",
              "      <td>_Mayes: This week I was in Hartlepool and here...</td>\n",
              "    </tr>\n",
              "    <tr>\n",
              "      <th>2</th>\n",
              "      <td>Northern Irish voters continue to oppose uniti...</td>\n",
              "    </tr>\n",
              "    <tr>\n",
              "      <th>3</th>\n",
              "      <td>Boris Johnson believes the British public is u...</td>\n",
              "    </tr>\n",
              "    <tr>\n",
              "      <th>4</th>\n",
              "      <td>Boris Johnson is trying to win another distric...</td>\n",
              "    </tr>\n",
              "    <tr>\n",
              "      <th>...</th>\n",
              "      <td>...</td>\n",
              "    </tr>\n",
              "    <tr>\n",
              "      <th>95</th>\n",
              "      <td>100 days after Brexit, a key question is wheth...</td>\n",
              "    </tr>\n",
              "    <tr>\n",
              "      <th>96</th>\n",
              "      <td>Biden tackles gun violence, while the true sca...</td>\n",
              "    </tr>\n",
              "    <tr>\n",
              "      <th>97</th>\n",
              "      <td>The British monarchy has survived exactly beca...</td>\n",
              "    </tr>\n",
              "    <tr>\n",
              "      <th>98</th>\n",
              "      <td>: EXPLAINED: What's behind the violence in Nor...</td>\n",
              "    </tr>\n",
              "    <tr>\n",
              "      <th>99</th>\n",
              "      <td>: ⚡️ What's behind the violence in Northern Ir...</td>\n",
              "    </tr>\n",
              "  </tbody>\n",
              "</table>\n",
              "<p>100 rows × 1 columns</p>\n",
              "</div>"
            ],
            "text/plain": [
              "                                               Tweets\n",
              "0   These are the allegations facing Boris Johnson...\n",
              "1   _Mayes: This week I was in Hartlepool and here...\n",
              "2   Northern Irish voters continue to oppose uniti...\n",
              "3   Boris Johnson believes the British public is u...\n",
              "4   Boris Johnson is trying to win another distric...\n",
              "..                                                ...\n",
              "95  100 days after Brexit, a key question is wheth...\n",
              "96  Biden tackles gun violence, while the true sca...\n",
              "97  The British monarchy has survived exactly beca...\n",
              "98  : EXPLAINED: What's behind the violence in Nor...\n",
              "99  : ⚡️ What's behind the violence in Northern Ir...\n",
              "\n",
              "[100 rows x 1 columns]"
            ]
          },
          "metadata": {
            "tags": []
          },
          "execution_count": 26
        }
      ]
    },
    {
      "cell_type": "code",
      "metadata": {
        "id": "r-shudu4EkHY",
        "colab": {
          "base_uri": "https://localhost:8080/",
          "height": 419
        },
        "outputId": "008d003d-4c7d-4b73-9c07-b854217ee86f"
      },
      "source": [
        "def getSubjectivity(text):\n",
        "  return TextBlob(text).sentiment.subjectivity\n",
        "def getPolarity(text):\n",
        "  return TextBlob(text).sentiment.polarity\n",
        "\n",
        "df['subjectivity']=df['Tweets'].apply(getSubjectivity)\n",
        "df['Polarity']=df['Tweets'].apply(getPolarity)\n",
        "df"
      ],
      "execution_count": 27,
      "outputs": [
        {
          "output_type": "execute_result",
          "data": {
            "text/html": [
              "<div>\n",
              "<style scoped>\n",
              "    .dataframe tbody tr th:only-of-type {\n",
              "        vertical-align: middle;\n",
              "    }\n",
              "\n",
              "    .dataframe tbody tr th {\n",
              "        vertical-align: top;\n",
              "    }\n",
              "\n",
              "    .dataframe thead th {\n",
              "        text-align: right;\n",
              "    }\n",
              "</style>\n",
              "<table border=\"1\" class=\"dataframe\">\n",
              "  <thead>\n",
              "    <tr style=\"text-align: right;\">\n",
              "      <th></th>\n",
              "      <th>Tweets</th>\n",
              "      <th>subjectivity</th>\n",
              "      <th>Polarity</th>\n",
              "    </tr>\n",
              "  </thead>\n",
              "  <tbody>\n",
              "    <tr>\n",
              "      <th>0</th>\n",
              "      <td>These are the allegations facing Boris Johnson...</td>\n",
              "      <td>0.000000</td>\n",
              "      <td>0.00</td>\n",
              "    </tr>\n",
              "    <tr>\n",
              "      <th>1</th>\n",
              "      <td>_Mayes: This week I was in Hartlepool and here...</td>\n",
              "      <td>0.000000</td>\n",
              "      <td>0.00</td>\n",
              "    </tr>\n",
              "    <tr>\n",
              "      <th>2</th>\n",
              "      <td>Northern Irish voters continue to oppose uniti...</td>\n",
              "      <td>0.000000</td>\n",
              "      <td>0.00</td>\n",
              "    </tr>\n",
              "    <tr>\n",
              "      <th>3</th>\n",
              "      <td>Boris Johnson believes the British public is u...</td>\n",
              "      <td>0.322222</td>\n",
              "      <td>-0.20</td>\n",
              "    </tr>\n",
              "    <tr>\n",
              "      <th>4</th>\n",
              "      <td>Boris Johnson is trying to win another distric...</td>\n",
              "      <td>0.400000</td>\n",
              "      <td>0.80</td>\n",
              "    </tr>\n",
              "    <tr>\n",
              "      <th>...</th>\n",
              "      <td>...</td>\n",
              "      <td>...</td>\n",
              "      <td>...</td>\n",
              "    </tr>\n",
              "    <tr>\n",
              "      <th>95</th>\n",
              "      <td>100 days after Brexit, a key question is wheth...</td>\n",
              "      <td>1.000000</td>\n",
              "      <td>0.00</td>\n",
              "    </tr>\n",
              "    <tr>\n",
              "      <th>96</th>\n",
              "      <td>Biden tackles gun violence, while the true sca...</td>\n",
              "      <td>0.375000</td>\n",
              "      <td>0.20</td>\n",
              "    </tr>\n",
              "    <tr>\n",
              "      <th>97</th>\n",
              "      <td>The British monarchy has survived exactly beca...</td>\n",
              "      <td>0.426667</td>\n",
              "      <td>0.07</td>\n",
              "    </tr>\n",
              "    <tr>\n",
              "      <th>98</th>\n",
              "      <td>: EXPLAINED: What's behind the violence in Nor...</td>\n",
              "      <td>0.700000</td>\n",
              "      <td>-0.40</td>\n",
              "    </tr>\n",
              "    <tr>\n",
              "      <th>99</th>\n",
              "      <td>: ⚡️ What's behind the violence in Northern Ir...</td>\n",
              "      <td>0.700000</td>\n",
              "      <td>-0.40</td>\n",
              "    </tr>\n",
              "  </tbody>\n",
              "</table>\n",
              "<p>100 rows × 3 columns</p>\n",
              "</div>"
            ],
            "text/plain": [
              "                                               Tweets  subjectivity  Polarity\n",
              "0   These are the allegations facing Boris Johnson...      0.000000      0.00\n",
              "1   _Mayes: This week I was in Hartlepool and here...      0.000000      0.00\n",
              "2   Northern Irish voters continue to oppose uniti...      0.000000      0.00\n",
              "3   Boris Johnson believes the British public is u...      0.322222     -0.20\n",
              "4   Boris Johnson is trying to win another distric...      0.400000      0.80\n",
              "..                                                ...           ...       ...\n",
              "95  100 days after Brexit, a key question is wheth...      1.000000      0.00\n",
              "96  Biden tackles gun violence, while the true sca...      0.375000      0.20\n",
              "97  The British monarchy has survived exactly beca...      0.426667      0.07\n",
              "98  : EXPLAINED: What's behind the violence in Nor...      0.700000     -0.40\n",
              "99  : ⚡️ What's behind the violence in Northern Ir...      0.700000     -0.40\n",
              "\n",
              "[100 rows x 3 columns]"
            ]
          },
          "metadata": {
            "tags": []
          },
          "execution_count": 27
        }
      ]
    },
    {
      "cell_type": "code",
      "metadata": {
        "id": "mfoTrx4JPSe6",
        "colab": {
          "base_uri": "https://localhost:8080/",
          "height": 404
        },
        "outputId": "8920514a-6a4d-4508-9311-620acf6fb64e"
      },
      "source": [
        "import matplotlib.pyplot as plt\n",
        "%matplotlib inline\n",
        "#plot the polarity and subjectivity\n",
        "plt.figure(figsize=(8,6))\n",
        "for i in range(0,df.shape[0]):\n",
        "  plt.scatter(df['Polarity'][i],df['subjectivity'][i],color='red')\n",
        "\n",
        "plt.title('Sentiment Analysis')\n",
        "plt.xlabel('polarity')\n",
        "plt.ylabel('subjectivity')\n",
        "plt.show()"
      ],
      "execution_count": 28,
      "outputs": [
        {
          "output_type": "display_data",
          "data": {
            "image/png": "[encoded data removed]",
            "text/plain": [
              "<Figure size 576x432 with 1 Axes>"
            ]
          },
          "metadata": {
            "tags": [],
            "needs_background": "light"
          }
        }
      ]
    },
    {
      "cell_type": "code",
      "metadata": {
        "colab": {
          "base_uri": "https://localhost:8080/",
          "height": 377
        },
        "id": "gD35PoIYcjox",
        "outputId": "a2e45d3a-9b22-4f7b-831b-17ba7e2b9e20"
      },
      "source": [
        "from collections import Counter\n",
        "import numpy as np\n",
        "m=df['subjectivity']\n",
        "n= np.array(m) \n",
        "A=[]\n",
        "for i in range(len(n)):\n",
        "  s=n[i]\n",
        "  A.append(s)\n",
        "\n",
        "print(A)\n",
        "a = dict(Counter(A))\n",
        "print(a)\n",
        "a_dictionary = a\n",
        "keys = a_dictionary.keys()\n",
        "values = a_dictionary.values()\n",
        "plt.figure(figsize=(5,4), dpi= 80)\n",
        "\n",
        "plt.bar(keys, values, color='blue', width=0.05)\n",
        "plt.title('collected tweets')\n",
        "plt.xlabel('Sentiment')\n",
        "plt.ylabel('Count')\n",
        "\n",
        "plt.show()"
      ],
      "execution_count": 29,
      "outputs": [
        {
          "output_type": "stream",
          "text": [
            "[0.0, 0.0, 0.0, 0.32222222222222224, 0.4, 0.0, 0.0, 0.25, 0.0, 0.25, 0.3333333333333333, 0.41666666666666663, 0.05, 0.5277777777777778, 0.5, 0.0, 0.05, 0.0, 0.13333333333333333, 0.21428571428571427, 0.0, 0.5, 0.0, 0.0, 0.0, 0.26988636363636365, 0.0, 0.22625, 0.0, 0.0, 0.0, 0.0, 0.45, 0.75, 0.45, 0.19999999999999998, 0.45, 0.22916666666666666, 0.0, 0.5, 0.0, 0.0, 0.5333333333333333, 0.0, 0.0, 0.0, 0.47590909090909095, 0.0, 0.19999999999999998, 0.0, 0.0, 0.19999999999999998, 0.0, 0.0, 0.3888888888888889, 0.0, 0.2, 0.0, 0.5, 0.0, 0.0, 0.34166666666666673, 0.42000000000000004, 0.275, 0.0, 0.0, 0.22727272727272727, 0.3, 0.3444444444444445, 0.0, 0.275, 1.0, 0.275, 0.0, 0.5499999999999999, 0.42000000000000004, 0.0, 0.5499999999999999, 0.42000000000000004, 0.5, 0.0, 0.6, 0.22727272727272727, 1.0, 0.05, 0.37777777777777777, 0.49756493506493504, 0.5266666666666666, 0.0, 0.5, 0.25833333333333336, 0.6000000000000001, 0.5, 0.0, 0.3277777777777778, 1.0, 0.375, 0.42666666666666664, 0.7, 0.7]\n",
            "{0.0: 40, 0.32222222222222224: 1, 0.4: 1, 0.25: 2, 0.3333333333333333: 1, 0.41666666666666663: 1, 0.05: 3, 0.5277777777777778: 1, 0.5: 7, 0.13333333333333333: 1, 0.21428571428571427: 1, 0.26988636363636365: 1, 0.22625: 1, 0.45: 3, 0.75: 1, 0.19999999999999998: 3, 0.22916666666666666: 1, 0.5333333333333333: 1, 0.47590909090909095: 1, 0.3888888888888889: 1, 0.2: 1, 0.34166666666666673: 1, 0.42000000000000004: 3, 0.275: 3, 0.22727272727272727: 2, 0.3: 1, 0.3444444444444445: 1, 1.0: 3, 0.5499999999999999: 2, 0.6: 1, 0.37777777777777777: 1, 0.49756493506493504: 1, 0.5266666666666666: 1, 0.25833333333333336: 1, 0.6000000000000001: 1, 0.3277777777777778: 1, 0.375: 1, 0.42666666666666664: 1, 0.7: 2}\n"
          ],
          "name": "stdout"
        },
        {
          "output_type": "display_data",
          "data": {
            "image/png": "[encoded data removed]",
            "text/plain": [
              "<Figure size 400x320 with 1 Axes>"
            ]
          },
          "metadata": {
            "tags": [],
            "needs_background": "light"
          }
        }
      ]
    },
    {
      "cell_type": "code",
      "metadata": {
        "colab": {
          "base_uri": "https://localhost:8080/",
          "height": 349
        },
        "id": "z2MCwXBgtvgb",
        "outputId": "700a5182-dae7-4ed1-8b58-3aa4967bb640"
      },
      "source": [
        "from collections import Counter\n",
        "import numpy as np\n",
        "m=df['Polarity']\n",
        "n=np.array(m) \n",
        "A=[]\n",
        "for i in range(len(n)):\n",
        "  s=n[i]\n",
        "  \n",
        "  A.append(s)\n",
        "\n",
        "print(A)\n",
        "a = dict(Counter(A))\n",
        "print(a)\n",
        "a_dictionary = a\n",
        "keys = a_dictionary.keys()\n",
        "values = a_dictionary.values()\n",
        "plt.bar(keys, values, color='blue', width=0.14)\n",
        "plt.title('collected tweets')\n",
        "plt.xlabel('Polarity')\n",
        "plt.ylabel('Count')\n",
        "plt.show()"
      ],
      "execution_count": 30,
      "outputs": [
        {
          "output_type": "stream",
          "text": [
            "[0.0, 0.0, 0.0, -0.19999999999999998, 0.8, 0.0, 0.0, 0.0, 0.0, 0.0, 0.25, 0.375, 0.0, 0.18333333333333335, 0.13636363636363635, 0.0, 0.0, 0.0, -0.09999999999999999, -0.07142857142857142, 0.0, 0.5, 0.0, 0.0, 0.0, 0.1590909090909091, 0.0, 0.0, 0.0, 0.0, 0.0, 0.0, 0.2, 0.4, 0.2, 0.13333333333333333, 0.2, 0.0625, 0.0, 0.375, 0.0, 0.0, -0.033333333333333354, 0.0, 0.0, 0.0, 0.16893939393939394, 0.0, 0.2333333333333333, 0.0, 0.0, 0.2333333333333333, 0.0, 0.0, 0.011111111111111108, 0.0, -0.1, 0.0, 0.05208333333333334, 0.0, 0.0, 0.03333333333333333, 0.09, 0.1, 0.0, 0.3, 0.06818181818181818, -0.2333333333333333, 0.2111111111111111, 0.0, 0.1, -1.0, 0.1, 0.0, 0.43333333333333335, 0.09, 0.0, 0.43333333333333335, 0.09, 0.5, 0.0, 0.0, 0.06818181818181818, 0.1, 0.0, 0.21666666666666667, 0.1305194805194805, 0.22999999999999998, 0.3, 0.0, 0.2125, 0.7, 0.4, 0.0, 1.850371707708594e-17, 0.0, 0.19999999999999998, 0.07, -0.4, -0.4]\n",
            "{0.0: 47, -0.19999999999999998: 1, 0.8: 1, 0.25: 1, 0.375: 2, 0.18333333333333335: 1, 0.13636363636363635: 1, -0.09999999999999999: 1, -0.07142857142857142: 1, 0.5: 2, 0.1590909090909091: 1, 0.2: 3, 0.4: 2, 0.13333333333333333: 1, 0.0625: 1, -0.033333333333333354: 1, 0.16893939393939394: 1, 0.2333333333333333: 2, 0.011111111111111108: 1, -0.1: 1, 0.05208333333333334: 1, 0.03333333333333333: 1, 0.09: 3, 0.1: 4, 0.3: 2, 0.06818181818181818: 2, -0.2333333333333333: 1, 0.2111111111111111: 1, -1.0: 1, 0.43333333333333335: 2, 0.21666666666666667: 1, 0.1305194805194805: 1, 0.22999999999999998: 1, 0.2125: 1, 0.7: 1, 1.850371707708594e-17: 1, 0.19999999999999998: 1, 0.07: 1, -0.4: 2}\n"
          ],
          "name": "stdout"
        },
        {
          "output_type": "display_data",
          "data": {
            "image/png": "[encoded data removed]",
            "text/plain": [
              "<Figure size 432x288 with 1 Axes>"
            ]
          },
          "metadata": {
            "tags": [],
            "needs_background": "light"
          }
        }
      ]
    },
    {
      "cell_type": "markdown",
      "metadata": {
        "id": "dEgOUdPOc5jD"
      },
      "source": [
        "2.\t**Access News APIs for articles related to the chosen event/campaign (Minimum of 5 articles)** \n",
        "\n",
        "\n",
        "*   Perform all required cleaning and pre-processing on the articles.\n",
        "*   Perform basic descriptive analysis of the collected articles (time distribution, word counts. etc).\n",
        "\n",
        "*   Use topic modelling techniques to discover key topics. Display your findings using proper graphs, such as word cloud.\n",
        "* Provide a summary on one of the news articles. Comment on the summarisation quality  \n"
      ]
    },
    {
      "cell_type": "code",
      "metadata": {
        "id": "6ZVlbN7uhzww",
        "colab": {
          "base_uri": "https://localhost:8080/"
        },
        "outputId": "f782f036-1a90-40f6-b037-5ef1f9cf2f2f"
      },
      "source": [
        "!pip install newsapi-python"
      ],
      "execution_count": 35,
      "outputs": [
        {
          "output_type": "stream",
          "text": [
            "Requirement already satisfied: newsapi-python in /usr/local/lib/python3.7/dist-packages (0.2.6)\n",
            "Requirement already satisfied: requests<3.0.0 in /usr/local/lib/python3.7/dist-packages (from newsapi-python) (2.23.0)\n",
            "Requirement already satisfied: idna<3,>=2.5 in /usr/local/lib/python3.7/dist-packages (from requests<3.0.0->newsapi-python) (2.10)\n",
            "Requirement already satisfied: certifi>=2017.4.17 in /usr/local/lib/python3.7/dist-packages (from requests<3.0.0->newsapi-python) (2020.12.5)\n",
            "Requirement already satisfied: chardet<4,>=3.0.2 in /usr/local/lib/python3.7/dist-packages (from requests<3.0.0->newsapi-python) (3.0.4)\n",
            "Requirement already satisfied: urllib3!=1.25.0,!=1.25.1,<1.26,>=1.21.1 in /usr/local/lib/python3.7/dist-packages (from requests<3.0.0->newsapi-python) (1.24.3)\n"
          ],
          "name": "stdout"
        }
      ]
    },
    {
      "cell_type": "code",
      "metadata": {
        "id": "7hKOQjD9iHGb"
      },
      "source": [
        "from newsapi import NewsApiClient\n",
        "import datetime as dt\n",
        "import pandas as pd"
      ],
      "execution_count": 36,
      "outputs": []
    },
    {
      "cell_type": "code",
      "metadata": {
        "id": "vHJwydQokKHB"
      },
      "source": [
        "my_api_key='37925137cd4749ad8db14762cf5dd24d'\n",
        "newsapi = NewsApiClient(api_key=my_api_key)"
      ],
      "execution_count": 37,
      "outputs": []
    },
    {
      "cell_type": "code",
      "metadata": {
        "id": "RAoS80mTxBcT"
      },
      "source": [
        "all_articles = newsapi.get_everything(q='Brexit',\n",
        "                                      sources='bbc-news,the-verge',\n",
        "                                      domains='bbc.co.uk,techcrunch.com',\n",
        "                                      language='en',\n",
        "                                      sort_by='relevancy',\n",
        "                                      page=2)"
      ],
      "execution_count": 38,
      "outputs": []
    },
    {
      "cell_type": "code",
      "metadata": {
        "id": "NMo6jjEjlFtp",
        "colab": {
          "base_uri": "https://localhost:8080/"
        },
        "outputId": "6c83d79f-a4a4-4df3-a8d0-1d283bceeb36"
      },
      "source": [
        "type(all_articles)"
      ],
      "execution_count": 39,
      "outputs": [
        {
          "output_type": "execute_result",
          "data": {
            "text/plain": [
              "dict"
            ]
          },
          "metadata": {
            "tags": []
          },
          "execution_count": 39
        }
      ]
    },
    {
      "cell_type": "code",
      "metadata": {
        "id": "FaB5h9Uqrk0z",
        "outputId": "5627c686-33ba-4f7a-ebfc-2a04cb20c05d",
        "colab": {
          "base_uri": "https://localhost:8080/"
        }
      },
      "source": [
        "all_articles "
      ],
      "execution_count": 41,
      "outputs": [
        {
          "output_type": "execute_result",
          "data": {
            "text/plain": [
              "{'articles': [{'author': 'https://www.facebook.com/bbcnews',\n",
              "   'content': 'By Jayne McCormackBBC News NI Political Reporter\\r\\nRumours about bids to remove Arlene Foster from the helm of the Democratic Unionist Party (DUP) had been swirling for months.\\r\\nOn many occasions they… [+4002 chars]',\n",
              "   'description': \"The BBC's Jayne McCormack takes a look at what lies behind the ousting of NI's first minister.\",\n",
              "   'publishedAt': '2021-04-28T15:16:48Z',\n",
              "   'source': {'id': 'bbc-news', 'name': 'BBC News'},\n",
              "   'title': 'Arlene Foster: Why did the DUP move against its leader?',\n",
              "   'url': 'https://www.bbc.co.uk/news/uk-northern-ireland-56907858',\n",
              "   'urlToImage': 'https://ichef.bbci.co.uk/news/1024/branded_news/12E8D/production/_118235477_arlene2_pa.jpg'},\n",
              "  {'author': 'https://www.facebook.com/bbcnews',\n",
              "   'content': 'image captionEU Commission chief Ursula von der Leyen oversees trade relations with the UK\\r\\nThe European Parliament is expected to ratify the post-Brexit EU-UK trade deal, amid tensions including a F… [+2669 chars]',\n",
              "   'description': 'French concern over fishing rights overshadows a key European Parliament vote on EU-UK trade.',\n",
              "   'publishedAt': '2021-04-27T09:21:09Z',\n",
              "   'source': {'id': 'bbc-news', 'name': 'BBC News'},\n",
              "   'title': 'French warn UK ahead of vote on Brexit trade deal',\n",
              "   'url': 'https://www.bbc.co.uk/news/world-europe-56899831',\n",
              "   'urlToImage': 'https://ichef.bbci.co.uk/news/1024/branded_news/FE08/production/_118223056_mediaitem118223055.jpg'},\n",
              "  {'author': 'Anthony Ha',\n",
              "   'content': '(Bloomberg) -- Britishvolt Ltd., the developer of the first giant battery factory in the U.K., is considering going public.The company has appointed Guggenheim Securities LLC and Barclays Plc as advi… [+4534 chars]',\n",
              "   'description': \"Apple adds classic titles to Apple Arcade, Microsoft experiences an outage and Coinbase is going public.  Until now, Apple's game subscription service was...\",\n",
              "   'publishedAt': '2021-04-02T22:10:28Z',\n",
              "   'source': {'id': 'techcrunch', 'name': 'TechCrunch'},\n",
              "   'title': 'Daily Crunch: Apple Arcade expands with classic games',\n",
              "   'url': 'https://techcrunch.com/2021/04/02/daily-crunch-apple-arcade-expands-with-classic-games/',\n",
              "   'urlToImage': 'https://s.yimg.com/uu/api/res/1.2/Z.DSTEMdfzA75bxecQZkQg--~B/aD03NDQ7dz0xMzA2O2FwcGlkPXl0YWNoeW9u/https://media.zenfs.com/en/techcrunch_350/03ab50ad77e6c048058829ffdfec6e31'},\n",
              "  {'author': 'https://www.facebook.com/bbcnews',\n",
              "   'content': \"image copyrightChurch Leaders Group (Ireland) \\r\\nimage captionThe church leaders' said the causes of the recent violence were complex and deep-rooted\\r\\nChurch leaders have appealed for politicians to p… [+5975 chars]\",\n",
              "   'description': 'The Catholic and Protestant clergymen say the causes of violence are complex and deep-rooted.',\n",
              "   'publishedAt': '2021-04-13T05:28:34Z',\n",
              "   'source': {'id': 'bbc-news', 'name': 'BBC News'},\n",
              "   'title': 'NI riots: Church leaders plead for unified political response',\n",
              "   'url': 'https://www.bbc.co.uk/news/uk-northern-ireland-56725048',\n",
              "   'urlToImage': 'https://ichef.bbci.co.uk/news/1024/branded_news/5776/production/_118009322_riotpolice_reuters.jpg'},\n",
              "  {'author': 'https://www.facebook.com/bbcnews',\n",
              "   'content': \"image copyrightGetty Images\\r\\nimage captionThe boss of Shakespeare's Globe theatre is among the letter's 300 signatories\\r\\nThe Royal Shakespeare Company, Royal Opera House and Ed Sheeran's manager have… [+2717 chars]\",\n",
              "   'description': \"The Royal Shakespeare Company, Royal Opera House and Ed Sheeran's manager all sign an open letter.\",\n",
              "   'publishedAt': '2021-04-28T12:01:20Z',\n",
              "   'source': {'id': 'bbc-news', 'name': 'BBC News'},\n",
              "   'title': \"Arts venues urge PM to act over post-Brexit touring 'crisis'\",\n",
              "   'url': 'https://www.bbc.co.uk/news/entertainment-arts-56913492',\n",
              "   'urlToImage': 'https://ichef.bbci.co.uk/news/1024/branded_news/DF55/production/_118237175_globe.jpg'},\n",
              "  {'author': 'Mike Butcher',\n",
              "   'content': 'Things have been looking up for Belfast since the end of the Troubles. The city has undergone infrastructure improvements over the past two decades, tourism has boomed thanks to attractions such as t… [+15547 chars]',\n",
              "   'description': 'Things have been looking up for Belfast since the end of the Troubles.  The city also has the famed Queen’s University and low living costs to count in its...',\n",
              "   'publishedAt': '2021-04-24T06:38:29Z',\n",
              "   'source': {'id': 'techcrunch', 'name': 'TechCrunch'},\n",
              "   'title': '8 investors, founders and execs predict cybersecurity, fintech will take Belfast by storm',\n",
              "   'url': 'https://techcrunch.com/2021/04/23/8-investors-founders-and-execs-predict-cybersecurity-fintech-will-take-belfast-by-storm/',\n",
              "   'urlToImage': 'https://s.yimg.com/ny/api/res/1.2/xokImL.gKZtkbddL1MPWbA--/YXBwaWQ9aGlnaGxhbmRlcjt3PTIwMDA7aD0xMzMz/https://s.yimg.com/uu/api/res/1.2/cOauy0bwritiLPed650D4w--~B/aD0xNDE0O3c9MjEyMTthcHBpZD15dGFjaHlvbg--/https://media.zenfs.com/en/techcrunch_350/9f6bc79315ebbf470c8526d3533c7311'},\n",
              "  {'author': 'https://www.facebook.com/bbcnews',\n",
              "   'content': \"By James WilliamsBBC Wales political correspondent\\r\\nmedia captionAndrew RT Davies, Adam Price and Mark Drakeford speak about themselves and their passions\\r\\nAs the countdown to Wales' Senedd election … [+7247 chars]\",\n",
              "   'description': 'As the Welsh election nears, three party leaders talk about life in and out of politics.',\n",
              "   'publishedAt': '2021-04-25T06:23:33Z',\n",
              "   'source': {'id': 'bbc-news', 'name': 'BBC News'},\n",
              "   'title': 'Welsh election: Party leaders on beds of nails, coming out and boxing',\n",
              "   'url': 'https://www.bbc.co.uk/news/uk-wales-politics-56858995',\n",
              "   'urlToImage': 'https://ichef.bbci.co.uk/news/1024/branded_news/56CA/production/_118181222_newproject-5.jpg'},\n",
              "  {'author': 'https://www.facebook.com/bbcnews',\n",
              "   'content': 'The UK and Norway have failed to reach a fishing deal for this year, with the industry warning that hundreds of crew members will be left out of work.\\r\\nIt means UK fleets will have no access to Norwa… [+1975 chars]',\n",
              "   'description': 'Hundreds of crew members will be out of work after losing access to a £32m market, ministers are warned.',\n",
              "   'publishedAt': '2021-04-29T20:10:24Z',\n",
              "   'source': {'id': 'bbc-news', 'name': 'BBC News'},\n",
              "   'title': 'UK and Norway fail to reach fishing deal',\n",
              "   'url': 'https://www.bbc.co.uk/news/uk-politics-56932551',\n",
              "   'urlToImage': 'https://ichef.bbci.co.uk/news/1024/branded_news/691A/production/_118260962_mediaitem118260961.jpg'},\n",
              "  {'author': 'https://www.facebook.com/bbcnews',\n",
              "   'content': \"image copyrightJason Kempin\\r\\nimage captionHe faced criticism in 2019 after announcing that he would relocate his firm's global head office\\r\\nHigh-profile businessman Sir James Dyson has moved his resi… [+1903 chars]\",\n",
              "   'description': \"Sir James faced criticism in 2019 over relocating his company's global headquarters to Singapore.\",\n",
              "   'publishedAt': '2021-04-22T04:06:50Z',\n",
              "   'source': {'id': 'bbc-news', 'name': 'BBC News'},\n",
              "   'title': 'Billionaire Sir James Dyson moves residency back to the UK',\n",
              "   'url': 'https://www.bbc.co.uk/news/business-56840781',\n",
              "   'urlToImage': 'https://ichef.bbci.co.uk/news/1024/branded_news/10117/production/_118151856_gettyimages-1051889762.jpg'},\n",
              "  {'author': 'https://www.facebook.com/bbcnews',\n",
              "   'content': \"image copyrightGetty Images\\r\\nimage captionStewart Arnold said Sheffield football rivals United and Wednesday are together in having the Yorkshire rose on the teams' badge\\r\\nAn online survey is asking … [+2473 chars]\",\n",
              "   'description': 'Is it the no nonsense, straight-talking? The towns, the cities, the coastline? Or something else?',\n",
              "   'publishedAt': '2021-05-02T06:49:58Z',\n",
              "   'source': {'id': 'bbc-news', 'name': 'BBC News'},\n",
              "   'title': \"Big Yorkshire Conversation survey asks 'What is Yorkshireness?'\",\n",
              "   'url': 'https://www.bbc.co.uk/news/uk-england-humber-56944249',\n",
              "   'urlToImage': 'https://ichef.bbci.co.uk/news/1024/branded_news/4FAD/production/_118279302_gettyimages-1146883317.jpg'},\n",
              "  {'author': 'https://www.facebook.com/bbcnews',\n",
              "   'content': 'image captionBoris Johnson visited a vaccination centre in Northern Ireland in March\\r\\nPrime Minister Boris Johnson has been urged to \"step up\" and \"listen\" to concerns in Northern Ireland to help pre… [+3978 chars]',\n",
              "   'description': 'Several high-profile figures including former NI secretaries wrote to Boris Johnson expressing concerns.',\n",
              "   'publishedAt': '2021-04-26T05:17:05Z',\n",
              "   'source': {'id': 'bbc-news', 'name': 'BBC News'},\n",
              "   'title': \"Boris Johnson urged to 'step up' to tackle recent NI rioting\",\n",
              "   'url': 'https://www.bbc.co.uk/news/uk-northern-ireland-56882223',\n",
              "   'urlToImage': 'https://ichef.bbci.co.uk/news/1024/branded_news/173E0/production/_118200259_hi066190949.jpg'},\n",
              "  {'author': 'https://www.facebook.com/bbcnews',\n",
              "   'content': 'By John Campbell &amp; Adam FlemingBBC News\\r\\nimage captionThe most UK-EU recent talks about the Northern Ireland trade arrangements have been described as productive\\r\\nThe UK Brexit minister will meet… [+2370 chars]',\n",
              "   'description': 'Lord Frost and Maros Sefcovic will discuss the UK\\'s \"work plan\" for the NI part of the Brexit deal.',\n",
              "   'publishedAt': '2021-04-14T08:10:59Z',\n",
              "   'source': {'id': 'bbc-news', 'name': 'BBC News'},\n",
              "   'title': 'Brexit: Lord Frost to meet EU to discuss NI Protocol',\n",
              "   'url': 'https://www.bbc.co.uk/news/uk-northern-ireland-56742783',\n",
              "   'urlToImage': 'https://ichef.bbci.co.uk/news/1024/branded_news/15D0F/production/_117795398_brexit6.png'},\n",
              "  {'author': 'https://www.facebook.com/bbcnews',\n",
              "   'content': \"image captionEdwin Poots is one of three DUP politicians tipped as a party leader contender\\r\\nEdwin Poots has received endorsements from a majority of the DUP's MPs and MLAs in his bid to become party… [+4392 chars]\",\n",
              "   'description': \"Edwin Poots' campaign manager says he has the backing of the majority of the DUP electoral college.\",\n",
              "   'publishedAt': '2021-05-01T11:16:00Z',\n",
              "   'source': {'id': 'bbc-news', 'name': 'BBC News'},\n",
              "   'title': 'Edwin Poots: Majority of DUP MPs and MLAs back leadership bid, says Paul Frew',\n",
              "   'url': 'https://www.bbc.co.uk/news/uk-northern-ireland-56956213',\n",
              "   'urlToImage': 'https://ichef.bbci.co.uk/news/1024/branded_news/1103F/production/_118259696_f8f54354-c0a4-4d9f-a623-d27fa1c4f20d.jpg'},\n",
              "  {'author': 'https://www.facebook.com/bbcnews',\n",
              "   'content': 'By Adam FlemingBBC News Chief Political Correspondent\\r\\nimage copyrightGetty Images\\r\\nThe renewed tension in Northern Ireland could have far-reaching implications for the future of the United Kingdom -… [+5517 chars]',\n",
              "   'description': 'Anger over post-Brexit trading rules is a factor in the violence that has erupted, writes Adam Fleming.',\n",
              "   'publishedAt': '2021-04-09T08:55:15Z',\n",
              "   'source': {'id': 'bbc-news', 'name': 'BBC News'},\n",
              "   'title': \"Analysis: What do Northern Ireland riots mean for UK's future?\",\n",
              "   'url': 'https://www.bbc.co.uk/news/uk-politics-56678489',\n",
              "   'urlToImage': 'https://ichef.bbci.co.uk/news/1024/branded_news/5C1A/production/_117887532_gettyimages-1231513452.jpg'},\n",
              "  {'author': 'https://www.facebook.com/bbcnews',\n",
              "   'content': 'By Stephen WalkerBBC News NI Political Correspondent\\r\\nSinn Féin, the SDLP and the Alliance Party have criticised the DUP for failing to take part in a meeting of ministers from Belfast and Dublin.\\r\\nT… [+2169 chars]',\n",
              "   'description': 'Opposing parties accuse the DUP of obstructing a North-South Ministerial Council meeting.',\n",
              "   'publishedAt': '2021-04-16T13:21:00Z',\n",
              "   'source': {'id': 'bbc-news', 'name': 'BBC News'},\n",
              "   'title': 'DUP criticised over north-south meeting absence',\n",
              "   'url': 'https://www.bbc.co.uk/news/uk-northern-ireland-56774654',\n",
              "   'urlToImage': 'https://ichef.bbci.co.uk/news/1024/branded_news/539F/production/_108870412_a273011c-76d0-4591-8edd-d84dd2d31c4a.jpg'},\n",
              "  {'author': 'https://www.facebook.com/bbcnews',\n",
              "   'content': 'image captionThere was a police presence in Larne on Tuesday night\\r\\nPolice Service of Northern Ireland (PSNI) Chief Constable Simon Byrne is set to brief the Policing Board later about violence over … [+2484 chars]',\n",
              "   'description': \"NI's chief constable Simon Byrne to give assessment of trouble that led to 41 officers being injured.\",\n",
              "   'publishedAt': '2021-04-07T05:26:55Z',\n",
              "   'source': {'id': 'bbc-news', 'name': 'BBC News'},\n",
              "   'title': 'Simon Byrne to update policing board on NI violence',\n",
              "   'url': 'https://www.bbc.co.uk/news/uk-northern-ireland-56650643',\n",
              "   'urlToImage': 'https://ichef.bbci.co.uk/news/1024/branded_news/0808/production/_117865020_pacemakermarch6loyalist_protests_in_larne_1.jpg'},\n",
              "  {'author': 'https://www.facebook.com/bbcnews',\n",
              "   'content': 'By Alan HaslamBBC News NI\\r\\nimage captionJohn Le Carré was \"English to the core\" but was disillusioned after Brexit, his son says\\r\\nHe served as a British diplomat and an MI5 secret agent, but espionag… [+2444 chars]',\n",
              "   'description': 'The Tinker, Tailor, Soldier, Spy author became an Irish citizen before his death, his son says.',\n",
              "   'publishedAt': '2021-04-01T13:03:32Z',\n",
              "   'source': {'id': 'bbc-news', 'name': 'BBC News'},\n",
              "   'title': \"John le Carré: Spy novelist 'died an Irishman'\",\n",
              "   'url': 'https://www.bbc.co.uk/news/world-europe-56596117',\n",
              "   'urlToImage': 'https://ichef.bbci.co.uk/news/1024/branded_news/3DFC/production/_117786851_gettyimages-1215275466-1.jpg'},\n",
              "  {'author': 'https://www.facebook.com/bbcnews',\n",
              "   'content': 'image captionArlene Foster on the steps of Stormont on 11 January 2016, on her first day as first minister of Northern Ireland\\r\\nArlene Foster faced unprecedented challenges and monumental political c… [+10209 chars]',\n",
              "   'description': 'BBC News NI looks back at the career of first minister of Northern Ireland, Arlene Foster.',\n",
              "   'publishedAt': '2021-04-28T15:12:41Z',\n",
              "   'source': {'id': 'bbc-news', 'name': 'BBC News'},\n",
              "   'title': 'Arlene Foster: From trailblazing leader to party civil war',\n",
              "   'url': 'https://www.bbc.co.uk/news/uk-northern-ireland-38320780',\n",
              "   'urlToImage': 'https://ichef.bbci.co.uk/news/1024/branded_news/C31B/production/_92974994_arlene_foster_northern_ireland_s_first_minister01.jpg'},\n",
              "  {'author': 'https://www.facebook.com/bbcnews',\n",
              "   'content': 'Fishing crews have been \"disastrously let down\" by the government\\'s failure to reach a deal with Norway, UK Fisheries chief executive has said.\\r\\nUK fleets will not have access to Norway\\'s sub-Arctic … [+2825 chars]',\n",
              "   'description': 'One Hull-based trawler, which catches 10% of fish for UK chip shops, will be out of action for a year.',\n",
              "   'publishedAt': '2021-04-30T10:04:28Z',\n",
              "   'source': {'id': 'bbc-news', 'name': 'BBC News'},\n",
              "   'title': \"Brexit: Anger over government's failure to get Norway fishing deal\",\n",
              "   'url': 'https://www.bbc.co.uk/news/uk-politics-56940914',\n",
              "   'urlToImage': 'https://ichef.bbci.co.uk/news/1024/branded_news/7388/production/_118267592_a19c04ba-b521-4f2c-9dad-0b9d23aa3bba.jpg'},\n",
              "  {'author': 'https://www.facebook.com/bbcnews',\n",
              "   'content': \"image captionThe leaders of Scotland's five main parties took part in the second pre-election debate\\r\\nScotland's political leaders clashed as they set out their Covid recovery plans in the second pre… [+7376 chars]\",\n",
              "   'description': \"Leaders of the country's five larger parties went head-to-head in the second live debate of the campaign.\",\n",
              "   'publishedAt': '2021-04-13T21:35:52Z',\n",
              "   'source': {'id': 'bbc-news', 'name': 'BBC News'},\n",
              "   'title': 'Scottish election 2021: Scottish party leaders pitch Covid recovery plans',\n",
              "   'url': 'https://www.bbc.co.uk/news/uk-scotland-scotland-politics-56737363',\n",
              "   'urlToImage': 'https://ichef.bbci.co.uk/news/1024/branded_news/2AD1/production/_118016901_stvleadersdebate.jpg'}],\n",
              " 'status': 'ok',\n",
              " 'totalResults': 104}"
            ]
          },
          "metadata": {
            "tags": []
          },
          "execution_count": 41
        }
      ]
    },
    {
      "cell_type": "code",
      "metadata": {
        "id": "NB69XCUvxOOz",
        "colab": {
          "base_uri": "https://localhost:8080/"
        },
        "outputId": "eb001ea5-845a-4e89-964c-a76aa80daaf2"
      },
      "source": [
        "all_articles.keys()"
      ],
      "execution_count": 42,
      "outputs": [
        {
          "output_type": "execute_result",
          "data": {
            "text/plain": [
              "dict_keys(['status', 'totalResults', 'articles'])"
            ]
          },
          "metadata": {
            "tags": []
          },
          "execution_count": 42
        }
      ]
    },
    {
      "cell_type": "code",
      "metadata": {
        "id": "KvzFGSUDxj_c",
        "colab": {
          "base_uri": "https://localhost:8080/",
          "height": 35
        },
        "outputId": "449157e3-69ee-4ced-c9ba-506b27089824"
      },
      "source": [
        "all_articles['status']"
      ],
      "execution_count": 43,
      "outputs": [
        {
          "output_type": "execute_result",
          "data": {
            "application/vnd.google.colaboratory.intrinsic+json": {
              "type": "string"
            },
            "text/plain": [
              "'ok'"
            ]
          },
          "metadata": {
            "tags": []
          },
          "execution_count": 43
        }
      ]
    },
    {
      "cell_type": "code",
      "metadata": {
        "id": "NYb5BKmUzNcd",
        "colab": {
          "base_uri": "https://localhost:8080/"
        },
        "outputId": "1737a63f-6bf5-48d9-8404-4b6848b29166"
      },
      "source": [
        "all_articles['totalResults']"
      ],
      "execution_count": 44,
      "outputs": [
        {
          "output_type": "execute_result",
          "data": {
            "text/plain": [
              "104"
            ]
          },
          "metadata": {
            "tags": []
          },
          "execution_count": 44
        }
      ]
    },
    {
      "cell_type": "code",
      "metadata": {
        "id": "GXw2WVHUzRXj"
      },
      "source": [
        "x=all_articles['articles']"
      ],
      "execution_count": 45,
      "outputs": []
    },
    {
      "cell_type": "code",
      "metadata": {
        "id": "4hGFTBtjk0CN",
        "colab": {
          "base_uri": "https://localhost:8080/",
          "height": 785
        },
        "outputId": "b8db1b6c-7380-484c-e699-669aefd53b2b"
      },
      "source": [
        "df=pd.DataFrame(x)\n",
        "                            \n",
        "df.head()"
      ],
      "execution_count": 46,
      "outputs": [
        {
          "output_type": "execute_result",
          "data": {
            "text/html": [
              "<div>\n",
              "<style scoped>\n",
              "    .dataframe tbody tr th:only-of-type {\n",
              "        vertical-align: middle;\n",
              "    }\n",
              "\n",
              "    .dataframe tbody tr th {\n",
              "        vertical-align: top;\n",
              "    }\n",
              "\n",
              "    .dataframe thead th {\n",
              "        text-align: right;\n",
              "    }\n",
              "</style>\n",
              "<table border=\"1\" class=\"dataframe\">\n",
              "  <thead>\n",
              "    <tr style=\"text-align: right;\">\n",
              "      <th></th>\n",
              "      <th>source</th>\n",
              "      <th>author</th>\n",
              "      <th>title</th>\n",
              "      <th>description</th>\n",
              "      <th>url</th>\n",
              "      <th>urlToImage</th>\n",
              "      <th>publishedAt</th>\n",
              "      <th>content</th>\n",
              "    </tr>\n",
              "  </thead>\n",
              "  <tbody>\n",
              "    <tr>\n",
              "      <th>0</th>\n",
              "      <td>{'id': 'bbc-news', 'name': 'BBC News'}</td>\n",
              "      <td>https://www.facebook.com/bbcnews</td>\n",
              "      <td>Arlene Foster: Why did the DUP move against it...</td>\n",
              "      <td>The BBC's Jayne McCormack takes a look at what...</td>\n",
              "      <td>https://www.bbc.co.uk/news/uk-northern-ireland...</td>\n",
              "      <td>https://ichef.bbci.co.uk/news/1024/branded_new...</td>\n",
              "      <td>2021-04-28T15:16:48Z</td>\n",
              "      <td>By Jayne McCormackBBC News NI Political Report...</td>\n",
              "    </tr>\n",
              "    <tr>\n",
              "      <th>1</th>\n",
              "      <td>{'id': 'bbc-news', 'name': 'BBC News'}</td>\n",
              "      <td>https://www.facebook.com/bbcnews</td>\n",
              "      <td>French warn UK ahead of vote on Brexit trade deal</td>\n",
              "      <td>French concern over fishing rights overshadows...</td>\n",
              "      <td>https://www.bbc.co.uk/news/world-europe-56899831</td>\n",
              "      <td>https://ichef.bbci.co.uk/news/1024/branded_new...</td>\n",
              "      <td>2021-04-27T09:21:09Z</td>\n",
              "      <td>image captionEU Commission chief Ursula von de...</td>\n",
              "    </tr>\n",
              "    <tr>\n",
              "      <th>2</th>\n",
              "      <td>{'id': 'techcrunch', 'name': 'TechCrunch'}</td>\n",
              "      <td>Anthony Ha</td>\n",
              "      <td>Daily Crunch: Apple Arcade expands with classi...</td>\n",
              "      <td>Apple adds classic titles to Apple Arcade, Mic...</td>\n",
              "      <td>https://techcrunch.com/2021/04/02/daily-crunch...</td>\n",
              "      <td>https://s.yimg.com/uu/api/res/1.2/Z.DSTEMdfzA7...</td>\n",
              "      <td>2021-04-02T22:10:28Z</td>\n",
              "      <td>(Bloomberg) -- Britishvolt Ltd., the developer...</td>\n",
              "    </tr>\n",
              "    <tr>\n",
              "      <th>3</th>\n",
              "      <td>{'id': 'bbc-news', 'name': 'BBC News'}</td>\n",
              "      <td>https://www.facebook.com/bbcnews</td>\n",
              "      <td>NI riots: Church leaders plead for unified pol...</td>\n",
              "      <td>The Catholic and Protestant clergymen say the ...</td>\n",
              "      <td>https://www.bbc.co.uk/news/uk-northern-ireland...</td>\n",
              "      <td>https://ichef.bbci.co.uk/news/1024/branded_new...</td>\n",
              "      <td>2021-04-13T05:28:34Z</td>\n",
              "      <td>image copyrightChurch Leaders Group (Ireland) ...</td>\n",
              "    </tr>\n",
              "    <tr>\n",
              "      <th>4</th>\n",
              "      <td>{'id': 'bbc-news', 'name': 'BBC News'}</td>\n",
              "      <td>https://www.facebook.com/bbcnews</td>\n",
              "      <td>Arts venues urge PM to act over post-Brexit to...</td>\n",
              "      <td>The Royal Shakespeare Company, Royal Opera Hou...</td>\n",
              "      <td>https://www.bbc.co.uk/news/entertainment-arts-...</td>\n",
              "      <td>https://ichef.bbci.co.uk/news/1024/branded_new...</td>\n",
              "      <td>2021-04-28T12:01:20Z</td>\n",
              "      <td>image copyrightGetty Images\\r\\nimage captionTh...</td>\n",
              "    </tr>\n",
              "  </tbody>\n",
              "</table>\n",
              "</div>"
            ],
            "text/plain": [
              "                                       source  ...                                            content\n",
              "0      {'id': 'bbc-news', 'name': 'BBC News'}  ...  By Jayne McCormackBBC News NI Political Report...\n",
              "1      {'id': 'bbc-news', 'name': 'BBC News'}  ...  image captionEU Commission chief Ursula von de...\n",
              "2  {'id': 'techcrunch', 'name': 'TechCrunch'}  ...  (Bloomberg) -- Britishvolt Ltd., the developer...\n",
              "3      {'id': 'bbc-news', 'name': 'BBC News'}  ...  image copyrightChurch Leaders Group (Ireland) ...\n",
              "4      {'id': 'bbc-news', 'name': 'BBC News'}  ...  image copyrightGetty Images\\r\\nimage captionTh...\n",
              "\n",
              "[5 rows x 8 columns]"
            ]
          },
          "metadata": {
            "tags": []
          },
          "execution_count": 46
        }
      ]
    },
    {
      "cell_type": "markdown",
      "metadata": {
        "id": "qNyWmwCCvrlQ"
      },
      "source": [
        "**Perform all required cleaning and pre-processing on the articles**"
      ]
    },
    {
      "cell_type": "code",
      "metadata": {
        "id": "-u5KOebvv0rV",
        "colab": {
          "base_uri": "https://localhost:8080/",
          "height": 768
        },
        "outputId": "b893dbb1-0630-4ecf-a473-ecf963086022"
      },
      "source": [
        "import re\n",
        "#cleaning data\n",
        "def cleanData(text):\n",
        "  text=re.sub(r'@[A-Za-z0-9]+','',text)#Remove @mentions\n",
        "  text=re.sub(r'#','',text)#Remove #mentions\n",
        "  text=re.sub(r':','',text)#Remove :\n",
        "  text=re.sub(r',','',text)#Remove ,\n",
        "  text=re.sub(r'RT[\\s]+','',text)#Remove RT mentions\n",
        "  text=re.sub(r'https?:\\/\\/\\S+','',text)#Remove hyper links\n",
        "\n",
        "  return text\n",
        "\n",
        "df['description']=df['description'].apply(cleanData)\n",
        "df['title']=df['title'].apply(cleanData)\n",
        "df['content']=df['content'].apply(cleanData)\n",
        "df['index'] = df.index\n",
        "#show data\n",
        "df.head()"
      ],
      "execution_count": 56,
      "outputs": [
        {
          "output_type": "execute_result",
          "data": {
            "text/html": [
              "<div>\n",
              "<style scoped>\n",
              "    .dataframe tbody tr th:only-of-type {\n",
              "        vertical-align: middle;\n",
              "    }\n",
              "\n",
              "    .dataframe tbody tr th {\n",
              "        vertical-align: top;\n",
              "    }\n",
              "\n",
              "    .dataframe thead th {\n",
              "        text-align: right;\n",
              "    }\n",
              "</style>\n",
              "<table border=\"1\" class=\"dataframe\">\n",
              "  <thead>\n",
              "    <tr style=\"text-align: right;\">\n",
              "      <th></th>\n",
              "      <th>source</th>\n",
              "      <th>author</th>\n",
              "      <th>title</th>\n",
              "      <th>description</th>\n",
              "      <th>url</th>\n",
              "      <th>urlToImage</th>\n",
              "      <th>publishedAt</th>\n",
              "      <th>content</th>\n",
              "      <th>index</th>\n",
              "    </tr>\n",
              "  </thead>\n",
              "  <tbody>\n",
              "    <tr>\n",
              "      <th>0</th>\n",
              "      <td>{'id': 'bbc-news', 'name': 'BBC News'}</td>\n",
              "      <td>https://www.facebook.com/bbcnews</td>\n",
              "      <td>Arlene Foster Why did the DUP move against its...</td>\n",
              "      <td>The BBC's Jayne McCormack takes a look at what...</td>\n",
              "      <td>https://www.bbc.co.uk/news/uk-northern-ireland...</td>\n",
              "      <td>https://ichef.bbci.co.uk/news/1024/branded_new...</td>\n",
              "      <td>2021-04-28T15:16:48Z</td>\n",
              "      <td>By Jayne McCormackBBC News NI Political Report...</td>\n",
              "      <td>0</td>\n",
              "    </tr>\n",
              "    <tr>\n",
              "      <th>1</th>\n",
              "      <td>{'id': 'bbc-news', 'name': 'BBC News'}</td>\n",
              "      <td>https://www.facebook.com/bbcnews</td>\n",
              "      <td>French warn UK ahead of vote on Brexit trade deal</td>\n",
              "      <td>French concern over fishing rights overshadows...</td>\n",
              "      <td>https://www.bbc.co.uk/news/world-europe-56899831</td>\n",
              "      <td>https://ichef.bbci.co.uk/news/1024/branded_new...</td>\n",
              "      <td>2021-04-27T09:21:09Z</td>\n",
              "      <td>image captionEU Commission chief Ursula von de...</td>\n",
              "      <td>1</td>\n",
              "    </tr>\n",
              "    <tr>\n",
              "      <th>2</th>\n",
              "      <td>{'id': 'techcrunch', 'name': 'TechCrunch'}</td>\n",
              "      <td>Anthony Ha</td>\n",
              "      <td>Daily Crunch Apple Arcade expands with classic...</td>\n",
              "      <td>Apple adds classic titles to Apple Arcade Micr...</td>\n",
              "      <td>https://techcrunch.com/2021/04/02/daily-crunch...</td>\n",
              "      <td>https://s.yimg.com/uu/api/res/1.2/Z.DSTEMdfzA7...</td>\n",
              "      <td>2021-04-02T22:10:28Z</td>\n",
              "      <td>(Bloomberg) -- Britishvolt Ltd. the developer ...</td>\n",
              "      <td>2</td>\n",
              "    </tr>\n",
              "    <tr>\n",
              "      <th>3</th>\n",
              "      <td>{'id': 'bbc-news', 'name': 'BBC News'}</td>\n",
              "      <td>https://www.facebook.com/bbcnews</td>\n",
              "      <td>NI riots Church leaders plead for unified poli...</td>\n",
              "      <td>The Catholic and Protestant clergymen say the ...</td>\n",
              "      <td>https://www.bbc.co.uk/news/uk-northern-ireland...</td>\n",
              "      <td>https://ichef.bbci.co.uk/news/1024/branded_new...</td>\n",
              "      <td>2021-04-13T05:28:34Z</td>\n",
              "      <td>image copyrightChurch Leaders Group (Ireland) ...</td>\n",
              "      <td>3</td>\n",
              "    </tr>\n",
              "    <tr>\n",
              "      <th>4</th>\n",
              "      <td>{'id': 'bbc-news', 'name': 'BBC News'}</td>\n",
              "      <td>https://www.facebook.com/bbcnews</td>\n",
              "      <td>Arts venues urge PM to act over post-Brexit to...</td>\n",
              "      <td>The Royal Shakespeare Company Royal Opera Hous...</td>\n",
              "      <td>https://www.bbc.co.uk/news/entertainment-arts-...</td>\n",
              "      <td>https://ichef.bbci.co.uk/news/1024/branded_new...</td>\n",
              "      <td>2021-04-28T12:01:20Z</td>\n",
              "      <td>image copyrightGetty Images\\r\\nimage captionTh...</td>\n",
              "      <td>4</td>\n",
              "    </tr>\n",
              "  </tbody>\n",
              "</table>\n",
              "</div>"
            ],
            "text/plain": [
              "                                       source  ... index\n",
              "0      {'id': 'bbc-news', 'name': 'BBC News'}  ...     0\n",
              "1      {'id': 'bbc-news', 'name': 'BBC News'}  ...     1\n",
              "2  {'id': 'techcrunch', 'name': 'TechCrunch'}  ...     2\n",
              "3      {'id': 'bbc-news', 'name': 'BBC News'}  ...     3\n",
              "4      {'id': 'bbc-news', 'name': 'BBC News'}  ...     4\n",
              "\n",
              "[5 rows x 9 columns]"
            ]
          },
          "metadata": {
            "tags": []
          },
          "execution_count": 56
        }
      ]
    },
    {
      "cell_type": "code",
      "metadata": {
        "id": "J0MoSWUu7K3z"
      },
      "source": [
        "new_data=df[['index','title','description','publishedAt','content','url']]"
      ],
      "execution_count": 143,
      "outputs": []
    },
    {
      "cell_type": "markdown",
      "metadata": {
        "id": "ASIyRiqaDs8T"
      },
      "source": [
        "**Perform basic descriptive analysis of the collected articles (time distribution, word counts. etc).**"
      ]
    },
    {
      "cell_type": "code",
      "metadata": {
        "id": "h_KXg2WhAH-b",
        "colab": {
          "base_uri": "https://localhost:8080/",
          "height": 312
        },
        "outputId": "dda62f98-a10a-4c43-dc1c-720239581234"
      },
      "source": [
        "from collections import Counter\n",
        "import numpy as np\n",
        "m=new_data['publishedAt']\n",
        "n=np.array(m) \n",
        "A=[]\n",
        "for i in range(len(n)):\n",
        "  string=n[i]\n",
        "  s=string[5:7]\n",
        "  A.append(s)\n",
        "  \n",
        "  \n",
        "\n",
        "a = dict(Counter(A))\n",
        "print(a)\n",
        "a_dictionary = a\n",
        "keys = a_dictionary.keys()\n",
        "values = a_dictionary.values()\n",
        "\n",
        "plt.bar(keys, values)\n",
        "plt.title('collected articles count in months in 2021')\n",
        "plt.xlabel('month')\n",
        "plt.ylabel('article count in each month')\n",
        "plt.show()"
      ],
      "execution_count": 144,
      "outputs": [
        {
          "output_type": "stream",
          "text": [
            "{'04': 18, '05': 2}\n"
          ],
          "name": "stdout"
        },
        {
          "output_type": "display_data",
          "data": {
            "image/png": "[encoded data removed]",
            "text/plain": [
              "<Figure size 432x288 with 1 Axes>"
            ]
          },
          "metadata": {
            "tags": [],
            "needs_background": "light"
          }
        }
      ]
    },
    {
      "cell_type": "code",
      "metadata": {
        "id": "BMNkx9plTfGV",
        "colab": {
          "base_uri": "https://localhost:8080/"
        },
        "outputId": "17a1b222-e2a0-4e24-eaa0-11f3627932c8"
      },
      "source": [
        "new_data['description_count']=new_data['description'].apply(lambda n:len(n.split(' ')))\n",
        "new_data['title_count']=new_data['title'].apply(lambda n:len(n.split(' ')))"
      ],
      "execution_count": 145,
      "outputs": [
        {
          "output_type": "stream",
          "text": [
            "/usr/local/lib/python3.7/dist-packages/ipykernel_launcher.py:1: SettingWithCopyWarning: \n",
            "A value is trying to be set on a copy of a slice from a DataFrame.\n",
            "Try using .loc[row_indexer,col_indexer] = value instead\n",
            "\n",
            "See the caveats in the documentation: https://pandas.pydata.org/pandas-docs/stable/user_guide/indexing.html#returning-a-view-versus-a-copy\n",
            "  \"\"\"Entry point for launching an IPython kernel.\n",
            "/usr/local/lib/python3.7/dist-packages/ipykernel_launcher.py:2: SettingWithCopyWarning: \n",
            "A value is trying to be set on a copy of a slice from a DataFrame.\n",
            "Try using .loc[row_indexer,col_indexer] = value instead\n",
            "\n",
            "See the caveats in the documentation: https://pandas.pydata.org/pandas-docs/stable/user_guide/indexing.html#returning-a-view-versus-a-copy\n",
            "  \n"
          ],
          "name": "stderr"
        }
      ]
    },
    {
      "cell_type": "code",
      "metadata": {
        "id": "WqIjwtxSp6dJ",
        "colab": {
          "base_uri": "https://localhost:8080/",
          "height": 1000
        },
        "outputId": "c8fa82f9-9e7f-4f4d-9d66-a9fcfe914dac"
      },
      "source": [
        "new_data"
      ],
      "execution_count": 146,
      "outputs": [
        {
          "output_type": "execute_result",
          "data": {
            "text/html": [
              "<div>\n",
              "<style scoped>\n",
              "    .dataframe tbody tr th:only-of-type {\n",
              "        vertical-align: middle;\n",
              "    }\n",
              "\n",
              "    .dataframe tbody tr th {\n",
              "        vertical-align: top;\n",
              "    }\n",
              "\n",
              "    .dataframe thead th {\n",
              "        text-align: right;\n",
              "    }\n",
              "</style>\n",
              "<table border=\"1\" class=\"dataframe\">\n",
              "  <thead>\n",
              "    <tr style=\"text-align: right;\">\n",
              "      <th></th>\n",
              "      <th>index</th>\n",
              "      <th>title</th>\n",
              "      <th>description</th>\n",
              "      <th>publishedAt</th>\n",
              "      <th>content</th>\n",
              "      <th>url</th>\n",
              "      <th>description_count</th>\n",
              "      <th>title_count</th>\n",
              "    </tr>\n",
              "  </thead>\n",
              "  <tbody>\n",
              "    <tr>\n",
              "      <th>0</th>\n",
              "      <td>0</td>\n",
              "      <td>Arlene Foster Why did the DUP move against its...</td>\n",
              "      <td>The BBC's Jayne McCormack takes a look at what...</td>\n",
              "      <td>2021-04-28T15:16:48Z</td>\n",
              "      <td>By Jayne McCormackBBC News NI Political Report...</td>\n",
              "      <td>https://www.bbc.co.uk/news/uk-northern-ireland...</td>\n",
              "      <td>17</td>\n",
              "      <td>10</td>\n",
              "    </tr>\n",
              "    <tr>\n",
              "      <th>1</th>\n",
              "      <td>1</td>\n",
              "      <td>French warn UK ahead of vote on Brexit trade deal</td>\n",
              "      <td>French concern over fishing rights overshadows...</td>\n",
              "      <td>2021-04-27T09:21:09Z</td>\n",
              "      <td>image captionEU Commission chief Ursula von de...</td>\n",
              "      <td>https://www.bbc.co.uk/news/world-europe-56899831</td>\n",
              "      <td>14</td>\n",
              "      <td>10</td>\n",
              "    </tr>\n",
              "    <tr>\n",
              "      <th>2</th>\n",
              "      <td>2</td>\n",
              "      <td>Daily Crunch Apple Arcade expands with classic...</td>\n",
              "      <td>Apple adds classic titles to Apple Arcade Micr...</td>\n",
              "      <td>2021-04-02T22:10:28Z</td>\n",
              "      <td>(Bloomberg) -- Britishvolt Ltd. the developer ...</td>\n",
              "      <td>https://techcrunch.com/2021/04/02/daily-crunch...</td>\n",
              "      <td>24</td>\n",
              "      <td>8</td>\n",
              "    </tr>\n",
              "    <tr>\n",
              "      <th>3</th>\n",
              "      <td>3</td>\n",
              "      <td>NI riots Church leaders plead for unified poli...</td>\n",
              "      <td>The Catholic and Protestant clergymen say the ...</td>\n",
              "      <td>2021-04-13T05:28:34Z</td>\n",
              "      <td>image copyrightChurch Leaders Group (Ireland) ...</td>\n",
              "      <td>https://www.bbc.co.uk/news/uk-northern-ireland...</td>\n",
              "      <td>14</td>\n",
              "      <td>9</td>\n",
              "    </tr>\n",
              "    <tr>\n",
              "      <th>4</th>\n",
              "      <td>4</td>\n",
              "      <td>Arts venues urge PM to act over post-Brexit to...</td>\n",
              "      <td>The Royal Shakespeare Company Royal Opera Hous...</td>\n",
              "      <td>2021-04-28T12:01:20Z</td>\n",
              "      <td>image copyrightGetty Images\\r\\nimage captionTh...</td>\n",
              "      <td>https://www.bbc.co.uk/news/entertainment-arts-...</td>\n",
              "      <td>16</td>\n",
              "      <td>10</td>\n",
              "    </tr>\n",
              "    <tr>\n",
              "      <th>5</th>\n",
              "      <td>5</td>\n",
              "      <td>8 investors founders and execs predict cyberse...</td>\n",
              "      <td>Things have been looking up for Belfast since ...</td>\n",
              "      <td>2021-04-24T06:38:29Z</td>\n",
              "      <td>Things have been looking up for Belfast since ...</td>\n",
              "      <td>https://techcrunch.com/2021/04/23/8-investors-...</td>\n",
              "      <td>30</td>\n",
              "      <td>13</td>\n",
              "    </tr>\n",
              "    <tr>\n",
              "      <th>6</th>\n",
              "      <td>6</td>\n",
              "      <td>Welsh election Party leaders on beds of nails ...</td>\n",
              "      <td>As the Welsh election nears three party leader...</td>\n",
              "      <td>2021-04-25T06:23:33Z</td>\n",
              "      <td>By James WilliamsBBC Wales political correspon...</td>\n",
              "      <td>https://www.bbc.co.uk/news/uk-wales-politics-5...</td>\n",
              "      <td>16</td>\n",
              "      <td>12</td>\n",
              "    </tr>\n",
              "    <tr>\n",
              "      <th>7</th>\n",
              "      <td>7</td>\n",
              "      <td>UK and Norway fail to reach fishing deal</td>\n",
              "      <td>Hundreds of crew members will be out of work a...</td>\n",
              "      <td>2021-04-29T20:10:24Z</td>\n",
              "      <td>The UK and Norway have failed to reach a fishi...</td>\n",
              "      <td>https://www.bbc.co.uk/news/uk-politics-56932551</td>\n",
              "      <td>19</td>\n",
              "      <td>8</td>\n",
              "    </tr>\n",
              "    <tr>\n",
              "      <th>8</th>\n",
              "      <td>8</td>\n",
              "      <td>Billionaire Sir James Dyson moves residency ba...</td>\n",
              "      <td>Sir James faced criticism in 2019 over relocat...</td>\n",
              "      <td>2021-04-22T04:06:50Z</td>\n",
              "      <td>image copyrightJason Kempin\\r\\nimage captionHe...</td>\n",
              "      <td>https://www.bbc.co.uk/news/business-56840781</td>\n",
              "      <td>14</td>\n",
              "      <td>10</td>\n",
              "    </tr>\n",
              "    <tr>\n",
              "      <th>9</th>\n",
              "      <td>9</td>\n",
              "      <td>Big Yorkshire Conversation survey asks 'What i...</td>\n",
              "      <td>Is it the no nonsense straight-talking? The to...</td>\n",
              "      <td>2021-05-02T06:49:58Z</td>\n",
              "      <td>image copyrightGetty Images\\r\\nimage captionSt...</td>\n",
              "      <td>https://www.bbc.co.uk/news/uk-england-humber-5...</td>\n",
              "      <td>15</td>\n",
              "      <td>8</td>\n",
              "    </tr>\n",
              "    <tr>\n",
              "      <th>10</th>\n",
              "      <td>10</td>\n",
              "      <td>Boris Johnson urged to 'step up' to tackle rec...</td>\n",
              "      <td>Several high-profile figures including former ...</td>\n",
              "      <td>2021-04-26T05:17:05Z</td>\n",
              "      <td>image captionBoris Johnson visited a vaccinati...</td>\n",
              "      <td>https://www.bbc.co.uk/news/uk-northern-ireland...</td>\n",
              "      <td>13</td>\n",
              "      <td>11</td>\n",
              "    </tr>\n",
              "    <tr>\n",
              "      <th>11</th>\n",
              "      <td>11</td>\n",
              "      <td>Brexit Lord Frost to meet EU to discuss NI Pro...</td>\n",
              "      <td>Lord Frost and Maros Sefcovic will discuss the...</td>\n",
              "      <td>2021-04-14T08:10:59Z</td>\n",
              "      <td>By John Campbell &amp;amp; Adam FlemingBBC News\\r\\...</td>\n",
              "      <td>https://www.bbc.co.uk/news/uk-northern-ireland...</td>\n",
              "      <td>19</td>\n",
              "      <td>10</td>\n",
              "    </tr>\n",
              "    <tr>\n",
              "      <th>12</th>\n",
              "      <td>12</td>\n",
              "      <td>Edwin Poots Majority of DUP MPs and MLAs back ...</td>\n",
              "      <td>Edwin Poots' campaign manager says he has the ...</td>\n",
              "      <td>2021-05-01T11:16:00Z</td>\n",
              "      <td>image captionEdwin Poots is one of three DUP p...</td>\n",
              "      <td>https://www.bbc.co.uk/news/uk-northern-ireland...</td>\n",
              "      <td>17</td>\n",
              "      <td>14</td>\n",
              "    </tr>\n",
              "    <tr>\n",
              "      <th>13</th>\n",
              "      <td>13</td>\n",
              "      <td>Analysis What do Northern Ireland riots mean f...</td>\n",
              "      <td>Anger over post-Brexit trading rules is a fact...</td>\n",
              "      <td>2021-04-09T08:55:15Z</td>\n",
              "      <td>By Adam FlemingBBC News Chief Political Corres...</td>\n",
              "      <td>https://www.bbc.co.uk/news/uk-politics-56678489</td>\n",
              "      <td>17</td>\n",
              "      <td>10</td>\n",
              "    </tr>\n",
              "    <tr>\n",
              "      <th>14</th>\n",
              "      <td>14</td>\n",
              "      <td>DUP criticised over north-south meeting absence</td>\n",
              "      <td>Opposing parties accuse the DUP of obstructing...</td>\n",
              "      <td>2021-04-16T13:21:00Z</td>\n",
              "      <td>By Stephen WalkerBBC News NI Political Corresp...</td>\n",
              "      <td>https://www.bbc.co.uk/news/uk-northern-ireland...</td>\n",
              "      <td>12</td>\n",
              "      <td>6</td>\n",
              "    </tr>\n",
              "    <tr>\n",
              "      <th>15</th>\n",
              "      <td>15</td>\n",
              "      <td>Simon Byrne to update policing board on NI vio...</td>\n",
              "      <td>NI's chief constable Simon Byrne to give asses...</td>\n",
              "      <td>2021-04-07T05:26:55Z</td>\n",
              "      <td>image captionThere was a police presence in La...</td>\n",
              "      <td>https://www.bbc.co.uk/news/uk-northern-ireland...</td>\n",
              "      <td>17</td>\n",
              "      <td>9</td>\n",
              "    </tr>\n",
              "    <tr>\n",
              "      <th>16</th>\n",
              "      <td>16</td>\n",
              "      <td>John le Carré Spy novelist 'died an Irishman'</td>\n",
              "      <td>The Tinker Tailor Soldier Spy author became an...</td>\n",
              "      <td>2021-04-01T13:03:32Z</td>\n",
              "      <td>By Alan HaslamBBC News NI\\r\\nimage captionJohn...</td>\n",
              "      <td>https://www.bbc.co.uk/news/world-europe-56596117</td>\n",
              "      <td>16</td>\n",
              "      <td>8</td>\n",
              "    </tr>\n",
              "    <tr>\n",
              "      <th>17</th>\n",
              "      <td>17</td>\n",
              "      <td>Arlene Foster From trailblazing leader to part...</td>\n",
              "      <td>BBC News NI looks back at the career of first ...</td>\n",
              "      <td>2021-04-28T15:12:41Z</td>\n",
              "      <td>image captionArlene Foster on the steps of Sto...</td>\n",
              "      <td>https://www.bbc.co.uk/news/uk-northern-ireland...</td>\n",
              "      <td>16</td>\n",
              "      <td>9</td>\n",
              "    </tr>\n",
              "    <tr>\n",
              "      <th>18</th>\n",
              "      <td>18</td>\n",
              "      <td>Brexit Anger over government's failure to get ...</td>\n",
              "      <td>One Hull-based trawler which catches 10% of fi...</td>\n",
              "      <td>2021-04-30T10:04:28Z</td>\n",
              "      <td>Fishing crews have been \"disastrously let down...</td>\n",
              "      <td>https://www.bbc.co.uk/news/uk-politics-56940914</td>\n",
              "      <td>20</td>\n",
              "      <td>10</td>\n",
              "    </tr>\n",
              "    <tr>\n",
              "      <th>19</th>\n",
              "      <td>19</td>\n",
              "      <td>Scottish election 2021 Scottish party leaders ...</td>\n",
              "      <td>Leaders of the country's five larger parties w...</td>\n",
              "      <td>2021-04-13T21:35:52Z</td>\n",
              "      <td>image captionThe leaders of Scotland's five ma...</td>\n",
              "      <td>https://www.bbc.co.uk/news/uk-scotland-scotlan...</td>\n",
              "      <td>17</td>\n",
              "      <td>10</td>\n",
              "    </tr>\n",
              "  </tbody>\n",
              "</table>\n",
              "</div>"
            ],
            "text/plain": [
              "    index  ... title_count\n",
              "0       0  ...          10\n",
              "1       1  ...          10\n",
              "2       2  ...           8\n",
              "3       3  ...           9\n",
              "4       4  ...          10\n",
              "5       5  ...          13\n",
              "6       6  ...          12\n",
              "7       7  ...           8\n",
              "8       8  ...          10\n",
              "9       9  ...           8\n",
              "10     10  ...          11\n",
              "11     11  ...          10\n",
              "12     12  ...          14\n",
              "13     13  ...          10\n",
              "14     14  ...           6\n",
              "15     15  ...           9\n",
              "16     16  ...           8\n",
              "17     17  ...           9\n",
              "18     18  ...          10\n",
              "19     19  ...          10\n",
              "\n",
              "[20 rows x 8 columns]"
            ]
          },
          "metadata": {
            "tags": []
          },
          "execution_count": 146
        }
      ]
    },
    {
      "cell_type": "code",
      "metadata": {
        "id": "apefasVIq3F0",
        "colab": {
          "base_uri": "https://localhost:8080/",
          "height": 295
        },
        "outputId": "9b5fa165-a2cd-4dd6-a0d6-dfe37d356885"
      },
      "source": [
        "plt.bar(new_data['index'],new_data['description_count'])\n",
        "plt.title('collected articles')\n",
        "plt.xlabel('Index of the Artcle')\n",
        "plt.ylabel('description word counts')\n",
        "plt.show()"
      ],
      "execution_count": 147,
      "outputs": [
        {
          "output_type": "display_data",
          "data": {
            "image/png": "[encoded data removed]",
            "text/plain": [
              "<Figure size 432x288 with 1 Axes>"
            ]
          },
          "metadata": {
            "tags": [],
            "needs_background": "light"
          }
        }
      ]
    },
    {
      "cell_type": "code",
      "metadata": {
        "colab": {
          "base_uri": "https://localhost:8080/",
          "height": 295
        },
        "id": "nrWTFMcFEIsk",
        "outputId": "c80d4e52-8c21-4cb2-9060-9bbdff167d08"
      },
      "source": [
        "plt.bar(new_data['index'],new_data['title_count'])\n",
        "plt.title('collected articles')\n",
        "plt.xlabel('Index of the Artcle')\n",
        "plt.ylabel('Title word counts')\n",
        "plt.show()"
      ],
      "execution_count": 148,
      "outputs": [
        {
          "output_type": "display_data",
          "data": {
            "image/png": "[encoded data removed]",
            "text/plain": [
              "<Figure size 432x288 with 1 Axes>"
            ]
          },
          "metadata": {
            "tags": [],
            "needs_background": "light"
          }
        }
      ]
    },
    {
      "cell_type": "markdown",
      "metadata": {
        "id": "FKCHj5BB3kkl"
      },
      "source": [
        "**Use topic modelling techniques to discover key topics. Display your findings using proper graphs, such as word cloud.**"
      ]
    },
    {
      "cell_type": "code",
      "metadata": {
        "colab": {
          "base_uri": "https://localhost:8080/",
          "height": 232
        },
        "id": "LciA1GFmxrty",
        "outputId": "3685ef9b-9ffb-4172-93a0-f28f583db032"
      },
      "source": [
        "from wordcloud import WordCloud\n",
        "#Plot the world cloud\n",
        "allwords=''.join([twts for twts in new_data['title']])\n",
        "WordCloud=WordCloud(width=500,height=300,random_state=21,max_font_size=119).generate(allwords)\n",
        "plt.imshow(WordCloud,interpolation='bilinear')\n",
        "plt.axis('off')\n",
        "plt.show()"
      ],
      "execution_count": 149,
      "outputs": [
        {
          "output_type": "display_data",
          "data": {
            "image/png": "[encoded data removed]",
            "text/plain": [
              "<Figure size 432x288 with 1 Axes>"
            ]
          },
          "metadata": {
            "tags": [],
            "needs_background": "light"
          }
        }
      ]
    },
    {
      "cell_type": "markdown",
      "metadata": {
        "id": "dCAwezmx4GnK"
      },
      "source": [
        "**Provide a summary on one of the news articles. Comment on the summarisation quality**"
      ]
    },
    {
      "cell_type": "code",
      "metadata": {
        "colab": {
          "base_uri": "https://localhost:8080/"
        },
        "id": "B-b82cLy7vcs",
        "outputId": "61e1bf42-e027-415a-b717-8e5eecadcada"
      },
      "source": [
        "!pip install transformers"
      ],
      "execution_count": 150,
      "outputs": [
        {
          "output_type": "stream",
          "text": [
            "Requirement already satisfied: transformers in /usr/local/lib/python3.7/dist-packages (4.5.1)\n",
            "Requirement already satisfied: tokenizers<0.11,>=0.10.1 in /usr/local/lib/python3.7/dist-packages (from transformers) (0.10.2)\n",
            "Requirement already satisfied: requests in /usr/local/lib/python3.7/dist-packages (from transformers) (2.23.0)\n",
            "Requirement already satisfied: regex!=2019.12.17 in /usr/local/lib/python3.7/dist-packages (from transformers) (2019.12.20)\n",
            "Requirement already satisfied: filelock in /usr/local/lib/python3.7/dist-packages (from transformers) (3.0.12)\n",
            "Requirement already satisfied: packaging in /usr/local/lib/python3.7/dist-packages (from transformers) (20.9)\n",
            "Requirement already satisfied: numpy>=1.17 in /usr/local/lib/python3.7/dist-packages (from transformers) (1.19.5)\n",
            "Requirement already satisfied: tqdm>=4.27 in /usr/local/lib/python3.7/dist-packages (from transformers) (4.41.1)\n",
            "Requirement already satisfied: sacremoses in /usr/local/lib/python3.7/dist-packages (from transformers) (0.0.45)\n",
            "Requirement already satisfied: importlib-metadata; python_version < \"3.8\" in /usr/local/lib/python3.7/dist-packages (from transformers) (3.10.1)\n",
            "Requirement already satisfied: certifi>=2017.4.17 in /usr/local/lib/python3.7/dist-packages (from requests->transformers) (2020.12.5)\n",
            "Requirement already satisfied: idna<3,>=2.5 in /usr/local/lib/python3.7/dist-packages (from requests->transformers) (2.10)\n",
            "Requirement already satisfied: chardet<4,>=3.0.2 in /usr/local/lib/python3.7/dist-packages (from requests->transformers) (3.0.4)\n",
            "Requirement already satisfied: urllib3!=1.25.0,!=1.25.1,<1.26,>=1.21.1 in /usr/local/lib/python3.7/dist-packages (from requests->transformers) (1.24.3)\n",
            "Requirement already satisfied: pyparsing>=2.0.2 in /usr/local/lib/python3.7/dist-packages (from packaging->transformers) (2.4.7)\n",
            "Requirement already satisfied: click in /usr/local/lib/python3.7/dist-packages (from sacremoses->transformers) (7.1.2)\n",
            "Requirement already satisfied: six in /usr/local/lib/python3.7/dist-packages (from sacremoses->transformers) (1.15.0)\n",
            "Requirement already satisfied: joblib in /usr/local/lib/python3.7/dist-packages (from sacremoses->transformers) (1.0.1)\n",
            "Requirement already satisfied: typing-extensions>=3.6.4; python_version < \"3.8\" in /usr/local/lib/python3.7/dist-packages (from importlib-metadata; python_version < \"3.8\"->transformers) (3.7.4.3)\n",
            "Requirement already satisfied: zipp>=0.5 in /usr/local/lib/python3.7/dist-packages (from importlib-metadata; python_version < \"3.8\"->transformers) (3.4.1)\n"
          ],
          "name": "stdout"
        }
      ]
    },
    {
      "cell_type": "code",
      "metadata": {
        "id": "_hgVvR144JBc"
      },
      "source": [
        "from transformers import pipeline\n",
        "summarization=pipeline(\"summarization\")"
      ],
      "execution_count": 151,
      "outputs": []
    },
    {
      "cell_type": "code",
      "metadata": {
        "colab": {
          "base_uri": "https://localhost:8080/"
        },
        "id": "bPWinKTH8grM",
        "outputId": "894708f7-02be-47d7-a8f5-55f82f28598e"
      },
      "source": [
        "orginal_text=new_data['content']\n",
        "y=str(orginal_text[0])\n",
        "print(y)\n",
        "url=new_data['url']\n",
        "url=str(url[0])\n",
        "print(url)"
      ],
      "execution_count": 155,
      "outputs": [
        {
          "output_type": "stream",
          "text": [
            "By Jayne McCormackBBC News NI Political Reporter\r\n",
            "Rumours about bids to remove Arlene Foster from the helm of the Democratic Unionist Party (DUP) had been swirling for months.\r\n",
            "On many occasions they… [+4002 chars]\n",
            "https://www.bbc.co.uk/news/uk-northern-ireland-56907858\n"
          ],
          "name": "stdout"
        }
      ]
    },
    {
      "cell_type": "code",
      "metadata": {
        "id": "eqDuIQF-2Oh0"
      },
      "source": [
        "\n",
        "import urllib.request\n",
        "from bs4 import BeautifulSoup\n",
        "import re\n",
        "import pandas as pd\n",
        "import requests"
      ],
      "execution_count": 209,
      "outputs": []
    },
    {
      "cell_type": "code",
      "metadata": {
        "id": "IQsELfEp2KvE",
        "outputId": "748292f5-030d-430b-971c-5036db0213c1",
        "colab": {
          "base_uri": "https://localhost:8080/"
        }
      },
      "source": [
        "#load html code from a url\n",
        "page = requests.get(url)\n",
        "type(page)\n",
        "soup = BeautifulSoup(page.content, 'html.parser')\n",
        "\n",
        "all_links=soup.findAll('div',{'class':'ssrcss-3z08n3-RichTextContainer e5tfeyi2'})\n",
        "str_cells=str(all_links)\n",
        "clear_text= BeautifulSoup(str_cells,'html.parser').get_text()\n",
        "print(str(clear_text))"
      ],
      "execution_count": 247,
      "outputs": [
        {
          "output_type": "stream",
          "text": [
            "[Rumours about bids to remove Arlene Foster from the helm of the Democratic Unionist Party (DUP) had been swirling for months., On many occasions they'd been easily shrugged off by the first minister. , But she could shrug no longer, given many of those previously loyal to her abandoned the Foster ship., However questions remain about the move's timing and what has caused it., Firstly, pressure to remove her has come from the outworkings of Brexit and the Irish Sea border., Arlene Foster led the party's campaign in favour of Brexit, but struggled once its ramifications for the union came into view., Feeling betrayed by Boris Johnson when he signed up to the Brexit deal that would mean different trading arrangements for Northern Ireland from the rest of the UK, Mrs Foster faced accusations of poor judgement for trusting the prime minister., She hardened her stance earlier this year after concerns about the protocol's effects on GB-NI trade became clear, and demanded it be scrapped., The party even published a five-point plan it aimed to use in a bid to replace the protocol and said it would no longer engage with north-south bodies on Brexit., But that was not enough to quash internal unhappiness at how the issue was being managed, with some elected representatives concerned it would affect the party's chances in the next assembly election in May 2022., It may also be that some assembly members who were worried about the prospect of retaining their seats have drawn the conclusion that their own political positions trump loyalty to the leadership at this crucial time, just as election strategies are being devised., Recent scenes of rioting and violence in loyalist communities against the protocol and criticism of unionist politicians have added to the narrative that the current DUP leadership is not reflecting or understanding the views of those it is supposed to represent., It may be a key issue in all of this, but it's not the only factor., Party sources have given strong hints about growing concern that Mrs Foster held a softer stance on some social issues than her predecessors and was willing to move the party in that direction., The DUP's roots are deeply conservative, staunchly opposing abortion and same-sex marriage. , Westminster legislated to change NI's laws on those issues in 2019 when devolution was suspended - the DUP opposed it at the time, but it did not go down well with many grassroots party members., Then last week, a debate on a motion in the Stormont assembly calling for a ban on gay conversion therapy further raised eyebrows when Mrs Foster was one of five DUP assembly members who abstained on it., The majority of the party had voted against the motion, arguing that any legislation to outlaw the practice needed to ensure safeguards for churches., Although it was a free vote, it openly exposed the gulf between Mrs Foster and most of her assembly team at a time when she was already under pressure. For some party members, it was the final straw., There are also those within the DUP who point to Mrs Foster's difficulties in retaining authority, claiming that she was too weak to discipline some of her MPs and assembly members for breaching Covid-19 guidelines or making comments at odds with party policy., To further understand the timing of the leadership challenge, it's important to know how DUP internal rules work., Rule 12 states that a leadership election should take place before 30 April every year - normally it is an informal procedure to simply reappoint the office holder as opposed to an actual contest., However it's understood that this has not happened yet this year, and it's believed those behind the motion challenging Mrs Foster had called on the DUP chairman to invoke the rule and call an election for leader within seven days., A fight for the heart and soul of the DUP is on which may chart the party's course for some time to come.]\n"
          ],
          "name": "stdout"
        }
      ]
    },
    {
      "cell_type": "code",
      "metadata": {
        "colab": {
          "base_uri": "https://localhost:8080/"
        },
        "id": "CW2UV-Lo9eLd",
        "outputId": "ef26b289-24c2-4653-a253-ad312c63e8ef"
      },
      "source": [
        "summary_text=summarization(clear_text , max_length=100)[0]['summary_text']\n",
        "print(\"Summary:\", summary_text)"
      ],
      "execution_count": 248,
      "outputs": [
        {
          "output_type": "stream",
          "text": [
            "Summary:  Arlene Foster led the party's campaign in favour of the EU, but struggled once its ramifications for the union came into view . The first minister faced accusations of poor judgement for trusting the PM . She hardened her stance earlier this year after concerns about the protocol's effects on GB-NI trade became clear and demanded it be scrapped .\n"
          ],
          "name": "stdout"
        }
      ]
    },
    {
      "cell_type": "code",
      "metadata": {
        "id": "WUp0uMhA0q07",
        "colab": {
          "base_uri": "https://localhost:8080/"
        },
        "outputId": "f4a87949-81f7-4f5e-a0d9-3361b2175d63"
      },
      "source": [
        "\n",
        "\n",
        "text_word_count=len(clear_text.split())\n",
        "\n",
        "summary_word_count=len(summary_text.split())\n",
        "print('summary_word_count',summary_word_count)\n",
        "print('text_word_count',text_word_count)\n"
      ],
      "execution_count": 249,
      "outputs": [
        {
          "output_type": "stream",
          "text": [
            "summary_word_count 60\n",
            "text_word_count 668\n"
          ],
          "name": "stdout"
        }
      ]
    }
  ]
}