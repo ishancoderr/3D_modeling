{
  "nbformat": 4,
  "nbformat_minor": 0,
  "metadata": {
    "colab": {
      "name": "Untitled38.ipynb",
      "provenance": [],
      "authorship_tag": "ABX9TyOML0mOOARGnT4WzRzic9Hv",
      "include_colab_link": true
    },
    "kernelspec": {
      "name": "python3",
      "display_name": "Python 3"
    },
    "language_info": {
      "name": "python"
    }
  },
  "cells": [
    {
      "cell_type": "markdown",
      "metadata": {
        "id": "view-in-github",
        "colab_type": "text"
      },
      "source": [
        "<a href=\"https://colab.research.google.com/github/ishancoderr/3D_modeling/blob/main/tweety01.ipynb\" target=\"_parent\"><img src=\"https://colab.research.google.com/assets/colab-badge.svg\" alt=\"Open In Colab\"/></a>"
      ]
    },
    {
      "cell_type": "markdown",
      "metadata": {
        "id": "q1rGKxON0DP8"
      },
      "source": [
        "1. \tChoose an event/campaign that happened in the UK or worldwide recently (eg., Brexit). Apply sentiment analysis to show users’ opinions about the topic on Twitter. Represent your findings using statistical descriptive methods. "
      ]
    },
    {
      "cell_type": "code",
      "metadata": {
        "id": "tvG3m5vt0Guz"
      },
      "source": [
        "import tweepy\n",
        "from textblob import TextBlob\n",
        "consumer_key='MiPlOEtMiZDUU0A286jcN3jrr'\n",
        "consumer_secret_key='O9nv0WXPkcHgu6ry2CweZOgp08lA19na5TXxWQNl4Xw1FiH5NI'\n",
        "access_token='1498074007-l0DlAvQPXooOd5oNJCCuV9LIHa3yzjUgT1VBl7R'\n",
        "access_token_secret='oFqbnqacvyLxuDUrNF4Jzao0W7TaHBwFc9odVxQ9GvjA4'"
      ],
      "execution_count": 131,
      "outputs": []
    },
    {
      "cell_type": "code",
      "metadata": {
        "id": "qDmaqzQJ4cte",
        "colab": {
          "base_uri": "https://localhost:8080/"
        },
        "outputId": "891e49f5-c6b0-4700-a758-beb8247c78f1"
      },
      "source": [
        "auth=tweepy.OAuthHandler(consumer_key,consumer_secret_key)\n",
        "auth.set_access_token(access_token,access_token_secret)\n",
        "api=tweepy.API(auth)\n",
        "posts=api.user_timeline(screen_name='Brexit',count=100,lang=\"en\",tweet_mode=\"extended\")\n",
        "print('Show the 5 recent tweets:\\n')\n",
        "for tweet in posts[0:5]:\n",
        "  print(tweet.full_text+'\\n')\n"
      ],
      "execution_count": 132,
      "outputs": [
        {
          "output_type": "stream",
          "text": [
            "Show the 5 recent tweets:\n",
            "\n",
            "RT @Joe_Mayes: This week I was in Hartlepool and here's what I learnt about British politics in a Brexit heartland 1/ https://t.co/Q0qPCMjd…\n",
            "\n",
            "Northern Irish voters continue to oppose uniting the two sides of the island, a poll shows https://t.co/X1jMErLvr4\n",
            "\n",
            "Boris Johnson believes the British public is unfussed by his “cash for curtains” scandal, but class is dangerous territory in the U.K., says Martin Ivens https://t.co/eLC3PwGFES\n",
            "\n",
            "Boris Johnson is trying to win another district in Labour's heartland just as he faces a scandal over allegations about his conduct https://t.co/CJgY29oB6T\n",
            "\n",
            "Here's why Scotland’s road to independence is rocky https://t.co/KuBeWmsmQL\n",
            "\n"
          ],
          "name": "stdout"
        }
      ]
    },
    {
      "cell_type": "code",
      "metadata": {
        "id": "9EysZt-b8l7H",
        "colab": {
          "base_uri": "https://localhost:8080/",
          "height": 204
        },
        "outputId": "0467c998-2cad-48b3-80a8-b6f4bcf2dfd2"
      },
      "source": [
        "import pandas as pd\n",
        "\n",
        "df=pd.DataFrame([tweet.full_text for tweet in posts],columns=['Tweets'])\n",
        "df.head()"
      ],
      "execution_count": 133,
      "outputs": [
        {
          "output_type": "execute_result",
          "data": {
            "text/html": [
              "<div>\n",
              "<style scoped>\n",
              "    .dataframe tbody tr th:only-of-type {\n",
              "        vertical-align: middle;\n",
              "    }\n",
              "\n",
              "    .dataframe tbody tr th {\n",
              "        vertical-align: top;\n",
              "    }\n",
              "\n",
              "    .dataframe thead th {\n",
              "        text-align: right;\n",
              "    }\n",
              "</style>\n",
              "<table border=\"1\" class=\"dataframe\">\n",
              "  <thead>\n",
              "    <tr style=\"text-align: right;\">\n",
              "      <th></th>\n",
              "      <th>Tweets</th>\n",
              "    </tr>\n",
              "  </thead>\n",
              "  <tbody>\n",
              "    <tr>\n",
              "      <th>0</th>\n",
              "      <td>RT @Joe_Mayes: This week I was in Hartlepool a...</td>\n",
              "    </tr>\n",
              "    <tr>\n",
              "      <th>1</th>\n",
              "      <td>Northern Irish voters continue to oppose uniti...</td>\n",
              "    </tr>\n",
              "    <tr>\n",
              "      <th>2</th>\n",
              "      <td>Boris Johnson believes the British public is u...</td>\n",
              "    </tr>\n",
              "    <tr>\n",
              "      <th>3</th>\n",
              "      <td>Boris Johnson is trying to win another distric...</td>\n",
              "    </tr>\n",
              "    <tr>\n",
              "      <th>4</th>\n",
              "      <td>Here's why Scotland’s road to independence is ...</td>\n",
              "    </tr>\n",
              "  </tbody>\n",
              "</table>\n",
              "</div>"
            ],
            "text/plain": [
              "                                              Tweets\n",
              "0  RT @Joe_Mayes: This week I was in Hartlepool a...\n",
              "1  Northern Irish voters continue to oppose uniti...\n",
              "2  Boris Johnson believes the British public is u...\n",
              "3  Boris Johnson is trying to win another distric...\n",
              "4  Here's why Scotland’s road to independence is ..."
            ]
          },
          "metadata": {
            "tags": []
          },
          "execution_count": 133
        }
      ]
    },
    {
      "cell_type": "code",
      "metadata": {
        "id": "fzZjW6509Pln",
        "colab": {
          "base_uri": "https://localhost:8080/",
          "height": 419
        },
        "outputId": "d35d0ade-e613-480c-d129-4d628886c57a"
      },
      "source": [
        "import re\n",
        "#cleaning data\n",
        "def cleanData(text):\n",
        "  text=re.sub(r'@[A-Za-z0-9]+','',text)#Remove @mentions\n",
        "  text=re.sub(r'#','',text)#Remove #mentions\n",
        "  text=re.sub(r'RT[\\s]+','',text)#Remove RT mentions\n",
        "  text=re.sub(r'https?:\\/\\/\\S+','',text)#Remove hyper links\n",
        "\n",
        "  return text\n",
        "\n",
        "df['Tweets']=df['Tweets'].apply(cleanData)\n",
        "\n",
        "#show data\n",
        "df"
      ],
      "execution_count": 134,
      "outputs": [
        {
          "output_type": "execute_result",
          "data": {
            "text/html": [
              "<div>\n",
              "<style scoped>\n",
              "    .dataframe tbody tr th:only-of-type {\n",
              "        vertical-align: middle;\n",
              "    }\n",
              "\n",
              "    .dataframe tbody tr th {\n",
              "        vertical-align: top;\n",
              "    }\n",
              "\n",
              "    .dataframe thead th {\n",
              "        text-align: right;\n",
              "    }\n",
              "</style>\n",
              "<table border=\"1\" class=\"dataframe\">\n",
              "  <thead>\n",
              "    <tr style=\"text-align: right;\">\n",
              "      <th></th>\n",
              "      <th>Tweets</th>\n",
              "    </tr>\n",
              "  </thead>\n",
              "  <tbody>\n",
              "    <tr>\n",
              "      <th>0</th>\n",
              "      <td>_Mayes: This week I was in Hartlepool and here...</td>\n",
              "    </tr>\n",
              "    <tr>\n",
              "      <th>1</th>\n",
              "      <td>Northern Irish voters continue to oppose uniti...</td>\n",
              "    </tr>\n",
              "    <tr>\n",
              "      <th>2</th>\n",
              "      <td>Boris Johnson believes the British public is u...</td>\n",
              "    </tr>\n",
              "    <tr>\n",
              "      <th>3</th>\n",
              "      <td>Boris Johnson is trying to win another distric...</td>\n",
              "    </tr>\n",
              "    <tr>\n",
              "      <th>4</th>\n",
              "      <td>Here's why Scotland’s road to independence is ...</td>\n",
              "    </tr>\n",
              "    <tr>\n",
              "      <th>...</th>\n",
              "      <td>...</td>\n",
              "    </tr>\n",
              "    <tr>\n",
              "      <th>95</th>\n",
              "      <td>Biden tackles gun violence, while the true sca...</td>\n",
              "    </tr>\n",
              "    <tr>\n",
              "      <th>96</th>\n",
              "      <td>The British monarchy has survived exactly beca...</td>\n",
              "    </tr>\n",
              "    <tr>\n",
              "      <th>97</th>\n",
              "      <td>: EXPLAINED: What's behind the violence in Nor...</td>\n",
              "    </tr>\n",
              "    <tr>\n",
              "      <th>98</th>\n",
              "      <td>: ⚡️ What's behind the violence in Northern Ir...</td>\n",
              "    </tr>\n",
              "    <tr>\n",
              "      <th>99</th>\n",
              "      <td>Northern Irish protests planned for this weeke...</td>\n",
              "    </tr>\n",
              "  </tbody>\n",
              "</table>\n",
              "<p>100 rows × 1 columns</p>\n",
              "</div>"
            ],
            "text/plain": [
              "                                               Tweets\n",
              "0   _Mayes: This week I was in Hartlepool and here...\n",
              "1   Northern Irish voters continue to oppose uniti...\n",
              "2   Boris Johnson believes the British public is u...\n",
              "3   Boris Johnson is trying to win another distric...\n",
              "4   Here's why Scotland’s road to independence is ...\n",
              "..                                                ...\n",
              "95  Biden tackles gun violence, while the true sca...\n",
              "96  The British monarchy has survived exactly beca...\n",
              "97  : EXPLAINED: What's behind the violence in Nor...\n",
              "98  : ⚡️ What's behind the violence in Northern Ir...\n",
              "99  Northern Irish protests planned for this weeke...\n",
              "\n",
              "[100 rows x 1 columns]"
            ]
          },
          "metadata": {
            "tags": []
          },
          "execution_count": 134
        }
      ]
    },
    {
      "cell_type": "code",
      "metadata": {
        "id": "r-shudu4EkHY",
        "colab": {
          "base_uri": "https://localhost:8080/",
          "height": 419
        },
        "outputId": "b1ada012-e044-489c-87e4-61cc625fbf5a"
      },
      "source": [
        "def getSubjectivity(text):\n",
        "  return TextBlob(text).sentiment.subjectivity\n",
        "def getPolarity(text):\n",
        "  return TextBlob(text).sentiment.polarity\n",
        "\n",
        "df['subjectivity']=df['Tweets'].apply(getSubjectivity)\n",
        "df['Polarity']=df['Tweets'].apply(getPolarity)\n",
        "df"
      ],
      "execution_count": 135,
      "outputs": [
        {
          "output_type": "execute_result",
          "data": {
            "text/html": [
              "<div>\n",
              "<style scoped>\n",
              "    .dataframe tbody tr th:only-of-type {\n",
              "        vertical-align: middle;\n",
              "    }\n",
              "\n",
              "    .dataframe tbody tr th {\n",
              "        vertical-align: top;\n",
              "    }\n",
              "\n",
              "    .dataframe thead th {\n",
              "        text-align: right;\n",
              "    }\n",
              "</style>\n",
              "<table border=\"1\" class=\"dataframe\">\n",
              "  <thead>\n",
              "    <tr style=\"text-align: right;\">\n",
              "      <th></th>\n",
              "      <th>Tweets</th>\n",
              "      <th>subjectivity</th>\n",
              "      <th>Polarity</th>\n",
              "    </tr>\n",
              "  </thead>\n",
              "  <tbody>\n",
              "    <tr>\n",
              "      <th>0</th>\n",
              "      <td>_Mayes: This week I was in Hartlepool and here...</td>\n",
              "      <td>0.000000</td>\n",
              "      <td>0.00</td>\n",
              "    </tr>\n",
              "    <tr>\n",
              "      <th>1</th>\n",
              "      <td>Northern Irish voters continue to oppose uniti...</td>\n",
              "      <td>0.000000</td>\n",
              "      <td>0.00</td>\n",
              "    </tr>\n",
              "    <tr>\n",
              "      <th>2</th>\n",
              "      <td>Boris Johnson believes the British public is u...</td>\n",
              "      <td>0.322222</td>\n",
              "      <td>-0.20</td>\n",
              "    </tr>\n",
              "    <tr>\n",
              "      <th>3</th>\n",
              "      <td>Boris Johnson is trying to win another distric...</td>\n",
              "      <td>0.400000</td>\n",
              "      <td>0.80</td>\n",
              "    </tr>\n",
              "    <tr>\n",
              "      <th>4</th>\n",
              "      <td>Here's why Scotland’s road to independence is ...</td>\n",
              "      <td>0.000000</td>\n",
              "      <td>0.00</td>\n",
              "    </tr>\n",
              "    <tr>\n",
              "      <th>...</th>\n",
              "      <td>...</td>\n",
              "      <td>...</td>\n",
              "      <td>...</td>\n",
              "    </tr>\n",
              "    <tr>\n",
              "      <th>95</th>\n",
              "      <td>Biden tackles gun violence, while the true sca...</td>\n",
              "      <td>0.375000</td>\n",
              "      <td>0.20</td>\n",
              "    </tr>\n",
              "    <tr>\n",
              "      <th>96</th>\n",
              "      <td>The British monarchy has survived exactly beca...</td>\n",
              "      <td>0.426667</td>\n",
              "      <td>0.07</td>\n",
              "    </tr>\n",
              "    <tr>\n",
              "      <th>97</th>\n",
              "      <td>: EXPLAINED: What's behind the violence in Nor...</td>\n",
              "      <td>0.700000</td>\n",
              "      <td>-0.40</td>\n",
              "    </tr>\n",
              "    <tr>\n",
              "      <th>98</th>\n",
              "      <td>: ⚡️ What's behind the violence in Northern Ir...</td>\n",
              "      <td>0.700000</td>\n",
              "      <td>-0.40</td>\n",
              "    </tr>\n",
              "    <tr>\n",
              "      <th>99</th>\n",
              "      <td>Northern Irish protests planned for this weeke...</td>\n",
              "      <td>0.000000</td>\n",
              "      <td>0.00</td>\n",
              "    </tr>\n",
              "  </tbody>\n",
              "</table>\n",
              "<p>100 rows × 3 columns</p>\n",
              "</div>"
            ],
            "text/plain": [
              "                                               Tweets  subjectivity  Polarity\n",
              "0   _Mayes: This week I was in Hartlepool and here...      0.000000      0.00\n",
              "1   Northern Irish voters continue to oppose uniti...      0.000000      0.00\n",
              "2   Boris Johnson believes the British public is u...      0.322222     -0.20\n",
              "3   Boris Johnson is trying to win another distric...      0.400000      0.80\n",
              "4   Here's why Scotland’s road to independence is ...      0.000000      0.00\n",
              "..                                                ...           ...       ...\n",
              "95  Biden tackles gun violence, while the true sca...      0.375000      0.20\n",
              "96  The British monarchy has survived exactly beca...      0.426667      0.07\n",
              "97  : EXPLAINED: What's behind the violence in Nor...      0.700000     -0.40\n",
              "98  : ⚡️ What's behind the violence in Northern Ir...      0.700000     -0.40\n",
              "99  Northern Irish protests planned for this weeke...      0.000000      0.00\n",
              "\n",
              "[100 rows x 3 columns]"
            ]
          },
          "metadata": {
            "tags": []
          },
          "execution_count": 135
        }
      ]
    },
    {
      "cell_type": "code",
      "metadata": {
        "id": "mfoTrx4JPSe6",
        "colab": {
          "base_uri": "https://localhost:8080/",
          "height": 404
        },
        "outputId": "828af5f3-9c96-4c0e-894c-a9a274690425"
      },
      "source": [
        "import matplotlib.pyplot as plt\n",
        "%matplotlib inline\n",
        "#plot the polarity and subjectivity\n",
        "plt.figure(figsize=(8,6))\n",
        "for i in range(0,df.shape[0]):\n",
        "  plt.scatter(df['Polarity'][i],df['subjectivity'][i],color='red')\n",
        "\n",
        "plt.title('Sentiment Analysis')\n",
        "plt.xlabel('polarity')\n",
        "plt.ylabel('subjectivity')\n",
        "plt.show()"
      ],
      "execution_count": 136,
      "outputs": [
        {
          "output_type": "display_data",
          "data": {
            "image/png": "[encoded data removed]",
            "text/plain": [
              "<Figure size 576x432 with 1 Axes>"
            ]
          },
          "metadata": {
            "tags": [],
            "needs_background": "light"
          }
        }
      ]
    },
    {
      "cell_type": "code",
      "metadata": {
        "id": "gD35PoIYcjox",
        "outputId": "4bc02763-efa9-485c-c91c-1bbc4c196668",
        "colab": {
          "base_uri": "https://localhost:8080/",
          "height": 377
        }
      },
      "source": [
        "from collections import Counter\n",
        "import numpy as np\n",
        "m=df['subjectivity']\n",
        "n= np.array(m) \n",
        "A=[]\n",
        "for i in range(len(n)):\n",
        "  s=n[i]\n",
        "  A.append(s)\n",
        "\n",
        "print(A)\n",
        "a = dict(Counter(A))\n",
        "print(a)\n",
        "a_dictionary = a\n",
        "keys = a_dictionary.keys()\n",
        "values = a_dictionary.values()\n",
        "plt.figure(figsize=(5,4), dpi= 80)\n",
        "\n",
        "plt.bar(keys, values, color='blue', width=0.05)\n",
        "plt.title('collected tweets')\n",
        "plt.xlabel('Sentiment')\n",
        "plt.ylabel('Count')\n",
        "\n",
        "plt.show()"
      ],
      "execution_count": 125,
      "outputs": [
        {
          "output_type": "stream",
          "text": [
            "[0.0, 0.0, 0.32222222222222224, 0.4, 0.0, 0.0, 0.25, 0.0, 0.25, 0.3333333333333333, 0.41666666666666663, 0.05, 0.5277777777777778, 0.5, 0.0, 0.05, 0.0, 0.13333333333333333, 0.21428571428571427, 0.0, 0.5, 0.0, 0.0, 0.0, 0.26988636363636365, 0.0, 0.22625, 0.0, 0.0, 0.0, 0.0, 0.45, 0.75, 0.45, 0.19999999999999998, 0.45, 0.22916666666666666, 0.0, 0.5, 0.0, 0.0, 0.5333333333333333, 0.0, 0.0, 0.0, 0.47590909090909095, 0.0, 0.19999999999999998, 0.0, 0.0, 0.19999999999999998, 0.0, 0.0, 0.3888888888888889, 0.0, 0.2, 0.0, 0.5, 0.0, 0.0, 0.34166666666666673, 0.42000000000000004, 0.275, 0.0, 0.0, 0.22727272727272727, 0.3, 0.3444444444444445, 0.0, 0.275, 1.0, 0.275, 0.0, 0.5499999999999999, 0.42000000000000004, 0.0, 0.5499999999999999, 0.42000000000000004, 0.5, 0.0, 0.6, 0.22727272727272727, 1.0, 0.05, 0.37777777777777777, 0.49756493506493504, 0.5266666666666666, 0.0, 0.5, 0.25833333333333336, 0.6000000000000001, 0.5, 0.0, 0.3277777777777778, 1.0, 0.375, 0.42666666666666664, 0.7, 0.7, 0.0]\n",
            "{0.0: 40, 0.32222222222222224: 1, 0.4: 1, 0.25: 2, 0.3333333333333333: 1, 0.41666666666666663: 1, 0.05: 3, 0.5277777777777778: 1, 0.5: 7, 0.13333333333333333: 1, 0.21428571428571427: 1, 0.26988636363636365: 1, 0.22625: 1, 0.45: 3, 0.75: 1, 0.19999999999999998: 3, 0.22916666666666666: 1, 0.5333333333333333: 1, 0.47590909090909095: 1, 0.3888888888888889: 1, 0.2: 1, 0.34166666666666673: 1, 0.42000000000000004: 3, 0.275: 3, 0.22727272727272727: 2, 0.3: 1, 0.3444444444444445: 1, 1.0: 3, 0.5499999999999999: 2, 0.6: 1, 0.37777777777777777: 1, 0.49756493506493504: 1, 0.5266666666666666: 1, 0.25833333333333336: 1, 0.6000000000000001: 1, 0.3277777777777778: 1, 0.375: 1, 0.42666666666666664: 1, 0.7: 2}\n"
          ],
          "name": "stdout"
        },
        {
          "output_type": "display_data",
          "data": {
            "image/png": "[encoded data removed]",
            "text/plain": [
              "<Figure size 400x320 with 1 Axes>"
            ]
          },
          "metadata": {
            "tags": [],
            "needs_background": "light"
          }
        }
      ]
    },
    {
      "cell_type": "code",
      "metadata": {
        "id": "z2MCwXBgtvgb",
        "outputId": "3aecbce7-9dce-48b2-9088-643f450629c6",
        "colab": {
          "base_uri": "https://localhost:8080/",
          "height": 349
        }
      },
      "source": [
        "from collections import Counter\n",
        "import numpy as np\n",
        "m=df['Polarity']\n",
        "n=np.array(m) \n",
        "A=[]\n",
        "for i in range(len(n)):\n",
        "  s=n[i]\n",
        "  \n",
        "  A.append(s)\n",
        "\n",
        "print(A)\n",
        "a = dict(Counter(A))\n",
        "print(a)\n",
        "a_dictionary = a\n",
        "keys = a_dictionary.keys()\n",
        "values = a_dictionary.values()\n",
        "plt.bar(keys, values, color='blue', width=0.14)\n",
        "plt.title('collected tweets')\n",
        "plt.xlabel('Sentiment')\n",
        "plt.ylabel('Count')\n",
        "plt.show()"
      ],
      "execution_count": 137,
      "outputs": [
        {
          "output_type": "stream",
          "text": [
            "[0.0, 0.0, -0.19999999999999998, 0.8, 0.0, 0.0, 0.0, 0.0, 0.0, 0.25, 0.375, 0.0, 0.18333333333333335, 0.13636363636363635, 0.0, 0.0, 0.0, -0.09999999999999999, -0.07142857142857142, 0.0, 0.5, 0.0, 0.0, 0.0, 0.1590909090909091, 0.0, 0.0, 0.0, 0.0, 0.0, 0.0, 0.2, 0.4, 0.2, 0.13333333333333333, 0.2, 0.0625, 0.0, 0.375, 0.0, 0.0, -0.033333333333333354, 0.0, 0.0, 0.0, 0.16893939393939394, 0.0, 0.2333333333333333, 0.0, 0.0, 0.2333333333333333, 0.0, 0.0, 0.011111111111111108, 0.0, -0.1, 0.0, 0.05208333333333334, 0.0, 0.0, 0.03333333333333333, 0.09, 0.1, 0.0, 0.3, 0.06818181818181818, -0.2333333333333333, 0.2111111111111111, 0.0, 0.1, -1.0, 0.1, 0.0, 0.43333333333333335, 0.09, 0.0, 0.43333333333333335, 0.09, 0.5, 0.0, 0.0, 0.06818181818181818, 0.1, 0.0, 0.21666666666666667, 0.1305194805194805, 0.22999999999999998, 0.3, 0.0, 0.2125, 0.7, 0.4, 0.0, 1.850371707708594e-17, 0.0, 0.19999999999999998, 0.07, -0.4, -0.4, 0.0]\n",
            "{0.0: 47, -0.19999999999999998: 1, 0.8: 1, 0.25: 1, 0.375: 2, 0.18333333333333335: 1, 0.13636363636363635: 1, -0.09999999999999999: 1, -0.07142857142857142: 1, 0.5: 2, 0.1590909090909091: 1, 0.2: 3, 0.4: 2, 0.13333333333333333: 1, 0.0625: 1, -0.033333333333333354: 1, 0.16893939393939394: 1, 0.2333333333333333: 2, 0.011111111111111108: 1, -0.1: 1, 0.05208333333333334: 1, 0.03333333333333333: 1, 0.09: 3, 0.1: 4, 0.3: 2, 0.06818181818181818: 2, -0.2333333333333333: 1, 0.2111111111111111: 1, -1.0: 1, 0.43333333333333335: 2, 0.21666666666666667: 1, 0.1305194805194805: 1, 0.22999999999999998: 1, 0.2125: 1, 0.7: 1, 1.850371707708594e-17: 1, 0.19999999999999998: 1, 0.07: 1, -0.4: 2}\n"
          ],
          "name": "stdout"
        },
        {
          "output_type": "display_data",
          "data": {
            "image/png": "[encoded data removed]",
            "text/plain": [
              "<Figure size 432x288 with 1 Axes>"
            ]
          },
          "metadata": {
            "tags": [],
            "needs_background": "light"
          }
        }
      ]
    },
    {
      "cell_type": "markdown",
      "metadata": {
        "id": "dEgOUdPOc5jD"
      },
      "source": [
        "2.\t**Access News APIs for articles related to the chosen event/campaign (Minimum of 5 articles)** \n",
        "\n",
        "\n",
        "*   Perform all required cleaning and pre-processing on the articles.\n",
        "*   Perform basic descriptive analysis of the collected articles (time distribution, word counts. etc).\n",
        "\n",
        "*   Use topic modelling techniques to discover key topics. Display your findings using proper graphs, such as word cloud.\n",
        "* Provide a summary on one of the news articles. Comment on the summarisation quality  \n"
      ]
    },
    {
      "cell_type": "code",
      "metadata": {
        "id": "6ZVlbN7uhzww",
        "colab": {
          "base_uri": "https://localhost:8080/"
        },
        "outputId": "44d6353c-b820-4375-cc45-deebb2d85223"
      },
      "source": [
        "!pip install newsapi-python"
      ],
      "execution_count": 138,
      "outputs": [
        {
          "output_type": "stream",
          "text": [
            "Requirement already satisfied: newsapi-python in /usr/local/lib/python3.7/dist-packages (0.2.6)\n",
            "Requirement already satisfied: requests<3.0.0 in /usr/local/lib/python3.7/dist-packages (from newsapi-python) (2.23.0)\n",
            "Requirement already satisfied: idna<3,>=2.5 in /usr/local/lib/python3.7/dist-packages (from requests<3.0.0->newsapi-python) (2.10)\n",
            "Requirement already satisfied: urllib3!=1.25.0,!=1.25.1,<1.26,>=1.21.1 in /usr/local/lib/python3.7/dist-packages (from requests<3.0.0->newsapi-python) (1.24.3)\n",
            "Requirement already satisfied: certifi>=2017.4.17 in /usr/local/lib/python3.7/dist-packages (from requests<3.0.0->newsapi-python) (2020.12.5)\n",
            "Requirement already satisfied: chardet<4,>=3.0.2 in /usr/local/lib/python3.7/dist-packages (from requests<3.0.0->newsapi-python) (3.0.4)\n"
          ],
          "name": "stdout"
        }
      ]
    },
    {
      "cell_type": "code",
      "metadata": {
        "id": "7hKOQjD9iHGb"
      },
      "source": [
        "from newsapi import NewsApiClient\n",
        "import datetime as dt\n",
        "import pandas as pd"
      ],
      "execution_count": 139,
      "outputs": []
    },
    {
      "cell_type": "code",
      "metadata": {
        "id": "vHJwydQokKHB"
      },
      "source": [
        "my_api_key='37925137cd4749ad8db14762cf5dd24d'\n",
        "newsapi = NewsApiClient(api_key=my_api_key)"
      ],
      "execution_count": 140,
      "outputs": []
    },
    {
      "cell_type": "code",
      "metadata": {
        "id": "RAoS80mTxBcT"
      },
      "source": [
        "all_articles = newsapi.get_everything(q='Brexit',\n",
        "                                      sources='bbc-news,the-verge',\n",
        "                                      domains='bbc.co.uk,techcrunch.com',\n",
        "                                      language='en',\n",
        "                                      sort_by='relevancy',\n",
        "                                      page=2)"
      ],
      "execution_count": 141,
      "outputs": []
    },
    {
      "cell_type": "code",
      "metadata": {
        "id": "NMo6jjEjlFtp",
        "colab": {
          "base_uri": "https://localhost:8080/"
        },
        "outputId": "4eec0bf1-b03d-48bc-91d8-9d4b985f49e5"
      },
      "source": [
        "type(all_articles)"
      ],
      "execution_count": 142,
      "outputs": [
        {
          "output_type": "execute_result",
          "data": {
            "text/plain": [
              "dict"
            ]
          },
          "metadata": {
            "tags": []
          },
          "execution_count": 142
        }
      ]
    },
    {
      "cell_type": "code",
      "metadata": {
        "id": "NB69XCUvxOOz",
        "colab": {
          "base_uri": "https://localhost:8080/"
        },
        "outputId": "640e674b-7183-4fb9-b550-e4cd0f95277e"
      },
      "source": [
        "all_articles.keys()"
      ],
      "execution_count": 143,
      "outputs": [
        {
          "output_type": "execute_result",
          "data": {
            "text/plain": [
              "dict_keys(['status', 'totalResults', 'articles'])"
            ]
          },
          "metadata": {
            "tags": []
          },
          "execution_count": 143
        }
      ]
    },
    {
      "cell_type": "code",
      "metadata": {
        "id": "KvzFGSUDxj_c",
        "colab": {
          "base_uri": "https://localhost:8080/",
          "height": 35
        },
        "outputId": "ab737553-6ebd-420d-8bd9-f061537320d4"
      },
      "source": [
        "all_articles['status']"
      ],
      "execution_count": 144,
      "outputs": [
        {
          "output_type": "execute_result",
          "data": {
            "application/vnd.google.colaboratory.intrinsic+json": {
              "type": "string"
            },
            "text/plain": [
              "'ok'"
            ]
          },
          "metadata": {
            "tags": []
          },
          "execution_count": 144
        }
      ]
    },
    {
      "cell_type": "code",
      "metadata": {
        "id": "NYb5BKmUzNcd",
        "colab": {
          "base_uri": "https://localhost:8080/"
        },
        "outputId": "cc6ab116-2d60-4673-d1ff-fd77daffa22e"
      },
      "source": [
        "all_articles['totalResults']"
      ],
      "execution_count": 145,
      "outputs": [
        {
          "output_type": "execute_result",
          "data": {
            "text/plain": [
              "119"
            ]
          },
          "metadata": {
            "tags": []
          },
          "execution_count": 145
        }
      ]
    },
    {
      "cell_type": "code",
      "metadata": {
        "id": "GXw2WVHUzRXj"
      },
      "source": [
        "x=all_articles['articles']"
      ],
      "execution_count": 146,
      "outputs": []
    },
    {
      "cell_type": "code",
      "metadata": {
        "id": "4hGFTBtjk0CN",
        "colab": {
          "base_uri": "https://localhost:8080/",
          "height": 649
        },
        "outputId": "7c3b2111-fda9-4c00-8b15-76e8216ee8d8"
      },
      "source": [
        "df=pd.DataFrame(x)\n",
        "                            \n",
        "df.head()"
      ],
      "execution_count": 147,
      "outputs": [
        {
          "output_type": "execute_result",
          "data": {
            "text/html": [
              "<div>\n",
              "<style scoped>\n",
              "    .dataframe tbody tr th:only-of-type {\n",
              "        vertical-align: middle;\n",
              "    }\n",
              "\n",
              "    .dataframe tbody tr th {\n",
              "        vertical-align: top;\n",
              "    }\n",
              "\n",
              "    .dataframe thead th {\n",
              "        text-align: right;\n",
              "    }\n",
              "</style>\n",
              "<table border=\"1\" class=\"dataframe\">\n",
              "  <thead>\n",
              "    <tr style=\"text-align: right;\">\n",
              "      <th></th>\n",
              "      <th>source</th>\n",
              "      <th>author</th>\n",
              "      <th>title</th>\n",
              "      <th>description</th>\n",
              "      <th>url</th>\n",
              "      <th>urlToImage</th>\n",
              "      <th>publishedAt</th>\n",
              "      <th>content</th>\n",
              "    </tr>\n",
              "  </thead>\n",
              "  <tbody>\n",
              "    <tr>\n",
              "      <th>0</th>\n",
              "      <td>{'id': 'bbc-news', 'name': 'BBC News'}</td>\n",
              "      <td>https://www.facebook.com/bbcnews</td>\n",
              "      <td>Arlene Foster to step down as DUP leader - BBC...</td>\n",
              "      <td>&lt;ol&gt;&lt;li&gt;Arlene Foster to step down as DUP lead...</td>\n",
              "      <td>https://www.bbc.co.uk/news/live/uk-northern-ir...</td>\n",
              "      <td>https://m.files.bbci.co.uk/modules/bbc-morph-n...</td>\n",
              "      <td>2021-04-28T15:15:49Z</td>\n",
              "      <td>The opinions of grassroots unionists \"are bein...</td>\n",
              "    </tr>\n",
              "    <tr>\n",
              "      <th>1</th>\n",
              "      <td>{'id': 'bbc-news', 'name': 'BBC News'}</td>\n",
              "      <td>https://www.facebook.com/bbcnews</td>\n",
              "      <td>Wales election: Details on independent Wales '...</td>\n",
              "      <td>Plaid Cymru has pledged to hold an independenc...</td>\n",
              "      <td>https://www.bbc.co.uk/news/uk-wales-politics-5...</td>\n",
              "      <td>https://ichef.bbci.co.uk/news/1024/branded_new...</td>\n",
              "      <td>2021-04-19T20:29:46Z</td>\n",
              "      <td>image copyrightGetty Images\\r\\nimage captionAd...</td>\n",
              "    </tr>\n",
              "    <tr>\n",
              "      <th>2</th>\n",
              "      <td>{'id': 'bbc-news', 'name': 'BBC News'}</td>\n",
              "      <td>https://www.facebook.com/bbcnews</td>\n",
              "      <td>Brexit: Euro MPs' vote bolsters EU-UK trade deal</td>\n",
              "      <td>The key Brexit trade deal now stands a better ...</td>\n",
              "      <td>https://www.bbc.co.uk/news/world-europe-56765681</td>\n",
              "      <td>https://ichef.bbci.co.uk/news/1024/branded_new...</td>\n",
              "      <td>2021-04-15T17:30:15Z</td>\n",
              "      <td>image captionZeebrugge: Channel ports have new...</td>\n",
              "    </tr>\n",
              "    <tr>\n",
              "      <th>3</th>\n",
              "      <td>{'id': 'bbc-news', 'name': 'BBC News'}</td>\n",
              "      <td>None</td>\n",
              "      <td>What it's like driving across the new Irish tr...</td>\n",
              "      <td>Three months since the creation of the new Iri...</td>\n",
              "      <td>https://www.bbc.co.uk/news/av/uk-northern-irel...</td>\n",
              "      <td>https://ichef.bbci.co.uk/images/ic/400xn/p09ck...</td>\n",
              "      <td>2021-04-01T23:07:43Z</td>\n",
              "      <td>The ferry operator, Stena Line, says Brexit is...</td>\n",
              "    </tr>\n",
              "    <tr>\n",
              "      <th>4</th>\n",
              "      <td>{'id': 'bbc-news', 'name': 'BBC News'}</td>\n",
              "      <td>None</td>\n",
              "      <td>Keeping score on UK-EU relations since Brexit</td>\n",
              "      <td>Despite promises to work together, it has been...</td>\n",
              "      <td>https://www.bbc.co.uk/news/av/uk-politics-5657...</td>\n",
              "      <td>https://ichef.bbci.co.uk/images/ic/400xn/p09c6...</td>\n",
              "      <td>2021-03-29T23:00:56Z</td>\n",
              "      <td>The relationship between the UK and the EU sin...</td>\n",
              "    </tr>\n",
              "  </tbody>\n",
              "</table>\n",
              "</div>"
            ],
            "text/plain": [
              "                                   source  ...                                            content\n",
              "0  {'id': 'bbc-news', 'name': 'BBC News'}  ...  The opinions of grassroots unionists \"are bein...\n",
              "1  {'id': 'bbc-news', 'name': 'BBC News'}  ...  image copyrightGetty Images\\r\\nimage captionAd...\n",
              "2  {'id': 'bbc-news', 'name': 'BBC News'}  ...  image captionZeebrugge: Channel ports have new...\n",
              "3  {'id': 'bbc-news', 'name': 'BBC News'}  ...  The ferry operator, Stena Line, says Brexit is...\n",
              "4  {'id': 'bbc-news', 'name': 'BBC News'}  ...  The relationship between the UK and the EU sin...\n",
              "\n",
              "[5 rows x 8 columns]"
            ]
          },
          "metadata": {
            "tags": []
          },
          "execution_count": 147
        }
      ]
    },
    {
      "cell_type": "markdown",
      "metadata": {
        "id": "qNyWmwCCvrlQ"
      },
      "source": [
        "**Perform all required cleaning and pre-processing on the articles**"
      ]
    },
    {
      "cell_type": "code",
      "metadata": {
        "id": "-u5KOebvv0rV",
        "colab": {
          "base_uri": "https://localhost:8080/",
          "height": 649
        },
        "outputId": "0e19fbaf-b942-49dc-c7b2-ea87395226dc"
      },
      "source": [
        "import re\n",
        "#cleaning data\n",
        "def cleanData(text):\n",
        "  text=re.sub(r'@[A-Za-z0-9]+','',text)#Remove @mentions\n",
        "  text=re.sub(r'#','',text)#Remove #mentions\n",
        "  text=re.sub(r':','',text)#Remove :\n",
        "  text=re.sub(r',','',text)#Remove ,\n",
        "  text=re.sub(r'RT[\\s]+','',text)#Remove RT mentions\n",
        "  text=re.sub(r'https?:\\/\\/\\S+','',text)#Remove hyper links\n",
        "\n",
        "  return text\n",
        "\n",
        "df['description']=df['description'].apply(cleanData)\n",
        "df['title']=df['title'].apply(cleanData)\n",
        "df['content']=df['content'].apply(cleanData)\n",
        "df['index'] = df.index\n",
        "#show data\n",
        "df.head()"
      ],
      "execution_count": 148,
      "outputs": [
        {
          "output_type": "execute_result",
          "data": {
            "text/html": [
              "<div>\n",
              "<style scoped>\n",
              "    .dataframe tbody tr th:only-of-type {\n",
              "        vertical-align: middle;\n",
              "    }\n",
              "\n",
              "    .dataframe tbody tr th {\n",
              "        vertical-align: top;\n",
              "    }\n",
              "\n",
              "    .dataframe thead th {\n",
              "        text-align: right;\n",
              "    }\n",
              "</style>\n",
              "<table border=\"1\" class=\"dataframe\">\n",
              "  <thead>\n",
              "    <tr style=\"text-align: right;\">\n",
              "      <th></th>\n",
              "      <th>source</th>\n",
              "      <th>author</th>\n",
              "      <th>title</th>\n",
              "      <th>description</th>\n",
              "      <th>url</th>\n",
              "      <th>urlToImage</th>\n",
              "      <th>publishedAt</th>\n",
              "      <th>content</th>\n",
              "      <th>index</th>\n",
              "    </tr>\n",
              "  </thead>\n",
              "  <tbody>\n",
              "    <tr>\n",
              "      <th>0</th>\n",
              "      <td>{'id': 'bbc-news', 'name': 'BBC News'}</td>\n",
              "      <td>https://www.facebook.com/bbcnews</td>\n",
              "      <td>Arlene Foster to step down as DUP leader - BBC...</td>\n",
              "      <td>&lt;ol&gt;&lt;li&gt;Arlene Foster to step down as DUP lead...</td>\n",
              "      <td>https://www.bbc.co.uk/news/live/uk-northern-ir...</td>\n",
              "      <td>https://m.files.bbci.co.uk/modules/bbc-morph-n...</td>\n",
              "      <td>2021-04-28T15:15:49Z</td>\n",
              "      <td>The opinions of grassroots unionists \"are bein...</td>\n",
              "      <td>0</td>\n",
              "    </tr>\n",
              "    <tr>\n",
              "      <th>1</th>\n",
              "      <td>{'id': 'bbc-news', 'name': 'BBC News'}</td>\n",
              "      <td>https://www.facebook.com/bbcnews</td>\n",
              "      <td>Wales election Details on independent Wales 'n...</td>\n",
              "      <td>Plaid Cymru has pledged to hold an independenc...</td>\n",
              "      <td>https://www.bbc.co.uk/news/uk-wales-politics-5...</td>\n",
              "      <td>https://ichef.bbci.co.uk/news/1024/branded_new...</td>\n",
              "      <td>2021-04-19T20:29:46Z</td>\n",
              "      <td>image copyrightGetty Images\\r\\nimage captionAd...</td>\n",
              "      <td>1</td>\n",
              "    </tr>\n",
              "    <tr>\n",
              "      <th>2</th>\n",
              "      <td>{'id': 'bbc-news', 'name': 'BBC News'}</td>\n",
              "      <td>https://www.facebook.com/bbcnews</td>\n",
              "      <td>Brexit Euro MPs' vote bolsters EU-UK trade deal</td>\n",
              "      <td>The key Brexit trade deal now stands a better ...</td>\n",
              "      <td>https://www.bbc.co.uk/news/world-europe-56765681</td>\n",
              "      <td>https://ichef.bbci.co.uk/news/1024/branded_new...</td>\n",
              "      <td>2021-04-15T17:30:15Z</td>\n",
              "      <td>image captionZeebrugge Channel ports have new ...</td>\n",
              "      <td>2</td>\n",
              "    </tr>\n",
              "    <tr>\n",
              "      <th>3</th>\n",
              "      <td>{'id': 'bbc-news', 'name': 'BBC News'}</td>\n",
              "      <td>None</td>\n",
              "      <td>What it's like driving across the new Irish tr...</td>\n",
              "      <td>Three months since the creation of the new Iri...</td>\n",
              "      <td>https://www.bbc.co.uk/news/av/uk-northern-irel...</td>\n",
              "      <td>https://ichef.bbci.co.uk/images/ic/400xn/p09ck...</td>\n",
              "      <td>2021-04-01T23:07:43Z</td>\n",
              "      <td>The ferry operator Stena Line says Brexit is s...</td>\n",
              "      <td>3</td>\n",
              "    </tr>\n",
              "    <tr>\n",
              "      <th>4</th>\n",
              "      <td>{'id': 'bbc-news', 'name': 'BBC News'}</td>\n",
              "      <td>None</td>\n",
              "      <td>Keeping score on UK-EU relations since Brexit</td>\n",
              "      <td>Despite promises to work together it has been ...</td>\n",
              "      <td>https://www.bbc.co.uk/news/av/uk-politics-5657...</td>\n",
              "      <td>https://ichef.bbci.co.uk/images/ic/400xn/p09c6...</td>\n",
              "      <td>2021-03-29T23:00:56Z</td>\n",
              "      <td>The relationship between the UK and the EU sin...</td>\n",
              "      <td>4</td>\n",
              "    </tr>\n",
              "  </tbody>\n",
              "</table>\n",
              "</div>"
            ],
            "text/plain": [
              "                                   source  ... index\n",
              "0  {'id': 'bbc-news', 'name': 'BBC News'}  ...     0\n",
              "1  {'id': 'bbc-news', 'name': 'BBC News'}  ...     1\n",
              "2  {'id': 'bbc-news', 'name': 'BBC News'}  ...     2\n",
              "3  {'id': 'bbc-news', 'name': 'BBC News'}  ...     3\n",
              "4  {'id': 'bbc-news', 'name': 'BBC News'}  ...     4\n",
              "\n",
              "[5 rows x 9 columns]"
            ]
          },
          "metadata": {
            "tags": []
          },
          "execution_count": 148
        }
      ]
    },
    {
      "cell_type": "code",
      "metadata": {
        "id": "J0MoSWUu7K3z"
      },
      "source": [
        "new_data=df[['index','title','description','publishedAt','content']]"
      ],
      "execution_count": 149,
      "outputs": []
    },
    {
      "cell_type": "markdown",
      "metadata": {
        "id": "ASIyRiqaDs8T"
      },
      "source": [
        "**Perform basic descriptive analysis of the collected articles (time distribution, word counts. etc).**"
      ]
    },
    {
      "cell_type": "code",
      "metadata": {
        "id": "h_KXg2WhAH-b",
        "colab": {
          "base_uri": "https://localhost:8080/",
          "height": 312
        },
        "outputId": "c6f2b64f-0592-498a-e072-b33e55b9cd26"
      },
      "source": [
        "from collections import Counter\n",
        "import numpy as np\n",
        "m=new_data['publishedAt']\n",
        "n=np.array(m) \n",
        "A=[]\n",
        "for i in range(len(n)):\n",
        "  string=n[i]\n",
        "  s=string[5:7]\n",
        "  A.append(s)\n",
        "  \n",
        "  \n",
        "\n",
        "a = dict(Counter(A))\n",
        "print(a)\n",
        "a_dictionary = a\n",
        "keys = a_dictionary.keys()\n",
        "values = a_dictionary.values()\n",
        "\n",
        "plt.bar(keys, values)\n",
        "plt.title('collected articles count in months in 2021')\n",
        "plt.xlabel('month')\n",
        "plt.ylabel('article count in each month')\n",
        "plt.show()"
      ],
      "execution_count": 150,
      "outputs": [
        {
          "output_type": "stream",
          "text": [
            "{'04': 17, '03': 2, '05': 1}\n"
          ],
          "name": "stdout"
        },
        {
          "output_type": "display_data",
          "data": {
            "image/png": "[encoded data removed]",
            "text/plain": [
              "<Figure size 432x288 with 1 Axes>"
            ]
          },
          "metadata": {
            "tags": [],
            "needs_background": "light"
          }
        }
      ]
    },
    {
      "cell_type": "code",
      "metadata": {
        "id": "BMNkx9plTfGV",
        "colab": {
          "base_uri": "https://localhost:8080/"
        },
        "outputId": "dbd3b064-a9e8-47cc-9abd-98d7e0b64f2f"
      },
      "source": [
        "new_data['content_count']=new_data['content'].apply(lambda n:len(n.split(' ')))\n",
        "new_data['title_count']=new_data['title'].apply(lambda n:len(n.split(' ')))"
      ],
      "execution_count": 151,
      "outputs": [
        {
          "output_type": "stream",
          "text": [
            "/usr/local/lib/python3.7/dist-packages/ipykernel_launcher.py:1: SettingWithCopyWarning: \n",
            "A value is trying to be set on a copy of a slice from a DataFrame.\n",
            "Try using .loc[row_indexer,col_indexer] = value instead\n",
            "\n",
            "See the caveats in the documentation: https://pandas.pydata.org/pandas-docs/stable/user_guide/indexing.html#returning-a-view-versus-a-copy\n",
            "  \"\"\"Entry point for launching an IPython kernel.\n",
            "/usr/local/lib/python3.7/dist-packages/ipykernel_launcher.py:2: SettingWithCopyWarning: \n",
            "A value is trying to be set on a copy of a slice from a DataFrame.\n",
            "Try using .loc[row_indexer,col_indexer] = value instead\n",
            "\n",
            "See the caveats in the documentation: https://pandas.pydata.org/pandas-docs/stable/user_guide/indexing.html#returning-a-view-versus-a-copy\n",
            "  \n"
          ],
          "name": "stderr"
        }
      ]
    },
    {
      "cell_type": "code",
      "metadata": {
        "id": "WqIjwtxSp6dJ",
        "colab": {
          "base_uri": "https://localhost:8080/",
          "height": 1000
        },
        "outputId": "760198d6-46e1-4081-d2c4-4d6ddbd12b9b"
      },
      "source": [
        "new_data"
      ],
      "execution_count": 152,
      "outputs": [
        {
          "output_type": "execute_result",
          "data": {
            "text/html": [
              "<div>\n",
              "<style scoped>\n",
              "    .dataframe tbody tr th:only-of-type {\n",
              "        vertical-align: middle;\n",
              "    }\n",
              "\n",
              "    .dataframe tbody tr th {\n",
              "        vertical-align: top;\n",
              "    }\n",
              "\n",
              "    .dataframe thead th {\n",
              "        text-align: right;\n",
              "    }\n",
              "</style>\n",
              "<table border=\"1\" class=\"dataframe\">\n",
              "  <thead>\n",
              "    <tr style=\"text-align: right;\">\n",
              "      <th></th>\n",
              "      <th>index</th>\n",
              "      <th>title</th>\n",
              "      <th>description</th>\n",
              "      <th>publishedAt</th>\n",
              "      <th>content</th>\n",
              "      <th>content_count</th>\n",
              "      <th>title_count</th>\n",
              "    </tr>\n",
              "  </thead>\n",
              "  <tbody>\n",
              "    <tr>\n",
              "      <th>0</th>\n",
              "      <td>0</td>\n",
              "      <td>Arlene Foster to step down as DUP leader - BBC...</td>\n",
              "      <td>&lt;ol&gt;&lt;li&gt;Arlene Foster to step down as DUP lead...</td>\n",
              "      <td>2021-04-28T15:15:49Z</td>\n",
              "      <td>The opinions of grassroots unionists \"are bein...</td>\n",
              "      <td>34</td>\n",
              "      <td>11</td>\n",
              "    </tr>\n",
              "    <tr>\n",
              "      <th>1</th>\n",
              "      <td>1</td>\n",
              "      <td>Wales election Details on independent Wales 'n...</td>\n",
              "      <td>Plaid Cymru has pledged to hold an independenc...</td>\n",
              "      <td>2021-04-19T20:29:46Z</td>\n",
              "      <td>image copyrightGetty Images\\r\\nimage captionAd...</td>\n",
              "      <td>35</td>\n",
              "      <td>9</td>\n",
              "    </tr>\n",
              "    <tr>\n",
              "      <th>2</th>\n",
              "      <td>2</td>\n",
              "      <td>Brexit Euro MPs' vote bolsters EU-UK trade deal</td>\n",
              "      <td>The key Brexit trade deal now stands a better ...</td>\n",
              "      <td>2021-04-15T17:30:15Z</td>\n",
              "      <td>image captionZeebrugge Channel ports have new ...</td>\n",
              "      <td>29</td>\n",
              "      <td>8</td>\n",
              "    </tr>\n",
              "    <tr>\n",
              "      <th>3</th>\n",
              "      <td>3</td>\n",
              "      <td>What it's like driving across the new Irish tr...</td>\n",
              "      <td>Three months since the creation of the new Iri...</td>\n",
              "      <td>2021-04-01T23:07:43Z</td>\n",
              "      <td>The ferry operator Stena Line says Brexit is s...</td>\n",
              "      <td>35</td>\n",
              "      <td>10</td>\n",
              "    </tr>\n",
              "    <tr>\n",
              "      <th>4</th>\n",
              "      <td>4</td>\n",
              "      <td>Keeping score on UK-EU relations since Brexit</td>\n",
              "      <td>Despite promises to work together it has been ...</td>\n",
              "      <td>2021-03-29T23:00:56Z</td>\n",
              "      <td>The relationship between the UK and the EU sin...</td>\n",
              "      <td>35</td>\n",
              "      <td>7</td>\n",
              "    </tr>\n",
              "    <tr>\n",
              "      <th>5</th>\n",
              "      <td>5</td>\n",
              "      <td>Restaurants struggle to find staff ahead of re...</td>\n",
              "      <td>Some venues may have to limit their opening ho...</td>\n",
              "      <td>2021-04-29T23:03:34Z</td>\n",
              "      <td>By Amie Keeley Business reporter\\r\\nimage copy...</td>\n",
              "      <td>33</td>\n",
              "      <td>8</td>\n",
              "    </tr>\n",
              "    <tr>\n",
              "      <th>6</th>\n",
              "      <td>6</td>\n",
              "      <td>Arlene Foster to quit DUP after leaving leader...</td>\n",
              "      <td>Arlene Foster believes the DUP is no longer th...</td>\n",
              "      <td>2021-04-30T05:07:23Z</td>\n",
              "      <td>image captionArlene Foster has been a member o...</td>\n",
              "      <td>35</td>\n",
              "      <td>9</td>\n",
              "    </tr>\n",
              "    <tr>\n",
              "      <th>7</th>\n",
              "      <td>7</td>\n",
              "      <td>Arlene Foster Why did the DUP move against its...</td>\n",
              "      <td>The BBC's Jayne McCormack takes a look at what...</td>\n",
              "      <td>2021-04-28T15:16:48Z</td>\n",
              "      <td>By Jayne McCormackBBC News NI Political Report...</td>\n",
              "      <td>32</td>\n",
              "      <td>10</td>\n",
              "    </tr>\n",
              "    <tr>\n",
              "      <th>8</th>\n",
              "      <td>8</td>\n",
              "      <td>French warn UK ahead of vote on Brexit trade deal</td>\n",
              "      <td>French concern over fishing rights overshadows...</td>\n",
              "      <td>2021-04-27T09:21:09Z</td>\n",
              "      <td>image captionEU Commission chief Ursula von de...</td>\n",
              "      <td>32</td>\n",
              "      <td>10</td>\n",
              "    </tr>\n",
              "    <tr>\n",
              "      <th>9</th>\n",
              "      <td>9</td>\n",
              "      <td>Palantir NHS says future deals 'will be transp...</td>\n",
              "      <td>It follows a lawsuit accusing the NHS of “snea...</td>\n",
              "      <td>2021-03-31T14:06:06Z</td>\n",
              "      <td>image copyrightGetty Images\\r\\nThe NHS has pro...</td>\n",
              "      <td>31</td>\n",
              "      <td>8</td>\n",
              "    </tr>\n",
              "    <tr>\n",
              "      <th>10</th>\n",
              "      <td>10</td>\n",
              "      <td>Daily Crunch Apple Arcade expands with classic...</td>\n",
              "      <td>Apple adds classic titles to Apple Arcade Micr...</td>\n",
              "      <td>2021-04-02T22:10:28Z</td>\n",
              "      <td>(Bloomberg) -- Britishvolt Ltd. the developer ...</td>\n",
              "      <td>32</td>\n",
              "      <td>8</td>\n",
              "    </tr>\n",
              "    <tr>\n",
              "      <th>11</th>\n",
              "      <td>11</td>\n",
              "      <td>NI riots Church leaders plead for unified poli...</td>\n",
              "      <td>The Catholic and Protestant clergymen say the ...</td>\n",
              "      <td>2021-04-13T05:28:34Z</td>\n",
              "      <td>image copyrightChurch Leaders Group (Ireland) ...</td>\n",
              "      <td>29</td>\n",
              "      <td>9</td>\n",
              "    </tr>\n",
              "    <tr>\n",
              "      <th>12</th>\n",
              "      <td>12</td>\n",
              "      <td>Arts venues urge PM to act over post-Brexit to...</td>\n",
              "      <td>The Royal Shakespeare Company Royal Opera Hous...</td>\n",
              "      <td>2021-04-28T12:01:20Z</td>\n",
              "      <td>image copyrightGetty Images\\r\\nimage captionTh...</td>\n",
              "      <td>28</td>\n",
              "      <td>10</td>\n",
              "    </tr>\n",
              "    <tr>\n",
              "      <th>13</th>\n",
              "      <td>13</td>\n",
              "      <td>8 investors founders and execs predict cyberse...</td>\n",
              "      <td>Things have been looking up for Belfast since ...</td>\n",
              "      <td>2021-04-24T06:38:29Z</td>\n",
              "      <td>Things have been looking up for Belfast since ...</td>\n",
              "      <td>35</td>\n",
              "      <td>13</td>\n",
              "    </tr>\n",
              "    <tr>\n",
              "      <th>14</th>\n",
              "      <td>14</td>\n",
              "      <td>Welsh election Party leaders on beds of nails ...</td>\n",
              "      <td>As the Welsh election nears three party leader...</td>\n",
              "      <td>2021-04-25T06:23:33Z</td>\n",
              "      <td>By James WilliamsBBC Wales political correspon...</td>\n",
              "      <td>28</td>\n",
              "      <td>12</td>\n",
              "    </tr>\n",
              "    <tr>\n",
              "      <th>15</th>\n",
              "      <td>15</td>\n",
              "      <td>UK and Norway fail to reach fishing deal</td>\n",
              "      <td>Hundreds of crew members will be out of work a...</td>\n",
              "      <td>2021-04-29T20:10:24Z</td>\n",
              "      <td>The UK and Norway have failed to reach a fishi...</td>\n",
              "      <td>40</td>\n",
              "      <td>8</td>\n",
              "    </tr>\n",
              "    <tr>\n",
              "      <th>16</th>\n",
              "      <td>16</td>\n",
              "      <td>Billionaire Sir James Dyson moves residency ba...</td>\n",
              "      <td>Sir James faced criticism in 2019 over relocat...</td>\n",
              "      <td>2021-04-22T04:06:50Z</td>\n",
              "      <td>image copyrightJason Kempin\\r\\nimage captionHe...</td>\n",
              "      <td>29</td>\n",
              "      <td>10</td>\n",
              "    </tr>\n",
              "    <tr>\n",
              "      <th>17</th>\n",
              "      <td>17</td>\n",
              "      <td>Boris Johnson urged to 'step up' to tackle rec...</td>\n",
              "      <td>Several high-profile figures including former ...</td>\n",
              "      <td>2021-04-26T05:17:05Z</td>\n",
              "      <td>image captionBoris Johnson visited a vaccinati...</td>\n",
              "      <td>33</td>\n",
              "      <td>11</td>\n",
              "    </tr>\n",
              "    <tr>\n",
              "      <th>18</th>\n",
              "      <td>18</td>\n",
              "      <td>Brexit Lord Frost to meet EU to discuss NI Pro...</td>\n",
              "      <td>Lord Frost and Maros Sefcovic will discuss the...</td>\n",
              "      <td>2021-04-14T08:10:59Z</td>\n",
              "      <td>By John Campbell &amp;amp; Adam FlemingBBC News\\r\\...</td>\n",
              "      <td>30</td>\n",
              "      <td>10</td>\n",
              "    </tr>\n",
              "    <tr>\n",
              "      <th>19</th>\n",
              "      <td>19</td>\n",
              "      <td>Edwin Poots Majority of DUP MPs and MLAs back ...</td>\n",
              "      <td>Edwin Poots' campaign manager says he has the ...</td>\n",
              "      <td>2021-05-01T11:16:00Z</td>\n",
              "      <td>image captionEdwin Poots is one of three DUP p...</td>\n",
              "      <td>36</td>\n",
              "      <td>14</td>\n",
              "    </tr>\n",
              "  </tbody>\n",
              "</table>\n",
              "</div>"
            ],
            "text/plain": [
              "    index  ... title_count\n",
              "0       0  ...          11\n",
              "1       1  ...           9\n",
              "2       2  ...           8\n",
              "3       3  ...          10\n",
              "4       4  ...           7\n",
              "5       5  ...           8\n",
              "6       6  ...           9\n",
              "7       7  ...          10\n",
              "8       8  ...          10\n",
              "9       9  ...           8\n",
              "10     10  ...           8\n",
              "11     11  ...           9\n",
              "12     12  ...          10\n",
              "13     13  ...          13\n",
              "14     14  ...          12\n",
              "15     15  ...           8\n",
              "16     16  ...          10\n",
              "17     17  ...          11\n",
              "18     18  ...          10\n",
              "19     19  ...          14\n",
              "\n",
              "[20 rows x 7 columns]"
            ]
          },
          "metadata": {
            "tags": []
          },
          "execution_count": 152
        }
      ]
    },
    {
      "cell_type": "code",
      "metadata": {
        "id": "apefasVIq3F0",
        "colab": {
          "base_uri": "https://localhost:8080/",
          "height": 295
        },
        "outputId": "dc46b842-a856-4c7b-ef7f-da2fdcd78863"
      },
      "source": [
        "plt.bar(new_data['index'],new_data['content_count'])\n",
        "plt.title('collected articles')\n",
        "plt.xlabel('Index of the Artcle')\n",
        "plt.ylabel('word counts')\n",
        "plt.show()"
      ],
      "execution_count": 153,
      "outputs": [
        {
          "output_type": "display_data",
          "data": {
            "image/png": "[encoded data removed]",
            "text/plain": [
              "<Figure size 432x288 with 1 Axes>"
            ]
          },
          "metadata": {
            "tags": [],
            "needs_background": "light"
          }
        }
      ]
    },
    {
      "cell_type": "code",
      "metadata": {
        "id": "nrWTFMcFEIsk",
        "outputId": "3b73f017-9d03-4a04-8c0f-1929f7c16585",
        "colab": {
          "base_uri": "https://localhost:8080/",
          "height": 295
        }
      },
      "source": [
        "plt.bar(new_data['index'],new_data['title_count'])\n",
        "plt.title('collected articles')\n",
        "plt.xlabel('Index of the Artcle')\n",
        "plt.ylabel('Title word counts')\n",
        "plt.show()"
      ],
      "execution_count": 154,
      "outputs": [
        {
          "output_type": "display_data",
          "data": {
            "image/png": "[encoded data removed]",
            "text/plain": [
              "<Figure size 432x288 with 1 Axes>"
            ]
          },
          "metadata": {
            "tags": [],
            "needs_background": "light"
          }
        }
      ]
    },
    {
      "cell_type": "markdown",
      "metadata": {
        "id": "FKCHj5BB3kkl"
      },
      "source": [
        "**Use topic modelling techniques to discover key topics. Display your findings using proper graphs, such as word cloud.**"
      ]
    },
    {
      "cell_type": "code",
      "metadata": {
        "id": "LciA1GFmxrty",
        "outputId": "6af8bfc9-198c-4037-a038-2b9a475e3edc",
        "colab": {
          "base_uri": "https://localhost:8080/",
          "height": 232
        }
      },
      "source": [
        "from wordcloud import WordCloud\n",
        "#Plot the world cloud\n",
        "allwords=''.join([twts for twts in new_data['title']])\n",
        "WordCloud=WordCloud(width=500,height=300,random_state=21,max_font_size=119).generate(allwords)\n",
        "plt.imshow(WordCloud,interpolation='bilinear')\n",
        "plt.axis('off')\n",
        "plt.show()"
      ],
      "execution_count": 155,
      "outputs": [
        {
          "output_type": "display_data",
          "data": {
            "image/png": "[encoded data removed]",
            "text/plain": [
              "<Figure size 432x288 with 1 Axes>"
            ]
          },
          "metadata": {
            "tags": [],
            "needs_background": "light"
          }
        }
      ]
    },
    {
      "cell_type": "markdown",
      "metadata": {
        "id": "dCAwezmx4GnK"
      },
      "source": [
        "**Provide a summary on one of the news articles. Comment on the summarisation quality**"
      ]
    },
    {
      "cell_type": "code",
      "metadata": {
        "id": "B-b82cLy7vcs",
        "outputId": "d506ad19-7502-470e-a46c-ebe2733ced48",
        "colab": {
          "base_uri": "https://localhost:8080/"
        }
      },
      "source": [
        "!pip install transformers"
      ],
      "execution_count": 156,
      "outputs": [
        {
          "output_type": "stream",
          "text": [
            "Requirement already satisfied: transformers in /usr/local/lib/python3.7/dist-packages (4.5.1)\n",
            "Requirement already satisfied: packaging in /usr/local/lib/python3.7/dist-packages (from transformers) (20.9)\n",
            "Requirement already satisfied: sacremoses in /usr/local/lib/python3.7/dist-packages (from transformers) (0.0.45)\n",
            "Requirement already satisfied: filelock in /usr/local/lib/python3.7/dist-packages (from transformers) (3.0.12)\n",
            "Requirement already satisfied: requests in /usr/local/lib/python3.7/dist-packages (from transformers) (2.23.0)\n",
            "Requirement already satisfied: tqdm>=4.27 in /usr/local/lib/python3.7/dist-packages (from transformers) (4.41.1)\n",
            "Requirement already satisfied: numpy>=1.17 in /usr/local/lib/python3.7/dist-packages (from transformers) (1.19.5)\n",
            "Requirement already satisfied: tokenizers<0.11,>=0.10.1 in /usr/local/lib/python3.7/dist-packages (from transformers) (0.10.2)\n",
            "Requirement already satisfied: importlib-metadata; python_version < \"3.8\" in /usr/local/lib/python3.7/dist-packages (from transformers) (3.10.1)\n",
            "Requirement already satisfied: regex!=2019.12.17 in /usr/local/lib/python3.7/dist-packages (from transformers) (2019.12.20)\n",
            "Requirement already satisfied: pyparsing>=2.0.2 in /usr/local/lib/python3.7/dist-packages (from packaging->transformers) (2.4.7)\n",
            "Requirement already satisfied: joblib in /usr/local/lib/python3.7/dist-packages (from sacremoses->transformers) (1.0.1)\n",
            "Requirement already satisfied: click in /usr/local/lib/python3.7/dist-packages (from sacremoses->transformers) (7.1.2)\n",
            "Requirement already satisfied: six in /usr/local/lib/python3.7/dist-packages (from sacremoses->transformers) (1.15.0)\n",
            "Requirement already satisfied: idna<3,>=2.5 in /usr/local/lib/python3.7/dist-packages (from requests->transformers) (2.10)\n",
            "Requirement already satisfied: certifi>=2017.4.17 in /usr/local/lib/python3.7/dist-packages (from requests->transformers) (2020.12.5)\n",
            "Requirement already satisfied: urllib3!=1.25.0,!=1.25.1,<1.26,>=1.21.1 in /usr/local/lib/python3.7/dist-packages (from requests->transformers) (1.24.3)\n",
            "Requirement already satisfied: chardet<4,>=3.0.2 in /usr/local/lib/python3.7/dist-packages (from requests->transformers) (3.0.4)\n",
            "Requirement already satisfied: typing-extensions>=3.6.4; python_version < \"3.8\" in /usr/local/lib/python3.7/dist-packages (from importlib-metadata; python_version < \"3.8\"->transformers) (3.7.4.3)\n",
            "Requirement already satisfied: zipp>=0.5 in /usr/local/lib/python3.7/dist-packages (from importlib-metadata; python_version < \"3.8\"->transformers) (3.4.1)\n"
          ],
          "name": "stdout"
        }
      ]
    },
    {
      "cell_type": "code",
      "metadata": {
        "id": "_hgVvR144JBc"
      },
      "source": [
        "from transformers import pipeline\n",
        "summarization=pipeline(\"summarization\")"
      ],
      "execution_count": 163,
      "outputs": []
    },
    {
      "cell_type": "code",
      "metadata": {
        "id": "bPWinKTH8grM",
        "outputId": "d75ae964-915b-4ee1-fb15-67f69b9bea7d",
        "colab": {
          "base_uri": "https://localhost:8080/",
          "height": 52
        }
      },
      "source": [
        "orginal_text=new_data['content']\n",
        "y=orginal_text[0]\n",
        "y\n"
      ],
      "execution_count": 164,
      "outputs": [
        {
          "output_type": "execute_result",
          "data": {
            "application/vnd.google.colaboratory.intrinsic+json": {
              "type": "string"
            },
            "text/plain": [
              "'The opinions of grassroots unionists \"are being ignored\" says the chairwoman of the Ulster Bands Forum.\\r\\nSpeaking to BBC News NI earlier Valerie Quinn from Coleraine says the DUP needs \"root and … [+791 chars]'"
            ]
          },
          "metadata": {
            "tags": []
          },
          "execution_count": 164
        }
      ]
    },
    {
      "cell_type": "code",
      "metadata": {
        "id": "CW2UV-Lo9eLd",
        "outputId": "46c2542b-5cf5-4fe1-8185-f7a34bbef1f0",
        "colab": {
          "base_uri": "https://localhost:8080/"
        }
      },
      "source": [
        "summary_text=summarization(y, max_length=50)[0]['summary_text']\n",
        "print(\"Summary:\", summary_text)"
      ],
      "execution_count": 162,
      "outputs": [
        {
          "output_type": "stream",
          "text": [
            "Summary:  Ulster Bands Forum chairwoman Valerie Quinn from Coleraine says the DUP needs \"root and … needs root\" Valerie Quinn says the opinions of grassroots unionists \"are being ignored\" by the DUP . Valerie Quinn is the chairwoman\n"
          ],
          "name": "stdout"
        }
      ]
    }
  ]
}