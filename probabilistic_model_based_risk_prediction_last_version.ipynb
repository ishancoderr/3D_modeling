{
  "nbformat": 4,
  "nbformat_minor": 0,
  "metadata": {
    "colab": {
      "provenance": [],
      "include_colab_link": true
    },
    "kernelspec": {
      "name": "python3",
      "display_name": "Python 3"
    },
    "language_info": {
      "name": "python"
    }
  },
  "cells": [
    {
      "cell_type": "markdown",
      "metadata": {
        "id": "view-in-github",
        "colab_type": "text"
      },
      "source": [
        "<a href=\"https://colab.research.google.com/github/ishancoderr/3D_modeling/blob/main/probabilistic_model_based_risk_prediction_last_version.ipynb\" target=\"_parent\"><img src=\"https://colab.research.google.com/assets/colab-badge.svg\" alt=\"Open In Colab\"/></a>"
      ]
    },
    {
      "cell_type": "code",
      "source": [
        "from google.colab import drive\n",
        "drive.mount('/content/drive')"
      ],
      "metadata": {
        "colab": {
          "base_uri": "https://localhost:8080/"
        },
        "id": "mPxfkTnlcKpb",
        "outputId": "894e3900-aeec-4977-a858-b8f5abd1f40a"
      },
      "execution_count": 8,
      "outputs": [
        {
          "output_type": "stream",
          "name": "stdout",
          "text": [
            "Drive already mounted at /content/drive; to attempt to forcibly remount, call drive.mount(\"/content/drive\", force_remount=True).\n"
          ]
        }
      ]
    },
    {
      "cell_type": "code",
      "execution_count": null,
      "metadata": {
        "colab": {
          "base_uri": "https://localhost:8080/"
        },
        "id": "Nn_9o_eRI1GY",
        "outputId": "fa7c76c3-4417-4109-d5e8-f48a8d5dd02d"
      },
      "outputs": [
        {
          "output_type": "stream",
          "name": "stdout",
          "text": [
            "['lib', 'etc', 'lib32', 'opt', 'media', 'sys', 'libx32', 'usr', 'proc', 'mnt', 'tmp', 'root', 'dev', 'sbin', 'srv', 'boot', 'home', 'var', 'bin', 'lib64', 'run', 'content', '.dockerenv', 'datalab', 'tools', 'python-apt', 'NGC-DL-CONTAINER-LICENSE']\n"
          ]
        }
      ],
      "source": [
        "import os\n",
        "root_folder = '/'\n",
        "print(os.listdir(root_folder))\n"
      ]
    },
    {
      "cell_type": "code",
      "source": [
        "current_directory = os.getcwd()\n",
        "print(current_directory)"
      ],
      "metadata": {
        "colab": {
          "base_uri": "https://localhost:8080/"
        },
        "id": "Xt23kEu0I2Y5",
        "outputId": "b9fbbeba-af44-46c9-fb94-ea58892ca7e8"
      },
      "execution_count": null,
      "outputs": [
        {
          "output_type": "stream",
          "name": "stdout",
          "text": [
            "/content\n"
          ]
        }
      ]
    },
    {
      "cell_type": "code",
      "source": [
        "!pip install rasterio"
      ],
      "metadata": {
        "id": "oApsBEBJKGif",
        "colab": {
          "base_uri": "https://localhost:8080/"
        },
        "outputId": "7d744634-9232-49c9-a5cc-e92ffd81d44c"
      },
      "execution_count": null,
      "outputs": [
        {
          "output_type": "stream",
          "name": "stdout",
          "text": [
            "Looking in indexes: https://pypi.org/simple, https://us-python.pkg.dev/colab-wheels/public/simple/\n",
            "Collecting rasterio\n",
            "  Downloading rasterio-1.3.6-cp310-cp310-manylinux_2_17_x86_64.manylinux2014_x86_64.whl (20.0 MB)\n",
            "\u001b[2K     \u001b[90m━━━━━━━━━━━━━━━━━━━━━━━━━━━━━━━━━━━━━━━━\u001b[0m \u001b[32m20.0/20.0 MB\u001b[0m \u001b[31m61.9 MB/s\u001b[0m eta \u001b[36m0:00:00\u001b[0m\n",
            "\u001b[?25hCollecting affine (from rasterio)\n",
            "  Downloading affine-2.4.0-py3-none-any.whl (15 kB)\n",
            "Requirement already satisfied: attrs in /usr/local/lib/python3.10/dist-packages (from rasterio) (23.1.0)\n",
            "Requirement already satisfied: certifi in /usr/local/lib/python3.10/dist-packages (from rasterio) (2022.12.7)\n",
            "Requirement already satisfied: click>=4.0 in /usr/local/lib/python3.10/dist-packages (from rasterio) (8.1.3)\n",
            "Collecting cligj>=0.5 (from rasterio)\n",
            "  Downloading cligj-0.7.2-py3-none-any.whl (7.1 kB)\n",
            "Requirement already satisfied: numpy>=1.18 in /usr/local/lib/python3.10/dist-packages (from rasterio) (1.22.4)\n",
            "Collecting snuggs>=1.4.1 (from rasterio)\n",
            "  Downloading snuggs-1.4.7-py3-none-any.whl (5.4 kB)\n",
            "Collecting click-plugins (from rasterio)\n",
            "  Downloading click_plugins-1.1.1-py2.py3-none-any.whl (7.5 kB)\n",
            "Requirement already satisfied: setuptools in /usr/local/lib/python3.10/dist-packages (from rasterio) (67.7.2)\n",
            "Requirement already satisfied: pyparsing>=2.1.6 in /usr/local/lib/python3.10/dist-packages (from snuggs>=1.4.1->rasterio) (3.0.9)\n",
            "Installing collected packages: snuggs, cligj, click-plugins, affine, rasterio\n",
            "Successfully installed affine-2.4.0 click-plugins-1.1.1 cligj-0.7.2 rasterio-1.3.6 snuggs-1.4.7\n"
          ]
        }
      ]
    },
    {
      "cell_type": "code",
      "source": [
        "import rasterio\n",
        "import matplotlib.pyplot as plt\n",
        "from numpy import asarray\n",
        "\n",
        "# Open raster and plot\n",
        "raster_Defomation = rasterio.open(\"/content/drive/MyDrive/Data/Deformation_LSI.tif\").read(1)\n",
        "raster_Slope = rasterio.open(\"/content/drive/MyDrive/Data/Slope_LSI.tif\").read(1)\n",
        "raster_Rainfall= rasterio.open(\"/content/drive/MyDrive/Data/Rainfall_LSI.tif\").read(1)\n",
        "raster_Landuse = rasterio.open(\"/content/drive/MyDrive/Data/Landuse_LSI.tif\").read(1)\n",
        "raster_Aspect = rasterio.open(\"/content/drive/MyDrive/Data/Aspect_LSI.tif\").read(1)"
      ],
      "metadata": {
        "id": "MvnTu1Am4Nzs",
        "colab": {
          "base_uri": "https://localhost:8080/",
          "height": 657
        },
        "outputId": "e6d1377a-139d-4f3a-d7e1-1b0bd5aef66b"
      },
      "execution_count": null,
      "outputs": [
        {
          "output_type": "error",
          "ename": "RasterioIOError",
          "evalue": "ignored",
          "traceback": [
            "\u001b[0;31m---------------------------------------------------------------------------\u001b[0m",
            "\u001b[0;31mCPLE_OpenFailedError\u001b[0m                      Traceback (most recent call last)",
            "\u001b[0;32mrasterio/_base.pyx\u001b[0m in \u001b[0;36mrasterio._base.DatasetBase.__init__\u001b[0;34m()\u001b[0m\n",
            "\u001b[0;32mrasterio/_base.pyx\u001b[0m in \u001b[0;36mrasterio._base.open_dataset\u001b[0;34m()\u001b[0m\n",
            "\u001b[0;32mrasterio/_err.pyx\u001b[0m in \u001b[0;36mrasterio._err.exc_wrap_pointer\u001b[0;34m()\u001b[0m\n",
            "\u001b[0;31mCPLE_OpenFailedError\u001b[0m: /content/drive/MyDrive/Data/Deformation_LSI.tif: No such file or directory",
            "\nDuring handling of the above exception, another exception occurred:\n",
            "\u001b[0;31mRasterioIOError\u001b[0m                           Traceback (most recent call last)",
            "\u001b[0;32m<ipython-input-6-38e1ef921229>\u001b[0m in \u001b[0;36m<cell line: 6>\u001b[0;34m()\u001b[0m\n\u001b[1;32m      4\u001b[0m \u001b[0;34m\u001b[0m\u001b[0m\n\u001b[1;32m      5\u001b[0m \u001b[0;31m# Open raster and plot\u001b[0m\u001b[0;34m\u001b[0m\u001b[0;34m\u001b[0m\u001b[0m\n\u001b[0;32m----> 6\u001b[0;31m \u001b[0mraster_Defomation\u001b[0m \u001b[0;34m=\u001b[0m \u001b[0mrasterio\u001b[0m\u001b[0;34m.\u001b[0m\u001b[0mopen\u001b[0m\u001b[0;34m(\u001b[0m\u001b[0;34m\"/content/drive/MyDrive/Data/Deformation_LSI.tif\"\u001b[0m\u001b[0;34m)\u001b[0m\u001b[0;34m.\u001b[0m\u001b[0mread\u001b[0m\u001b[0;34m(\u001b[0m\u001b[0;36m1\u001b[0m\u001b[0;34m)\u001b[0m\u001b[0;34m\u001b[0m\u001b[0;34m\u001b[0m\u001b[0m\n\u001b[0m\u001b[1;32m      7\u001b[0m \u001b[0mraster_Slope\u001b[0m \u001b[0;34m=\u001b[0m \u001b[0mrasterio\u001b[0m\u001b[0;34m.\u001b[0m\u001b[0mopen\u001b[0m\u001b[0;34m(\u001b[0m\u001b[0;34m\"/content/drive/MyDrive/Data/Slope_LSI.tif\"\u001b[0m\u001b[0;34m)\u001b[0m\u001b[0;34m.\u001b[0m\u001b[0mread\u001b[0m\u001b[0;34m(\u001b[0m\u001b[0;36m1\u001b[0m\u001b[0;34m)\u001b[0m\u001b[0;34m\u001b[0m\u001b[0;34m\u001b[0m\u001b[0m\n\u001b[1;32m      8\u001b[0m \u001b[0mraster_Rainfall\u001b[0m\u001b[0;34m=\u001b[0m \u001b[0mrasterio\u001b[0m\u001b[0;34m.\u001b[0m\u001b[0mopen\u001b[0m\u001b[0;34m(\u001b[0m\u001b[0;34m\"/content/drive/MyDrive/Data/Rainfall_LSI.tif\"\u001b[0m\u001b[0;34m)\u001b[0m\u001b[0;34m.\u001b[0m\u001b[0mread\u001b[0m\u001b[0;34m(\u001b[0m\u001b[0;36m1\u001b[0m\u001b[0;34m)\u001b[0m\u001b[0;34m\u001b[0m\u001b[0;34m\u001b[0m\u001b[0m\n",
            "\u001b[0;32m/usr/local/lib/python3.10/dist-packages/rasterio/env.py\u001b[0m in \u001b[0;36mwrapper\u001b[0;34m(*args, **kwds)\u001b[0m\n\u001b[1;32m    449\u001b[0m \u001b[0;34m\u001b[0m\u001b[0m\n\u001b[1;32m    450\u001b[0m         \u001b[0;32mwith\u001b[0m \u001b[0menv_ctor\u001b[0m\u001b[0;34m(\u001b[0m\u001b[0msession\u001b[0m\u001b[0;34m=\u001b[0m\u001b[0msession\u001b[0m\u001b[0;34m)\u001b[0m\u001b[0;34m:\u001b[0m\u001b[0;34m\u001b[0m\u001b[0;34m\u001b[0m\u001b[0m\n\u001b[0;32m--> 451\u001b[0;31m             \u001b[0;32mreturn\u001b[0m \u001b[0mf\u001b[0m\u001b[0;34m(\u001b[0m\u001b[0;34m*\u001b[0m\u001b[0margs\u001b[0m\u001b[0;34m,\u001b[0m \u001b[0;34m**\u001b[0m\u001b[0mkwds\u001b[0m\u001b[0;34m)\u001b[0m\u001b[0;34m\u001b[0m\u001b[0;34m\u001b[0m\u001b[0m\n\u001b[0m\u001b[1;32m    452\u001b[0m \u001b[0;34m\u001b[0m\u001b[0m\n\u001b[1;32m    453\u001b[0m     \u001b[0;32mreturn\u001b[0m \u001b[0mwrapper\u001b[0m\u001b[0;34m\u001b[0m\u001b[0;34m\u001b[0m\u001b[0m\n",
            "\u001b[0;32m/usr/local/lib/python3.10/dist-packages/rasterio/__init__.py\u001b[0m in \u001b[0;36mopen\u001b[0;34m(fp, mode, driver, width, height, count, crs, transform, dtype, nodata, sharing, **kwargs)\u001b[0m\n\u001b[1;32m    302\u001b[0m \u001b[0;34m\u001b[0m\u001b[0m\n\u001b[1;32m    303\u001b[0m         \u001b[0;32mif\u001b[0m \u001b[0mmode\u001b[0m \u001b[0;34m==\u001b[0m \u001b[0;34m\"r\"\u001b[0m\u001b[0;34m:\u001b[0m\u001b[0;34m\u001b[0m\u001b[0;34m\u001b[0m\u001b[0m\n\u001b[0;32m--> 304\u001b[0;31m             \u001b[0mdataset\u001b[0m \u001b[0;34m=\u001b[0m \u001b[0mDatasetReader\u001b[0m\u001b[0;34m(\u001b[0m\u001b[0mpath\u001b[0m\u001b[0;34m,\u001b[0m \u001b[0mdriver\u001b[0m\u001b[0;34m=\u001b[0m\u001b[0mdriver\u001b[0m\u001b[0;34m,\u001b[0m \u001b[0msharing\u001b[0m\u001b[0;34m=\u001b[0m\u001b[0msharing\u001b[0m\u001b[0;34m,\u001b[0m \u001b[0;34m**\u001b[0m\u001b[0mkwargs\u001b[0m\u001b[0;34m)\u001b[0m\u001b[0;34m\u001b[0m\u001b[0;34m\u001b[0m\u001b[0m\n\u001b[0m\u001b[1;32m    305\u001b[0m         \u001b[0;32melif\u001b[0m \u001b[0mmode\u001b[0m \u001b[0;34m==\u001b[0m \u001b[0;34m\"r+\"\u001b[0m\u001b[0;34m:\u001b[0m\u001b[0;34m\u001b[0m\u001b[0;34m\u001b[0m\u001b[0m\n\u001b[1;32m    306\u001b[0m             dataset = get_writer_for_path(path, driver=driver)(\n",
            "\u001b[0;32mrasterio/_base.pyx\u001b[0m in \u001b[0;36mrasterio._base.DatasetBase.__init__\u001b[0;34m()\u001b[0m\n",
            "\u001b[0;31mRasterioIOError\u001b[0m: /content/drive/MyDrive/Data/Deformation_LSI.tif: No such file or directory"
          ]
        }
      ]
    },
    {
      "cell_type": "code",
      "source": [
        "parameter_set=[]\n",
        "img_Defomation=asarray(raster_Defomation)\n",
        "img_Aspect=asarray(raster_Aspect )\n",
        "img_Slope=asarray(raster_Slope)\n",
        "img_Rainfall=asarray(raster_Rainfall )\n",
        "img_Landuse=asarray(raster_Landuse)\n",
        "parameter_set.append(img_Slope)\n",
        "parameter_set.append(img_Aspect)\n",
        "parameter_set.append(img_Defomation)\n",
        "parameter_set.append(img_Rainfall)\n",
        "parameter_set.append(img_Landuse)"
      ],
      "metadata": {
        "id": "uJacaky14bK6"
      },
      "execution_count": null,
      "outputs": []
    },
    {
      "cell_type": "code",
      "source": [
        "rows = len(parameter_set[2])\n",
        "cols = len(parameter_set[2][0])\n",
        "print(rows,cols)"
      ],
      "metadata": {
        "colab": {
          "base_uri": "https://localhost:8080/"
        },
        "id": "HcB91BQz7tl1",
        "outputId": "c67e1749-7e15-4592-f5bb-ae7fb35c90fb"
      },
      "execution_count": null,
      "outputs": [
        {
          "output_type": "stream",
          "name": "stdout",
          "text": [
            "2744 3290\n"
          ]
        }
      ]
    },
    {
      "cell_type": "code",
      "source": [
        "new_probabilities={}\n",
        "parameter_dict=[]\n",
        "sope_dict={}\n",
        "aspect_dict={}\n",
        "defomation_dict={}\n",
        "rainfall_dict={}\n",
        "landuse_dict={}\n",
        "\n",
        "parameter_dict.append(sope_dict)\n",
        "parameter_dict.append(aspect_dict)\n",
        "parameter_dict.append(defomation_dict)\n",
        "parameter_dict.append(rainfall_dict)\n",
        "parameter_dict.append(landuse_dict)\n",
        "for num in range(len(parameter_dict)):\n",
        "  print(num)\n",
        "  rows = len(parameter_set[num])\n",
        "  cols = len(parameter_set[num][0])\n",
        "  for i in range(rows):\n",
        "    for j in range(cols):\n",
        "      if parameter_set[num][i,j] in parameter_dict[num]:\n",
        "        parameter_dict[num][parameter_set[num][i,j]]+=1\n",
        "      else:\n",
        "        parameter_dict[num][parameter_set[num][i,j]]= 1\n",
        "\n",
        "  sum=0\n",
        "  for i,j in parameter_dict[num].items():\n",
        "    if(i!=127 and i!=2147483647 and i!=65536 and i!=0):\n",
        "      sum=sum+j\n",
        "\n",
        "  for i,j in parameter_dict[num].items():\n",
        "    if(i!=127 and i!=2147483647 and i!=65536 and i!=0):\n",
        "      print(f\"{i} value parameter_dict {num}:{j}/{sum}\")\n",
        "      new_probabilities[f'{num}_{i}']=j/sum\n",
        "print(new_probabilities)"
      ],
      "metadata": {
        "colab": {
          "base_uri": "https://localhost:8080/"
        },
        "id": "MUAfIsOZ8GRH",
        "outputId": "92f9bad1-729e-4c2e-89f8-6be441c3f55d"
      },
      "execution_count": null,
      "outputs": [
        {
          "output_type": "stream",
          "name": "stdout",
          "text": [
            "0\n",
            "2 value parameter_dict 0:130519/139543\n",
            "1 value parameter_dict 0:5987/139543\n",
            "4 value parameter_dict 0:3037/139543\n",
            "1\n",
            "1 value parameter_dict 1:69131/139543\n",
            "2 value parameter_dict 1:36110/139543\n",
            "3 value parameter_dict 1:34302/139543\n",
            "2\n",
            "3 value parameter_dict 2:72336/139543\n",
            "2 value parameter_dict 2:57672/139543\n",
            "1 value parameter_dict 2:9535/139543\n",
            "3\n",
            "3 value parameter_dict 3:26462/139543\n",
            "2 value parameter_dict 3:70924/139543\n",
            "1 value parameter_dict 3:42157/139543\n",
            "4\n",
            "2 value parameter_dict 4:41286/139543\n",
            "3 value parameter_dict 4:45033/139543\n",
            "4 value parameter_dict 4:37573/139543\n",
            "1 value parameter_dict 4:15651/139543\n",
            "{'0_2': 0.9353317615358706, '0_1': 0.04290433773102198, '0_4': 0.02176390073310736, '1_1': 0.4954100169840121, '1_2': 0.2587732813541346, '1_3': 0.24581670166185335, '2_3': 0.5183778476885261, '2_2': 0.41329196018431597, '2_1': 0.06833019212715793, '3_3': 0.18963330299620906, '3_2': 0.5082591029288464, '3_1': 0.30210759407494464, '4_2': 0.29586579047318745, '4_3': 0.32271772858545394, '4_4': 0.2692575048551343, '4_1': 0.11215897608622431}\n"
          ]
        }
      ]
    },
    {
      "cell_type": "code",
      "source": [
        "\n",
        "# Open raster and plot\n",
        "raster_Defomation_WRA = rasterio.open(\"/content/drive/MyDrive/Data/Deformation.tif\").read(1)\n",
        "raster_Aspect_WRA = rasterio.open(\"/content/drive/MyDrive/Data/Aspect.tif\").read(1)\n",
        "raster_Slope_WRA = rasterio.open(\"/content/drive/MyDrive/Data/Slope.tif\").read(1)\n",
        "raster_Rainfall_WRA = rasterio.open(\"/content/drive/MyDrive/Data/Rainfall.tif\").read(1)\n",
        "raster_Landuse_WRA = rasterio.open(\"/content/drive/MyDrive/Data/Landuse.tif\").read(1)"
      ],
      "metadata": {
        "id": "LbmhV6338T31"
      },
      "execution_count": null,
      "outputs": []
    },
    {
      "cell_type": "code",
      "source": [
        "parameter_set=[]\n",
        "img_Defomation_WRA=asarray(raster_Defomation_WRA)\n",
        "img_Aspect_WRA=asarray(raster_Aspect_WRA)\n",
        "img_Slope_WRA=asarray(raster_Slope_WRA)\n",
        "img_Rainfall_WRA=asarray(raster_Rainfall_WRA)\n",
        "img_Landuse_WRA=asarray(raster_Landuse_WRA)\n",
        "parameter_set.append(raster_Slope_WRA)\n",
        "parameter_set.append(raster_Aspect_WRA)\n",
        "parameter_set.append(img_Defomation_WRA)\n",
        "parameter_set.append(img_Rainfall_WRA)\n",
        "parameter_set.append(img_Landuse_WRA)\n",
        "     "
      ],
      "metadata": {
        "id": "AVNcKwvo8kiK"
      },
      "execution_count": null,
      "outputs": []
    },
    {
      "cell_type": "code",
      "source": [
        "d={}\n",
        "\n",
        "for i in range(rows):\n",
        "  for j in range(cols):\n",
        "    if img_Defomation_WRA[i,j] in d:\n",
        "      d[img_Defomation_WRA[i,j]]+=1\n",
        "    else:\n",
        "      d[img_Defomation_WRA[i,j]]= 1\n",
        "print(d)"
      ],
      "metadata": {
        "colab": {
          "base_uri": "https://localhost:8080/"
        },
        "id": "cBedRnzZ8qjn",
        "outputId": "5c236a6c-a4e3-4a6b-8f5b-96b23cd8493e"
      },
      "execution_count": null,
      "outputs": [
        {
          "output_type": "stream",
          "name": "stdout",
          "text": [
            "{127: 2436908, 2: 3272735, 3: 2120345, 1: 1197772}\n"
          ]
        }
      ]
    },
    {
      "cell_type": "code",
      "source": [
        "rows = len(parameter_set[0])\n",
        "cols = len(parameter_set[0][0])\n",
        "print(rows,cols)"
      ],
      "metadata": {
        "colab": {
          "base_uri": "https://localhost:8080/"
        },
        "id": "1rYCWl3c82B_",
        "outputId": "e60c0ff7-5200-4bc2-a18e-5aba6588d924"
      },
      "execution_count": null,
      "outputs": [
        {
          "output_type": "stream",
          "name": "stdout",
          "text": [
            "3152 4557\n"
          ]
        }
      ]
    },
    {
      "cell_type": "code",
      "source": [
        "\n",
        "slope = [[0 for j in range(cols)] for i in range(rows)]\n",
        "aspect= [[0 for j in range(cols)] for i in range(rows)]\n",
        "defomation=[[0 for j in range(cols)] for i in range(rows)]\n",
        "rainfall= [[0 for j in range(cols)] for i in range(rows)]\n",
        "landuse=[[0 for j in range(cols)] for i in range(rows)]\n",
        "for layer_index in range(len(parameter_set)):\n",
        "    for i in range(rows):\n",
        "        for j in range(cols):\n",
        "            x = f\"{layer_index}_{parameter_set[layer_index][i][j]}\"\n",
        "            if x in new_probabilities.keys():\n",
        "              if layer_index==0:\n",
        "                slope[i][j] = new_probabilities[x]\n",
        "              elif layer_index==1:\n",
        "                aspect[i][j] = new_probabilities[x]\n",
        "              elif layer_index==2:\n",
        "                defomation[i][j] = new_probabilities[x]\n",
        "              elif layer_index==3:\n",
        "                rainfall[i][j] = new_probabilities[x]               \n",
        "              elif layer_index==4:\n",
        "                landuse[i][j] = new_probabilities[x]\n",
        "\n",
        "final_array=[[0 for j in range(cols)] for i in range(rows)]\n",
        "for i in range(rows):\n",
        "  for j in range(cols):\n",
        "    final_array[i][j]=slope[i][j]*aspect[i][j]*defomation[i][j]*rainfall[i][j]*landuse[i][j]"
      ],
      "metadata": {
        "id": "dJYiB3Ul-lLm"
      },
      "execution_count": null,
      "outputs": []
    },
    {
      "cell_type": "code",
      "source": [
        "import numpy as np\n",
        "from PIL import Image"
      ],
      "metadata": {
        "id": "ttWgs-5U-8r3"
      },
      "execution_count": null,
      "outputs": []
    },
    {
      "cell_type": "code",
      "source": [
        "min_value = np.min(final_array)\n",
        "max_value = np.max(final_array)\n",
        "# Define categories array with zeros of shape same as final_array\n",
        "categories = np.zeros_like(final_array)\n",
        "# Categorize the values based on the min and max values\n",
        "for i in range(rows):\n",
        "    for j in range(cols):\n",
        "        if final_array[i][j] < min_value + (max_value - min_value) / 4:\n",
        "            categories[i][j] = 1\n",
        "        elif final_array[i][j] < min_value + (max_value - min_value) / 2:\n",
        "            categories[i][j] = 2\n",
        "        elif final_array[i][j] < min_value + (max_value - min_value) * 3 / 4:\n",
        "            categories[i][j] = 3\n",
        "        else:\n",
        "            categories[i][j] = 4\n",
        "\n",
        "# Create a colormap for the categories\n",
        "colormap = {\n",
        "    1: (0, 0, 255),   # blue\n",
        "    2: (255, 255, 255), #black\n",
        "    3: (255, 255, 0),   # yellow\n",
        "    4: (255, 0, 0)    # red\n",
        "}\n",
        "\n",
        "# Create an image from the categories\n",
        "image_data = np.zeros((rows, cols, 3), dtype=np.uint8)\n",
        "for i in range(rows):\n",
        "    for j in range(cols):\n",
        "        image_data[i][j] = colormap[categories[i][j]]\n",
        "image = Image.fromarray(image_data)\n",
        "\n",
        "image.save(\"categories.tif\")\n",
        "#this file wats to single band image"
      ],
      "metadata": {
        "id": "CdDfGht5A94O"
      },
      "execution_count": null,
      "outputs": []
    },
    {
      "cell_type": "code",
      "source": [
        "\n",
        "img = Image.open(\"/content/categories.tif\")\n",
        "img_array = np.array(img)"
      ],
      "metadata": {
        "id": "ryAN4lGhzXbG"
      },
      "execution_count": null,
      "outputs": []
    },
    {
      "cell_type": "code",
      "source": [
        "\n",
        "single_band_array = np.zeros((img_array.shape[0], img_array.shape[1]), dtype=np.uint8)"
      ],
      "metadata": {
        "id": "n7PUovPezYxB"
      },
      "execution_count": null,
      "outputs": []
    },
    {
      "cell_type": "code",
      "source": [
        "\n",
        "for i in range(img_array.shape[0]):\n",
        "    for j in range(img_array.shape[1]):\n",
        "        if np.all(img_array[i,j,:] == [0, 0, 255]):  # blue\n",
        "            single_band_array[i,j] = 1\n",
        "        elif np.all(img_array[i,j,:] == [255, 255, 255]):  # white\n",
        "            single_band_array[i,j] = 2\n",
        "        elif np.all(img_array[i,j,:] == [255, 255, 0]):  # yellow\n",
        "            single_band_array[i,j] = 3\n",
        "        elif np.all(img_array[i,j,:] == [255, 0, 0]):  # red\n",
        "            single_band_array[i,j] = 4\n"
      ],
      "metadata": {
        "id": "_wxaRNnFzf7u"
      },
      "execution_count": null,
      "outputs": []
    },
    {
      "cell_type": "code",
      "source": [
        "\n",
        "single_band_img = Image.fromarray(single_band_array)\n",
        "single_band_img.save(\"/content/output_image.tif\")"
      ],
      "metadata": {
        "id": "FOkueukQzjbL"
      },
      "execution_count": null,
      "outputs": []
    },
    {
      "cell_type": "code",
      "source": [
        "from osgeo import gdal, osr\n",
        "\n",
        "\n",
        "src_ds = gdal.Open('/content/Slope.tif')\n",
        "dst_ds = gdal.Open('/content/output_image.tif', gdal.GA_Update)\n",
        "\n",
        "# Get the geotransform and spatial reference information from the source file\n",
        "src_geotransform = src_ds.GetGeoTransform()\n",
        "src_proj = src_ds.GetProjection()\n",
        "src_srs = osr.SpatialReference()\n",
        "src_srs.ImportFromWkt(src_proj)\n",
        "\n",
        "\n",
        "dst_ds.SetGeoTransform(src_geotransform)\n",
        "dst_ds.SetProjection(src_proj)\n",
        "\n",
        "src_ds = None\n",
        "dst_ds = None\n"
      ],
      "metadata": {
        "id": "QJ9B410AyTYW"
      },
      "execution_count": null,
      "outputs": []
    },
    {
      "cell_type": "code",
      "source": [
        "\n",
        "from osgeo import gdal\n",
        "\n",
        "# Open the tiff file\n",
        "ds = gdal.Open('/content/Reclassified.tif')\n",
        "\n",
        "# Get the geotransform and spatial reference information from the file\n",
        "geotransform = ds.GetGeoTransform()\n",
        "srs = osr.SpatialReference()\n",
        "srs.ImportFromWkt(ds.GetProjection())\n",
        "\n",
        "# Define the point to check\n",
        "lon = 6.747836\n",
        "lat = 80.664644\n",
        "\n",
        "\n",
        "point_srs = osr.SpatialReference()\n",
        "point_srs.ImportFromEPSG(4326)  # WGS 84\n",
        "transform = osr.CoordinateTransformation(point_srs, srs)\n",
        "point = transform.TransformPoint(lon, lat)\n",
        "\n",
        "x, y = point[0], point[1]\n",
        "if (x >= geotransform[0] and x <= geotransform[0] + geotransform[1] * ds.RasterXSize and \n",
        "    y <= geotransform[3] and y >= geotransform[3] + geotransform[5] * ds.RasterYSize):\n",
        "    print(\"The point is within the extent of the TIFF file.\")\n",
        "    \n",
        "    # Get the raster band\n",
        "    band = ds.GetRasterBand(1)\n",
        "    \n",
        "    # Get the value of the pixel at the location\n",
        "    px = int((x - geotransform[0]) / geotransform[1])\n",
        "    py = int((y - geotransform[3]) / geotransform[5])\n",
        "    pixel_value = band.ReadAsArray(px, py, 1, 1)[0][0]\n",
        "    \n",
        "    print(\"Pixel value at the location is:\", pixel_value)\n",
        "    \n",
        "else:\n",
        "    print(\"The point is not within the extent of the TIFF file.\")\n",
        "    \n",
        "# Close the file\n",
        "ds = None\n",
        "print(\"GDAL version:\", gdal.__version__)\n",
        "     "
      ],
      "metadata": {
        "id": "Lp4GeqkWy6EZ"
      },
      "execution_count": null,
      "outputs": []
    }
  ]
}