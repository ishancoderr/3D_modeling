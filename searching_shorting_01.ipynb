{
  "nbformat": 4,
  "nbformat_minor": 0,
  "metadata": {
    "colab": {
      "provenance": [],
      "authorship_tag": "ABX9TyMKFCj13k/sw7MM+GZGIrjw",
      "include_colab_link": true
    },
    "kernelspec": {
      "name": "python3",
      "display_name": "Python 3"
    },
    "language_info": {
      "name": "python"
    }
  },
  "cells": [
    {
      "cell_type": "markdown",
      "metadata": {
        "id": "view-in-github",
        "colab_type": "text"
      },
      "source": [
        "<a href=\"https://colab.research.google.com/github/ishancoderr/3D_modeling/blob/main/searching_shorting_01.ipynb\" target=\"_parent\"><img src=\"https://colab.research.google.com/assets/colab-badge.svg\" alt=\"Open In Colab\"/></a>"
      ]
    },
    {
      "cell_type": "code",
      "execution_count": 15,
      "metadata": {
        "id": "UN1dLkoICJaZ"
      },
      "outputs": [],
      "source": [
        "def binary_search(arr,ele):\n",
        "  first=0\n",
        "  last=len(arr)-1\n",
        "\n",
        "  found=False\n",
        "  while first<=last and not found:\n",
        "    mid=int((first+last)/2)\n",
        "    \n",
        "    if arr[mid]== ele:\n",
        "      found=True\n",
        "    else:\n",
        "      if ele < arr[mid]:\n",
        "        last=mid-1\n",
        "      else:\n",
        "        first=mid+1\n",
        "  return found\n",
        "\n",
        "  \n"
      ]
    },
    {
      "cell_type": "code",
      "source": [
        "arr=[1,2,3,4,5,6,7,8,9]\n",
        "binary_search(arr,3)"
      ],
      "metadata": {
        "colab": {
          "base_uri": "https://localhost:8080/"
        },
        "id": "-_82HFhFJM6U",
        "outputId": "9a1ce0c7-c505-4c13-e278-d25161819a4f"
      },
      "execution_count": 16,
      "outputs": [
        {
          "output_type": "execute_result",
          "data": {
            "text/plain": [
              "True"
            ]
          },
          "metadata": {},
          "execution_count": 16
        }
      ]
    },
    {
      "cell_type": "code",
      "source": [
        "arr=[12,5,7]\n",
        "\n",
        "for n in range(len(arr)-1,0,-1):\n",
        "  print(\"this is n:\",n)\n",
        "  for k in range(n):\n",
        "    print(\"this is k:\",k)\n",
        "    if arr[k]>arr[k+1]:\n",
        "      temp=arr[k]\n",
        "      arr[k]=arr[k+1]\n",
        "      arr[k+1]=temp\n",
        "\n",
        "print(arr)"
      ],
      "metadata": {
        "colab": {
          "base_uri": "https://localhost:8080/"
        },
        "id": "kI5m2qmQUMUH",
        "outputId": "ffdd509e-5a35-48ed-e3b8-eecdc5e2c66e"
      },
      "execution_count": 26,
      "outputs": [
        {
          "output_type": "stream",
          "name": "stdout",
          "text": [
            "this is n: 2\n",
            "this is k: 0\n",
            "this is k: 1\n",
            "this is n: 1\n",
            "this is k: 0\n",
            "[5, 7, 12]\n"
          ]
        }
      ]
    }
  ]
}