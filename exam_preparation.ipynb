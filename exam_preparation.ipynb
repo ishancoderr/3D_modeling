{
  "nbformat": 4,
  "nbformat_minor": 0,
  "metadata": {
    "colab": {
      "provenance": [],
      "authorship_tag": "ABX9TyMDc69DHy9f5pHXhrIsqg4W",
      "include_colab_link": true
    },
    "kernelspec": {
      "name": "python3",
      "display_name": "Python 3"
    },
    "language_info": {
      "name": "python"
    }
  },
  "cells": [
    {
      "cell_type": "markdown",
      "metadata": {
        "id": "view-in-github",
        "colab_type": "text"
      },
      "source": [
        "<a href=\"https://colab.research.google.com/github/ishancoderr/3D_modeling/blob/main/exam_preparation.ipynb\" target=\"_parent\"><img src=\"https://colab.research.google.com/assets/colab-badge.svg\" alt=\"Open In Colab\"/></a>"
      ]
    },
    {
      "cell_type": "code",
      "source": [
        "print(pi)"
      ],
      "metadata": {
        "colab": {
          "base_uri": "https://localhost:8080/"
        },
        "id": "5AKrJKPGVKLW",
        "outputId": "89347d6b-eefb-4d28-9b0e-93b2c590422c"
      },
      "execution_count": 54,
      "outputs": [
        {
          "output_type": "stream",
          "name": "stdout",
          "text": [
            "3.141592653589793\n"
          ]
        }
      ]
    },
    {
      "cell_type": "markdown",
      "source": [
        "# **2019 Paper**"
      ],
      "metadata": {
        "id": "wL_9SHJJeWY_"
      }
    },
    {
      "cell_type": "code",
      "source": [
        "!pip install GDAL"
      ],
      "metadata": {
        "colab": {
          "base_uri": "https://localhost:8080/"
        },
        "id": "xqSaf8w5VNAF",
        "outputId": "a139a59e-f176-456a-d224-d71c2cc3fa48"
      },
      "execution_count": 55,
      "outputs": [
        {
          "output_type": "stream",
          "name": "stdout",
          "text": [
            "Looking in indexes: https://pypi.org/simple, https://us-python.pkg.dev/colab-wheels/public/simple/\n",
            "Requirement already satisfied: GDAL in /usr/local/lib/python3.8/dist-packages (2.2.2)\n"
          ]
        }
      ]
    },
    {
      "cell_type": "code",
      "source": [
        "!pip install numpy\n"
      ],
      "metadata": {
        "colab": {
          "base_uri": "https://localhost:8080/"
        },
        "id": "RxDotCzzOJFe",
        "outputId": "841e6cef-0358-4e01-d611-5a56b990af4c"
      },
      "execution_count": 56,
      "outputs": [
        {
          "output_type": "stream",
          "name": "stdout",
          "text": [
            "Looking in indexes: https://pypi.org/simple, https://us-python.pkg.dev/colab-wheels/public/simple/\n",
            "Requirement already satisfied: numpy in /usr/local/lib/python3.8/dist-packages (1.21.6)\n"
          ]
        }
      ]
    },
    {
      "cell_type": "code",
      "source": [
        "from osgeo import ogr"
      ],
      "metadata": {
        "id": "C2kEgEVTQ2q1"
      },
      "execution_count": 57,
      "outputs": []
    },
    {
      "cell_type": "code",
      "source": [
        "#question paper problem: they didnt import ogr library in osgeo package hence this error comming\n",
        "#NameError: name 'ogr' is not defined\n",
        "\n",
        "wkt=\"LINESTRING(4565.676 7878.888,6767.899 8999.9,9848.78 8888.636,737.33 7889.3345)\"\n",
        "geom=ogr.CreateGeometryFromWkt(wkt)\n",
        "print(\"geometry has \"+str(geom.GetPointCount())+\" points\")"
      ],
      "metadata": {
        "colab": {
          "base_uri": "https://localhost:8080/"
        },
        "id": "9PSXHx5IPk4V",
        "outputId": "4ae08912-630e-430d-a63a-6262b971f544"
      },
      "execution_count": 58,
      "outputs": [
        {
          "output_type": "stream",
          "name": "stdout",
          "text": [
            "geometry has 4 points\n"
          ]
        }
      ]
    },
    {
      "cell_type": "code",
      "source": [
        "# r want to change becouse python is case sensitive language\n",
        "\n",
        "r=100\n",
        "Area=pi*r**2\n",
        "print(\"Area of circle is \" +str(Area))"
      ],
      "metadata": {
        "colab": {
          "base_uri": "https://localhost:8080/"
        },
        "id": "KPeV4M1pRDQF",
        "outputId": "dd4887d1-7c80-471d-a3e0-1fc7eecb5f34"
      },
      "execution_count": 59,
      "outputs": [
        {
          "output_type": "stream",
          "name": "stdout",
          "text": [
            "Area of circle is 31415.926535897932\n"
          ]
        }
      ]
    },
    {
      "cell_type": "code",
      "source": [
        "R=10\n",
        "h=23\n",
        "cylinder_volume=pi*R**2*h\n",
        "cylinder_area=(2*pi*R**2)+(pi*R*h)\n",
        "print(cylinder_volume)\n",
        "print(cylinder_area)"
      ],
      "metadata": {
        "colab": {
          "base_uri": "https://localhost:8080/"
        },
        "id": "Rsx7mUUtUKF-",
        "outputId": "c0fc0c73-49b6-49ac-db50-1bf70a256950"
      },
      "execution_count": 60,
      "outputs": [
        {
          "output_type": "stream",
          "name": "stdout",
          "text": [
            "7225.663103256525\n",
            "1350.8848410436112\n"
          ]
        }
      ]
    },
    {
      "cell_type": "code",
      "source": [
        "x=int(input(\"please input number:\"))\n",
        "if x>=0 and x<=20:\n",
        "  print (\"number within 0-20 range\")\n",
        "elif x>=20 and x<=50:\n",
        "  print (\"number within 20-50 range\")\n",
        "elif x>=50 and x<=80:\n",
        "  print (\"number within 50-80 range\")\n",
        "else:\n",
        "  print(\"out of range\")"
      ],
      "metadata": {
        "colab": {
          "base_uri": "https://localhost:8080/"
        },
        "id": "kdO9lzFrUxZ-",
        "outputId": "393cf66a-502b-4a39-b9a2-51c5a82b688f"
      },
      "execution_count": 61,
      "outputs": [
        {
          "output_type": "stream",
          "name": "stdout",
          "text": [
            "please input number:23\n",
            "number within 20-50 range\n"
          ]
        }
      ]
    },
    {
      "cell_type": "code",
      "source": [
        "print(14//4,14%4,14.0/4,14/4)"
      ],
      "metadata": {
        "colab": {
          "base_uri": "https://localhost:8080/"
        },
        "id": "4UZDRA4FcVSo",
        "outputId": "e06aeb80-24f1-4c87-a071-10f06a3d313d"
      },
      "execution_count": 62,
      "outputs": [
        {
          "output_type": "stream",
          "name": "stdout",
          "text": [
            "3 2 3.5 3.5\n"
          ]
        }
      ]
    },
    {
      "cell_type": "code",
      "source": [
        "print(2*'No'+3*'!')"
      ],
      "metadata": {
        "colab": {
          "base_uri": "https://localhost:8080/"
        },
        "id": "w56Ij5djc1D-",
        "outputId": "cd071c8f-88cb-4cfc-c32c-43d27b20c0d8"
      },
      "execution_count": 63,
      "outputs": [
        {
          "output_type": "stream",
          "name": "stdout",
          "text": [
            "NoNo!!!\n"
          ]
        }
      ]
    },
    {
      "cell_type": "code",
      "source": [
        "print('2'+'3')"
      ],
      "metadata": {
        "colab": {
          "base_uri": "https://localhost:8080/"
        },
        "id": "ga3ZbYnxc_i_",
        "outputId": "5851e96a-a58b-46ea-f60a-093d8f8f4227"
      },
      "execution_count": 64,
      "outputs": [
        {
          "output_type": "stream",
          "name": "stdout",
          "text": [
            "23\n"
          ]
        }
      ]
    },
    {
      "cell_type": "code",
      "source": [
        "x1=(15,16)\n",
        "x2=('abc','xyz')\n",
        "x3=x1+x2\n",
        "print(x3)"
      ],
      "metadata": {
        "colab": {
          "base_uri": "https://localhost:8080/"
        },
        "id": "25jnOV9BdGrm",
        "outputId": "0b511777-c341-42dd-d2f4-38762a20b7eb"
      },
      "execution_count": 65,
      "outputs": [
        {
          "output_type": "stream",
          "name": "stdout",
          "text": [
            "(15, 16, 'abc', 'xyz')\n"
          ]
        }
      ]
    },
    {
      "cell_type": "code",
      "source": [
        "a=0\n",
        "b=5\n",
        "while a<b:\n",
        "  print(a)\n",
        "  a=a+1"
      ],
      "metadata": {
        "colab": {
          "base_uri": "https://localhost:8080/"
        },
        "id": "kv5HfnYwdew_",
        "outputId": "d4eaec6d-b537-46e5-e4df-2b8bba80d925"
      },
      "execution_count": 66,
      "outputs": [
        {
          "output_type": "stream",
          "name": "stdout",
          "text": [
            "0\n",
            "1\n",
            "2\n",
            "3\n",
            "4\n"
          ]
        }
      ]
    },
    {
      "cell_type": "markdown",
      "source": [
        "# **2020 paper**"
      ],
      "metadata": {
        "id": "vHM4gunKeeHv"
      }
    },
    {
      "cell_type": "code",
      "source": [
        "mystring='GIS Customization'\n",
        "print(mystring[0])\n",
        "print(mystring[0:3])"
      ],
      "metadata": {
        "colab": {
          "base_uri": "https://localhost:8080/"
        },
        "id": "Uiknkf-gd1NB",
        "outputId": "01fe09c9-caf9-4932-ed48-87aa67339df8"
      },
      "execution_count": 88,
      "outputs": [
        {
          "output_type": "stream",
          "name": "stdout",
          "text": [
            "G\n",
            "GIS\n"
          ]
        }
      ]
    },
    {
      "cell_type": "code",
      "source": [
        "mylist=[1,2,3,4,5,6]\n",
        "print(mylist[3])"
      ],
      "metadata": {
        "colab": {
          "base_uri": "https://localhost:8080/"
        },
        "id": "YQTBnepQuCqZ",
        "outputId": "aaa4186c-d3ac-4ee5-9928-17fd427e4f1d"
      },
      "execution_count": 68,
      "outputs": [
        {
          "output_type": "stream",
          "name": "stdout",
          "text": [
            "4\n"
          ]
        }
      ]
    },
    {
      "cell_type": "code",
      "source": [
        "A=(15,26)\n",
        "B=('abc','xyz')\n",
        "C=A+B\n",
        "print(C)"
      ],
      "metadata": {
        "colab": {
          "base_uri": "https://localhost:8080/"
        },
        "id": "9Qs3CVtW8IpE",
        "outputId": "686877c2-6320-4abf-aa0e-182cf84b6ebf"
      },
      "execution_count": 70,
      "outputs": [
        {
          "output_type": "stream",
          "name": "stdout",
          "text": [
            "(15, 26, 'abc', 'xyz')\n"
          ]
        }
      ]
    },
    {
      "cell_type": "markdown",
      "source": [
        "# **EXTRA NOTE**"
      ],
      "metadata": {
        "id": "zid_1gd2CSFM"
      }
    },
    {
      "cell_type": "markdown",
      "source": [
        "***LIST***"
      ],
      "metadata": {
        "id": "ggQoUsMiCNlk"
      }
    },
    {
      "cell_type": "markdown",
      "source": [
        "**Reverse String** "
      ],
      "metadata": {
        "id": "UatDKi8NL5-d"
      }
    },
    {
      "cell_type": "code",
      "source": [
        "s='weerakoon'\n",
        "name=''\n",
        "name2=''\n",
        "\n",
        "for i in range(len(s)):\n",
        "  name=name+s[len(s)-1-i]\n",
        "  name2=s[i]+name2\n",
        "\n",
        "print(name)\n",
        "print(name2)"
      ],
      "metadata": {
        "colab": {
          "base_uri": "https://localhost:8080/"
        },
        "id": "dBM84VikCM_D",
        "outputId": "c7abfe05-44b9-44a6-9584-d21a99794922"
      },
      "execution_count": 85,
      "outputs": [
        {
          "output_type": "stream",
          "name": "stdout",
          "text": [
            "nookareew\n",
            "nookareew\n"
          ]
        }
      ]
    },
    {
      "cell_type": "markdown",
      "source": [
        "**Append list2 into list1:**"
      ],
      "metadata": {
        "id": "hfh0d78ZRQef"
      }
    },
    {
      "cell_type": "code",
      "source": [
        "list1 = [\"a\", \"b\" , \"c\"]\n",
        "list2 = [1, 2, 3]\n",
        "\n",
        "for x in list2:\n",
        "  list1.append(x)\n",
        "\n",
        "print(list1)"
      ],
      "metadata": {
        "colab": {
          "base_uri": "https://localhost:8080/"
        },
        "id": "VP0PU2UVLWQF",
        "outputId": "537b498d-eb0c-4894-c386-1c5a8cd8331f"
      },
      "execution_count": 89,
      "outputs": [
        {
          "output_type": "stream",
          "name": "stdout",
          "text": [
            "['a', 'b', 'c', 1, 2, 3]\n"
          ]
        }
      ]
    },
    {
      "cell_type": "markdown",
      "source": [
        "***tuples***\n",
        "\n",
        "*  Tuple is collention which is ordered and unchangeble and allows duplicate numbers\n"
      ],
      "metadata": {
        "id": "Gp5KHKwVSBiJ"
      }
    },
    {
      "cell_type": "code",
      "source": [
        "thistuple = (\"apple\", \"banana\", \"cherry\",2,2)\n",
        "i = 0\n",
        "while i < len(thistuple):\n",
        "  print(thistuple[i])\n",
        "  i = i + 1"
      ],
      "metadata": {
        "colab": {
          "base_uri": "https://localhost:8080/"
        },
        "id": "Z5QuLmyVR_jw",
        "outputId": "f0fce4a7-c175-4c2e-d895-9a64821d4635"
      },
      "execution_count": 90,
      "outputs": [
        {
          "output_type": "stream",
          "name": "stdout",
          "text": [
            "apple\n",
            "banana\n",
            "cherry\n",
            "2\n",
            "2\n"
          ]
        }
      ]
    },
    {
      "cell_type": "markdown",
      "source": [
        "**Using Dictionaries**"
      ],
      "metadata": {
        "id": "0_ADtb7iYvIp"
      }
    },
    {
      "cell_type": "code",
      "source": [
        "def finder(arr1,arr2):\n",
        "  d={}\n",
        "  for num in arr1:\n",
        "    if num in d:\n",
        "      d[num]+=1\n",
        "    else:\n",
        "      d[num]=1\n",
        "\n",
        "  for num in arr2:\n",
        "    if num in d:\n",
        "      d[num]-=1\n",
        "\n",
        "  for i,j in d.items():\n",
        "    #print(i,j)\n",
        "    if j>0:\n",
        "      print(i)\n",
        "      break\n",
        "\n",
        "  "
      ],
      "metadata": {
        "id": "uvRkzHRKWeR_"
      },
      "execution_count": 95,
      "outputs": []
    },
    {
      "cell_type": "code",
      "source": [
        "a=[1,2,3,9,0]\n",
        "b=[1,2,3,0]\n",
        "finder(a,b)"
      ],
      "metadata": {
        "colab": {
          "base_uri": "https://localhost:8080/"
        },
        "id": "kfI9z2BubVhf",
        "outputId": "3bf37bbd-9f04-4945-f37e-0f21609005a9"
      },
      "execution_count": 96,
      "outputs": [
        {
          "output_type": "stream",
          "name": "stdout",
          "text": [
            "9\n"
          ]
        }
      ]
    },
    {
      "cell_type": "markdown",
      "source": [
        "**set()**"
      ],
      "metadata": {
        "id": "c2DUKMg8cl7w"
      }
    },
    {
      "cell_type": "code",
      "source": [
        "def removeDuplicates(s):\n",
        "\n",
        "  result=[]\n",
        "  seen=set()\n",
        "\n",
        "  for char in s:\n",
        "    if char not in seen:\n",
        "      seen.add(char)\n",
        "      result.append(char)\n",
        "\n",
        "  return ''.join(result)"
      ],
      "metadata": {
        "id": "_zZJ2JLlckQK"
      },
      "execution_count": 98,
      "outputs": []
    },
    {
      "cell_type": "code",
      "source": [
        "\n",
        "s='dhuhhudhhijjs'\n",
        "removeDuplicates(s)"
      ],
      "metadata": {
        "colab": {
          "base_uri": "https://localhost:8080/",
          "height": 35
        },
        "id": "HxwcAJO9dKen",
        "outputId": "9fe5476d-3005-45d1-8509-a92fa228a7a8"
      },
      "execution_count": 99,
      "outputs": [
        {
          "output_type": "execute_result",
          "data": {
            "text/plain": [
              "'dhuijs'"
            ],
            "application/vnd.google.colaboratory.intrinsic+json": {
              "type": "string"
            }
          },
          "metadata": {},
          "execution_count": 99
        }
      ]
    }
  ]
}