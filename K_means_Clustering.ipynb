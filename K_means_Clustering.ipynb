{
  "nbformat": 4,
  "nbformat_minor": 0,
  "metadata": {
    "kernelspec": {
      "display_name": "Python 3",
      "language": "python",
      "name": "python3"
    },
    "language_info": {
      "codemirror_mode": {
        "name": "ipython",
        "version": 3
      },
      "file_extension": ".py",
      "mimetype": "text/x-python",
      "name": "python",
      "nbconvert_exporter": "python",
      "pygments_lexer": "ipython3",
      "version": "3.8.5"
    },
    "colab": {
      "name": "K_means_Clustering.ipynb",
      "provenance": [],
      "include_colab_link": true
    }
  },
  "cells": [
    {
      "cell_type": "markdown",
      "metadata": {
        "id": "view-in-github",
        "colab_type": "text"
      },
      "source": [
        "<a href=\"https://colab.research.google.com/github/ishancoderr/3D_modeling/blob/main/K_means_Clustering.ipynb\" target=\"_parent\"><img src=\"https://colab.research.google.com/assets/colab-badge.svg\" alt=\"Open In Colab\"/></a>"
      ]
    },
    {
      "cell_type": "markdown",
      "metadata": {
        "id": "BVAL4lJuHhHg"
      },
      "source": [
        "## Task 1: Prepare two test datasets\n",
        "Pick a small set of values that enable you to apply clustering using pen&paper. Next create a fresh, or find an existing, large dataset. Use the Iris dataset, which is included in scikit-learn (generated using the below code snippet).\n",
        "> Clarify why you believe your small dataset to be suitable for k-means clustering. Also make sure you report the source of your large dataset. "
      ]
    },
    {
      "cell_type": "code",
      "metadata": {
        "id": "J75oao43HhHg"
      },
      "source": [
        "import sys\n",
        "import numpy as np\n",
        "import pandas as pd\n",
        "import matplotlib.pyplot as plt\n",
        "from sklearn import datasets\n",
        "sys.path.append('/usr/local/lib/python3.8/site-packages')\n",
        "\n",
        "#from sklearn.datasets import load_iris\n",
        "iris = datasets.load_iris()\n",
        "#print(iris.DESCR)\n",
        "\n",
        "import csv\n",
        "with open('iris.csv', 'w', newline='') as csvfile:\n",
        "    writer = csv.writer(csvfile, quoting=csv.QUOTE_NONNUMERIC)\n",
        "    writer.writerow(iris.feature_names)\n",
        "    writer.writerows(iris.data.tolist())"
      ],
      "execution_count": 33,
      "outputs": []
    },
    {
      "cell_type": "markdown",
      "metadata": {
        "id": "Wg8B00ANHhHh"
      },
      "source": [
        "## Task 2: Apply k-means clustering on paper\n",
        "Work through your small dataset from Task 1 to ensure you have known-good results.\n",
        "> Include information on how you sanity-checked your results as the number of iterations may considerably affect the precision of your final values."
      ]
    },
    {
      "cell_type": "markdown",
      "metadata": {
        "id": "a19A_2bkHhHi"
      },
      "source": [
        "## Task 3: Create a test harness\n",
        "Start preparing your implementation by first setting up a test (without having an implementation just yet!). In this way, you will follow a _test-driven development_ approach. As part of this work, you may choose to compare to a reference implementation, like the one shown in the below code example.\n",
        "> Identify suitable unit tests and integration tests. Explain what coverage you expect your test suite to have."
      ]
    },
    {
      "cell_type": "code",
      "metadata": {
        "id": "7KmIwXnG7lLJ"
      },
      "source": [
        "df1 = pd.DataFrame({\n",
        "    'M': iris.data[:,0],\n",
        "    'N': iris.data[:,1],\n",
        "    #'cluster1' : iris.target\n",
        "})"
      ],
      "execution_count": 34,
      "outputs": []
    },
    {
      "cell_type": "code",
      "metadata": {
        "colab": {
          "base_uri": "https://localhost:8080/"
        },
        "id": "f3ZTqyxGHhHi",
        "outputId": "34598fd2-1f5c-46d4-e085-16ee18a6472d"
      },
      "source": [
        "# see https://scikit-learn.org/stable/modules/generated/sklearn.cluster.KMeans.html for the full API\n",
        "from sklearn.cluster import KMeans\n",
        "\n",
        "kmeans = KMeans(n_clusters=3,init = 'k-means++')\n",
        "kmeans.fit(df1)\n",
        "\n",
        "print(kmeans.cluster_centers_)"
      ],
      "execution_count": 35,
      "outputs": [
        {
          "output_type": "stream",
          "text": [
            "[[6.81276596 3.07446809]\n",
            " [5.006      3.428     ]\n",
            " [5.77358491 2.69245283]]\n"
          ],
          "name": "stdout"
        }
      ]
    },
    {
      "cell_type": "markdown",
      "metadata": {
        "id": "jZJ0TynDHhHj"
      },
      "source": [
        "## Task 4: Implement k-means clustering in Python\n",
        "You are now set to actually add the implementation. Note that you are expected to fully implement the mathematical operations instead of using a library function such as `scikit` or `statsmodels`. Your implementation may make several assumptions about the inputs provided to it. Make those explicit in comments. Also, provide an estimate on how long execution of your algorithm will take dependent on the input values. Express this estimate as a function of the inputs, such as the number of clusters and/or the number of data points.\n",
        "> Correctly work on Python implementation\n",
        ">> Describing limitations and assumptions of your implementation\n",
        ">>> Description of the complexity of your algorithm."
      ]
    },
    {
      "cell_type": "markdown",
      "metadata": {
        "id": "8pGK9O9TWkwn"
      },
      "source": [
        "**assumptions:**\n",
        "1.  This code only work for 2D clusters.\n",
        "\n",
        "\n",
        "\n"
      ]
    },
    {
      "cell_type": "code",
      "metadata": {
        "colab": {
          "base_uri": "https://localhost:8080/"
        },
        "id": "tjkQddbtGGPi",
        "outputId": "508b0b1c-3de7-413b-c349-f4b17faa9b17"
      },
      "source": [
        "iris.data\n",
        "type(iris.data)"
      ],
      "execution_count": 36,
      "outputs": [
        {
          "output_type": "execute_result",
          "data": {
            "text/plain": [
              "numpy.ndarray"
            ]
          },
          "metadata": {
            "tags": []
          },
          "execution_count": 36
        }
      ]
    },
    {
      "cell_type": "code",
      "metadata": {
        "colab": {
          "base_uri": "https://localhost:8080/"
        },
        "id": "BzdYFJL7d0Me",
        "outputId": "3df6d77c-f381-4452-ada1-907c1ccb49e7"
      },
      "source": [
        "type(iris.target)"
      ],
      "execution_count": 37,
      "outputs": [
        {
          "output_type": "execute_result",
          "data": {
            "text/plain": [
              "numpy.ndarray"
            ]
          },
          "metadata": {
            "tags": []
          },
          "execution_count": 37
        }
      ]
    },
    {
      "cell_type": "code",
      "metadata": {
        "colab": {
          "base_uri": "https://localhost:8080/"
        },
        "id": "tCJt6y0xjtpO",
        "outputId": "ec2bf177-f21d-4f4d-afb5-4852e681fa42"
      },
      "source": [
        "iris.feature_names"
      ],
      "execution_count": 38,
      "outputs": [
        {
          "output_type": "execute_result",
          "data": {
            "text/plain": [
              "['sepal length (cm)',\n",
              " 'sepal width (cm)',\n",
              " 'petal length (cm)',\n",
              " 'petal width (cm)']"
            ]
          },
          "metadata": {
            "tags": []
          },
          "execution_count": 38
        }
      ]
    },
    {
      "cell_type": "code",
      "metadata": {
        "id": "nigr5H7qtzOA"
      },
      "source": [
        "df1 = pd.DataFrame({\n",
        "    'M': iris.data[:,0],\n",
        "    'N': iris.data[:,1],\n",
        "    'cluster1' : iris.target\n",
        "})"
      ],
      "execution_count": 39,
      "outputs": []
    },
    {
      "cell_type": "code",
      "metadata": {
        "colab": {
          "base_uri": "https://localhost:8080/",
          "height": 198
        },
        "id": "-UdPHsac8S5B",
        "outputId": "03051749-91ad-4a6b-82c8-b99e3dc6cf79"
      },
      "source": [
        "df1.head()"
      ],
      "execution_count": 40,
      "outputs": [
        {
          "output_type": "execute_result",
          "data": {
            "text/html": [
              "<div>\n",
              "<style scoped>\n",
              "    .dataframe tbody tr th:only-of-type {\n",
              "        vertical-align: middle;\n",
              "    }\n",
              "\n",
              "    .dataframe tbody tr th {\n",
              "        vertical-align: top;\n",
              "    }\n",
              "\n",
              "    .dataframe thead th {\n",
              "        text-align: right;\n",
              "    }\n",
              "</style>\n",
              "<table border=\"1\" class=\"dataframe\">\n",
              "  <thead>\n",
              "    <tr style=\"text-align: right;\">\n",
              "      <th></th>\n",
              "      <th>M</th>\n",
              "      <th>N</th>\n",
              "      <th>cluster1</th>\n",
              "    </tr>\n",
              "  </thead>\n",
              "  <tbody>\n",
              "    <tr>\n",
              "      <th>0</th>\n",
              "      <td>5.1</td>\n",
              "      <td>3.5</td>\n",
              "      <td>0</td>\n",
              "    </tr>\n",
              "    <tr>\n",
              "      <th>1</th>\n",
              "      <td>4.9</td>\n",
              "      <td>3.0</td>\n",
              "      <td>0</td>\n",
              "    </tr>\n",
              "    <tr>\n",
              "      <th>2</th>\n",
              "      <td>4.7</td>\n",
              "      <td>3.2</td>\n",
              "      <td>0</td>\n",
              "    </tr>\n",
              "    <tr>\n",
              "      <th>3</th>\n",
              "      <td>4.6</td>\n",
              "      <td>3.1</td>\n",
              "      <td>0</td>\n",
              "    </tr>\n",
              "    <tr>\n",
              "      <th>4</th>\n",
              "      <td>5.0</td>\n",
              "      <td>3.6</td>\n",
              "      <td>0</td>\n",
              "    </tr>\n",
              "  </tbody>\n",
              "</table>\n",
              "</div>"
            ],
            "text/plain": [
              "     M    N  cluster1\n",
              "0  5.1  3.5         0\n",
              "1  4.9  3.0         0\n",
              "2  4.7  3.2         0\n",
              "3  4.6  3.1         0\n",
              "4  5.0  3.6         0"
            ]
          },
          "metadata": {
            "tags": []
          },
          "execution_count": 40
        }
      ]
    },
    {
      "cell_type": "code",
      "metadata": {
        "id": "MHz9a4W9d7v1"
      },
      "source": [
        "df = pd.DataFrame({\n",
        "    'x': iris.data[:,0],\n",
        "    'y': iris.data[:,1],\n",
        "    'cluster' : iris.target\n",
        "})"
      ],
      "execution_count": 54,
      "outputs": []
    },
    {
      "cell_type": "code",
      "metadata": {
        "colab": {
          "base_uri": "https://localhost:8080/",
          "height": 198
        },
        "id": "2-x8tCqFedmN",
        "outputId": "96978da6-b78c-45c6-cbe7-b4562d1df103"
      },
      "source": [
        "df.head()"
      ],
      "execution_count": 55,
      "outputs": [
        {
          "output_type": "execute_result",
          "data": {
            "text/html": [
              "<div>\n",
              "<style scoped>\n",
              "    .dataframe tbody tr th:only-of-type {\n",
              "        vertical-align: middle;\n",
              "    }\n",
              "\n",
              "    .dataframe tbody tr th {\n",
              "        vertical-align: top;\n",
              "    }\n",
              "\n",
              "    .dataframe thead th {\n",
              "        text-align: right;\n",
              "    }\n",
              "</style>\n",
              "<table border=\"1\" class=\"dataframe\">\n",
              "  <thead>\n",
              "    <tr style=\"text-align: right;\">\n",
              "      <th></th>\n",
              "      <th>x</th>\n",
              "      <th>y</th>\n",
              "      <th>cluster</th>\n",
              "    </tr>\n",
              "  </thead>\n",
              "  <tbody>\n",
              "    <tr>\n",
              "      <th>0</th>\n",
              "      <td>5.1</td>\n",
              "      <td>3.5</td>\n",
              "      <td>0</td>\n",
              "    </tr>\n",
              "    <tr>\n",
              "      <th>1</th>\n",
              "      <td>4.9</td>\n",
              "      <td>3.0</td>\n",
              "      <td>0</td>\n",
              "    </tr>\n",
              "    <tr>\n",
              "      <th>2</th>\n",
              "      <td>4.7</td>\n",
              "      <td>3.2</td>\n",
              "      <td>0</td>\n",
              "    </tr>\n",
              "    <tr>\n",
              "      <th>3</th>\n",
              "      <td>4.6</td>\n",
              "      <td>3.1</td>\n",
              "      <td>0</td>\n",
              "    </tr>\n",
              "    <tr>\n",
              "      <th>4</th>\n",
              "      <td>5.0</td>\n",
              "      <td>3.6</td>\n",
              "      <td>0</td>\n",
              "    </tr>\n",
              "  </tbody>\n",
              "</table>\n",
              "</div>"
            ],
            "text/plain": [
              "     x    y  cluster\n",
              "0  5.1  3.5        0\n",
              "1  4.9  3.0        0\n",
              "2  4.7  3.2        0\n",
              "3  4.6  3.1        0\n",
              "4  5.0  3.6        0"
            ]
          },
          "metadata": {
            "tags": []
          },
          "execution_count": 55
        }
      ]
    },
    {
      "cell_type": "code",
      "metadata": {
        "id": "U0a8likOVEFO"
      },
      "source": [
        "colmap = {0: 'r', 1: 'g', 2: 'b'}"
      ],
      "execution_count": 60,
      "outputs": []
    },
    {
      "cell_type": "markdown",
      "metadata": {
        "id": "7n5rp7sopBuo"
      },
      "source": [
        "sepal length ,spal width mean vlue get as centroid"
      ]
    },
    {
      "cell_type": "code",
      "metadata": {
        "id": "vKdx-KUCooyv"
      },
      "source": [
        "centroids = {}\n",
        "for i in range(3):\n",
        "    result_list = []\n",
        "    result_list.append(df.loc[df['cluster'] == i]['x'].mean())\n",
        "    result_list.append(df.loc[df['cluster'] == i]['y'].mean())\n",
        "    \n",
        "    centroids[i] = result_list"
      ],
      "execution_count": 61,
      "outputs": []
    },
    {
      "cell_type": "code",
      "metadata": {
        "colab": {
          "base_uri": "https://localhost:8080/"
        },
        "id": "Dvg7FTIMozMm",
        "outputId": "c0080eb3-e714-471b-c3b5-191d6119715d"
      },
      "source": [
        "centroids"
      ],
      "execution_count": 62,
      "outputs": [
        {
          "output_type": "execute_result",
          "data": {
            "text/plain": [
              "{0: [5.005999999999999, 3.428000000000001],\n",
              " 1: [5.936, 2.7700000000000005],\n",
              " 2: [6.587999999999998, 2.9739999999999998]}"
            ]
          },
          "metadata": {
            "tags": []
          },
          "execution_count": 62
        }
      ]
    },
    {
      "cell_type": "markdown",
      "metadata": {
        "id": "ZKZG4Fekp752"
      },
      "source": [
        "**Calculating distance and updating dataFrame**"
      ]
    },
    {
      "cell_type": "code",
      "metadata": {
        "id": "0mYb37PAp5ZI"
      },
      "source": [
        "def assignment(df, centroids):\n",
        "    for i in range(3):\n",
        "        ########################################### sqrt((x1 - x2)^2 + (y1 - y2)^2)\n",
        "        df['distance_from_{}'.format(i)] = (np.sqrt((df['x'] - centroids[i][0]) ** 2+ (df['y'] - centroids[i][1]) ** 2))\n",
        "    centroid_distance_cols = ['distance_from_{}'.format(i) for i in centroids.keys()]\n",
        "    df['closest'] = df.loc[:, centroid_distance_cols].idxmin(axis=1)\n",
        "    df['closest'] = df['closest'].map(lambda x: int(x.lstrip('distance_from_')))\n",
        "    df['color'] = df['closest'].map(lambda x: colmap[x])\n",
        "    return df"
      ],
      "execution_count": 63,
      "outputs": []
    },
    {
      "cell_type": "code",
      "metadata": {
        "id": "v9lWkJBXqSYJ"
      },
      "source": [
        "df = assignment(df, centroids)"
      ],
      "execution_count": 64,
      "outputs": []
    },
    {
      "cell_type": "markdown",
      "metadata": {
        "id": "8TAJXwhKgP9N"
      },
      "source": [
        "Time complexity of assignment function"
      ]
    },
    {
      "cell_type": "code",
      "metadata": {
        "colab": {
          "base_uri": "https://localhost:8080/"
        },
        "id": "VMCqkqV-fjgO",
        "outputId": "a6f2360c-974a-41dc-cbc5-bb1fa3de8784"
      },
      "source": [
        "%timeit assignment(df, centroids)"
      ],
      "execution_count": 75,
      "outputs": [
        {
          "output_type": "stream",
          "text": [
            "100 loops, best of 5: 5.61 ms per loop\n"
          ],
          "name": "stdout"
        }
      ]
    },
    {
      "cell_type": "code",
      "metadata": {
        "colab": {
          "base_uri": "https://localhost:8080/",
          "height": 198
        },
        "id": "ANrAcUigqXwn",
        "outputId": "95522030-06ad-4ce5-ab73-219b7c03ca60"
      },
      "source": [
        "df.head()"
      ],
      "execution_count": 47,
      "outputs": [
        {
          "output_type": "execute_result",
          "data": {
            "text/html": [
              "<div>\n",
              "<style scoped>\n",
              "    .dataframe tbody tr th:only-of-type {\n",
              "        vertical-align: middle;\n",
              "    }\n",
              "\n",
              "    .dataframe tbody tr th {\n",
              "        vertical-align: top;\n",
              "    }\n",
              "\n",
              "    .dataframe thead th {\n",
              "        text-align: right;\n",
              "    }\n",
              "</style>\n",
              "<table border=\"1\" class=\"dataframe\">\n",
              "  <thead>\n",
              "    <tr style=\"text-align: right;\">\n",
              "      <th></th>\n",
              "      <th>x</th>\n",
              "      <th>y</th>\n",
              "      <th>cluster</th>\n",
              "      <th>distance_from_0</th>\n",
              "      <th>distance_from_1</th>\n",
              "      <th>distance_from_2</th>\n",
              "      <th>closest</th>\n",
              "    </tr>\n",
              "  </thead>\n",
              "  <tbody>\n",
              "    <tr>\n",
              "      <th>0</th>\n",
              "      <td>5.1</td>\n",
              "      <td>3.5</td>\n",
              "      <td>0</td>\n",
              "      <td>0.118406</td>\n",
              "      <td>1.109863</td>\n",
              "      <td>1.578233</td>\n",
              "      <td>0</td>\n",
              "    </tr>\n",
              "    <tr>\n",
              "      <th>1</th>\n",
              "      <td>4.9</td>\n",
              "      <td>3.0</td>\n",
              "      <td>0</td>\n",
              "      <td>0.440931</td>\n",
              "      <td>1.061224</td>\n",
              "      <td>1.688200</td>\n",
              "      <td>0</td>\n",
              "    </tr>\n",
              "    <tr>\n",
              "      <th>2</th>\n",
              "      <td>4.7</td>\n",
              "      <td>3.2</td>\n",
              "      <td>0</td>\n",
              "      <td>0.381602</td>\n",
              "      <td>1.308662</td>\n",
              "      <td>1.901478</td>\n",
              "      <td>0</td>\n",
              "    </tr>\n",
              "    <tr>\n",
              "      <th>3</th>\n",
              "      <td>4.6</td>\n",
              "      <td>3.1</td>\n",
              "      <td>0</td>\n",
              "      <td>0.521939</td>\n",
              "      <td>1.376153</td>\n",
              "      <td>1.991989</td>\n",
              "      <td>0</td>\n",
              "    </tr>\n",
              "    <tr>\n",
              "      <th>4</th>\n",
              "      <td>5.0</td>\n",
              "      <td>3.6</td>\n",
              "      <td>0</td>\n",
              "      <td>0.172105</td>\n",
              "      <td>1.250998</td>\n",
              "      <td>1.706933</td>\n",
              "      <td>0</td>\n",
              "    </tr>\n",
              "  </tbody>\n",
              "</table>\n",
              "</div>"
            ],
            "text/plain": [
              "     x    y  cluster  ...  distance_from_1  distance_from_2  closest\n",
              "0  5.1  3.5        0  ...         1.109863         1.578233        0\n",
              "1  4.9  3.0        0  ...         1.061224         1.688200        0\n",
              "2  4.7  3.2        0  ...         1.308662         1.901478        0\n",
              "3  4.6  3.1        0  ...         1.376153         1.991989        0\n",
              "4  5.0  3.6        0  ...         1.250998         1.706933        0\n",
              "\n",
              "[5 rows x 7 columns]"
            ]
          },
          "metadata": {
            "tags": []
          },
          "execution_count": 47
        }
      ]
    },
    {
      "cell_type": "markdown",
      "metadata": {
        "id": "lHh13MWOvOdP"
      },
      "source": [
        "***Updating the centroids***"
      ]
    },
    {
      "cell_type": "code",
      "metadata": {
        "colab": {
          "base_uri": "https://localhost:8080/"
        },
        "id": "e0RBmxBVvM4Y",
        "outputId": "584855a9-6387-4d82-c58e-2501c9f9a837"
      },
      "source": [
        "def update(k):\n",
        "    for i in range(3):\n",
        "        centroids[i][0] = np.mean(df[df['closest'] == i]['x'])\n",
        "        centroids[i][1] = np.mean(df[df['closest'] == i]['y'])\n",
        "    return k\n",
        "\n",
        "centroids = update(centroids)\n",
        "centroids"
      ],
      "execution_count": 65,
      "outputs": [
        {
          "output_type": "execute_result",
          "data": {
            "text/plain": [
              "{0: [5.00943396226415, 3.383018867924529],\n",
              " 1: [5.806122448979591, 2.693877551020408],\n",
              " 2: [6.802083333333331, 3.0687499999999996]}"
            ]
          },
          "metadata": {
            "tags": []
          },
          "execution_count": 65
        }
      ]
    },
    {
      "cell_type": "markdown",
      "metadata": {
        "id": "dXcnbWM1gEe2"
      },
      "source": [
        "Time complexity of update function"
      ]
    },
    {
      "cell_type": "code",
      "metadata": {
        "colab": {
          "base_uri": "https://localhost:8080/"
        },
        "id": "lt-mO2g5ftpt",
        "outputId": "7995bf19-426c-4ec1-816a-c4e5f1a8a736"
      },
      "source": [
        "%timeit update(centroids)"
      ],
      "execution_count": 77,
      "outputs": [
        {
          "output_type": "stream",
          "text": [
            "100 loops, best of 5: 4.22 ms per loop\n"
          ],
          "name": "stdout"
        }
      ]
    },
    {
      "cell_type": "markdown",
      "metadata": {
        "id": "TiPycuvqvpAg"
      },
      "source": [
        "**Once again use assignment function**"
      ]
    },
    {
      "cell_type": "code",
      "metadata": {
        "id": "uSQ0VWFfvzn3"
      },
      "source": [
        "df = assignment(df, centroids)"
      ],
      "execution_count": 66,
      "outputs": []
    },
    {
      "cell_type": "code",
      "metadata": {
        "colab": {
          "base_uri": "https://localhost:8080/",
          "height": 198
        },
        "id": "YchHMv3Tv15g",
        "outputId": "e97a4b5e-b0c7-498d-a6c0-8770528295e1"
      },
      "source": [
        "df.head()"
      ],
      "execution_count": null,
      "outputs": [
        {
          "output_type": "execute_result",
          "data": {
            "text/html": [
              "<div>\n",
              "<style scoped>\n",
              "    .dataframe tbody tr th:only-of-type {\n",
              "        vertical-align: middle;\n",
              "    }\n",
              "\n",
              "    .dataframe tbody tr th {\n",
              "        vertical-align: top;\n",
              "    }\n",
              "\n",
              "    .dataframe thead th {\n",
              "        text-align: right;\n",
              "    }\n",
              "</style>\n",
              "<table border=\"1\" class=\"dataframe\">\n",
              "  <thead>\n",
              "    <tr style=\"text-align: right;\">\n",
              "      <th></th>\n",
              "      <th>x</th>\n",
              "      <th>y</th>\n",
              "      <th>cluster</th>\n",
              "      <th>distance_from_0</th>\n",
              "      <th>distance_from_1</th>\n",
              "      <th>distance_from_2</th>\n",
              "      <th>closest</th>\n",
              "      <th>color</th>\n",
              "    </tr>\n",
              "  </thead>\n",
              "  <tbody>\n",
              "    <tr>\n",
              "      <th>0</th>\n",
              "      <td>5.1</td>\n",
              "      <td>3.5</td>\n",
              "      <td>0</td>\n",
              "      <td>0.118406</td>\n",
              "      <td>1.109863</td>\n",
              "      <td>1.578233</td>\n",
              "      <td>0</td>\n",
              "      <td>r</td>\n",
              "    </tr>\n",
              "    <tr>\n",
              "      <th>1</th>\n",
              "      <td>4.9</td>\n",
              "      <td>3.0</td>\n",
              "      <td>0</td>\n",
              "      <td>0.440931</td>\n",
              "      <td>1.061224</td>\n",
              "      <td>1.688200</td>\n",
              "      <td>0</td>\n",
              "      <td>r</td>\n",
              "    </tr>\n",
              "    <tr>\n",
              "      <th>2</th>\n",
              "      <td>4.7</td>\n",
              "      <td>3.2</td>\n",
              "      <td>0</td>\n",
              "      <td>0.381602</td>\n",
              "      <td>1.308662</td>\n",
              "      <td>1.901478</td>\n",
              "      <td>0</td>\n",
              "      <td>r</td>\n",
              "    </tr>\n",
              "    <tr>\n",
              "      <th>3</th>\n",
              "      <td>4.6</td>\n",
              "      <td>3.1</td>\n",
              "      <td>0</td>\n",
              "      <td>0.521939</td>\n",
              "      <td>1.376153</td>\n",
              "      <td>1.991989</td>\n",
              "      <td>0</td>\n",
              "      <td>r</td>\n",
              "    </tr>\n",
              "    <tr>\n",
              "      <th>4</th>\n",
              "      <td>5.0</td>\n",
              "      <td>3.6</td>\n",
              "      <td>0</td>\n",
              "      <td>0.172105</td>\n",
              "      <td>1.250998</td>\n",
              "      <td>1.706933</td>\n",
              "      <td>0</td>\n",
              "      <td>r</td>\n",
              "    </tr>\n",
              "  </tbody>\n",
              "</table>\n",
              "</div>"
            ],
            "text/plain": [
              "     x    y  cluster  ...  distance_from_2  closest  color\n",
              "0  5.1  3.5        0  ...         1.578233        0      r\n",
              "1  4.9  3.0        0  ...         1.688200        0      r\n",
              "2  4.7  3.2        0  ...         1.901478        0      r\n",
              "3  4.6  3.1        0  ...         1.991989        0      r\n",
              "4  5.0  3.6        0  ...         1.706933        0      r\n",
              "\n",
              "[5 rows x 8 columns]"
            ]
          },
          "metadata": {
            "tags": []
          },
          "execution_count": 397
        }
      ]
    },
    {
      "cell_type": "code",
      "metadata": {
        "id": "WT6UDk_929DH"
      },
      "source": [
        "m=df[['closest']]"
      ],
      "execution_count": 67,
      "outputs": []
    },
    {
      "cell_type": "code",
      "metadata": {
        "id": "8Jaermw84QD6"
      },
      "source": [
        "c=np.array(m)\n"
      ],
      "execution_count": 68,
      "outputs": []
    },
    {
      "cell_type": "markdown",
      "metadata": {
        "id": "W09sMClLwJY4"
      },
      "source": [
        "***Updating the centroids***"
      ]
    },
    {
      "cell_type": "code",
      "metadata": {
        "colab": {
          "base_uri": "https://localhost:8080/"
        },
        "id": "d5dcMwI4wIdH",
        "outputId": "876915be-df5c-4418-f964-6cc3cb662bb3"
      },
      "source": [
        "def update(k):\n",
        "    for i in range(3):\n",
        "        centroids[i][0] = np.mean(df[df['closest'] == i]['x'])\n",
        "        centroids[i][1] = np.mean(df[df['closest'] == i]['y'])\n",
        "    return k\n",
        "\n",
        "centroids = update(centroids)\n",
        "centroids"
      ],
      "execution_count": 69,
      "outputs": [
        {
          "output_type": "execute_result",
          "data": {
            "text/plain": [
              "{0: [5.003921568627451, 3.409803921568628],\n",
              " 1: [5.790384615384616, 2.696153846153846],\n",
              " 2: [6.812765957446806, 3.0744680851063824]}"
            ]
          },
          "metadata": {
            "tags": []
          },
          "execution_count": 69
        }
      ]
    },
    {
      "cell_type": "markdown",
      "metadata": {
        "id": "L2uammD0wadp"
      },
      "source": [
        "***Once again use assignment function***"
      ]
    },
    {
      "cell_type": "code",
      "metadata": {
        "id": "rJr_GbgXwdeG"
      },
      "source": [
        "df = assignment(df, centroids)"
      ],
      "execution_count": 70,
      "outputs": []
    },
    {
      "cell_type": "code",
      "metadata": {
        "colab": {
          "base_uri": "https://localhost:8080/",
          "height": 198
        },
        "id": "RW-flNsuwjQ3",
        "outputId": "2c05dad9-bd43-4daa-9061-1db45a05dbf4"
      },
      "source": [
        "df.head()"
      ],
      "execution_count": 71,
      "outputs": [
        {
          "output_type": "execute_result",
          "data": {
            "text/html": [
              "<div>\n",
              "<style scoped>\n",
              "    .dataframe tbody tr th:only-of-type {\n",
              "        vertical-align: middle;\n",
              "    }\n",
              "\n",
              "    .dataframe tbody tr th {\n",
              "        vertical-align: top;\n",
              "    }\n",
              "\n",
              "    .dataframe thead th {\n",
              "        text-align: right;\n",
              "    }\n",
              "</style>\n",
              "<table border=\"1\" class=\"dataframe\">\n",
              "  <thead>\n",
              "    <tr style=\"text-align: right;\">\n",
              "      <th></th>\n",
              "      <th>x</th>\n",
              "      <th>y</th>\n",
              "      <th>cluster</th>\n",
              "      <th>distance_from_0</th>\n",
              "      <th>distance_from_1</th>\n",
              "      <th>distance_from_2</th>\n",
              "      <th>closest</th>\n",
              "      <th>color</th>\n",
              "    </tr>\n",
              "  </thead>\n",
              "  <tbody>\n",
              "    <tr>\n",
              "      <th>0</th>\n",
              "      <td>5.1</td>\n",
              "      <td>3.5</td>\n",
              "      <td>0</td>\n",
              "      <td>0.131782</td>\n",
              "      <td>1.059622</td>\n",
              "      <td>1.764836</td>\n",
              "      <td>0</td>\n",
              "      <td>r</td>\n",
              "    </tr>\n",
              "    <tr>\n",
              "      <th>1</th>\n",
              "      <td>4.9</td>\n",
              "      <td>3.0</td>\n",
              "      <td>0</td>\n",
              "      <td>0.422775</td>\n",
              "      <td>0.940801</td>\n",
              "      <td>1.914215</td>\n",
              "      <td>0</td>\n",
              "      <td>r</td>\n",
              "    </tr>\n",
              "    <tr>\n",
              "      <th>2</th>\n",
              "      <td>4.7</td>\n",
              "      <td>3.2</td>\n",
              "      <td>0</td>\n",
              "      <td>0.369305</td>\n",
              "      <td>1.201166</td>\n",
              "      <td>2.116492</td>\n",
              "      <td>0</td>\n",
              "      <td>r</td>\n",
              "    </tr>\n",
              "    <tr>\n",
              "      <th>3</th>\n",
              "      <td>4.6</td>\n",
              "      <td>3.1</td>\n",
              "      <td>0</td>\n",
              "      <td>0.509049</td>\n",
              "      <td>1.257023</td>\n",
              "      <td>2.212913</td>\n",
              "      <td>0</td>\n",
              "      <td>r</td>\n",
              "    </tr>\n",
              "    <tr>\n",
              "      <th>4</th>\n",
              "      <td>5.0</td>\n",
              "      <td>3.6</td>\n",
              "      <td>0</td>\n",
              "      <td>0.190237</td>\n",
              "      <td>1.200686</td>\n",
              "      <td>1.887407</td>\n",
              "      <td>0</td>\n",
              "      <td>r</td>\n",
              "    </tr>\n",
              "  </tbody>\n",
              "</table>\n",
              "</div>"
            ],
            "text/plain": [
              "     x    y  cluster  ...  distance_from_2  closest  color\n",
              "0  5.1  3.5        0  ...         1.764836        0      r\n",
              "1  4.9  3.0        0  ...         1.914215        0      r\n",
              "2  4.7  3.2        0  ...         2.116492        0      r\n",
              "3  4.6  3.1        0  ...         2.212913        0      r\n",
              "4  5.0  3.6        0  ...         1.887407        0      r\n",
              "\n",
              "[5 rows x 8 columns]"
            ]
          },
          "metadata": {
            "tags": []
          },
          "execution_count": 71
        }
      ]
    },
    {
      "cell_type": "markdown",
      "metadata": {
        "id": "eZihe_YKHhHj"
      },
      "source": [
        "## Task 5: Add a visualisation\n",
        "Identify a suitable library to depict both your inputs as well as the results of k-means clustering applied to those inputs."
      ]
    },
    {
      "cell_type": "markdown",
      "metadata": {
        "id": "rJ1hBc3uhBPX"
      },
      "source": [
        "***before applying the k-means clustering***"
      ]
    },
    {
      "cell_type": "code",
      "metadata": {
        "colab": {
          "base_uri": "https://localhost:8080/",
          "height": 344
        },
        "id": "tj38nIJgfUsm",
        "outputId": "b4b7ab4b-f2d5-43b9-8f62-703ba3cfdca4"
      },
      "source": [
        "fig = plt.figure(figsize=(5, 5))\n",
        "plt.scatter(df1['M'], df1['N'], c=iris.target,alpha=19)\n",
        "plt.xlabel('Speal Length', fontsize=18)\n",
        "plt.ylabel('Speal width', fontsize=18)\n",
        "plt.show()"
      ],
      "execution_count": 72,
      "outputs": [
        {
          "output_type": "display_data",
          "data": {
            "image/png": "[encoded data removed]",
            "text/plain": [
              "<Figure size 360x360 with 1 Axes>"
            ]
          },
          "metadata": {
            "tags": [],
            "needs_background": "light"
          }
        }
      ]
    },
    {
      "cell_type": "markdown",
      "metadata": {
        "id": "k8heMrxzhYyQ"
      },
      "source": [
        "***After apply K-means clustering***"
      ]
    },
    {
      "cell_type": "code",
      "metadata": {
        "colab": {
          "base_uri": "https://localhost:8080/",
          "height": 344
        },
        "id": "KlfjTT806ai5",
        "outputId": "658ee4a6-392d-42cb-dd1e-4863796eb575"
      },
      "source": [
        "fig = plt.figure(figsize=(5, 5))\n",
        "plt.scatter(df['x'], df['y'], color=df['color'], alpha=0.7)\n",
        "for i in centroids.keys():\n",
        "    plt.scatter(*centroids[i], color=colmap[i], edgecolor='k')\n",
        "plt.xlabel('Speal Length', fontsize=18)\n",
        "plt.ylabel('Speal width', fontsize=18)\n",
        "plt.show()"
      ],
      "execution_count": 73,
      "outputs": [
        {
          "output_type": "display_data",
          "data": {
            "image/png": "[encoded data removed]",
            "text/plain": [
              "<Figure size 360x360 with 1 Axes>"
            ]
          },
          "metadata": {
            "tags": [],
            "needs_background": "light"
          }
        }
      ]
    }
  ]
}