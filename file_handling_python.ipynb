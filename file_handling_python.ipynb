{
  "nbformat": 4,
  "nbformat_minor": 0,
  "metadata": {
    "colab": {
      "provenance": [],
      "authorship_tag": "ABX9TyNkilSj4OB3z+C9RvM/Ggb+",
      "include_colab_link": true
    },
    "kernelspec": {
      "name": "python3",
      "display_name": "Python 3"
    },
    "language_info": {
      "name": "python"
    }
  },
  "cells": [
    {
      "cell_type": "markdown",
      "metadata": {
        "id": "view-in-github",
        "colab_type": "text"
      },
      "source": [
        "<a href=\"https://colab.research.google.com/github/ishancoderr/3D_modeling/blob/main/file_handling_python.ipynb\" target=\"_parent\"><img src=\"https://colab.research.google.com/assets/colab-badge.svg\" alt=\"Open In Colab\"/></a>"
      ]
    },
    {
      "cell_type": "code",
      "execution_count": 34,
      "metadata": {
        "colab": {
          "base_uri": "https://localhost:8080/",
          "height": 209
        },
        "id": "KAZ9-Z4ybTlG",
        "outputId": "ca33ac0c-e837-4f86-a6bd-5c258e6b11ca"
      },
      "outputs": [
        {
          "output_type": "execute_result",
          "data": {
            "text/plain": [
              "'first note addedfirst note addedfirst note addedfirst note addedfirst note addedfirst note addedfirst note addedfirst note addedfirst note addedfirst note addedfirst note addedfirst note addedfirst note addedfirst note addedfirst note addedfirst note addedfirst note addedfirst note addedfirst note addedfirst note addedsecond note addedthird note addedsecond note addedthird note addedsecond note addedthird note addedsecond note addedthird note addedsecond note addedthird note addedsecond note addedthird note addedsecond note addedthird note addedsecond note addedthird note addedsecond note addedthird note addedsecond note addedthird note addedsecond note addedthird note addedsecond note addedthird note addedsecond note addedthird note addedsecond note addedthird note addedsecond note addedthird note addedsecond note addedthird note addedsecond note addedthird note addedsecond note addedthird note addedsecond note addedthird note addedsecond note addedthird note addedsecond note addedthird note addedsecond note addedthird note addedsecond note addedthird note addedsecond note addedthird note addedsecond note addedthird note addedsecond note addedthird note addedsecond note addedthird note addedsecond note addedthird note addedsecond note addedthird note addedsecond note addedthird note addedsecond note added\\nthird note addedsecond note added\\nthird note addedsecond note added\\nthird note addedsecond note added\\nthird note addedsecond note added\\nthird note addedsecond note added\\nthird note addedsecond note added\\nthird note addedsecond note added\\nthird note addedsecond note added\\nthird note addedsecond note added\\nthird note added'"
            ],
            "application/vnd.google.colaboratory.intrinsic+json": {
              "type": "string"
            }
          },
          "metadata": {},
          "execution_count": 34
        }
      ],
      "source": [
        "\n",
        "f = open(\"/content/note4.txt\", \"a\")\n",
        "for i in range(10):\n",
        "  f.write(\"second note added\\n\")\n",
        "  f.write(\"third note added\")\n",
        "f.close()\n",
        "\n",
        "\n",
        "f=open(\"/content/note4.txt\", \"r\")\n",
        "f.read()"
      ]
    },
    {
      "cell_type": "code",
      "source": [
        "import os\n",
        "os.remove('/content/note1.txt')"
      ],
      "metadata": {
        "id": "OJq-_jvIBL_U"
      },
      "execution_count": 36,
      "outputs": []
    },
    {
      "cell_type": "code",
      "source": [
        "print(os.path.exists('/content/note1.txt'))\n",
        "print(os.path.getsize('/content/note4.txt'))"
      ],
      "metadata": {
        "colab": {
          "base_uri": "https://localhost:8080/"
        },
        "id": "Z1X8IieFBmDi",
        "outputId": "132ffbe5-de7b-450d-e199-e33ab73ff2e8"
      },
      "execution_count": 38,
      "outputs": [
        {
          "output_type": "stream",
          "name": "stdout",
          "text": [
            "False\n",
            "1650\n"
          ]
        }
      ]
    }
  ]
}