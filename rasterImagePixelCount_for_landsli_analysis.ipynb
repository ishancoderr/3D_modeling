{
  "nbformat": 4,
  "nbformat_minor": 0,
  "metadata": {
    "colab": {
      "provenance": [],
      "include_colab_link": true
    },
    "kernelspec": {
      "name": "python3",
      "display_name": "Python 3"
    },
    "language_info": {
      "name": "python"
    }
  },
  "cells": [
    {
      "cell_type": "markdown",
      "metadata": {
        "id": "view-in-github",
        "colab_type": "text"
      },
      "source": [
        "<a href=\"https://colab.research.google.com/github/ishancoderr/3D_modeling/blob/main/rasterImagePixelCount_for_landsli_analysis.ipynb\" target=\"_parent\"><img src=\"https://colab.research.google.com/assets/colab-badge.svg\" alt=\"Open In Colab\"/></a>"
      ]
    },
    {
      "cell_type": "code",
      "execution_count": 63,
      "metadata": {
        "colab": {
          "base_uri": "https://localhost:8080/"
        },
        "id": "bjELy8Rus7rl",
        "outputId": "2b058173-aefe-47f2-9e51-bd22f4a49926"
      },
      "outputs": [
        {
          "output_type": "stream",
          "name": "stdout",
          "text": [
            "Looking in indexes: https://pypi.org/simple, https://us-python.pkg.dev/colab-wheels/public/simple/\n",
            "Requirement already satisfied: rasterio in /usr/local/lib/python3.10/dist-packages (1.3.6)\n",
            "Requirement already satisfied: click-plugins in /usr/local/lib/python3.10/dist-packages (from rasterio) (1.1.1)\n",
            "Requirement already satisfied: attrs in /usr/local/lib/python3.10/dist-packages (from rasterio) (23.1.0)\n",
            "Requirement already satisfied: snuggs>=1.4.1 in /usr/local/lib/python3.10/dist-packages (from rasterio) (1.4.7)\n",
            "Requirement already satisfied: numpy>=1.18 in /usr/local/lib/python3.10/dist-packages (from rasterio) (1.22.4)\n",
            "Requirement already satisfied: certifi in /usr/local/lib/python3.10/dist-packages (from rasterio) (2022.12.7)\n",
            "Requirement already satisfied: affine in /usr/local/lib/python3.10/dist-packages (from rasterio) (2.4.0)\n",
            "Requirement already satisfied: click>=4.0 in /usr/local/lib/python3.10/dist-packages (from rasterio) (8.1.3)\n",
            "Requirement already satisfied: setuptools in /usr/local/lib/python3.10/dist-packages (from rasterio) (67.7.2)\n",
            "Requirement already satisfied: cligj>=0.5 in /usr/local/lib/python3.10/dist-packages (from rasterio) (0.7.2)\n",
            "Requirement already satisfied: pyparsing>=2.1.6 in /usr/local/lib/python3.10/dist-packages (from snuggs>=1.4.1->rasterio) (3.0.9)\n"
          ]
        }
      ],
      "source": [
        "!pip install rasterio"
      ]
    },
    {
      "cell_type": "code",
      "source": [
        "import rasterio\n",
        "import matplotlib.pyplot as plt\n",
        "from numpy import asarray\n",
        "\n",
        "# Open raster and plot\n",
        "raster_Defomation = rasterio.open(\"/content/Deformation_LSI.tif\").read(1)\n",
        "raster_Slope = rasterio.open(\"/content/Slope_LSI.tif\").read(1)\n",
        "raster_Rainfall= rasterio.open(\"/content/Rainfall_LSI.tif\").read(1)\n",
        "raster_Soil_Moisture = rasterio.open(\"/content/Soil_Moisture_LSI.tif\").read(1)\n",
        "raster_Landuse = rasterio.open(\"/content/Landuse_LSI.tif\").read(1)\n",
        "raster_Aspect = rasterio.open(\"/content/Aspect_LSI.tif\").read(1)"
      ],
      "metadata": {
        "id": "0Kbl2va0wa5s"
      },
      "execution_count": 64,
      "outputs": []
    },
    {
      "cell_type": "code",
      "source": [
        "parameter_set=[]\n",
        "img_Defomation=asarray(raster_Defomation)\n",
        "img_Aspect=asarray(raster_Aspect )\n",
        "img_Slope=asarray(raster_Slope)\n",
        "img_Rainfall=asarray(raster_Rainfall )\n",
        "img_Landuse=asarray(raster_Landuse)\n",
        "parameter_set.append(img_Slope)\n",
        "parameter_set.append(img_Aspect)\n",
        "parameter_set.append(img_Defomation)\n",
        "parameter_set.append(img_Rainfall)\n",
        "parameter_set.append(img_Landuse)"
      ],
      "metadata": {
        "id": "RBVssMcKwm2P"
      },
      "execution_count": 65,
      "outputs": []
    },
    {
      "cell_type": "code",
      "source": [
        "rows = len(parameter_set[2])\n",
        "cols = len(parameter_set[2][0])\n",
        "print(rows,cols)"
      ],
      "metadata": {
        "colab": {
          "base_uri": "https://localhost:8080/"
        },
        "id": "3SHZjV-SxJ_d",
        "outputId": "771252cd-8b4b-4382-f38a-e254b9891bf0"
      },
      "execution_count": 66,
      "outputs": [
        {
          "output_type": "stream",
          "name": "stdout",
          "text": [
            "2744 3290\n"
          ]
        }
      ]
    },
    {
      "cell_type": "code",
      "source": [
        "new_probabilities={}\n",
        "parameter_dict=[]\n",
        "sope_dict={}\n",
        "aspect_dict={}\n",
        "defomation_dict={}\n",
        "rainfall_dict={}\n",
        "landuse_dict={}\n",
        "\n",
        "parameter_dict.append(sope_dict)\n",
        "parameter_dict.append(aspect_dict)\n",
        "parameter_dict.append(defomation_dict)\n",
        "parameter_dict.append(rainfall_dict)\n",
        "parameter_dict.append(landuse_dict)\n",
        "for num in range(len(parameter_dict)):\n",
        "  print(num)\n",
        "  rows = len(parameter_set[num])\n",
        "  cols = len(parameter_set[num][0])\n",
        "  for i in range(rows):\n",
        "    for j in range(cols):\n",
        "      if parameter_set[num][i,j] in parameter_dict[num]:\n",
        "        parameter_dict[num][parameter_set[num][i,j]]+=1\n",
        "      else:\n",
        "        parameter_dict[num][parameter_set[num][i,j]]= 1\n",
        "\n",
        "  sum=0\n",
        "  for i,j in parameter_dict[num].items():\n",
        "    if(i!=127 and i!=2147483647 and i!=65536 and i!=0):\n",
        "      sum=sum+j\n",
        "\n",
        "  for i,j in parameter_dict[num].items():\n",
        "    if(i!=127 and i!=2147483647 and i!=65536 and i!=0):\n",
        "      print(f\"{i} value parameter_dict {num}:{j}/{sum}\")\n",
        "      new_probabilities[f'{num}_{i}']=j/sum\n",
        "print(new_probabilities)"
      ],
      "metadata": {
        "colab": {
          "base_uri": "https://localhost:8080/"
        },
        "id": "mwlmo-cJydsR",
        "outputId": "31bb264a-4ece-46a0-8602-d5beb28e987c"
      },
      "execution_count": 67,
      "outputs": [
        {
          "output_type": "stream",
          "name": "stdout",
          "text": [
            "0\n",
            "2 value parameter_dict 0:130519/139543\n",
            "1 value parameter_dict 0:5987/139543\n",
            "4 value parameter_dict 0:3037/139543\n",
            "1\n",
            "1 value parameter_dict 1:69131/139543\n",
            "2 value parameter_dict 1:36110/139543\n",
            "3 value parameter_dict 1:34302/139543\n",
            "2\n",
            "3 value parameter_dict 2:72336/139543\n",
            "2 value parameter_dict 2:57672/139543\n",
            "1 value parameter_dict 2:9535/139543\n",
            "3\n",
            "3 value parameter_dict 3:26462/139543\n",
            "2 value parameter_dict 3:70924/139543\n",
            "1 value parameter_dict 3:42157/139543\n",
            "4\n",
            "2 value parameter_dict 4:41286/139543\n",
            "3 value parameter_dict 4:45033/139543\n",
            "4 value parameter_dict 4:37573/139543\n",
            "1 value parameter_dict 4:15651/139543\n",
            "{'0_2': 0.9353317615358706, '0_1': 0.04290433773102198, '0_4': 0.02176390073310736, '1_1': 0.4954100169840121, '1_2': 0.2587732813541346, '1_3': 0.24581670166185335, '2_3': 0.5183778476885261, '2_2': 0.41329196018431597, '2_1': 0.06833019212715793, '3_3': 0.18963330299620906, '3_2': 0.5082591029288464, '3_1': 0.30210759407494464, '4_2': 0.29586579047318745, '4_3': 0.32271772858545394, '4_4': 0.2692575048551343, '4_1': 0.11215897608622431}\n"
          ]
        }
      ]
    },
    {
      "cell_type": "code",
      "source": [
        "# Open raster and plot\n",
        "raster_Defomation_WRA = rasterio.open(\"/content/Deformation.tif\").read(1)\n",
        "raster_Aspect_WRA = rasterio.open(\"/content/Aspect.tif\").read(1)\n",
        "raster_Slope_WRA = rasterio.open(\"/content/Slope.tif\").read(1)\n",
        "raster_Rainfall_WRA = rasterio.open(\"/content/Rainfall.tif\").read(1)\n",
        "raster_Landuse_WRA = rasterio.open(\"/content/Landuse.tif\").read(1)"
      ],
      "metadata": {
        "id": "91nt33RtUZj4"
      },
      "execution_count": 68,
      "outputs": []
    },
    {
      "cell_type": "code",
      "source": [
        "parameter_set=[]\n",
        "img_Defomation_WRA=asarray(raster_Defomation_WRA)\n",
        "img_Aspect_WRA=asarray(raster_Aspect_WRA)\n",
        "img_Slope_WRA=asarray(raster_Slope_WRA)\n",
        "img_Rainfall_WRA=asarray(raster_Rainfall_WRA)\n",
        "img_Landuse_WRA=asarray(raster_Landuse_WRA)\n",
        "parameter_set.append(raster_Slope_WRA)\n",
        "parameter_set.append(raster_Aspect_WRA)\n",
        "parameter_set.append(img_Defomation_WRA)\n",
        "parameter_set.append(img_Rainfall_WRA)\n",
        "parameter_set.append(img_Landuse_WRA)"
      ],
      "metadata": {
        "id": "LTTBYGlUVCWH"
      },
      "execution_count": 69,
      "outputs": []
    },
    {
      "cell_type": "code",
      "source": [
        "d={}\n",
        "\n",
        "for i in range(rows):\n",
        "  for j in range(cols):\n",
        "    if img_Defomation_WRA[i,j] in d:\n",
        "      d[img_Defomation_WRA[i,j]]+=1\n",
        "    else:\n",
        "      d[img_Defomation_WRA[i,j]]= 1\n",
        "print(d)"
      ],
      "metadata": {
        "id": "kInySJmB8WTf",
        "outputId": "833c3fbd-1282-4161-a29a-796cd5bbbed4",
        "colab": {
          "base_uri": "https://localhost:8080/"
        }
      },
      "execution_count": 70,
      "outputs": [
        {
          "output_type": "stream",
          "name": "stdout",
          "text": [
            "{127: 2436908, 2: 3272735, 3: 2120345, 1: 1197772}\n"
          ]
        }
      ]
    },
    {
      "cell_type": "code",
      "source": [
        "rows = len(parameter_set[0])\n",
        "cols = len(parameter_set[0][0])\n",
        "print(rows,cols)"
      ],
      "metadata": {
        "id": "ypBdZ4txX2P3",
        "outputId": "23e3d4ef-7b9f-4c45-e1d8-c7c5ef528fdd",
        "colab": {
          "base_uri": "https://localhost:8080/"
        }
      },
      "execution_count": 71,
      "outputs": [
        {
          "output_type": "stream",
          "name": "stdout",
          "text": [
            "3152 4557\n"
          ]
        }
      ]
    },
    {
      "cell_type": "code",
      "source": [
        "slope = [[0 for j in range(cols)] for i in range(rows)]\n",
        "aspect= [[0 for j in range(cols)] for i in range(rows)]\n",
        "defomation=[[0 for j in range(cols)] for i in range(rows)]\n",
        "rainfall= [[0 for j in range(cols)] for i in range(rows)]\n",
        "landuse=[[0 for j in range(cols)] for i in range(rows)]\n",
        "for layer_index in range(len(parameter_set)):\n",
        "    for i in range(rows):\n",
        "        for j in range(cols):\n",
        "            x = f\"{layer_index}_{parameter_set[layer_index][i][j]}\"\n",
        "            if x in new_probabilities.keys():\n",
        "              if layer_index==0:\n",
        "                slope[i][j] = new_probabilities[x]\n",
        "              elif layer_index==1:\n",
        "                aspect[i][j] = new_probabilities[x]\n",
        "              elif layer_index==2:\n",
        "                defomation[i][j] = new_probabilities[x]\n",
        "              elif layer_index==3:\n",
        "                rainfall[i][j] = new_probabilities[x]               \n",
        "              elif layer_index==4:\n",
        "                landuse[i][j] = new_probabilities[x]\n",
        "\n",
        "final_array=[[0 for j in range(cols)] for i in range(rows)]\n",
        "for i in range(rows):\n",
        "  for j in range(cols):\n",
        "    final_array[i][j]=slope[i][j]*aspect[i][j]*defomation[i][j]*rainfall[i][j]*landuse[i][j]\n",
        "\n",
        "#*soilMoisture[i][j]\n"
      ],
      "metadata": {
        "id": "95HbCtkxaL4A"
      },
      "execution_count": 72,
      "outputs": []
    },
    {
      "cell_type": "code",
      "source": [
        "import numpy as np\n",
        "from PIL import Image\n"
      ],
      "metadata": {
        "id": "SQzOEIvPCM8G"
      },
      "execution_count": 73,
      "outputs": []
    },
    {
      "cell_type": "code",
      "source": [
        "min_value = np.min(final_array)\n",
        "max_value = np.max(final_array)\n",
        "# Define categories array with zeros of shape same as final_array\n",
        "categories = np.zeros_like(final_array)\n",
        "# Categorize the values based on the min and max values\n",
        "for i in range(rows):\n",
        "    for j in range(cols):\n",
        "        if final_array[i][j] < min_value + (max_value - min_value) / 4:\n",
        "            categories[i][j] = 1\n",
        "        elif final_array[i][j] < min_value + (max_value - min_value) / 2:\n",
        "            categories[i][j] = 2\n",
        "        elif final_array[i][j] < min_value + (max_value - min_value) * 3 / 4:\n",
        "            categories[i][j] = 3\n",
        "        else:\n",
        "            categories[i][j] = 4\n",
        "\n",
        "# Create a colormap for the categories\n",
        "colormap = {\n",
        "    1: (0, 0, 255),   # blue\n",
        "    2: (255, 255, 255), #black\n",
        "    3: (255, 255, 0),   # yellow\n",
        "    4: (255, 0, 0)    # red\n",
        "}\n",
        "\n",
        "# Create an image from the categories\n",
        "image_data = np.zeros((rows, cols, 3), dtype=np.uint8)\n",
        "for i in range(rows):\n",
        "    for j in range(cols):\n",
        "        image_data[i][j] = colormap[categories[i][j]]\n",
        "image = Image.fromarray(image_data)\n",
        "\n",
        "image.save(\"categories.tif\")\n",
        "\n"
      ],
      "metadata": {
        "id": "pMzbC_ZeRloc"
      },
      "execution_count": 75,
      "outputs": []
    }
  ]
}