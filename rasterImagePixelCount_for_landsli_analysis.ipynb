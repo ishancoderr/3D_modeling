{
  "nbformat": 4,
  "nbformat_minor": 0,
  "metadata": {
    "colab": {
      "provenance": [],
      "authorship_tag": "ABX9TyPx/FyNbPf1EbjX0sK371Md",
      "include_colab_link": true
    },
    "kernelspec": {
      "name": "python3",
      "display_name": "Python 3"
    },
    "language_info": {
      "name": "python"
    }
  },
  "cells": [
    {
      "cell_type": "markdown",
      "metadata": {
        "id": "view-in-github",
        "colab_type": "text"
      },
      "source": [
        "<a href=\"https://colab.research.google.com/github/ishancoderr/3D_modeling/blob/main/rasterImagePixelCount_for_landsli_analysis.ipynb\" target=\"_parent\"><img src=\"https://colab.research.google.com/assets/colab-badge.svg\" alt=\"Open In Colab\"/></a>"
      ]
    },
    {
      "cell_type": "code",
      "execution_count": 73,
      "metadata": {
        "colab": {
          "base_uri": "https://localhost:8080/"
        },
        "id": "bjELy8Rus7rl",
        "outputId": "28cb331e-d385-41dd-fe98-5426aeecd7d9"
      },
      "outputs": [
        {
          "output_type": "stream",
          "name": "stdout",
          "text": [
            "Looking in indexes: https://pypi.org/simple, https://us-python.pkg.dev/colab-wheels/public/simple/\n",
            "Requirement already satisfied: rasterio in /usr/local/lib/python3.10/dist-packages (1.3.6)\n",
            "Requirement already satisfied: affine in /usr/local/lib/python3.10/dist-packages (from rasterio) (2.4.0)\n",
            "Requirement already satisfied: attrs in /usr/local/lib/python3.10/dist-packages (from rasterio) (23.1.0)\n",
            "Requirement already satisfied: certifi in /usr/local/lib/python3.10/dist-packages (from rasterio) (2022.12.7)\n",
            "Requirement already satisfied: click>=4.0 in /usr/local/lib/python3.10/dist-packages (from rasterio) (8.1.3)\n",
            "Requirement already satisfied: cligj>=0.5 in /usr/local/lib/python3.10/dist-packages (from rasterio) (0.7.2)\n",
            "Requirement already satisfied: numpy>=1.18 in /usr/local/lib/python3.10/dist-packages (from rasterio) (1.22.4)\n",
            "Requirement already satisfied: snuggs>=1.4.1 in /usr/local/lib/python3.10/dist-packages (from rasterio) (1.4.7)\n",
            "Requirement already satisfied: click-plugins in /usr/local/lib/python3.10/dist-packages (from rasterio) (1.1.1)\n",
            "Requirement already satisfied: setuptools in /usr/local/lib/python3.10/dist-packages (from rasterio) (67.7.2)\n",
            "Requirement already satisfied: pyparsing>=2.1.6 in /usr/local/lib/python3.10/dist-packages (from snuggs>=1.4.1->rasterio) (3.0.9)\n"
          ]
        }
      ],
      "source": [
        "!pip install rasterio"
      ]
    },
    {
      "cell_type": "code",
      "source": [
        "import rasterio\n",
        "import matplotlib.pyplot as plt\n",
        "from numpy import asarray\n",
        "\n",
        "# Open raster and plot\n",
        "raster_Defomation = rasterio.open(\"/content/Deformation.tif\").read(1)\n",
        "raster_Aspect = rasterio.open(\"/content/Aspect.tif\").read(1)\n",
        "raster_Slope = rasterio.open(\"/content/Slope.tif\").read(1)"
      ],
      "metadata": {
        "id": "0Kbl2va0wa5s"
      },
      "execution_count": 74,
      "outputs": []
    },
    {
      "cell_type": "code",
      "source": [
        "parameter_set=[]\n",
        "img_Defomation=asarray(raster_Defomation)\n",
        "img_Aspect=asarray(raster_Aspect )\n",
        "img_Slope=asarray(raster_Slope)\n",
        "parameter_set.append(img_Slope)\n",
        "parameter_set.append(img_Aspect)\n",
        "parameter_set.append(img_Defomation)\n"
      ],
      "metadata": {
        "id": "RBVssMcKwm2P"
      },
      "execution_count": 75,
      "outputs": []
    },
    {
      "cell_type": "code",
      "source": [
        "rows = len(parameter_set[0])\n",
        "cols = len(parameter_set[0][0])\n",
        "print(rows,cols)"
      ],
      "metadata": {
        "colab": {
          "base_uri": "https://localhost:8080/"
        },
        "id": "3SHZjV-SxJ_d",
        "outputId": "837e4ece-3067-44a9-aa82-869917c611d4"
      },
      "execution_count": 78,
      "outputs": [
        {
          "output_type": "stream",
          "name": "stdout",
          "text": [
            "301 404\n"
          ]
        }
      ]
    },
    {
      "cell_type": "code",
      "source": [
        "parameter_dict=[]\n",
        "sope_dict={}\n",
        "aspect_dict={}\n",
        "defomation_dict={}\n",
        "parameter_dict.append(sope_dict)\n",
        "parameter_dict.append(aspect_dict)\n",
        "parameter_dict.append(defomation_dict)\n",
        "for num in range(len(parameter_dict)):\n",
        "  print(num)\n",
        "  rows = len(parameter_set[num])\n",
        "  cols = len(parameter_set[num][0])\n",
        "  for i in range(rows):\n",
        "    for j in range(cols):\n",
        "      if parameter_set[num][i,j] in parameter_dict[num]:\n",
        "        parameter_dict[num][parameter_set[num][i,j]]+=1\n",
        "      else:\n",
        "        parameter_dict[num][parameter_set[num][i,j]]= 1\n",
        "\n",
        "  sum=0\n",
        "  for i,j in parameter_dict[num].items():\n",
        "    if(i!=127 and i!=2147483647):\n",
        "      sum=sum+j\n",
        "\n",
        "  for i,j in parameter_dict[num].items():\n",
        "    if(i!=127 and i!=2147483647):\n",
        "      print(f\"{i} value parameter_dict {num}:{j}/{sum}\")"
      ],
      "metadata": {
        "colab": {
          "base_uri": "https://localhost:8080/"
        },
        "id": "mwlmo-cJydsR",
        "outputId": "067e2825-1bf5-43c4-defd-246129ec3681"
      },
      "execution_count": 79,
      "outputs": [
        {
          "output_type": "stream",
          "name": "stdout",
          "text": [
            "0\n",
            "2 value parameter_dict 0:17437/18509\n",
            "4 value parameter_dict 0:627/18509\n",
            "1 value parameter_dict 0:445/18509\n",
            "1\n",
            "3 value parameter_dict 1:4210/18509\n",
            "1 value parameter_dict 1:9646/18509\n",
            "2 value parameter_dict 1:4653/18509\n",
            "2\n",
            "2 value parameter_dict 2:18495/18509\n",
            "1 value parameter_dict 2:14/18509\n"
          ]
        }
      ]
    },
    {
      "cell_type": "code",
      "source": [
        "# Open raster and plot\n",
        "raster_Defomation_WRA = rasterio.open(\"/content/Aspect_WRA.tif.ovr\").read(1)\n",
        "raster_Aspect_WRA = rasterio.open(\"/content/Aspect_WRA.tif.ovr\").read(1)\n",
        "raster_Slope_WRA = rasterio.open(\"/content/Slope_WRA.tif\").read(1)"
      ],
      "metadata": {
        "colab": {
          "base_uri": "https://localhost:8080/"
        },
        "id": "91nt33RtUZj4",
        "outputId": "232ad7e5-7480-46d5-ff66-ee328aabd76e"
      },
      "execution_count": 81,
      "outputs": [
        {
          "output_type": "stream",
          "name": "stderr",
          "text": [
            "/usr/local/lib/python3.10/dist-packages/rasterio/__init__.py:304: NotGeoreferencedWarning: Dataset has no geotransform, gcps, or rpcs. The identity matrix will be returned.\n",
            "  dataset = DatasetReader(path, driver=driver, sharing=sharing, **kwargs)\n"
          ]
        }
      ]
    },
    {
      "cell_type": "code",
      "source": [
        "parameter_set=[]\n",
        "img_Defomation=asarray(raster_Defomation_WRA)\n",
        "img_Aspect=asarray(raster_Aspect_WRA)\n",
        "img_Slope=asarray(raster_Slope_WRA)"
      ],
      "metadata": {
        "id": "LTTBYGlUVCWH"
      },
      "execution_count": 82,
      "outputs": []
    }
  ]
}