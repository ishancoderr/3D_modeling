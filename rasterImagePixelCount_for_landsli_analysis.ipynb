{
  "nbformat": 4,
  "nbformat_minor": 0,
  "metadata": {
    "colab": {
      "provenance": [],
      "include_colab_link": true
    },
    "kernelspec": {
      "name": "python3",
      "display_name": "Python 3"
    },
    "language_info": {
      "name": "python"
    }
  },
  "cells": [
    {
      "cell_type": "markdown",
      "metadata": {
        "id": "view-in-github",
        "colab_type": "text"
      },
      "source": [
        "<a href=\"https://colab.research.google.com/github/ishancoderr/3D_modeling/blob/main/rasterImagePixelCount_for_landsli_analysis.ipynb\" target=\"_parent\"><img src=\"https://colab.research.google.com/assets/colab-badge.svg\" alt=\"Open In Colab\"/></a>"
      ]
    },
    {
      "cell_type": "code",
      "execution_count": 45,
      "metadata": {
        "colab": {
          "base_uri": "https://localhost:8080/"
        },
        "id": "bjELy8Rus7rl",
        "outputId": "45edaea0-e9ea-4cfa-ff62-04058fd12b6a"
      },
      "outputs": [
        {
          "output_type": "stream",
          "name": "stdout",
          "text": [
            "Looking in indexes: https://pypi.org/simple, https://us-python.pkg.dev/colab-wheels/public/simple/\n",
            "Requirement already satisfied: rasterio in /usr/local/lib/python3.10/dist-packages (1.3.6)\n",
            "Requirement already satisfied: affine in /usr/local/lib/python3.10/dist-packages (from rasterio) (2.4.0)\n",
            "Requirement already satisfied: attrs in /usr/local/lib/python3.10/dist-packages (from rasterio) (23.1.0)\n",
            "Requirement already satisfied: certifi in /usr/local/lib/python3.10/dist-packages (from rasterio) (2022.12.7)\n",
            "Requirement already satisfied: click>=4.0 in /usr/local/lib/python3.10/dist-packages (from rasterio) (8.1.3)\n",
            "Requirement already satisfied: cligj>=0.5 in /usr/local/lib/python3.10/dist-packages (from rasterio) (0.7.2)\n",
            "Requirement already satisfied: numpy>=1.18 in /usr/local/lib/python3.10/dist-packages (from rasterio) (1.22.4)\n",
            "Requirement already satisfied: snuggs>=1.4.1 in /usr/local/lib/python3.10/dist-packages (from rasterio) (1.4.7)\n",
            "Requirement already satisfied: click-plugins in /usr/local/lib/python3.10/dist-packages (from rasterio) (1.1.1)\n",
            "Requirement already satisfied: setuptools in /usr/local/lib/python3.10/dist-packages (from rasterio) (67.7.2)\n",
            "Requirement already satisfied: pyparsing>=2.1.6 in /usr/local/lib/python3.10/dist-packages (from snuggs>=1.4.1->rasterio) (3.0.9)\n"
          ]
        }
      ],
      "source": [
        "!pip install rasterio"
      ]
    },
    {
      "cell_type": "code",
      "source": [
        "import rasterio\n",
        "import matplotlib.pyplot as plt\n",
        "from numpy import asarray\n",
        "\n",
        "# Open raster and plot\n",
        "raster_Defomation = rasterio.open(\"/content/Deformation.tif\").read(1)\n",
        "raster_Aspect = rasterio.open(\"/content/Aspect.tif\").read(1)\n",
        "raster_Slope = rasterio.open(\"/content/Slope.tif\").read(1)"
      ],
      "metadata": {
        "id": "0Kbl2va0wa5s"
      },
      "execution_count": 46,
      "outputs": []
    },
    {
      "cell_type": "code",
      "source": [
        "parameter_set=[]\n",
        "img_Defomation=asarray(raster_Defomation)\n",
        "img_Aspect=asarray(raster_Aspect )\n",
        "img_Slope=asarray(raster_Slope)\n",
        "parameter_set.append(img_Slope)\n",
        "parameter_set.append(img_Aspect)\n",
        "parameter_set.append(img_Defomation)\n"
      ],
      "metadata": {
        "id": "RBVssMcKwm2P"
      },
      "execution_count": 47,
      "outputs": []
    },
    {
      "cell_type": "code",
      "source": [
        "rows = len(parameter_set[0])\n",
        "cols = len(parameter_set[0][0])\n",
        "print(rows,cols)"
      ],
      "metadata": {
        "colab": {
          "base_uri": "https://localhost:8080/"
        },
        "id": "3SHZjV-SxJ_d",
        "outputId": "d21a17fa-b254-414c-a45d-c4cc95cf8dc4"
      },
      "execution_count": 48,
      "outputs": [
        {
          "output_type": "stream",
          "name": "stdout",
          "text": [
            "301 404\n"
          ]
        }
      ]
    },
    {
      "cell_type": "code",
      "source": [
        "new_probabilities={}\n",
        "parameter_dict=[]\n",
        "sope_dict={}\n",
        "aspect_dict={}\n",
        "defomation_dict={}\n",
        "parameter_dict.append(sope_dict)\n",
        "parameter_dict.append(aspect_dict)\n",
        "parameter_dict.append(defomation_dict)\n",
        "for num in range(len(parameter_dict)):\n",
        "  print(num)\n",
        "  rows = len(parameter_set[num])\n",
        "  cols = len(parameter_set[num][0])\n",
        "  for i in range(rows):\n",
        "    for j in range(cols):\n",
        "      if parameter_set[num][i,j] in parameter_dict[num]:\n",
        "        parameter_dict[num][parameter_set[num][i,j]]+=1\n",
        "      else:\n",
        "        parameter_dict[num][parameter_set[num][i,j]]= 1\n",
        "\n",
        "  sum=0\n",
        "  for i,j in parameter_dict[num].items():\n",
        "    if(i!=127 and i!=2147483647):\n",
        "      sum=sum+j\n",
        "\n",
        "  for i,j in parameter_dict[num].items():\n",
        "    if(i!=127 and i!=2147483647):\n",
        "      print(f\"{i} value parameter_dict {num}:{j}/{sum}\")\n",
        "      new_probabilities[f'{num}_{i}']=j/sum\n",
        "print(new_probabilities)"
      ],
      "metadata": {
        "colab": {
          "base_uri": "https://localhost:8080/"
        },
        "id": "mwlmo-cJydsR",
        "outputId": "28b40f8b-f356-4dd4-aff0-18432f57627e"
      },
      "execution_count": 49,
      "outputs": [
        {
          "output_type": "stream",
          "name": "stdout",
          "text": [
            "0\n",
            "2 value parameter_dict 0:17437/18509\n",
            "4 value parameter_dict 0:627/18509\n",
            "1 value parameter_dict 0:445/18509\n",
            "1\n",
            "3 value parameter_dict 1:4210/18509\n",
            "1 value parameter_dict 1:9646/18509\n",
            "2 value parameter_dict 1:4653/18509\n",
            "2\n",
            "2 value parameter_dict 2:18495/18509\n",
            "1 value parameter_dict 2:14/18509\n",
            "{'0_2': 0.942082230266357, '0_4': 0.03387541196174834, '0_1': 0.024042357771894753, '1_3': 0.22745691285320654, '1_1': 0.52115187206224, '1_2': 0.2513912150845535, '2_2': 0.9992436112161651, '2_1': 0.0007563887838348912}\n"
          ]
        }
      ]
    },
    {
      "cell_type": "code",
      "source": [
        "# Open raster and plot\n",
        "raster_Defomation_WRA = rasterio.open(\"/content/Deformation_WRA.tif\").read(1)\n",
        "raster_Aspect_WRA = rasterio.open(\"/content/Aspect_WRA.tif\").read(1)\n",
        "raster_Slope_WRA = rasterio.open(\"/content/Slope_WRA.tif\").read(1)"
      ],
      "metadata": {
        "id": "91nt33RtUZj4"
      },
      "execution_count": 50,
      "outputs": []
    },
    {
      "cell_type": "code",
      "source": [
        "parameter_set=[]\n",
        "img_Defomation_WRA=asarray(raster_Defomation_WRA)\n",
        "img_Aspect_WRA=asarray(raster_Aspect_WRA)\n",
        "img_Slope_WRA=asarray(raster_Slope_WRA)\n",
        "parameter_set.append(raster_Slope_WRA)\n",
        "parameter_set.append(raster_Aspect_WRA)\n",
        "parameter_set.append(img_Defomation_WRA)"
      ],
      "metadata": {
        "id": "LTTBYGlUVCWH"
      },
      "execution_count": 51,
      "outputs": []
    },
    {
      "cell_type": "code",
      "source": [
        "d={}\n",
        "\n",
        "for i in range(rows):\n",
        "  for j in range(cols):\n",
        "    if img_Defomation_WRA[i,j] in d:\n",
        "      d[img_Defomation_WRA[i,j]]+=1\n",
        "    else:\n",
        "      d[img_Defomation_WRA[i,j]]= 1\n",
        "print(d)"
      ],
      "metadata": {
        "id": "kInySJmB8WTf",
        "outputId": "7849a3dd-53a4-489d-85c5-798e9101d85a",
        "colab": {
          "base_uri": "https://localhost:8080/"
        }
      },
      "execution_count": 52,
      "outputs": [
        {
          "output_type": "stream",
          "name": "stdout",
          "text": [
            "{2: 104793, 127: 16642, 1: 169}\n"
          ]
        }
      ]
    },
    {
      "cell_type": "code",
      "source": [
        "rows = len(parameter_set[2])\n",
        "cols = len(parameter_set[2][0])\n",
        "print(rows,cols)"
      ],
      "metadata": {
        "id": "ypBdZ4txX2P3",
        "outputId": "b8ace1ea-1a15-4a12-dd41-f3093727c85b",
        "colab": {
          "base_uri": "https://localhost:8080/"
        }
      },
      "execution_count": 53,
      "outputs": [
        {
          "output_type": "stream",
          "name": "stdout",
          "text": [
            "349 524\n"
          ]
        }
      ]
    },
    {
      "cell_type": "code",
      "source": [
        "slope = [[0 for j in range(cols)] for i in range(rows)]\n",
        "aspect= [[0 for j in range(cols)] for i in range(rows)]\n",
        "defomation=[[0 for j in range(cols)] for i in range(rows)]\n",
        "for layer_index in range(len(parameter_set)):\n",
        "    for i in range(rows):\n",
        "        for j in range(cols):\n",
        "            x = f\"{layer_index}_{parameter_set[layer_index][i][j]}\"\n",
        "            if x in new_probabilities.keys():\n",
        "              if layer_index==0:\n",
        "                slope[i][j] = new_probabilities[x]\n",
        "              elif layer_index==1:\n",
        "                aspect[i][j] = new_probabilities[x]\n",
        "              elif layer_index==2:\n",
        "                defomation[i][j] = new_probabilities[x]\n",
        "\n",
        "final_array=[[0 for j in range(cols)] for i in range(rows)]\n",
        "for i in range(rows):\n",
        "  for j in range(cols):\n",
        "    final_array[i][j]=slope[i][j]*aspect[i][j]*defomation[i][j]\n",
        "\n"
      ],
      "metadata": {
        "id": "95HbCtkxaL4A"
      },
      "execution_count": 54,
      "outputs": []
    },
    {
      "cell_type": "code",
      "source": [
        "min_value = np.min(final_array)\n",
        "max_value = np.max(final_array)\n",
        "\n",
        "# Categorize the values based on the min and max values\n",
        "for i in range(rows):\n",
        "    for j in range(cols):\n",
        "        if final_array[i][j] < min_value + (max_value - min_value) / 4:\n",
        "            categories[i][j] = 1\n",
        "        elif final_array[i][j] < min_value + (max_value - min_value) / 2:\n",
        "            categories[i][j] = 2\n",
        "        elif final_array[i][j] < min_value + (max_value - min_value) * 3 / 4:\n",
        "            categories[i][j] = 3\n",
        "        else:\n",
        "            categories[i][j] = 4\n",
        "\n",
        "# Create a colormap for the categories\n",
        "colormap = {\n",
        "    1: (255, 0, 0),   # red\n",
        "    2: (255, 255, 0), # yellow\n",
        "    3: (255, 255, 255),   # black\n",
        "    4: (0, 0, 255)    # blue\n",
        "}\n",
        "\n",
        "# Create an image from the categories\n",
        "image_data = np.zeros((rows, cols, 3), dtype=np.uint8)\n",
        "for i in range(rows):\n",
        "    for j in range(cols):\n",
        "        image_data[i][j] = colormap[categories[i][j]]\n",
        "image = Image.fromarray(image_data)\n",
        "\n",
        "image.save(\"categories.png\")\n",
        "\n"
      ],
      "metadata": {
        "id": "pMzbC_ZeRloc"
      },
      "execution_count": 55,
      "outputs": []
    }
  ]
}