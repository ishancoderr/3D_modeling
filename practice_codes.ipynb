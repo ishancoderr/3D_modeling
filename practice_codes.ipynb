{
  "nbformat": 4,
  "nbformat_minor": 0,
  "metadata": {
    "colab": {
      "provenance": [],
      "authorship_tag": "ABX9TyND4R6sUwUbwZzy/Uuw6io+",
      "include_colab_link": true
    },
    "kernelspec": {
      "name": "python3",
      "display_name": "Python 3"
    },
    "language_info": {
      "name": "python"
    }
  },
  "cells": [
    {
      "cell_type": "markdown",
      "metadata": {
        "id": "view-in-github",
        "colab_type": "text"
      },
      "source": [
        "<a href=\"https://colab.research.google.com/github/ishancoderr/3D_modeling/blob/main/practice_codes.ipynb\" target=\"_parent\"><img src=\"https://colab.research.google.com/assets/colab-badge.svg\" alt=\"Open In Colab\"/></a>"
      ]
    },
    {
      "cell_type": "code",
      "execution_count": 2,
      "metadata": {
        "colab": {
          "base_uri": "https://localhost:8080/"
        },
        "id": "WvXSnl3DsGkA",
        "outputId": "83e1dfcf-461f-4bd4-931c-ee529363ea47"
      },
      "outputs": [
        {
          "output_type": "stream",
          "name": "stdout",
          "text": [
            "['j', 'a', 'd', 'r', 'r', 'a', 'r', 'e', 'w']\n"
          ]
        }
      ],
      "source": [
        "s='werarrdaj'\n",
        "a=[]\n",
        "for i in range(len(s)):\n",
        "  a.append(s[len(s)-1-i])\n",
        "\n",
        "\n",
        "print(a)\n",
        "  "
      ]
    },
    {
      "cell_type": "code",
      "source": [
        "def finder(arr1,arr2):\n",
        "  \n",
        "  d={}\n",
        "  for num in arr1:\n",
        "    if num in d:\n",
        "      d[num] += 1\n",
        "    else:\n",
        "      d[num]=1\n",
        "  #print(d)\n",
        "\n",
        "  for num in arr2:\n",
        "    if num in d:\n",
        "      d[num]-=1\n",
        "  \n",
        "  for i,j in d.items():\n",
        "    #print(f\"{i}{j}\")\n",
        "    if j>0:\n",
        "      print(i)"
      ],
      "metadata": {
        "id": "k6-46y7Ssp28"
      },
      "execution_count": 3,
      "outputs": []
    },
    {
      "cell_type": "code",
      "source": [
        "a=[1,2,3,4,5,6,7]\n",
        "b=[1,2,3,4,5,6]\n",
        "finder(a,b)"
      ],
      "metadata": {
        "colab": {
          "base_uri": "https://localhost:8080/"
        },
        "id": "Fn5mVBPTt1fD",
        "outputId": "286070e6-5782-4d0b-9f6f-799596964050"
      },
      "execution_count": 4,
      "outputs": [
        {
          "output_type": "stream",
          "name": "stdout",
          "text": [
            "7\n"
          ]
        }
      ]
    },
    {
      "cell_type": "code",
      "source": [
        "def removeDuplicates(s):\n",
        "\n",
        "  result=[]\n",
        "  seen=set()\n",
        "\n",
        "  for char in s:\n",
        "    if char not in seen:\n",
        "      seen.add(char)\n",
        "      result.append(char)\n",
        "\n",
        "  return ''.join(result)"
      ],
      "metadata": {
        "id": "0mRmIB-Gu120"
      },
      "execution_count": 5,
      "outputs": []
    },
    {
      "cell_type": "code",
      "source": [
        "s='dhuhhudhhijjs'\n",
        "removeDuplicates(s)"
      ],
      "metadata": {
        "colab": {
          "base_uri": "https://localhost:8080/",
          "height": 35
        },
        "id": "ln5BAheiu4ak",
        "outputId": "a4426306-26c9-4d98-f355-9ad9c85f5fac"
      },
      "execution_count": 6,
      "outputs": [
        {
          "output_type": "execute_result",
          "data": {
            "text/plain": [
              "'dhuijs'"
            ],
            "application/vnd.google.colaboratory.intrinsic+json": {
              "type": "string"
            }
          },
          "metadata": {},
          "execution_count": 6
        }
      ]
    },
    {
      "cell_type": "code",
      "source": [
        "def pair_sum(arr,k):\n",
        "\n",
        "  if len(arr)<2:\n",
        "    return\n",
        "\n",
        "  seen=set()\n",
        "  output=set()\n",
        "\n",
        "\n",
        "  for num in arr:\n",
        "    #print(num)\n",
        "    target=k-num\n",
        "    if target not in seen:\n",
        "      seen.add(num)\n",
        "      #print(seen)\n",
        "      \n",
        "    \n",
        "    else:\n",
        "      output.add((min(num,target),max(num,target)))\n",
        "      print(min(num,target))\n",
        "      print(max(num,target))\n",
        "      \n",
        "\n",
        "  #return len(output)\n",
        "  print( '\\n'.join(map(str,list(output))))"
      ],
      "metadata": {
        "id": "kn0q4WN5vGwU"
      },
      "execution_count": 7,
      "outputs": []
    },
    {
      "cell_type": "code",
      "source": [
        "a=[1,2,3,7,6,4,2,3,3,55,5,5,5]\n",
        "pair_sum(a,10)"
      ],
      "metadata": {
        "colab": {
          "base_uri": "https://localhost:8080/"
        },
        "id": "zeaUc_U6v5S2",
        "outputId": "9ad9575e-dd1b-420b-ed29-0d5596984015"
      },
      "execution_count": 8,
      "outputs": [
        {
          "output_type": "stream",
          "name": "stdout",
          "text": [
            "3\n",
            "7\n",
            "4\n",
            "6\n",
            "5\n",
            "5\n",
            "5\n",
            "5\n",
            "(3, 7)\n",
            "(5, 5)\n",
            "(4, 6)\n"
          ]
        }
      ]
    },
    {
      "cell_type": "code",
      "source": [
        "s='gjjgnnnbn'\n",
        "output=\"\"\n",
        "for i in range(len(s)):\n",
        "  print(i)\n",
        "  output=s[i]+output\n",
        "\n",
        "print(output)\n",
        "\n"
      ],
      "metadata": {
        "colab": {
          "base_uri": "https://localhost:8080/"
        },
        "id": "Tai1xHLmy7xV",
        "outputId": "b0b21d3a-17cf-41e9-b3e1-e68e361f76cf"
      },
      "execution_count": 11,
      "outputs": [
        {
          "output_type": "stream",
          "name": "stdout",
          "text": [
            "0\n",
            "1\n",
            "2\n",
            "3\n",
            "4\n",
            "5\n",
            "6\n",
            "7\n",
            "8\n",
            "nbnnngjjg\n"
          ]
        }
      ]
    },
    {
      "cell_type": "code",
      "source": [
        "def remove_duplicates(s):\n",
        "  a=[]\n",
        "  dup=set()\n",
        "  for char in s:\n",
        "    if char not in dup:\n",
        "      dup.add(char)\n",
        "      a.append(char)\n",
        "  return ''.join(a)"
      ],
      "metadata": {
        "id": "VeheL-7P0Vq3"
      },
      "execution_count": 21,
      "outputs": []
    },
    {
      "cell_type": "code",
      "source": [
        "s='srilankacondhsri'\n",
        "remove_duplicates(s)"
      ],
      "metadata": {
        "colab": {
          "base_uri": "https://localhost:8080/",
          "height": 35
        },
        "id": "CwsEqMkZ01Y1",
        "outputId": "1b4df815-3e4c-4ffc-d4c0-d69a52296d62"
      },
      "execution_count": 22,
      "outputs": [
        {
          "output_type": "execute_result",
          "data": {
            "text/plain": [
              "'srilankcodh'"
            ],
            "application/vnd.google.colaboratory.intrinsic+json": {
              "type": "string"
            }
          },
          "metadata": {},
          "execution_count": 22
        }
      ]
    },
    {
      "cell_type": "code",
      "source": [
        "def reverser(s):\n",
        "  if len(s)<=1:\n",
        "    return s\n",
        "  return reverser(s[1:])+s[0]\n"
      ],
      "metadata": {
        "id": "IJFzr6sp9L84"
      },
      "execution_count": 26,
      "outputs": []
    },
    {
      "cell_type": "code",
      "source": [
        "s='dfftghjsjkjs'\n",
        "reverser(s)"
      ],
      "metadata": {
        "colab": {
          "base_uri": "https://localhost:8080/",
          "height": 35
        },
        "id": "2kZTiJY49TzI",
        "outputId": "6040469f-f98c-4740-f20d-3805266c26b6"
      },
      "execution_count": 27,
      "outputs": [
        {
          "output_type": "execute_result",
          "data": {
            "text/plain": [
              "'sjkjsjhgtffd'"
            ],
            "application/vnd.google.colaboratory.intrinsic+json": {
              "type": "string"
            }
          },
          "metadata": {},
          "execution_count": 27
        }
      ]
    },
    {
      "cell_type": "code",
      "source": [
        "s='sffsfhj'\n",
        "print(s[2:4])"
      ],
      "metadata": {
        "colab": {
          "base_uri": "https://localhost:8080/"
        },
        "id": "ehSAGopv-Gth",
        "outputId": "2d4463a7-118b-422a-ade0-02e0cd8013bf"
      },
      "execution_count": 30,
      "outputs": [
        {
          "output_type": "stream",
          "name": "stdout",
          "text": [
            "fs\n"
          ]
        }
      ]
    },
    {
      "cell_type": "code",
      "source": [
        "def finder(arr1,arr2):\n",
        "  \n",
        "  d={}\n",
        "  for num in arr1:\n",
        "    if num in d:\n",
        "      d[num] += 1\n",
        "    else:\n",
        "      d[num]=1\n",
        "  #print(d)\n",
        "\n",
        "  for num in arr2:\n",
        "    if num in d:\n",
        "      d[num]-=1\n",
        "  \n",
        "  for i,j in d.items():\n",
        "    #print(f\"{i}{j}\")\n",
        "    if j>0:\n",
        "      print(i)"
      ],
      "metadata": {
        "id": "M-h_JPlrCu5i"
      },
      "execution_count": 32,
      "outputs": []
    },
    {
      "cell_type": "code",
      "source": [
        "a=[1,2,3,4,5,6,7]\n",
        "b=[1,2,3,4,5,6]\n",
        "finder(a,b)"
      ],
      "metadata": {
        "colab": {
          "base_uri": "https://localhost:8080/"
        },
        "id": "X40XKFWiEK5D",
        "outputId": "4216ace4-0b7f-4a77-a73f-c211f2f03bd2"
      },
      "execution_count": 33,
      "outputs": [
        {
          "output_type": "stream",
          "name": "stdout",
          "text": [
            "7\n"
          ]
        }
      ]
    },
    {
      "cell_type": "code",
      "source": [
        "arr=[12,5,7,5,6]\n",
        "\n",
        "for n in range(len(arr)-1,0,-1):\n",
        "  print(\"this is n:\",n)\n",
        "  for k in range(n):\n",
        "    print(\"this is k:\",k)\n",
        "    if arr[k]>arr[k+1]:\n",
        "      temp=arr[k]\n",
        "      arr[k]=arr[k+1]\n",
        "      arr[k+1]=temp\n",
        "\n",
        "print(arr)"
      ],
      "metadata": {
        "colab": {
          "base_uri": "https://localhost:8080/"
        },
        "id": "_hCus433Ex1q",
        "outputId": "161600ef-a9b6-4dbd-a9d4-2e9b5e9b784e"
      },
      "execution_count": 35,
      "outputs": [
        {
          "output_type": "stream",
          "name": "stdout",
          "text": [
            "this is n: 4\n",
            "this is k: 0\n",
            "this is k: 1\n",
            "this is k: 2\n",
            "this is k: 3\n",
            "this is n: 3\n",
            "this is k: 0\n",
            "this is k: 1\n",
            "this is k: 2\n",
            "this is n: 2\n",
            "this is k: 0\n",
            "this is k: 1\n",
            "this is n: 1\n",
            "this is k: 0\n",
            "[5, 5, 6, 7, 12]\n"
          ]
        }
      ]
    },
    {
      "cell_type": "code",
      "source": [
        "arr=[12,5,7,5,6]\n",
        "for n in range(len(arr)-1,0,-1):\n",
        "  for k in range(n):\n",
        "    if arr[k]>arr[k+1]:\n",
        "      temp=arr[k]\n",
        "      arr[k]=arr[k+1]\n",
        "      arr[k+1]=temp\n",
        "\n",
        "print(arr)"
      ],
      "metadata": {
        "colab": {
          "base_uri": "https://localhost:8080/"
        },
        "id": "kyKOk8VjIsuD",
        "outputId": "d4fc7c4c-6dd4-4d8a-e236-7b1fec9982ed"
      },
      "execution_count": 38,
      "outputs": [
        {
          "output_type": "stream",
          "name": "stdout",
          "text": [
            "[5, 5, 6, 7, 12]\n"
          ]
        }
      ]
    },
    {
      "cell_type": "code",
      "source": [
        "def binary_search(arr,ele):\n",
        "  first=0\n",
        "  last=len(arr)-1\n",
        "\n",
        "  found=False\n",
        "  while first<=last and not found:\n",
        "    mid=int((first+last)/2)\n",
        "    \n",
        "    if arr[mid]== ele:\n",
        "      found=True\n",
        "    else:\n",
        "      if ele < arr[mid]:\n",
        "        last=mid-1\n",
        "      else:\n",
        "        first=mid+1\n",
        "  return found"
      ],
      "metadata": {
        "id": "fjOS1mOvL4jN"
      },
      "execution_count": 41,
      "outputs": []
    },
    {
      "cell_type": "code",
      "source": [
        "arr=[1,2,3,4,5,6,7,8,9]\n",
        "binary_search(arr,3)"
      ],
      "metadata": {
        "colab": {
          "base_uri": "https://localhost:8080/"
        },
        "id": "n5WEJqfGL9_F",
        "outputId": "b1d830a0-b27a-4913-9b51-aa310e4c44c8"
      },
      "execution_count": 42,
      "outputs": [
        {
          "output_type": "execute_result",
          "data": {
            "text/plain": [
              "True"
            ]
          },
          "metadata": {},
          "execution_count": 42
        }
      ]
    }
  ]
}