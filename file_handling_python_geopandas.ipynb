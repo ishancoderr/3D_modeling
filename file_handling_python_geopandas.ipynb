{
  "nbformat": 4,
  "nbformat_minor": 0,
  "metadata": {
    "colab": {
      "provenance": [],
      "authorship_tag": "ABX9TyNKhW8CW3JQnhDZTEwSTuO+",
      "include_colab_link": true
    },
    "kernelspec": {
      "name": "python3",
      "display_name": "Python 3"
    },
    "language_info": {
      "name": "python"
    }
  },
  "cells": [
    {
      "cell_type": "markdown",
      "metadata": {
        "id": "view-in-github",
        "colab_type": "text"
      },
      "source": [
        "<a href=\"https://colab.research.google.com/github/ishancoderr/3D_modeling/blob/main/file_handling_python_geopandas.ipynb\" target=\"_parent\"><img src=\"https://colab.research.google.com/assets/colab-badge.svg\" alt=\"Open In Colab\"/></a>"
      ]
    },
    {
      "cell_type": "code",
      "execution_count": 64,
      "metadata": {
        "colab": {
          "base_uri": "https://localhost:8080/",
          "height": 140
        },
        "id": "KAZ9-Z4ybTlG",
        "outputId": "2890d6cd-6664-4f57-dcf6-7674efeed455"
      },
      "outputs": [
        {
          "output_type": "execute_result",
          "data": {
            "text/plain": [
              "'first note addedfirst note addedfirst note addedfirst note addedfirst note addedfirst note addedfirst note addedfirst note addedfirst note addedfirst note addedfirst note addedfirst note addedfirst note addedfirst note addedfirst note addedfirst note addedfirst note addedfirst note addedfirst note addedfirst note addedsecond note addedthird note addedsecond note addedthird note addedsecond note addedthird note addedsecond note addedthird note addedsecond note addedthird note addedsecond note addedthird note addedsecond note addedthird note addedsecond note addedthird note addedsecond note addedthird note addedsecond note addedthird note addedsecond note addedthird note addedsecond note addedthird note addedsecond note addedthird note addedsecond note addedthird note addedsecond note addedthird note addedsecond note addedthird note addedsecond note addedthird note addedsecond note addedthird note addedsecond note addedthird note addedsecond note addedthird note addedsecond note addedthird note addedsecond note addedthird note addedsecond note addedthird note addedsecond note addedthird note addedsecond note addedthird note addedsecond note addedthird note addedsecond note addedthird note addedsecond note addedthird note addedsecond note addedthird note addedsecond note addedthird note addedsecond note added\\nthird note addedsecond note added\\nthird note addedsecond note added\\nthird note addedsecond note added\\nthird note addedsecond note added\\nthird note addedsecond note added\\nthird note addedsecond note added\\nthird note addedsecond note added\\nthird note addedsecond note added\\nthird note addedsecond note added\\nthird note addedsecond note added\\nthird note addedsecond note added\\nthird note addedsecond note added\\nthird note addedsecond note added\\nthird note addedsecond note added\\nthird note addedsecond note added\\nthird note addedsecond note added\\nthird note addedsecond note added\\nthird note addedsecond note added\\nthird note addedsecond note added\\nthird note added'"
            ],
            "application/vnd.google.colaboratory.intrinsic+json": {
              "type": "string"
            }
          },
          "metadata": {},
          "execution_count": 64
        }
      ],
      "source": [
        "\n",
        "f = open(\"/content/note4.txt\", \"a\")\n",
        "for i in range(10):\n",
        "  f.write(\"second note added\\n\")\n",
        "  f.write(\"third note added\")\n",
        "f.close()\n",
        "\n",
        "\n",
        "f=open(\"/content/note4.txt\", \"r\")\n",
        "f.read()"
      ]
    },
    {
      "cell_type": "code",
      "source": [
        "import os\n",
        "os.remove('/content/note1.txt')"
      ],
      "metadata": {
        "id": "OJq-_jvIBL_U",
        "colab": {
          "base_uri": "https://localhost:8080/",
          "height": 183
        },
        "outputId": "05fe8432-3179-42f8-e4f8-4e4724e544c9"
      },
      "execution_count": 65,
      "outputs": [
        {
          "output_type": "error",
          "ename": "FileNotFoundError",
          "evalue": "ignored",
          "traceback": [
            "\u001b[0;31m---------------------------------------------------------------------------\u001b[0m",
            "\u001b[0;31mFileNotFoundError\u001b[0m                         Traceback (most recent call last)",
            "\u001b[0;32m<ipython-input-65-3c0ec65dea18>\u001b[0m in \u001b[0;36m<module>\u001b[0;34m\u001b[0m\n\u001b[1;32m      1\u001b[0m \u001b[0;32mimport\u001b[0m \u001b[0mos\u001b[0m\u001b[0;34m\u001b[0m\u001b[0;34m\u001b[0m\u001b[0m\n\u001b[0;32m----> 2\u001b[0;31m \u001b[0mos\u001b[0m\u001b[0;34m.\u001b[0m\u001b[0mremove\u001b[0m\u001b[0;34m(\u001b[0m\u001b[0;34m'/content/note1.txt'\u001b[0m\u001b[0;34m)\u001b[0m\u001b[0;34m\u001b[0m\u001b[0;34m\u001b[0m\u001b[0m\n\u001b[0m",
            "\u001b[0;31mFileNotFoundError\u001b[0m: [Errno 2] No such file or directory: '/content/note1.txt'"
          ]
        }
      ]
    },
    {
      "cell_type": "code",
      "source": [
        "print(os.path.exists('/content/note1.txt'))\n",
        "print(os.path.getsize('/content/note4.txt'))"
      ],
      "metadata": {
        "colab": {
          "base_uri": "https://localhost:8080/"
        },
        "id": "Z1X8IieFBmDi",
        "outputId": "670fc574-fbb9-42dd-dc6d-7f20c1dd5f61"
      },
      "execution_count": 66,
      "outputs": [
        {
          "output_type": "stream",
          "name": "stdout",
          "text": [
            "False\n",
            "1990\n"
          ]
        }
      ]
    },
    {
      "cell_type": "code",
      "source": [
        "from statistics import mean\n",
        "a=[1,3,3,3,3]\n",
        "print(mean(a))"
      ],
      "metadata": {
        "colab": {
          "base_uri": "https://localhost:8080/"
        },
        "id": "KmqwiebsHDsc",
        "outputId": "8ffe5a96-c9ce-4e1c-debe-84efb1a40afc"
      },
      "execution_count": 67,
      "outputs": [
        {
          "output_type": "stream",
          "name": "stdout",
          "text": [
            "2.6\n"
          ]
        }
      ]
    },
    {
      "cell_type": "code",
      "source": [
        "import pandas as pd"
      ],
      "metadata": {
        "id": "acpP-w9UJqkF"
      },
      "execution_count": 68,
      "outputs": []
    },
    {
      "cell_type": "code",
      "source": [
        "column=[\"Maria\",\"ishan\",\"nadun\"]\n",
        "height=[1.65,1.56,1.66]\n",
        "weight=[44,56,89]\n",
        "\n",
        "title_column={'name':column,\n",
        "              'height':height,\n",
        "              'weight':weight}"
      ],
      "metadata": {
        "id": "w9yHtYJISPIl"
      },
      "execution_count": 69,
      "outputs": []
    },
    {
      "cell_type": "code",
      "source": [
        "data=pd.DataFrame(title_column)"
      ],
      "metadata": {
        "id": "LOCVlgvgSsz2"
      },
      "execution_count": 70,
      "outputs": []
    },
    {
      "cell_type": "code",
      "source": [
        "print(data)"
      ],
      "metadata": {
        "colab": {
          "base_uri": "https://localhost:8080/"
        },
        "id": "-mGXGiPDSnP2",
        "outputId": "c6079baf-50ad-4dd2-8892-a76869d69c23"
      },
      "execution_count": 71,
      "outputs": [
        {
          "output_type": "stream",
          "name": "stdout",
          "text": [
            "    name  height  weight\n",
            "0  Maria    1.65      44\n",
            "1  ishan    1.56      56\n",
            "2  nadun    1.66      89\n"
          ]
        }
      ]
    },
    {
      "cell_type": "code",
      "source": [
        "select_column=data[\"weight\"]\n",
        "print(select_column)"
      ],
      "metadata": {
        "id": "aGQ-HphMWq6A",
        "colab": {
          "base_uri": "https://localhost:8080/"
        },
        "outputId": "31350a31-d6e9-4d80-c79d-32d275d72708"
      },
      "execution_count": 73,
      "outputs": [
        {
          "output_type": "stream",
          "name": "stdout",
          "text": [
            "0    44\n",
            "1    56\n",
            "2    89\n",
            "Name: weight, dtype: int64\n"
          ]
        }
      ]
    },
    {
      "cell_type": "code",
      "source": [
        "select_row=data.iloc[2][\"weight\"]\n",
        "print(select_row)"
      ],
      "metadata": {
        "colab": {
          "base_uri": "https://localhost:8080/"
        },
        "id": "TvwYPLqYYco2",
        "outputId": "b4c3776f-7c45-45b1-94fd-bd89de26efad"
      },
      "execution_count": 74,
      "outputs": [
        {
          "output_type": "stream",
          "name": "stdout",
          "text": [
            "89\n"
          ]
        }
      ]
    },
    {
      "cell_type": "code",
      "source": [
        "bmi=[]\n",
        "for i in range(len(data)):\n",
        "  bmi_data=data[\"weight\"][i]/(data['height'][i]**2)\n",
        "  bmi.append(bmi_data)\n",
        "\n",
        "print(bmi)"
      ],
      "metadata": {
        "colab": {
          "base_uri": "https://localhost:8080/"
        },
        "id": "ZRoF1bPEY_t-",
        "outputId": "aef79863-0ce3-40df-ebdd-ab9cbcdfdc7c"
      },
      "execution_count": 75,
      "outputs": [
        {
          "output_type": "stream",
          "name": "stdout",
          "text": [
            "[16.161616161616163, 23.011176857330703, 32.29786616344898]\n"
          ]
        }
      ]
    },
    {
      "cell_type": "code",
      "source": [
        "data[\"BMI\"]=bmi"
      ],
      "metadata": {
        "id": "lsB6raZjbXVn"
      },
      "execution_count": 76,
      "outputs": []
    },
    {
      "cell_type": "code",
      "source": [
        "print(data)"
      ],
      "metadata": {
        "colab": {
          "base_uri": "https://localhost:8080/"
        },
        "id": "tNtljUTCbmcJ",
        "outputId": "0ceebf74-f408-47d5-963f-63b9114cc948"
      },
      "execution_count": 77,
      "outputs": [
        {
          "output_type": "stream",
          "name": "stdout",
          "text": [
            "    name  height  weight        BMI\n",
            "0  Maria    1.65      44  16.161616\n",
            "1  ishan    1.56      56  23.011177\n",
            "2  nadun    1.66      89  32.297866\n"
          ]
        }
      ]
    }
  ]
}