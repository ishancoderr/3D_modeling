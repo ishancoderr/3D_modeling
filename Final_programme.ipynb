{
  "nbformat": 4,
  "nbformat_minor": 0,
  "metadata": {
    "colab": {
      "name": "Untitled36.ipynb",
      "provenance": [],
      "authorship_tag": "ABX9TyOS6qTKIY5lFy2uPN6iH1tc",
      "include_colab_link": true
    },
    "kernelspec": {
      "name": "python3",
      "display_name": "Python 3"
    },
    "language_info": {
      "name": "python"
    }
  },
  "cells": [
    {
      "cell_type": "markdown",
      "metadata": {
        "id": "view-in-github",
        "colab_type": "text"
      },
      "source": [
        "<a href=\"https://colab.research.google.com/github/ishancoderr/3D_modeling/blob/main/Final_programme.ipynb\" target=\"_parent\"><img src=\"https://colab.research.google.com/assets/colab-badge.svg\" alt=\"Open In Colab\"/></a>"
      ]
    },
    {
      "cell_type": "code",
      "metadata": {
        "id": "5VyI4QmYJXo0"
      },
      "source": [
        "import numpy as np\n",
        "import matplotlib.pyplot as plt\n",
        "import pandas as pd"
      ],
      "execution_count": 283,
      "outputs": []
    },
    {
      "cell_type": "markdown",
      "metadata": {
        "id": "xwEo2bQJJqqY"
      },
      "source": [
        "# Read csv data file in athletes"
      ]
    },
    {
      "cell_type": "code",
      "metadata": {
        "id": "OyzyJDazJpwO"
      },
      "source": [
        "athletes_data=pd.read_csv(\"/content/sample_data/new-ath.csv\")"
      ],
      "execution_count": 284,
      "outputs": []
    },
    {
      "cell_type": "code",
      "metadata": {
        "colab": {
          "base_uri": "https://localhost:8080/",
          "height": 589
        },
        "id": "sNjrZKFtJ2Wf",
        "outputId": "70eb175a-99c0-4ae1-c458-1cccfd9dc843"
      },
      "source": [
        "athletes_data"
      ],
      "execution_count": 285,
      "outputs": [
        {
          "output_type": "execute_result",
          "data": {
            "text/html": [
              "<div>\n",
              "<style scoped>\n",
              "    .dataframe tbody tr th:only-of-type {\n",
              "        vertical-align: middle;\n",
              "    }\n",
              "\n",
              "    .dataframe tbody tr th {\n",
              "        vertical-align: top;\n",
              "    }\n",
              "\n",
              "    .dataframe thead th {\n",
              "        text-align: right;\n",
              "    }\n",
              "</style>\n",
              "<table border=\"1\" class=\"dataframe\">\n",
              "  <thead>\n",
              "    <tr style=\"text-align: right;\">\n",
              "      <th></th>\n",
              "      <th>ID</th>\n",
              "      <th>Name</th>\n",
              "      <th>Sex</th>\n",
              "      <th>Age</th>\n",
              "      <th>Height</th>\n",
              "      <th>Weight</th>\n",
              "      <th>Team</th>\n",
              "      <th>NOC</th>\n",
              "      <th>Games</th>\n",
              "      <th>Year</th>\n",
              "      <th>Season</th>\n",
              "      <th>City</th>\n",
              "      <th>Sport</th>\n",
              "      <th>Event</th>\n",
              "      <th>Medal</th>\n",
              "    </tr>\n",
              "  </thead>\n",
              "  <tbody>\n",
              "    <tr>\n",
              "      <th>0</th>\n",
              "      <td>34</td>\n",
              "      <td>Jamale (Djamel-) Aarrass (Ahrass-)</td>\n",
              "      <td>M</td>\n",
              "      <td>30</td>\n",
              "      <td>187</td>\n",
              "      <td>76</td>\n",
              "      <td>France</td>\n",
              "      <td>FRA</td>\n",
              "      <td>2012 Summer</td>\n",
              "      <td>2012</td>\n",
              "      <td>Summer</td>\n",
              "      <td>London</td>\n",
              "      <td>Athletics</td>\n",
              "      <td>Athletics Men's 1,500 metres</td>\n",
              "      <td>1</td>\n",
              "    </tr>\n",
              "    <tr>\n",
              "      <th>1</th>\n",
              "      <td>86</td>\n",
              "      <td>Jos Manuel Abascal Gmez</td>\n",
              "      <td>M</td>\n",
              "      <td>22</td>\n",
              "      <td>182</td>\n",
              "      <td>67</td>\n",
              "      <td>Spain</td>\n",
              "      <td>ESP</td>\n",
              "      <td>1980 Summer</td>\n",
              "      <td>1980</td>\n",
              "      <td>Summer</td>\n",
              "      <td>Moskva</td>\n",
              "      <td>Athletics</td>\n",
              "      <td>Athletics Men's 1,500 metres</td>\n",
              "      <td>0</td>\n",
              "    </tr>\n",
              "    <tr>\n",
              "      <th>2</th>\n",
              "      <td>86</td>\n",
              "      <td>Jos Manuel Abascal Gmez</td>\n",
              "      <td>M</td>\n",
              "      <td>26</td>\n",
              "      <td>182</td>\n",
              "      <td>67</td>\n",
              "      <td>Spain</td>\n",
              "      <td>ESP</td>\n",
              "      <td>1984 Summer</td>\n",
              "      <td>1984</td>\n",
              "      <td>Summer</td>\n",
              "      <td>Los Angeles</td>\n",
              "      <td>Athletics</td>\n",
              "      <td>Athletics Men's 1,500 metres</td>\n",
              "      <td>1</td>\n",
              "    </tr>\n",
              "    <tr>\n",
              "      <th>3</th>\n",
              "      <td>169</td>\n",
              "      <td>Raida Abdallah Bader</td>\n",
              "      <td>F</td>\n",
              "      <td>19</td>\n",
              "      <td>158</td>\n",
              "      <td>49</td>\n",
              "      <td>Jordan</td>\n",
              "      <td>JOR</td>\n",
              "      <td>1984 Summer</td>\n",
              "      <td>1984</td>\n",
              "      <td>Summer</td>\n",
              "      <td>Los Angeles</td>\n",
              "      <td>Athletics</td>\n",
              "      <td>Athletics Women's 3,000 metres</td>\n",
              "      <td>0</td>\n",
              "    </tr>\n",
              "    <tr>\n",
              "      <th>4</th>\n",
              "      <td>234</td>\n",
              "      <td>Abdalla Abdelgadir El-Sheikh</td>\n",
              "      <td>M</td>\n",
              "      <td>21</td>\n",
              "      <td>170</td>\n",
              "      <td>58</td>\n",
              "      <td>Sudan</td>\n",
              "      <td>SUD</td>\n",
              "      <td>2008 Summer</td>\n",
              "      <td>2008</td>\n",
              "      <td>Summer</td>\n",
              "      <td>Beijing</td>\n",
              "      <td>Athletics</td>\n",
              "      <td>Athletics Men's 1,500 metres</td>\n",
              "      <td>1</td>\n",
              "    </tr>\n",
              "    <tr>\n",
              "      <th>...</th>\n",
              "      <td>...</td>\n",
              "      <td>...</td>\n",
              "      <td>...</td>\n",
              "      <td>...</td>\n",
              "      <td>...</td>\n",
              "      <td>...</td>\n",
              "      <td>...</td>\n",
              "      <td>...</td>\n",
              "      <td>...</td>\n",
              "      <td>...</td>\n",
              "      <td>...</td>\n",
              "      <td>...</td>\n",
              "      <td>...</td>\n",
              "      <td>...</td>\n",
              "      <td>...</td>\n",
              "    </tr>\n",
              "    <tr>\n",
              "      <th>93</th>\n",
              "      <td>6592</td>\n",
              "      <td>Gerald Ian d'Acres Backhouse</td>\n",
              "      <td>M</td>\n",
              "      <td>23</td>\n",
              "      <td>165</td>\n",
              "      <td>57</td>\n",
              "      <td>Australia</td>\n",
              "      <td>AUS</td>\n",
              "      <td>1936 Summer</td>\n",
              "      <td>1936</td>\n",
              "      <td>Summer</td>\n",
              "      <td>Berlin</td>\n",
              "      <td>Athletics</td>\n",
              "      <td>Athletics Men's 1,500 metres</td>\n",
              "      <td>1</td>\n",
              "    </tr>\n",
              "    <tr>\n",
              "      <th>94</th>\n",
              "      <td>6617</td>\n",
              "      <td>Charles James Bacon, Jr.</td>\n",
              "      <td>M</td>\n",
              "      <td>19</td>\n",
              "      <td>183</td>\n",
              "      <td>77</td>\n",
              "      <td>United States</td>\n",
              "      <td>USA</td>\n",
              "      <td>1904 Summer</td>\n",
              "      <td>1904</td>\n",
              "      <td>Summer</td>\n",
              "      <td>St. Louis</td>\n",
              "      <td>Athletics</td>\n",
              "      <td>Athletics Men's 1,500 metres</td>\n",
              "      <td>0</td>\n",
              "    </tr>\n",
              "    <tr>\n",
              "      <th>95</th>\n",
              "      <td>6652</td>\n",
              "      <td>Andrew James \"Andy\" Baddeley</td>\n",
              "      <td>M</td>\n",
              "      <td>26</td>\n",
              "      <td>186</td>\n",
              "      <td>70</td>\n",
              "      <td>Great Britain</td>\n",
              "      <td>GBR</td>\n",
              "      <td>2008 Summer</td>\n",
              "      <td>2008</td>\n",
              "      <td>Summer</td>\n",
              "      <td>Beijing</td>\n",
              "      <td>Athletics</td>\n",
              "      <td>Athletics Men's 1,500 metres</td>\n",
              "      <td>0</td>\n",
              "    </tr>\n",
              "    <tr>\n",
              "      <th>96</th>\n",
              "      <td>6652</td>\n",
              "      <td>Andrew James \"Andy\" Baddeley</td>\n",
              "      <td>M</td>\n",
              "      <td>30</td>\n",
              "      <td>186</td>\n",
              "      <td>70</td>\n",
              "      <td>Great Britain</td>\n",
              "      <td>GBR</td>\n",
              "      <td>2012 Summer</td>\n",
              "      <td>2012</td>\n",
              "      <td>Summer</td>\n",
              "      <td>London</td>\n",
              "      <td>Athletics</td>\n",
              "      <td>Athletics Men's 1,500 metres</td>\n",
              "      <td>1</td>\n",
              "    </tr>\n",
              "    <tr>\n",
              "      <th>97</th>\n",
              "      <td>6847</td>\n",
              "      <td>Bai Anqi</td>\n",
              "      <td>F</td>\n",
              "      <td>19</td>\n",
              "      <td>164</td>\n",
              "      <td>59</td>\n",
              "      <td>China</td>\n",
              "      <td>CHN</td>\n",
              "      <td>2012 Summer</td>\n",
              "      <td>2012</td>\n",
              "      <td>Summer</td>\n",
              "      <td>London</td>\n",
              "      <td>Swimming</td>\n",
              "      <td>Swimming Women's 200 metres Backstroke</td>\n",
              "      <td>0</td>\n",
              "    </tr>\n",
              "  </tbody>\n",
              "</table>\n",
              "<p>98 rows × 15 columns</p>\n",
              "</div>"
            ],
            "text/plain": [
              "      ID  ... Medal\n",
              "0     34  ...     1\n",
              "1     86  ...     0\n",
              "2     86  ...     1\n",
              "3    169  ...     0\n",
              "4    234  ...     1\n",
              "..   ...  ...   ...\n",
              "93  6592  ...     1\n",
              "94  6617  ...     0\n",
              "95  6652  ...     0\n",
              "96  6652  ...     1\n",
              "97  6847  ...     0\n",
              "\n",
              "[98 rows x 15 columns]"
            ]
          },
          "metadata": {
            "tags": []
          },
          "execution_count": 285
        }
      ]
    },
    {
      "cell_type": "code",
      "metadata": {
        "colab": {
          "base_uri": "https://localhost:8080/"
        },
        "id": "OjsIez-IKJpY",
        "outputId": "e51eab30-45f1-4bd6-ca0d-d3b35d5bec30"
      },
      "source": [
        "column_names= athletes_data.columns.values.tolist()\n",
        "print(column_names)"
      ],
      "execution_count": 286,
      "outputs": [
        {
          "output_type": "stream",
          "text": [
            "['ID', 'Name', 'Sex', 'Age', 'Height', 'Weight', 'Team', 'NOC', 'Games', 'Year', 'Season', 'City', 'Sport', 'Event', 'Medal']\n"
          ],
          "name": "stdout"
        }
      ]
    },
    {
      "cell_type": "code",
      "metadata": {
        "id": "faSp3LQGKR7O"
      },
      "source": [
        "from sklearn.compose import ColumnTransformer\n",
        "from sklearn.preprocessing import OneHotEncoder\n",
        "from sklearn.preprocessing import LabelEncoder"
      ],
      "execution_count": 287,
      "outputs": []
    },
    {
      "cell_type": "code",
      "metadata": {
        "id": "slOQVlybKVQo"
      },
      "source": [
        "#Create label encoder\n",
        "\n",
        "labelencode=LabelEncoder()\n",
        "athletes_data['Team_l']=labelencode.fit_transform(athletes_data['Team'])\n",
        "labelencode=LabelEncoder()\n",
        "athletes_data['sport_l']=labelencode.fit_transform(athletes_data['Sport'])\n",
        "labelencode=LabelEncoder()\n",
        "athletes_data['sex_l']=labelencode.fit_transform(athletes_data['Sex'])\n",
        "labelencode=LabelEncoder()\n",
        "athletes_data['Event_l']=labelencode.fit_transform(athletes_data['Event'])"
      ],
      "execution_count": 288,
      "outputs": []
    },
    {
      "cell_type": "code",
      "metadata": {
        "colab": {
          "base_uri": "https://localhost:8080/",
          "height": 742
        },
        "id": "PMpzJNLJK23w",
        "outputId": "4741e51c-6a5f-4d68-cc73-9f308be08f6e"
      },
      "source": [
        "athletes_data"
      ],
      "execution_count": 289,
      "outputs": [
        {
          "output_type": "execute_result",
          "data": {
            "text/html": [
              "<div>\n",
              "<style scoped>\n",
              "    .dataframe tbody tr th:only-of-type {\n",
              "        vertical-align: middle;\n",
              "    }\n",
              "\n",
              "    .dataframe tbody tr th {\n",
              "        vertical-align: top;\n",
              "    }\n",
              "\n",
              "    .dataframe thead th {\n",
              "        text-align: right;\n",
              "    }\n",
              "</style>\n",
              "<table border=\"1\" class=\"dataframe\">\n",
              "  <thead>\n",
              "    <tr style=\"text-align: right;\">\n",
              "      <th></th>\n",
              "      <th>ID</th>\n",
              "      <th>Name</th>\n",
              "      <th>Sex</th>\n",
              "      <th>Age</th>\n",
              "      <th>Height</th>\n",
              "      <th>Weight</th>\n",
              "      <th>Team</th>\n",
              "      <th>NOC</th>\n",
              "      <th>Games</th>\n",
              "      <th>Year</th>\n",
              "      <th>Season</th>\n",
              "      <th>City</th>\n",
              "      <th>Sport</th>\n",
              "      <th>Event</th>\n",
              "      <th>Medal</th>\n",
              "      <th>Team_l</th>\n",
              "      <th>sport_l</th>\n",
              "      <th>sex_l</th>\n",
              "      <th>Event_l</th>\n",
              "    </tr>\n",
              "  </thead>\n",
              "  <tbody>\n",
              "    <tr>\n",
              "      <th>0</th>\n",
              "      <td>34</td>\n",
              "      <td>Jamale (Djamel-) Aarrass (Ahrass-)</td>\n",
              "      <td>M</td>\n",
              "      <td>30</td>\n",
              "      <td>187</td>\n",
              "      <td>76</td>\n",
              "      <td>France</td>\n",
              "      <td>FRA</td>\n",
              "      <td>2012 Summer</td>\n",
              "      <td>2012</td>\n",
              "      <td>Summer</td>\n",
              "      <td>London</td>\n",
              "      <td>Athletics</td>\n",
              "      <td>Athletics Men's 1,500 metres</td>\n",
              "      <td>1</td>\n",
              "      <td>21</td>\n",
              "      <td>0</td>\n",
              "      <td>1</td>\n",
              "      <td>0</td>\n",
              "    </tr>\n",
              "    <tr>\n",
              "      <th>1</th>\n",
              "      <td>86</td>\n",
              "      <td>Jos Manuel Abascal Gmez</td>\n",
              "      <td>M</td>\n",
              "      <td>22</td>\n",
              "      <td>182</td>\n",
              "      <td>67</td>\n",
              "      <td>Spain</td>\n",
              "      <td>ESP</td>\n",
              "      <td>1980 Summer</td>\n",
              "      <td>1980</td>\n",
              "      <td>Summer</td>\n",
              "      <td>Moskva</td>\n",
              "      <td>Athletics</td>\n",
              "      <td>Athletics Men's 1,500 metres</td>\n",
              "      <td>0</td>\n",
              "      <td>44</td>\n",
              "      <td>0</td>\n",
              "      <td>1</td>\n",
              "      <td>0</td>\n",
              "    </tr>\n",
              "    <tr>\n",
              "      <th>2</th>\n",
              "      <td>86</td>\n",
              "      <td>Jos Manuel Abascal Gmez</td>\n",
              "      <td>M</td>\n",
              "      <td>26</td>\n",
              "      <td>182</td>\n",
              "      <td>67</td>\n",
              "      <td>Spain</td>\n",
              "      <td>ESP</td>\n",
              "      <td>1984 Summer</td>\n",
              "      <td>1984</td>\n",
              "      <td>Summer</td>\n",
              "      <td>Los Angeles</td>\n",
              "      <td>Athletics</td>\n",
              "      <td>Athletics Men's 1,500 metres</td>\n",
              "      <td>1</td>\n",
              "      <td>44</td>\n",
              "      <td>0</td>\n",
              "      <td>1</td>\n",
              "      <td>0</td>\n",
              "    </tr>\n",
              "    <tr>\n",
              "      <th>3</th>\n",
              "      <td>169</td>\n",
              "      <td>Raida Abdallah Bader</td>\n",
              "      <td>F</td>\n",
              "      <td>19</td>\n",
              "      <td>158</td>\n",
              "      <td>49</td>\n",
              "      <td>Jordan</td>\n",
              "      <td>JOR</td>\n",
              "      <td>1984 Summer</td>\n",
              "      <td>1984</td>\n",
              "      <td>Summer</td>\n",
              "      <td>Los Angeles</td>\n",
              "      <td>Athletics</td>\n",
              "      <td>Athletics Women's 3,000 metres</td>\n",
              "      <td>0</td>\n",
              "      <td>26</td>\n",
              "      <td>0</td>\n",
              "      <td>0</td>\n",
              "      <td>1</td>\n",
              "    </tr>\n",
              "    <tr>\n",
              "      <th>4</th>\n",
              "      <td>234</td>\n",
              "      <td>Abdalla Abdelgadir El-Sheikh</td>\n",
              "      <td>M</td>\n",
              "      <td>21</td>\n",
              "      <td>170</td>\n",
              "      <td>58</td>\n",
              "      <td>Sudan</td>\n",
              "      <td>SUD</td>\n",
              "      <td>2008 Summer</td>\n",
              "      <td>2008</td>\n",
              "      <td>Summer</td>\n",
              "      <td>Beijing</td>\n",
              "      <td>Athletics</td>\n",
              "      <td>Athletics Men's 1,500 metres</td>\n",
              "      <td>1</td>\n",
              "      <td>45</td>\n",
              "      <td>0</td>\n",
              "      <td>1</td>\n",
              "      <td>0</td>\n",
              "    </tr>\n",
              "    <tr>\n",
              "      <th>...</th>\n",
              "      <td>...</td>\n",
              "      <td>...</td>\n",
              "      <td>...</td>\n",
              "      <td>...</td>\n",
              "      <td>...</td>\n",
              "      <td>...</td>\n",
              "      <td>...</td>\n",
              "      <td>...</td>\n",
              "      <td>...</td>\n",
              "      <td>...</td>\n",
              "      <td>...</td>\n",
              "      <td>...</td>\n",
              "      <td>...</td>\n",
              "      <td>...</td>\n",
              "      <td>...</td>\n",
              "      <td>...</td>\n",
              "      <td>...</td>\n",
              "      <td>...</td>\n",
              "      <td>...</td>\n",
              "    </tr>\n",
              "    <tr>\n",
              "      <th>93</th>\n",
              "      <td>6592</td>\n",
              "      <td>Gerald Ian d'Acres Backhouse</td>\n",
              "      <td>M</td>\n",
              "      <td>23</td>\n",
              "      <td>165</td>\n",
              "      <td>57</td>\n",
              "      <td>Australia</td>\n",
              "      <td>AUS</td>\n",
              "      <td>1936 Summer</td>\n",
              "      <td>1936</td>\n",
              "      <td>Summer</td>\n",
              "      <td>Berlin</td>\n",
              "      <td>Athletics</td>\n",
              "      <td>Athletics Men's 1,500 metres</td>\n",
              "      <td>1</td>\n",
              "      <td>3</td>\n",
              "      <td>0</td>\n",
              "      <td>1</td>\n",
              "      <td>0</td>\n",
              "    </tr>\n",
              "    <tr>\n",
              "      <th>94</th>\n",
              "      <td>6617</td>\n",
              "      <td>Charles James Bacon, Jr.</td>\n",
              "      <td>M</td>\n",
              "      <td>19</td>\n",
              "      <td>183</td>\n",
              "      <td>77</td>\n",
              "      <td>United States</td>\n",
              "      <td>USA</td>\n",
              "      <td>1904 Summer</td>\n",
              "      <td>1904</td>\n",
              "      <td>Summer</td>\n",
              "      <td>St. Louis</td>\n",
              "      <td>Athletics</td>\n",
              "      <td>Athletics Men's 1,500 metres</td>\n",
              "      <td>0</td>\n",
              "      <td>52</td>\n",
              "      <td>0</td>\n",
              "      <td>1</td>\n",
              "      <td>0</td>\n",
              "    </tr>\n",
              "    <tr>\n",
              "      <th>95</th>\n",
              "      <td>6652</td>\n",
              "      <td>Andrew James \"Andy\" Baddeley</td>\n",
              "      <td>M</td>\n",
              "      <td>26</td>\n",
              "      <td>186</td>\n",
              "      <td>70</td>\n",
              "      <td>Great Britain</td>\n",
              "      <td>GBR</td>\n",
              "      <td>2008 Summer</td>\n",
              "      <td>2008</td>\n",
              "      <td>Summer</td>\n",
              "      <td>Beijing</td>\n",
              "      <td>Athletics</td>\n",
              "      <td>Athletics Men's 1,500 metres</td>\n",
              "      <td>0</td>\n",
              "      <td>23</td>\n",
              "      <td>0</td>\n",
              "      <td>1</td>\n",
              "      <td>0</td>\n",
              "    </tr>\n",
              "    <tr>\n",
              "      <th>96</th>\n",
              "      <td>6652</td>\n",
              "      <td>Andrew James \"Andy\" Baddeley</td>\n",
              "      <td>M</td>\n",
              "      <td>30</td>\n",
              "      <td>186</td>\n",
              "      <td>70</td>\n",
              "      <td>Great Britain</td>\n",
              "      <td>GBR</td>\n",
              "      <td>2012 Summer</td>\n",
              "      <td>2012</td>\n",
              "      <td>Summer</td>\n",
              "      <td>London</td>\n",
              "      <td>Athletics</td>\n",
              "      <td>Athletics Men's 1,500 metres</td>\n",
              "      <td>1</td>\n",
              "      <td>23</td>\n",
              "      <td>0</td>\n",
              "      <td>1</td>\n",
              "      <td>0</td>\n",
              "    </tr>\n",
              "    <tr>\n",
              "      <th>97</th>\n",
              "      <td>6847</td>\n",
              "      <td>Bai Anqi</td>\n",
              "      <td>F</td>\n",
              "      <td>19</td>\n",
              "      <td>164</td>\n",
              "      <td>59</td>\n",
              "      <td>China</td>\n",
              "      <td>CHN</td>\n",
              "      <td>2012 Summer</td>\n",
              "      <td>2012</td>\n",
              "      <td>Summer</td>\n",
              "      <td>London</td>\n",
              "      <td>Swimming</td>\n",
              "      <td>Swimming Women's 200 metres Backstroke</td>\n",
              "      <td>0</td>\n",
              "      <td>12</td>\n",
              "      <td>1</td>\n",
              "      <td>0</td>\n",
              "      <td>3</td>\n",
              "    </tr>\n",
              "  </tbody>\n",
              "</table>\n",
              "<p>98 rows × 19 columns</p>\n",
              "</div>"
            ],
            "text/plain": [
              "      ID                                Name Sex  ...  sport_l  sex_l  Event_l\n",
              "0     34  Jamale (Djamel-) Aarrass (Ahrass-)   M  ...        0      1        0\n",
              "1     86             Jos Manuel Abascal Gmez   M  ...        0      1        0\n",
              "2     86             Jos Manuel Abascal Gmez   M  ...        0      1        0\n",
              "3    169                Raida Abdallah Bader   F  ...        0      0        1\n",
              "4    234        Abdalla Abdelgadir El-Sheikh   M  ...        0      1        0\n",
              "..   ...                                 ...  ..  ...      ...    ...      ...\n",
              "93  6592        Gerald Ian d'Acres Backhouse   M  ...        0      1        0\n",
              "94  6617            Charles James Bacon, Jr.   M  ...        0      1        0\n",
              "95  6652        Andrew James \"Andy\" Baddeley   M  ...        0      1        0\n",
              "96  6652        Andrew James \"Andy\" Baddeley   M  ...        0      1        0\n",
              "97  6847                            Bai Anqi   F  ...        1      0        3\n",
              "\n",
              "[98 rows x 19 columns]"
            ]
          },
          "metadata": {
            "tags": []
          },
          "execution_count": 289
        }
      ]
    },
    {
      "cell_type": "code",
      "metadata": {
        "id": "Fz0afrcWLCw_"
      },
      "source": [
        "new_athletes_data= athletes_data[['Team_l','Event_l','Age',\t'sport_l'\t,'sex_l','Height'\t,'Weight','Medal']]"
      ],
      "execution_count": 290,
      "outputs": []
    },
    {
      "cell_type": "code",
      "metadata": {
        "colab": {
          "base_uri": "https://localhost:8080/",
          "height": 419
        },
        "id": "aRz4CzMvLZoe",
        "outputId": "007c07a8-55ba-46d4-ab83-1446cb816680"
      },
      "source": [
        "new_athletes_data"
      ],
      "execution_count": 291,
      "outputs": [
        {
          "output_type": "execute_result",
          "data": {
            "text/html": [
              "<div>\n",
              "<style scoped>\n",
              "    .dataframe tbody tr th:only-of-type {\n",
              "        vertical-align: middle;\n",
              "    }\n",
              "\n",
              "    .dataframe tbody tr th {\n",
              "        vertical-align: top;\n",
              "    }\n",
              "\n",
              "    .dataframe thead th {\n",
              "        text-align: right;\n",
              "    }\n",
              "</style>\n",
              "<table border=\"1\" class=\"dataframe\">\n",
              "  <thead>\n",
              "    <tr style=\"text-align: right;\">\n",
              "      <th></th>\n",
              "      <th>Team_l</th>\n",
              "      <th>Event_l</th>\n",
              "      <th>Age</th>\n",
              "      <th>sport_l</th>\n",
              "      <th>sex_l</th>\n",
              "      <th>Height</th>\n",
              "      <th>Weight</th>\n",
              "      <th>Medal</th>\n",
              "    </tr>\n",
              "  </thead>\n",
              "  <tbody>\n",
              "    <tr>\n",
              "      <th>0</th>\n",
              "      <td>21</td>\n",
              "      <td>0</td>\n",
              "      <td>30</td>\n",
              "      <td>0</td>\n",
              "      <td>1</td>\n",
              "      <td>187</td>\n",
              "      <td>76</td>\n",
              "      <td>1</td>\n",
              "    </tr>\n",
              "    <tr>\n",
              "      <th>1</th>\n",
              "      <td>44</td>\n",
              "      <td>0</td>\n",
              "      <td>22</td>\n",
              "      <td>0</td>\n",
              "      <td>1</td>\n",
              "      <td>182</td>\n",
              "      <td>67</td>\n",
              "      <td>0</td>\n",
              "    </tr>\n",
              "    <tr>\n",
              "      <th>2</th>\n",
              "      <td>44</td>\n",
              "      <td>0</td>\n",
              "      <td>26</td>\n",
              "      <td>0</td>\n",
              "      <td>1</td>\n",
              "      <td>182</td>\n",
              "      <td>67</td>\n",
              "      <td>1</td>\n",
              "    </tr>\n",
              "    <tr>\n",
              "      <th>3</th>\n",
              "      <td>26</td>\n",
              "      <td>1</td>\n",
              "      <td>19</td>\n",
              "      <td>0</td>\n",
              "      <td>0</td>\n",
              "      <td>158</td>\n",
              "      <td>49</td>\n",
              "      <td>0</td>\n",
              "    </tr>\n",
              "    <tr>\n",
              "      <th>4</th>\n",
              "      <td>45</td>\n",
              "      <td>0</td>\n",
              "      <td>21</td>\n",
              "      <td>0</td>\n",
              "      <td>1</td>\n",
              "      <td>170</td>\n",
              "      <td>58</td>\n",
              "      <td>1</td>\n",
              "    </tr>\n",
              "    <tr>\n",
              "      <th>...</th>\n",
              "      <td>...</td>\n",
              "      <td>...</td>\n",
              "      <td>...</td>\n",
              "      <td>...</td>\n",
              "      <td>...</td>\n",
              "      <td>...</td>\n",
              "      <td>...</td>\n",
              "      <td>...</td>\n",
              "    </tr>\n",
              "    <tr>\n",
              "      <th>93</th>\n",
              "      <td>3</td>\n",
              "      <td>0</td>\n",
              "      <td>23</td>\n",
              "      <td>0</td>\n",
              "      <td>1</td>\n",
              "      <td>165</td>\n",
              "      <td>57</td>\n",
              "      <td>1</td>\n",
              "    </tr>\n",
              "    <tr>\n",
              "      <th>94</th>\n",
              "      <td>52</td>\n",
              "      <td>0</td>\n",
              "      <td>19</td>\n",
              "      <td>0</td>\n",
              "      <td>1</td>\n",
              "      <td>183</td>\n",
              "      <td>77</td>\n",
              "      <td>0</td>\n",
              "    </tr>\n",
              "    <tr>\n",
              "      <th>95</th>\n",
              "      <td>23</td>\n",
              "      <td>0</td>\n",
              "      <td>26</td>\n",
              "      <td>0</td>\n",
              "      <td>1</td>\n",
              "      <td>186</td>\n",
              "      <td>70</td>\n",
              "      <td>0</td>\n",
              "    </tr>\n",
              "    <tr>\n",
              "      <th>96</th>\n",
              "      <td>23</td>\n",
              "      <td>0</td>\n",
              "      <td>30</td>\n",
              "      <td>0</td>\n",
              "      <td>1</td>\n",
              "      <td>186</td>\n",
              "      <td>70</td>\n",
              "      <td>1</td>\n",
              "    </tr>\n",
              "    <tr>\n",
              "      <th>97</th>\n",
              "      <td>12</td>\n",
              "      <td>3</td>\n",
              "      <td>19</td>\n",
              "      <td>1</td>\n",
              "      <td>0</td>\n",
              "      <td>164</td>\n",
              "      <td>59</td>\n",
              "      <td>0</td>\n",
              "    </tr>\n",
              "  </tbody>\n",
              "</table>\n",
              "<p>98 rows × 8 columns</p>\n",
              "</div>"
            ],
            "text/plain": [
              "    Team_l  Event_l  Age  sport_l  sex_l  Height  Weight  Medal\n",
              "0       21        0   30        0      1     187      76      1\n",
              "1       44        0   22        0      1     182      67      0\n",
              "2       44        0   26        0      1     182      67      1\n",
              "3       26        1   19        0      0     158      49      0\n",
              "4       45        0   21        0      1     170      58      1\n",
              "..     ...      ...  ...      ...    ...     ...     ...    ...\n",
              "93       3        0   23        0      1     165      57      1\n",
              "94      52        0   19        0      1     183      77      0\n",
              "95      23        0   26        0      1     186      70      0\n",
              "96      23        0   30        0      1     186      70      1\n",
              "97      12        3   19        1      0     164      59      0\n",
              "\n",
              "[98 rows x 8 columns]"
            ]
          },
          "metadata": {
            "tags": []
          },
          "execution_count": 291
        }
      ]
    },
    {
      "cell_type": "markdown",
      "metadata": {
        "id": "fr92W-5hLg2H"
      },
      "source": [
        "# splitting the dataset into Test set and Training set"
      ]
    },
    {
      "cell_type": "code",
      "metadata": {
        "id": "5jnDj7duLdNI"
      },
      "source": [
        "x=new_athletes_data.iloc[:,:-1].values \n",
        "y=new_athletes_data.iloc[:,-1].values"
      ],
      "execution_count": 292,
      "outputs": []
    },
    {
      "cell_type": "code",
      "metadata": {
        "colab": {
          "base_uri": "https://localhost:8080/"
        },
        "id": "IK8R2N6wLdkO",
        "outputId": "8157a925-2857-4273-bab6-168a25544ba0"
      },
      "source": [
        "print(x)\n",
        "print(y)"
      ],
      "execution_count": 293,
      "outputs": [
        {
          "output_type": "stream",
          "text": [
            "[[ 21   0  30   0   1 187  76]\n",
            " [ 44   0  22   0   1 182  67]\n",
            " [ 44   0  26   0   1 182  67]\n",
            " [ 26   1  19   0   0 158  49]\n",
            " [ 45   0  21   0   1 170  58]\n",
            " [ 11   3  21   1   0 173  59]\n",
            " [ 46   0  27   0   1 181  78]\n",
            " [ 43   2  22   1   1 190  78]\n",
            " [ 42   0  26   0   1 175  61]\n",
            " [ 35   2  15   1   1 177  64]\n",
            " [ 36   2  14   1   1 181  77]\n",
            " [ 49   0  19   0   1 168  55]\n",
            " [ 49   0  23   0   1 168  55]\n",
            " [ 15   2  20   1   1 187  87]\n",
            " [  3   3  20   1   0 178  72]\n",
            " [ 16   0  21   0   1 180  47]\n",
            " [ 42   0  27   0   1 178  75]\n",
            " [ 42   0  21   0   1 180  68]\n",
            " [ 42   0  26   0   1 180  68]\n",
            " [ 52   3  23   1   0 173  61]\n",
            " [ 23   3  21   1   0 165  53]\n",
            " [ 17   0  28   0   1 182  72]\n",
            " [ 27   2  18   1   1 168  65]\n",
            " [  0   0  26   0   1 172  65]\n",
            " [  0   0  30   0   1 172  65]\n",
            " [ 39   2  21   1   1 184  68]\n",
            " [ 23   2  21   1   1 190  82]\n",
            " [ 18   2  19   1   1 188  80]\n",
            " [ 40   0  27   0   1 160  59]\n",
            " [ 26   0  24   0   1 178  70]\n",
            " [ 53   0  18   0   1 175  65]\n",
            " [ 36   0  20   0   1 179  55]\n",
            " [ 51   0  25   0   1 175  70]\n",
            " [ 40   0  23   0   1 171  59]\n",
            " [ 40   0  26   0   1 172  65]\n",
            " [ 31   0  20   0   1 178  60]\n",
            " [ 28   2  22   1   1 177  70]\n",
            " [ 20   0  18   0   1 179  63]\n",
            " [  5   0  19   0   1 170  61]\n",
            " [  5   0  23   0   1 170  61]\n",
            " [ 36   0  19   0   1 170  60]\n",
            " [ 30   0  23   0   1 180  65]\n",
            " [  3   2  23   1   1 185  74]\n",
            " [  6   2  17   1   1 180  84]\n",
            " [  7   0  26   0   1 175  64]\n",
            " [ 47   0  26   0   1 183  70]\n",
            " [ 22   0  26   0   1 175  68]\n",
            " [ 37   0  24   0   1 170  61]\n",
            " [ 50   3  18   1   0 174  58]\n",
            " [ 50   3  22   1   0 174  58]\n",
            " [  9   0  22   0   1 173  65]\n",
            " [ 43   2  20   1   1 178  65]\n",
            " [ 52   0  21   0   1 183  59]\n",
            " [ 21   2  17   1   1 183  79]\n",
            " [ 41   0  22   0   1 173  60]\n",
            " [  8   0  20   0   1 163  52]\n",
            " [ 38   3  17   1   0 168  55]\n",
            " [ 52   0  25   0   1 178  66]\n",
            " [ 39   2  24   1   1 194  85]\n",
            " [ 19   0  24   0   1 172  65]\n",
            " [ 29   1  28   0   0 165  50]\n",
            " [ 29   0  28   0   1 175  58]\n",
            " [  2   0  24   0   1 173  67]\n",
            " [ 13   2  14   1   1 173  68]\n",
            " [ 13   2  18   1   1 173  68]\n",
            " [ 25   0  24   0   1 183  70]\n",
            " [ 25   0  28   0   1 183  70]\n",
            " [  1   2  19   1   1 175  80]\n",
            " [  3   2  20   1   1 187  74]\n",
            " [ 43   1  25   0   0 167  49]\n",
            " [ 32   0  26   0   1 180  69]\n",
            " [ 34   2  21   1   1 193  64]\n",
            " [ 49   0  29   0   1 173  59]\n",
            " [ 23   3  16   1   0 167  61]\n",
            " [ 23   2  19   1   1 185  81]\n",
            " [ 23   2  23   1   1 185  81]\n",
            " [ 52   0  25   0   1 185  68]\n",
            " [ 48   2  19   1   1 190  82]\n",
            " [ 52   3  15   1   0 170  66]\n",
            " [ 52   3  19   1   0 170  66]\n",
            " [ 24   3  20   1   0 172  56]\n",
            " [  4   2  19   1   1 198  85]\n",
            " [ 33   1  22   0   0 153  53]\n",
            " [ 14   1  25   0   0 165  50]\n",
            " [ 10   3  20   1   0 180  68]\n",
            " [ 48   3  24   1   0 180  68]\n",
            " [  0   0  24   0   1 181  65]\n",
            " [ 21   0  22   0   1 183  65]\n",
            " [ 21   0  25   0   1 183  65]\n",
            " [ 21   0  29   0   1 183  65]\n",
            " [ 29   0  21   0   1 176  58]\n",
            " [ 29   0  25   0   1 176  58]\n",
            " [ 29   0  28   0   1 176  58]\n",
            " [  3   0  23   0   1 165  57]\n",
            " [ 52   0  19   0   1 183  77]\n",
            " [ 23   0  26   0   1 186  70]\n",
            " [ 23   0  30   0   1 186  70]\n",
            " [ 12   3  19   1   0 164  59]]\n",
            "[1 0 1 0 1 0 1 0 1 0 0 1 1 0 0 1 1 1 1 0 0 1 0 0 1 0 0 0 1 1 1 1 1 1 0 1 0\n",
            " 1 0 0 1 0 0 0 1 1 1 1 0 0 1 0 1 0 1 1 0 0 0 1 0 1 1 0 0 1 1 0 1 0 1 0 1 0\n",
            " 0 0 1 0 0 1 0 0 0 0 0 0 1 0 0 1 0 1 1 1 0 0 1 0]\n"
          ],
          "name": "stdout"
        }
      ]
    },
    {
      "cell_type": "code",
      "metadata": {
        "id": "0nLImZdZLdt2"
      },
      "source": [
        "from sklearn.model_selection import train_test_split\n",
        "x_train,x_test,y_train,y_test=train_test_split(x,y,train_size=0.8,test_size=0.2,random_state=0)"
      ],
      "execution_count": 294,
      "outputs": []
    },
    {
      "cell_type": "code",
      "metadata": {
        "colab": {
          "base_uri": "https://localhost:8080/"
        },
        "id": "Rb_LYTjlLr5m",
        "outputId": "19c2308b-68f8-4569-cf4d-2f3ef7b8574a"
      },
      "source": [
        "print(x_train)\n",
        "print(y_train)"
      ],
      "execution_count": 295,
      "outputs": [
        {
          "output_type": "stream",
          "text": [
            "[[  6   2  17   1   1 180  84]\n",
            " [  2   0  24   0   1 173  67]\n",
            " [ 26   1  19   0   0 158  49]\n",
            " [ 21   0  25   0   1 183  65]\n",
            " [ 47   0  26   0   1 183  70]\n",
            " [ 50   3  18   1   0 174  58]\n",
            " [ 46   0  27   0   1 181  78]\n",
            " [ 12   3  19   1   0 164  59]\n",
            " [ 24   3  20   1   0 172  56]\n",
            " [ 23   2  23   1   1 185  81]\n",
            " [ 29   1  28   0   0 165  50]\n",
            " [ 52   3  19   1   0 170  66]\n",
            " [  0   0  24   0   1 181  65]\n",
            " [  3   0  23   0   1 165  57]\n",
            " [ 43   2  20   1   1 178  65]\n",
            " [ 18   2  19   1   1 188  80]\n",
            " [ 42   0  26   0   1 180  68]\n",
            " [ 38   3  17   1   0 168  55]\n",
            " [ 13   2  14   1   1 173  68]\n",
            " [ 23   3  16   1   0 167  61]\n",
            " [ 44   0  22   0   1 182  67]\n",
            " [ 29   0  28   0   1 175  58]\n",
            " [  3   2  23   1   1 185  74]\n",
            " [ 30   0  23   0   1 180  65]\n",
            " [ 45   0  21   0   1 170  58]\n",
            " [ 16   0  21   0   1 180  47]\n",
            " [ 42   0  21   0   1 180  68]\n",
            " [ 36   0  19   0   1 170  60]\n",
            " [  5   0  19   0   1 170  61]\n",
            " [ 11   3  21   1   0 173  59]\n",
            " [ 21   0  29   0   1 183  65]\n",
            " [ 19   0  24   0   1 172  65]\n",
            " [ 21   0  30   0   1 187  76]\n",
            " [ 40   0  26   0   1 172  65]\n",
            " [ 40   0  27   0   1 160  59]\n",
            " [  9   0  22   0   1 173  65]\n",
            " [ 49   0  19   0   1 168  55]\n",
            " [ 31   0  20   0   1 178  60]\n",
            " [  0   0  26   0   1 172  65]\n",
            " [ 52   0  21   0   1 183  59]\n",
            " [ 36   2  14   1   1 181  77]\n",
            " [ 36   0  20   0   1 179  55]\n",
            " [ 10   3  20   1   0 180  68]\n",
            " [ 52   0  25   0   1 178  66]\n",
            " [ 52   0  25   0   1 185  68]\n",
            " [ 51   0  25   0   1 175  70]\n",
            " [ 29   0  25   0   1 176  58]\n",
            " [  3   3  20   1   0 178  72]\n",
            " [ 23   2  19   1   1 185  81]\n",
            " [ 52   3  23   1   0 173  61]\n",
            " [ 26   0  24   0   1 178  70]\n",
            " [ 50   3  22   1   0 174  58]\n",
            " [ 23   0  26   0   1 186  70]\n",
            " [ 23   0  30   0   1 186  70]\n",
            " [ 43   1  25   0   0 167  49]\n",
            " [ 23   3  21   1   0 165  53]\n",
            " [ 29   0  28   0   1 176  58]\n",
            " [ 49   0  29   0   1 173  59]\n",
            " [ 48   2  19   1   1 190  82]\n",
            " [ 39   2  21   1   1 184  68]\n",
            " [ 20   0  18   0   1 179  63]\n",
            " [  4   2  19   1   1 198  85]\n",
            " [ 22   0  26   0   1 175  68]\n",
            " [  5   0  23   0   1 170  61]\n",
            " [ 25   0  24   0   1 183  70]\n",
            " [ 39   2  24   1   1 194  85]\n",
            " [ 49   0  23   0   1 168  55]\n",
            " [ 32   0  26   0   1 180  69]\n",
            " [ 21   0  22   0   1 183  65]\n",
            " [ 28   2  22   1   1 177  70]\n",
            " [ 17   0  28   0   1 182  72]\n",
            " [ 14   1  25   0   0 165  50]\n",
            " [ 35   2  15   1   1 177  64]\n",
            " [ 52   0  19   0   1 183  77]\n",
            " [  1   2  19   1   1 175  80]\n",
            " [ 13   2  18   1   1 173  68]\n",
            " [ 37   0  24   0   1 170  61]\n",
            " [  7   0  26   0   1 175  64]]\n",
            "[0 1 0 0 1 0 1 0 0 0 0 1 1 1 0 0 1 0 0 0 0 1 0 0 1 1 1 1 0 0 1 1 1 0 1 1 1\n",
            " 1 0 1 0 1 0 0 1 1 1 0 0 0 1 0 0 1 0 0 1 1 0 0 1 0 1 0 1 0 1 1 0 0 1 0 0 0\n",
            " 0 0 1 1]\n"
          ],
          "name": "stdout"
        }
      ]
    },
    {
      "cell_type": "code",
      "metadata": {
        "colab": {
          "base_uri": "https://localhost:8080/"
        },
        "id": "zy1BPGqULsMP",
        "outputId": "a92c2620-4ad9-4c0e-a07f-40b9cb575b0a"
      },
      "source": [
        "print(x_test)\n",
        "print(y_test)"
      ],
      "execution_count": 296,
      "outputs": [
        {
          "output_type": "stream",
          "text": [
            "[[ 23   2  21   1   1 190  82]\n",
            " [ 48   3  24   1   0 180  68]\n",
            " [ 44   0  26   0   1 182  67]\n",
            " [  8   0  20   0   1 163  52]\n",
            " [  3   2  20   1   1 187  74]\n",
            " [ 33   1  22   0   0 153  53]\n",
            " [ 42   0  27   0   1 178  75]\n",
            " [ 52   3  15   1   0 170  66]\n",
            " [ 41   0  22   0   1 173  60]\n",
            " [ 25   0  28   0   1 183  70]\n",
            " [ 21   2  17   1   1 183  79]\n",
            " [ 29   0  21   0   1 176  58]\n",
            " [ 34   2  21   1   1 193  64]\n",
            " [ 15   2  20   1   1 187  87]\n",
            " [ 43   2  22   1   1 190  78]\n",
            " [ 53   0  18   0   1 175  65]\n",
            " [ 27   2  18   1   1 168  65]\n",
            " [  0   0  30   0   1 172  65]\n",
            " [ 40   0  23   0   1 171  59]\n",
            " [ 42   0  26   0   1 175  61]]\n",
            "[0 0 1 1 1 0 1 0 1 1 0 0 0 0 0 1 0 1 1 1]\n"
          ],
          "name": "stdout"
        }
      ]
    },
    {
      "cell_type": "markdown",
      "metadata": {
        "id": "dg-XYsw7L2pO"
      },
      "source": [
        "# Feature Scalling"
      ]
    },
    {
      "cell_type": "code",
      "metadata": {
        "id": "yFSIGY3NLsP-"
      },
      "source": [
        "from sklearn.preprocessing import StandardScaler\n",
        "sc = StandardScaler()\n",
        "X_train = sc.fit_transform(x_train)\n",
        "X_test = sc.transform(x_test)"
      ],
      "execution_count": 297,
      "outputs": []
    },
    {
      "cell_type": "code",
      "metadata": {
        "colab": {
          "base_uri": "https://localhost:8080/"
        },
        "id": "OQsOZcqYL8DO",
        "outputId": "e3c2ac25-1089-4882-9a70-54c9931a3953"
      },
      "source": [
        "print(X_train)\n",
        "print(X_test)"
      ],
      "execution_count": 298,
      "outputs": [
        {
          "output_type": "stream",
          "text": [
            "[[-1.37193246  0.90875888 -1.45203347  1.33630621  0.50800051  0.44963835\n",
            "   2.12912855]\n",
            " [-1.62210366 -0.77893618  0.42666386 -0.74833148  0.50800051 -0.48383138\n",
            "   0.1940878 ]\n",
            " [-0.12107645  0.06491135 -0.91526281 -0.74833148 -1.96850197 -2.48412365\n",
            "  -1.85477888]\n",
            " [-0.43379045 -0.77893618  0.6950492  -0.74833148  0.50800051  0.8496968\n",
            "  -0.03356406]\n",
            " [ 1.19232237 -0.77893618  0.96343453 -0.74833148  0.50800051  0.8496968\n",
            "   0.53556558]\n",
            " [ 1.37995077  1.75260641 -1.18364814  1.33630621 -1.96850197 -0.35047856\n",
            "  -0.83034554]\n",
            " [ 1.12977957 -0.77893618  1.23181987 -0.74833148  0.50800051  0.58299117\n",
            "   1.44617299]\n",
            " [-0.99667566  1.75260641 -0.91526281  1.33630621 -1.96850197 -1.68400674\n",
            "  -0.71651961]\n",
            " [-0.24616205  1.75260641 -0.64687747  1.33630621 -1.96850197 -0.6171842\n",
            "  -1.05799739]\n",
            " [-0.30870485  0.90875888  0.15827853  1.33630621  0.50800051  1.11640244\n",
            "   1.78765077]\n",
            " [ 0.06655195  0.06491135  1.5002052  -0.74833148 -1.96850197 -1.55065392\n",
            "  -1.74095295]\n",
            " [ 1.50503637  1.75260641 -0.91526281  1.33630621 -1.96850197 -0.88388983\n",
            "   0.08026187]\n",
            " [-1.74718926 -0.77893618  0.42666386 -0.74833148  0.50800051  0.58299117\n",
            "  -0.03356406]\n",
            " [-1.55956086 -0.77893618  0.15827853 -0.74833148  0.50800051 -1.55065392\n",
            "  -0.94417147]\n",
            " [ 0.94215116  0.90875888 -0.64687747  1.33630621  0.50800051  0.18293271\n",
            "  -0.03356406]\n",
            " [-0.62141885  0.90875888 -0.91526281  1.33630621  0.50800051  1.51646089\n",
            "   1.67382484]\n",
            " [ 0.87960836 -0.77893618  0.96343453 -0.74833148  0.50800051  0.44963835\n",
            "   0.30791372]\n",
            " [ 0.62943716  1.75260641 -1.45203347  1.33630621 -1.96850197 -1.15059547\n",
            "  -1.17182332]\n",
            " [-0.93413286  0.90875888 -2.25718948  1.33630621  0.50800051 -0.48383138\n",
            "   0.30791372]\n",
            " [-0.30870485  1.75260641 -1.72041881  1.33630621 -1.96850197 -1.28394829\n",
            "  -0.48886776]\n",
            " [ 1.00469396 -0.77893618 -0.1101068  -0.74833148  0.50800051  0.71634398\n",
            "   0.1940878 ]\n",
            " [ 0.06655195 -0.77893618  1.5002052  -0.74833148  0.50800051 -0.21712574\n",
            "  -0.83034554]\n",
            " [-1.55956086  0.90875888  0.15827853  1.33630621  0.50800051  1.11640244\n",
            "   0.99086928]\n",
            " [ 0.12909476 -0.77893618  0.15827853 -0.74833148  0.50800051  0.44963835\n",
            "  -0.03356406]\n",
            " [ 1.06723676 -0.77893618 -0.37849214 -0.74833148  0.50800051 -0.88388983\n",
            "  -0.83034554]\n",
            " [-0.74650445 -0.77893618 -0.37849214 -0.74833148  0.50800051  0.44963835\n",
            "  -2.08243073]\n",
            " [ 0.87960836 -0.77893618 -0.37849214 -0.74833148  0.50800051  0.44963835\n",
            "   0.30791372]\n",
            " [ 0.50435156 -0.77893618 -0.91526281 -0.74833148  0.50800051 -0.88388983\n",
            "  -0.60269369]\n",
            " [-1.43447526 -0.77893618 -0.91526281 -0.74833148  0.50800051 -0.88388983\n",
            "  -0.48886776]\n",
            " [-1.05921846  1.75260641 -0.37849214  1.33630621 -1.96850197 -0.48383138\n",
            "  -0.71651961]\n",
            " [-0.43379045 -0.77893618  1.76859054 -0.74833148  0.50800051  0.8496968\n",
            "  -0.03356406]\n",
            " [-0.55887605 -0.77893618  0.42666386 -0.74833148  0.50800051 -0.6171842\n",
            "  -0.03356406]\n",
            " [-0.43379045 -0.77893618  2.03697587 -0.74833148  0.50800051  1.38310807\n",
            "   1.21852114]\n",
            " [ 0.75452276 -0.77893618  0.96343453 -0.74833148  0.50800051 -0.6171842\n",
            "  -0.03356406]\n",
            " [ 0.75452276 -0.77893618  1.23181987 -0.74833148  0.50800051 -2.21741801\n",
            "  -0.71651961]\n",
            " [-1.18430406 -0.77893618 -0.1101068  -0.74833148  0.50800051 -0.48383138\n",
            "  -0.03356406]\n",
            " [ 1.31740797 -0.77893618 -0.91526281 -0.74833148  0.50800051 -1.15059547\n",
            "  -1.17182332]\n",
            " [ 0.19163756 -0.77893618 -0.64687747 -0.74833148  0.50800051  0.18293271\n",
            "  -0.60269369]\n",
            " [-1.74718926 -0.77893618  0.96343453 -0.74833148  0.50800051 -0.6171842\n",
            "  -0.03356406]\n",
            " [ 1.50503637 -0.77893618 -0.37849214 -0.74833148  0.50800051  0.8496968\n",
            "  -0.71651961]\n",
            " [ 0.50435156  0.90875888 -2.25718948  1.33630621  0.50800051  0.58299117\n",
            "   1.33234706]\n",
            " [ 0.50435156 -0.77893618 -0.64687747 -0.74833148  0.50800051  0.31628553\n",
            "  -1.17182332]\n",
            " [-1.12176126  1.75260641 -0.64687747  1.33630621 -1.96850197  0.44963835\n",
            "   0.30791372]\n",
            " [ 1.50503637 -0.77893618  0.6950492  -0.74833148  0.50800051  0.18293271\n",
            "   0.08026187]\n",
            " [ 1.50503637 -0.77893618  0.6950492  -0.74833148  0.50800051  1.11640244\n",
            "   0.30791372]\n",
            " [ 1.44249357 -0.77893618  0.6950492  -0.74833148  0.50800051 -0.21712574\n",
            "   0.53556558]\n",
            " [ 0.06655195 -0.77893618  0.6950492  -0.74833148  0.50800051 -0.08377292\n",
            "  -0.83034554]\n",
            " [-1.55956086  1.75260641 -0.64687747  1.33630621 -1.96850197  0.18293271\n",
            "   0.76321743]\n",
            " [-0.30870485  0.90875888 -0.91526281  1.33630621  0.50800051  1.11640244\n",
            "   1.78765077]\n",
            " [ 1.50503637  1.75260641  0.15827853  1.33630621 -1.96850197 -0.48383138\n",
            "  -0.48886776]\n",
            " [-0.12107645 -0.77893618  0.42666386 -0.74833148  0.50800051  0.18293271\n",
            "   0.53556558]\n",
            " [ 1.37995077  1.75260641 -0.1101068   1.33630621 -1.96850197 -0.35047856\n",
            "  -0.83034554]\n",
            " [-0.30870485 -0.77893618  0.96343453 -0.74833148  0.50800051  1.24975526\n",
            "   0.53556558]\n",
            " [-0.30870485 -0.77893618  2.03697587 -0.74833148  0.50800051  1.24975526\n",
            "   0.53556558]\n",
            " [ 0.94215116  0.06491135  0.6950492  -0.74833148 -1.96850197 -1.28394829\n",
            "  -1.85477888]\n",
            " [-0.30870485  1.75260641 -0.37849214  1.33630621 -1.96850197 -1.55065392\n",
            "  -1.39947517]\n",
            " [ 0.06655195 -0.77893618  1.5002052  -0.74833148  0.50800051 -0.08377292\n",
            "  -0.83034554]\n",
            " [ 1.31740797 -0.77893618  1.76859054 -0.74833148  0.50800051 -0.48383138\n",
            "  -0.71651961]\n",
            " [ 1.25486517  0.90875888 -0.91526281  1.33630621  0.50800051  1.78316653\n",
            "   1.9014767 ]\n",
            " [ 0.69197996  0.90875888 -0.37849214  1.33630621  0.50800051  0.98304962\n",
            "   0.30791372]\n",
            " [-0.49633325 -0.77893618 -1.18364814 -0.74833148  0.50800051  0.31628553\n",
            "  -0.26121591]\n",
            " [-1.49701806  0.90875888 -0.91526281  1.33630621  0.50800051  2.84998907\n",
            "   2.24295448]\n",
            " [-0.37124765 -0.77893618  0.96343453 -0.74833148  0.50800051 -0.21712574\n",
            "   0.30791372]\n",
            " [-1.43447526 -0.77893618  0.15827853 -0.74833148  0.50800051 -0.88388983\n",
            "  -0.48886776]\n",
            " [-0.18361925 -0.77893618  0.42666386 -0.74833148  0.50800051  0.8496968\n",
            "   0.53556558]\n",
            " [ 0.69197996  0.90875888  0.42666386  1.33630621  0.50800051  2.3165778\n",
            "   2.24295448]\n",
            " [ 1.31740797 -0.77893618  0.15827853 -0.74833148  0.50800051 -1.15059547\n",
            "  -1.17182332]\n",
            " [ 0.25418036 -0.77893618  0.96343453 -0.74833148  0.50800051  0.44963835\n",
            "   0.42173965]\n",
            " [-0.43379045 -0.77893618 -0.1101068  -0.74833148  0.50800051  0.8496968\n",
            "  -0.03356406]\n",
            " [ 0.00400915  0.90875888 -0.1101068   1.33630621  0.50800051  0.04957989\n",
            "   0.53556558]\n",
            " [-0.68396165 -0.77893618  1.5002052  -0.74833148  0.50800051  0.71634398\n",
            "   0.76321743]\n",
            " [-0.87159006  0.06491135  0.6950492  -0.74833148 -1.96850197 -1.55065392\n",
            "  -1.74095295]\n",
            " [ 0.44180876  0.90875888 -1.98880414  1.33630621  0.50800051  0.04957989\n",
            "  -0.14738998]\n",
            " [ 1.50503637 -0.77893618 -0.91526281 -0.74833148  0.50800051  0.8496968\n",
            "   1.33234706]\n",
            " [-1.68464646  0.90875888 -0.91526281  1.33630621  0.50800051 -0.21712574\n",
            "   1.67382484]\n",
            " [-0.93413286  0.90875888 -1.18364814  1.33630621  0.50800051 -0.48383138\n",
            "   0.30791372]\n",
            " [ 0.56689436 -0.77893618  0.42666386 -0.74833148  0.50800051 -0.88388983\n",
            "  -0.48886776]\n",
            " [-1.30938966 -0.77893618  0.96343453 -0.74833148  0.50800051 -0.21712574\n",
            "  -0.14738998]]\n",
            "[[-0.30870485  0.90875888 -0.37849214  1.33630621  0.50800051  1.78316653\n",
            "   1.9014767 ]\n",
            " [ 1.25486517  1.75260641  0.42666386  1.33630621 -1.96850197  0.44963835\n",
            "   0.30791372]\n",
            " [ 1.00469396 -0.77893618  0.96343453 -0.74833148  0.50800051  0.71634398\n",
            "   0.1940878 ]\n",
            " [-1.24684686 -0.77893618 -0.64687747 -0.74833148  0.50800051 -1.81735956\n",
            "  -1.5133011 ]\n",
            " [-1.55956086  0.90875888 -0.64687747  1.33630621  0.50800051  1.38310807\n",
            "   0.99086928]\n",
            " [ 0.31672316  0.06491135 -0.1101068  -0.74833148 -1.96850197 -3.15088774\n",
            "  -1.39947517]\n",
            " [ 0.87960836 -0.77893618  1.23181987 -0.74833148  0.50800051  0.18293271\n",
            "   1.10469521]\n",
            " [ 1.50503637  1.75260641 -1.98880414  1.33630621 -1.96850197 -0.88388983\n",
            "   0.08026187]\n",
            " [ 0.81706556 -0.77893618 -0.1101068  -0.74833148  0.50800051 -0.48383138\n",
            "  -0.60269369]\n",
            " [-0.18361925 -0.77893618  1.5002052  -0.74833148  0.50800051  0.8496968\n",
            "   0.53556558]\n",
            " [-0.43379045  0.90875888 -1.45203347  1.33630621  0.50800051  0.8496968\n",
            "   1.55999892]\n",
            " [ 0.06655195 -0.77893618 -0.37849214 -0.74833148  0.50800051 -0.08377292\n",
            "  -0.83034554]\n",
            " [ 0.37926596  0.90875888 -0.37849214  1.33630621  0.50800051  2.18322498\n",
            "  -0.14738998]\n",
            " [-0.80904725  0.90875888 -0.64687747  1.33630621  0.50800051  1.38310807\n",
            "   2.47060633]\n",
            " [ 0.94215116  0.90875888 -0.1101068   1.33630621  0.50800051  1.78316653\n",
            "   1.44617299]\n",
            " [ 1.56757917 -0.77893618 -1.18364814 -0.74833148  0.50800051 -0.21712574\n",
            "  -0.03356406]\n",
            " [-0.05853365  0.90875888 -1.18364814  1.33630621  0.50800051 -1.15059547\n",
            "  -0.03356406]\n",
            " [-1.74718926 -0.77893618  2.03697587 -0.74833148  0.50800051 -0.6171842\n",
            "  -0.03356406]\n",
            " [ 0.75452276 -0.77893618  0.15827853 -0.74833148  0.50800051 -0.75053701\n",
            "  -0.71651961]\n",
            " [ 0.87960836 -0.77893618  0.96343453 -0.74833148  0.50800051 -0.21712574\n",
            "  -0.48886776]]\n"
          ],
          "name": "stdout"
        }
      ]
    },
    {
      "cell_type": "markdown",
      "metadata": {
        "id": "tnNobnkfMpYY"
      },
      "source": [
        "# Train Logistic Regression model on Training set"
      ]
    },
    {
      "cell_type": "code",
      "metadata": {
        "colab": {
          "base_uri": "https://localhost:8080/"
        },
        "id": "ADBbPhlkMrFP",
        "outputId": "e7c77271-2e7e-46fe-c6ae-9eb9a1fd6bfd"
      },
      "source": [
        "from sklearn.linear_model import LogisticRegression\n",
        "Classifier=LogisticRegression(random_state=0)\n",
        "Classifier.fit(X_train,y_train)"
      ],
      "execution_count": 299,
      "outputs": [
        {
          "output_type": "execute_result",
          "data": {
            "text/plain": [
              "LogisticRegression(C=1.0, class_weight=None, dual=False, fit_intercept=True,\n",
              "                   intercept_scaling=1, l1_ratio=None, max_iter=100,\n",
              "                   multi_class='auto', n_jobs=None, penalty='l2',\n",
              "                   random_state=0, solver='lbfgs', tol=0.0001, verbose=0,\n",
              "                   warm_start=False)"
            ]
          },
          "metadata": {
            "tags": []
          },
          "execution_count": 299
        }
      ]
    },
    {
      "cell_type": "markdown",
      "metadata": {
        "id": "jzewkEMYMBUX"
      },
      "source": [
        "# predicting new result"
      ]
    },
    {
      "cell_type": "code",
      "metadata": {
        "colab": {
          "base_uri": "https://localhost:8080/"
        },
        "id": "WzbgIjCHL_Hp",
        "outputId": "a880223a-9c46-4b86-e2fc-0d638e9eb6fa"
      },
      "source": [
        "print(Classifier.predict(sc.transform([[137,0,26,0,1,182,67.0]])))"
      ],
      "execution_count": 300,
      "outputs": [
        {
          "output_type": "stream",
          "text": [
            "[1]\n"
          ],
          "name": "stdout"
        }
      ]
    },
    {
      "cell_type": "markdown",
      "metadata": {
        "id": "d9mpZ5z6M44v"
      },
      "source": [
        "# Predicting the Test set result"
      ]
    },
    {
      "cell_type": "code",
      "metadata": {
        "colab": {
          "base_uri": "https://localhost:8080/"
        },
        "id": "ZjD5V6tJM66I",
        "outputId": "a49cb8ad-7074-4e6c-f750-5a53a59d4153"
      },
      "source": [
        "y_pred = Classifier.predict(X_test)\n",
        "print(np.concatenate((y_pred.reshape(len(y_pred),1), y_test.reshape(len(y_test),1)),1))"
      ],
      "execution_count": 301,
      "outputs": [
        {
          "output_type": "stream",
          "text": [
            "[[0 0]\n",
            " [0 0]\n",
            " [1 1]\n",
            " [1 1]\n",
            " [0 1]\n",
            " [0 0]\n",
            " [1 1]\n",
            " [0 0]\n",
            " [1 1]\n",
            " [1 1]\n",
            " [0 0]\n",
            " [1 0]\n",
            " [0 0]\n",
            " [0 0]\n",
            " [0 0]\n",
            " [1 1]\n",
            " [0 0]\n",
            " [1 1]\n",
            " [1 1]\n",
            " [1 1]]\n"
          ],
          "name": "stdout"
        }
      ]
    },
    {
      "cell_type": "markdown",
      "metadata": {
        "id": "0gLCaHK5NO9f"
      },
      "source": [
        "# Making the Confusion Matrix"
      ]
    },
    {
      "cell_type": "code",
      "metadata": {
        "colab": {
          "base_uri": "https://localhost:8080/"
        },
        "id": "x_y7_xBzNRXv",
        "outputId": "ba655af2-8c46-468b-84b8-0d1c403e753c"
      },
      "source": [
        "from sklearn.metrics import confusion_matrix, accuracy_score\n",
        "cm = confusion_matrix(y_test, y_pred)\n",
        "print(cm)\n",
        "accuracy_score(y_test, y_pred)"
      ],
      "execution_count": 302,
      "outputs": [
        {
          "output_type": "stream",
          "text": [
            "[[9 1]\n",
            " [1 9]]\n"
          ],
          "name": "stdout"
        },
        {
          "output_type": "execute_result",
          "data": {
            "text/plain": [
              "0.9"
            ]
          },
          "metadata": {
            "tags": []
          },
          "execution_count": 302
        }
      ]
    },
    {
      "cell_type": "code",
      "metadata": {
        "colab": {
          "base_uri": "https://localhost:8080/",
          "height": 300
        },
        "id": "5SseHp1BNZRI",
        "outputId": "842d545f-efc1-4fd6-e6b6-780332c6330f"
      },
      "source": [
        "import seaborn as sn\n",
        "from matplotlib import pyplot as plt\n",
        "plt.figure(figsize=(5,4))\n",
        "sn.heatmap(cm,annot=True)\n",
        "plt.xlabel(\"prediced value\")\n",
        "plt.ylabel(\"Truth or Actual value\")\n"
      ],
      "execution_count": 303,
      "outputs": [
        {
          "output_type": "execute_result",
          "data": {
            "text/plain": [
              "Text(24.0, 0.5, 'Truth or Actual value')"
            ]
          },
          "metadata": {
            "tags": []
          },
          "execution_count": 303
        },
        {
          "output_type": "display_data",
          "data": {
            "image/png": "[encoded data removed]",
            "text/plain": [
              "<Figure size 360x288 with 2 Axes>"
            ]
          },
          "metadata": {
            "tags": [],
            "needs_background": "light"
          }
        }
      ]
    },
    {
      "cell_type": "code",
      "metadata": {
        "colab": {
          "base_uri": "https://localhost:8080/"
        },
        "id": "lNo1kMgfQ8Wu",
        "outputId": "2e33ed19-b96d-4b91-c58d-527be311b357"
      },
      "source": [
        "from sklearn.model_selection import cross_val_score\n",
        "accuracies = cross_val_score(estimator = Classifier, X = X_train, y = y_train, cv = 10)\n",
        "print(\"Accuracy: {:.2f} %\".format(accuracies.mean()*100))\n",
        "print(\"Standard Deviation: {:.2f} %\".format(accuracies.std()*100))"
      ],
      "execution_count": 304,
      "outputs": [
        {
          "output_type": "stream",
          "text": [
            "Accuracy: 83.39 %\n",
            "Standard Deviation: 5.54 %\n"
          ],
          "name": "stdout"
        }
      ]
    },
    {
      "cell_type": "code",
      "metadata": {
        "colab": {
          "base_uri": "https://localhost:8080/",
          "height": 684
        },
        "id": "Z8nYexfjbq9i",
        "outputId": "81fa43a9-eb55-446f-d11c-7baa1126ea6a"
      },
      "source": [
        "import random\n",
        "\n",
        "A=[]\n",
        "Y=[]\n",
        "W=[]\n",
        "count=int(input(\"please enter the how many :\"))\n",
        "for i in range(count):\n",
        "  height=random.randint(150, 200)\n",
        "  weight=random.randint(50, 100)\n",
        "  sex=random.randint(0,1)\n",
        "  sport=random.randint(0,1)\n",
        "  age=random.randint(18,50)\n",
        "  event=random.randint(0,3)\n",
        "  country=random.randint(0,170)\n",
        "  C=Classifier.predict(sc.transform([[country,event,age,sport,sex,height,weight]]))\n",
        "  A.append(int(C))\n",
        "  if(C==1):\n",
        "    \n",
        "    X=['country','event','age','sport','sex','height','weight']\n",
        "    Y.append(country)\n",
        "    Y.append(event)\n",
        "    Y.append(age)\n",
        "    Y.append(sport)\n",
        "    Y.append(sex)\n",
        "    Y.append(height)\n",
        "    Y.append(weight)\n",
        "  else:\n",
        "    X=['country','event','age','sport','sex','height','weight']\n",
        "    W.append(country)\n",
        "    W.append(event)\n",
        "    W.append(age)\n",
        "    W.append(sport)\n",
        "    W.append(sex)\n",
        "    W.append(height)\n",
        "    W.append(weight)\n",
        "   \n",
        "    \n",
        "\n",
        "print(A)\n",
        "m=A.count(1)\n",
        "print(\"IN this sample get the medal probabity:\")\n",
        "print((m/len(A))*100)\n",
        "print(Y)\n",
        "n = 7\n",
        "def divide_chunks(l, n):\n",
        "      \n",
        "    # looping till length l\n",
        "    for i in range(0, len(l), n): \n",
        "        yield l[i:i + n]\n",
        "  \n",
        "# How many elements each\n",
        "# list should have\n",
        "n = 7\n",
        "  \n",
        "x1 = list(divide_chunks(Y, n))\n",
        "x2 = list(divide_chunks(W, n))\n",
        "print (x1)\n",
        "print(len(x1))\n",
        "X=['country','event','age','sport','sex','height','weight']\n",
        "for no in range(len(x1)):\n",
        "  plt.plot(X,x1[no])\n",
        "plt.title(\"Medal winning predicted sport persons deatils\")\n",
        "plt.show()\n",
        "\n",
        "for no1 in range(len(x2)):\n",
        "  \n",
        "  plt.plot(X,x2[no1])\n",
        "plt.title(\"Medal loosing predicted sport persons deatils\")\n",
        "plt.show()"
      ],
      "execution_count": 306,
      "outputs": [
        {
          "output_type": "stream",
          "text": [
            "please enter the how many :20\n",
            "[1, 0, 1, 1, 1, 1, 1, 1, 0, 1, 1, 0, 0, 0, 1, 1, 0, 1, 0, 1]\n",
            "IN this sample get the medal probabity:\n",
            "65.0\n",
            "[131, 2, 36, 1, 1, 169, 88, 37, 0, 34, 0, 1, 161, 100, 78, 1, 34, 0, 0, 184, 66, 150, 3, 45, 0, 1, 171, 58, 121, 1, 34, 1, 1, 170, 55, 95, 3, 47, 0, 1, 191, 76, 87, 0, 33, 1, 1, 192, 93, 151, 2, 41, 0, 1, 173, 76, 61, 0, 42, 0, 0, 171, 76, 94, 0, 24, 0, 0, 195, 51, 99, 2, 34, 0, 1, 200, 99, 120, 2, 35, 0, 0, 171, 73, 106, 0, 36, 0, 1, 159, 72]\n",
            "[[131, 2, 36, 1, 1, 169, 88], [37, 0, 34, 0, 1, 161, 100], [78, 1, 34, 0, 0, 184, 66], [150, 3, 45, 0, 1, 171, 58], [121, 1, 34, 1, 1, 170, 55], [95, 3, 47, 0, 1, 191, 76], [87, 0, 33, 1, 1, 192, 93], [151, 2, 41, 0, 1, 173, 76], [61, 0, 42, 0, 0, 171, 76], [94, 0, 24, 0, 0, 195, 51], [99, 2, 34, 0, 1, 200, 99], [120, 2, 35, 0, 0, 171, 73], [106, 0, 36, 0, 1, 159, 72]]\n",
            "13\n"
          ],
          "name": "stdout"
        },
        {
          "output_type": "display_data",
          "data": {
            "image/png": "[encoded data removed]",
            "text/plain": [
              "<Figure size 432x288 with 1 Axes>"
            ]
          },
          "metadata": {
            "tags": [],
            "needs_background": "light"
          }
        },
        {
          "output_type": "display_data",
          "data": {
            "image/png": "[encoded data removed]",
            "text/plain": [
              "<Figure size 432x288 with 1 Axes>"
            ]
          },
          "metadata": {
            "tags": [],
            "needs_background": "light"
          }
        }
      ]
    }
  ]
}