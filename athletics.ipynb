{
  "nbformat": 4,
  "nbformat_minor": 0,
  "metadata": {
    "colab": {
      "name": "Untitled35.ipynb",
      "provenance": [],
      "collapsed_sections": [],
      "authorship_tag": "ABX9TyMxL6TV74AnMQdbF+GdTmv+",
      "include_colab_link": true
    },
    "kernelspec": {
      "name": "python3",
      "display_name": "Python 3"
    },
    "language_info": {
      "name": "python"
    }
  },
  "cells": [
    {
      "cell_type": "markdown",
      "metadata": {
        "id": "view-in-github",
        "colab_type": "text"
      },
      "source": [
        "<a href=\"https://colab.research.google.com/github/ishancoderr/3D_modeling/blob/main/athletics.ipynb\" target=\"_parent\"><img src=\"https://colab.research.google.com/assets/colab-badge.svg\" alt=\"Open In Colab\"/></a>"
      ]
    },
    {
      "cell_type": "code",
      "metadata": {
        "id": "JQtUR4ATvwx0"
      },
      "source": [
        "import numpy as np\n",
        "import matplotlib.pyplot as plt\n",
        "import pandas as pd"
      ],
      "execution_count": 6,
      "outputs": []
    },
    {
      "cell_type": "markdown",
      "metadata": {
        "id": "arXbqTPBwqjo"
      },
      "source": [
        "### ***Read csv data file in athletes***"
      ]
    },
    {
      "cell_type": "code",
      "metadata": {
        "id": "WKApuRrtxOEG"
      },
      "source": [
        "athletes_data=pd.read_csv(\"/content/sample_data/new_athletes.csv\")"
      ],
      "execution_count": 7,
      "outputs": []
    },
    {
      "cell_type": "code",
      "metadata": {
        "colab": {
          "base_uri": "https://localhost:8080/",
          "height": 419
        },
        "id": "HGyTt7YZxYHP",
        "outputId": "3db9761b-2f42-450f-905c-2f58b63ffc21"
      },
      "source": [
        "athletes_data"
      ],
      "execution_count": 8,
      "outputs": [
        {
          "output_type": "execute_result",
          "data": {
            "text/html": [
              "<div>\n",
              "<style scoped>\n",
              "    .dataframe tbody tr th:only-of-type {\n",
              "        vertical-align: middle;\n",
              "    }\n",
              "\n",
              "    .dataframe tbody tr th {\n",
              "        vertical-align: top;\n",
              "    }\n",
              "\n",
              "    .dataframe thead th {\n",
              "        text-align: right;\n",
              "    }\n",
              "</style>\n",
              "<table border=\"1\" class=\"dataframe\">\n",
              "  <thead>\n",
              "    <tr style=\"text-align: right;\">\n",
              "      <th></th>\n",
              "      <th>id</th>\n",
              "      <th>name</th>\n",
              "      <th>nationality</th>\n",
              "      <th>sex</th>\n",
              "      <th>height</th>\n",
              "      <th>weight</th>\n",
              "      <th>sport</th>\n",
              "      <th>medal</th>\n",
              "    </tr>\n",
              "  </thead>\n",
              "  <tbody>\n",
              "    <tr>\n",
              "      <th>0</th>\n",
              "      <td>736041664</td>\n",
              "      <td>A Jesus Garcia</td>\n",
              "      <td>ESP</td>\n",
              "      <td>male</td>\n",
              "      <td>1.72</td>\n",
              "      <td>64</td>\n",
              "      <td>athletics</td>\n",
              "      <td>0</td>\n",
              "    </tr>\n",
              "    <tr>\n",
              "      <th>1</th>\n",
              "      <td>532037425</td>\n",
              "      <td>A Lam Shin</td>\n",
              "      <td>KOR</td>\n",
              "      <td>female</td>\n",
              "      <td>1.68</td>\n",
              "      <td>56</td>\n",
              "      <td>fencing</td>\n",
              "      <td>0</td>\n",
              "    </tr>\n",
              "    <tr>\n",
              "      <th>2</th>\n",
              "      <td>435962603</td>\n",
              "      <td>Aaron Brown</td>\n",
              "      <td>CAN</td>\n",
              "      <td>male</td>\n",
              "      <td>1.98</td>\n",
              "      <td>79</td>\n",
              "      <td>athletics</td>\n",
              "      <td>0</td>\n",
              "    </tr>\n",
              "    <tr>\n",
              "      <th>3</th>\n",
              "      <td>521041435</td>\n",
              "      <td>Aaron Cook</td>\n",
              "      <td>MDA</td>\n",
              "      <td>male</td>\n",
              "      <td>1.83</td>\n",
              "      <td>80</td>\n",
              "      <td>taekwondo</td>\n",
              "      <td>0</td>\n",
              "    </tr>\n",
              "    <tr>\n",
              "      <th>4</th>\n",
              "      <td>33922579</td>\n",
              "      <td>Aaron Gate</td>\n",
              "      <td>NZL</td>\n",
              "      <td>male</td>\n",
              "      <td>1.81</td>\n",
              "      <td>71</td>\n",
              "      <td>cycling</td>\n",
              "      <td>0</td>\n",
              "    </tr>\n",
              "    <tr>\n",
              "      <th>...</th>\n",
              "      <td>...</td>\n",
              "      <td>...</td>\n",
              "      <td>...</td>\n",
              "      <td>...</td>\n",
              "      <td>...</td>\n",
              "      <td>...</td>\n",
              "      <td>...</td>\n",
              "      <td>...</td>\n",
              "    </tr>\n",
              "    <tr>\n",
              "      <th>10853</th>\n",
              "      <td>265605954</td>\n",
              "      <td>Zurian Hechavarria</td>\n",
              "      <td>CUB</td>\n",
              "      <td>female</td>\n",
              "      <td>1.64</td>\n",
              "      <td>58</td>\n",
              "      <td>athletics</td>\n",
              "      <td>0</td>\n",
              "    </tr>\n",
              "    <tr>\n",
              "      <th>10854</th>\n",
              "      <td>214461847</td>\n",
              "      <td>Zuzana Hejnova</td>\n",
              "      <td>CZE</td>\n",
              "      <td>female</td>\n",
              "      <td>1.73</td>\n",
              "      <td>63</td>\n",
              "      <td>athletics</td>\n",
              "      <td>0</td>\n",
              "    </tr>\n",
              "    <tr>\n",
              "      <th>10855</th>\n",
              "      <td>88361042</td>\n",
              "      <td>di Xiao</td>\n",
              "      <td>CHN</td>\n",
              "      <td>male</td>\n",
              "      <td>1.85</td>\n",
              "      <td>100</td>\n",
              "      <td>wrestling</td>\n",
              "      <td>0</td>\n",
              "    </tr>\n",
              "    <tr>\n",
              "      <th>10856</th>\n",
              "      <td>900065925</td>\n",
              "      <td>le Quoc Toan Tran</td>\n",
              "      <td>VIE</td>\n",
              "      <td>male</td>\n",
              "      <td>1.60</td>\n",
              "      <td>56</td>\n",
              "      <td>weightlifting</td>\n",
              "      <td>0</td>\n",
              "    </tr>\n",
              "    <tr>\n",
              "      <th>10857</th>\n",
              "      <td>711404576</td>\n",
              "      <td>le Roux Hamman</td>\n",
              "      <td>RSA</td>\n",
              "      <td>male</td>\n",
              "      <td>1.85</td>\n",
              "      <td>70</td>\n",
              "      <td>athletics</td>\n",
              "      <td>0</td>\n",
              "    </tr>\n",
              "  </tbody>\n",
              "</table>\n",
              "<p>10858 rows × 8 columns</p>\n",
              "</div>"
            ],
            "text/plain": [
              "              id                name nationality  ... weight          sport  medal\n",
              "0      736041664      A Jesus Garcia         ESP  ...     64      athletics      0\n",
              "1      532037425          A Lam Shin         KOR  ...     56        fencing      0\n",
              "2      435962603         Aaron Brown         CAN  ...     79      athletics      0\n",
              "3      521041435          Aaron Cook         MDA  ...     80      taekwondo      0\n",
              "4       33922579          Aaron Gate         NZL  ...     71        cycling      0\n",
              "...          ...                 ...         ...  ...    ...            ...    ...\n",
              "10853  265605954  Zurian Hechavarria         CUB  ...     58      athletics      0\n",
              "10854  214461847      Zuzana Hejnova         CZE  ...     63      athletics      0\n",
              "10855   88361042             di Xiao         CHN  ...    100      wrestling      0\n",
              "10856  900065925   le Quoc Toan Tran         VIE  ...     56  weightlifting      0\n",
              "10857  711404576      le Roux Hamman         RSA  ...     70      athletics      0\n",
              "\n",
              "[10858 rows x 8 columns]"
            ]
          },
          "metadata": {
            "tags": []
          },
          "execution_count": 8
        }
      ]
    },
    {
      "cell_type": "code",
      "metadata": {
        "colab": {
          "base_uri": "https://localhost:8080/"
        },
        "id": "kZIWG_5cxkSv",
        "outputId": "1931fe5e-faf4-4726-c7a7-88856c65a868"
      },
      "source": [
        "column_names= athletes_data.columns.values.tolist()\n",
        "print(column_names)"
      ],
      "execution_count": 9,
      "outputs": [
        {
          "output_type": "stream",
          "text": [
            "['id', 'name', 'nationality', 'sex', 'height', 'weight', 'sport', 'medal']\n"
          ],
          "name": "stdout"
        }
      ]
    },
    {
      "cell_type": "code",
      "metadata": {
        "id": "IR7cyQno9LMM"
      },
      "source": [
        "from sklearn.compose import ColumnTransformer\n",
        "from sklearn.preprocessing import OneHotEncoder\n",
        "from sklearn.preprocessing import LabelEncoder"
      ],
      "execution_count": 10,
      "outputs": []
    },
    {
      "cell_type": "code",
      "metadata": {
        "colab": {
          "base_uri": "https://localhost:8080/"
        },
        "id": "SBy9B546ApT5",
        "outputId": "59fdd986-360f-4076-dba2-1bd3e33f9b74"
      },
      "source": [
        "column_names= athletes_data.columns.values.tolist()\n",
        "print(column_names)"
      ],
      "execution_count": 11,
      "outputs": [
        {
          "output_type": "stream",
          "text": [
            "['id', 'name', 'nationality', 'sex', 'height', 'weight', 'sport', 'medal']\n"
          ],
          "name": "stdout"
        }
      ]
    },
    {
      "cell_type": "code",
      "metadata": {
        "id": "HUzCLnf3ASjB"
      },
      "source": [
        "#Create label encoder\n",
        "\n",
        "labelencode=LabelEncoder()\n",
        "athletes_data['nationality_l']=labelencode.fit_transform(athletes_data['nationality'])\n",
        "labelencode=LabelEncoder()\n",
        "athletes_data['sport_l']=labelencode.fit_transform(athletes_data['sport'])\n",
        "labelencode=LabelEncoder()\n",
        "athletes_data['sex_l']=labelencode.fit_transform(athletes_data['sex'])\n"
      ],
      "execution_count": 12,
      "outputs": []
    },
    {
      "cell_type": "code",
      "metadata": {
        "colab": {
          "base_uri": "https://localhost:8080/",
          "height": 419
        },
        "id": "ZreaDYKOA8UY",
        "outputId": "f47799c3-b89b-4654-89bd-6e753a7ace43"
      },
      "source": [
        "athletes_data\n",
        "\n"
      ],
      "execution_count": 13,
      "outputs": [
        {
          "output_type": "execute_result",
          "data": {
            "text/html": [
              "<div>\n",
              "<style scoped>\n",
              "    .dataframe tbody tr th:only-of-type {\n",
              "        vertical-align: middle;\n",
              "    }\n",
              "\n",
              "    .dataframe tbody tr th {\n",
              "        vertical-align: top;\n",
              "    }\n",
              "\n",
              "    .dataframe thead th {\n",
              "        text-align: right;\n",
              "    }\n",
              "</style>\n",
              "<table border=\"1\" class=\"dataframe\">\n",
              "  <thead>\n",
              "    <tr style=\"text-align: right;\">\n",
              "      <th></th>\n",
              "      <th>id</th>\n",
              "      <th>name</th>\n",
              "      <th>nationality</th>\n",
              "      <th>sex</th>\n",
              "      <th>height</th>\n",
              "      <th>weight</th>\n",
              "      <th>sport</th>\n",
              "      <th>medal</th>\n",
              "      <th>nationality_l</th>\n",
              "      <th>sport_l</th>\n",
              "      <th>sex_l</th>\n",
              "    </tr>\n",
              "  </thead>\n",
              "  <tbody>\n",
              "    <tr>\n",
              "      <th>0</th>\n",
              "      <td>736041664</td>\n",
              "      <td>A Jesus Garcia</td>\n",
              "      <td>ESP</td>\n",
              "      <td>male</td>\n",
              "      <td>1.72</td>\n",
              "      <td>64</td>\n",
              "      <td>athletics</td>\n",
              "      <td>0</td>\n",
              "      <td>59</td>\n",
              "      <td>2</td>\n",
              "      <td>1</td>\n",
              "    </tr>\n",
              "    <tr>\n",
              "      <th>1</th>\n",
              "      <td>532037425</td>\n",
              "      <td>A Lam Shin</td>\n",
              "      <td>KOR</td>\n",
              "      <td>female</td>\n",
              "      <td>1.68</td>\n",
              "      <td>56</td>\n",
              "      <td>fencing</td>\n",
              "      <td>0</td>\n",
              "      <td>101</td>\n",
              "      <td>8</td>\n",
              "      <td>0</td>\n",
              "    </tr>\n",
              "    <tr>\n",
              "      <th>2</th>\n",
              "      <td>435962603</td>\n",
              "      <td>Aaron Brown</td>\n",
              "      <td>CAN</td>\n",
              "      <td>male</td>\n",
              "      <td>1.98</td>\n",
              "      <td>79</td>\n",
              "      <td>athletics</td>\n",
              "      <td>0</td>\n",
              "      <td>33</td>\n",
              "      <td>2</td>\n",
              "      <td>1</td>\n",
              "    </tr>\n",
              "    <tr>\n",
              "      <th>3</th>\n",
              "      <td>521041435</td>\n",
              "      <td>Aaron Cook</td>\n",
              "      <td>MDA</td>\n",
              "      <td>male</td>\n",
              "      <td>1.83</td>\n",
              "      <td>80</td>\n",
              "      <td>taekwondo</td>\n",
              "      <td>0</td>\n",
              "      <td>117</td>\n",
              "      <td>21</td>\n",
              "      <td>1</td>\n",
              "    </tr>\n",
              "    <tr>\n",
              "      <th>4</th>\n",
              "      <td>33922579</td>\n",
              "      <td>Aaron Gate</td>\n",
              "      <td>NZL</td>\n",
              "      <td>male</td>\n",
              "      <td>1.81</td>\n",
              "      <td>71</td>\n",
              "      <td>cycling</td>\n",
              "      <td>0</td>\n",
              "      <td>138</td>\n",
              "      <td>6</td>\n",
              "      <td>1</td>\n",
              "    </tr>\n",
              "    <tr>\n",
              "      <th>...</th>\n",
              "      <td>...</td>\n",
              "      <td>...</td>\n",
              "      <td>...</td>\n",
              "      <td>...</td>\n",
              "      <td>...</td>\n",
              "      <td>...</td>\n",
              "      <td>...</td>\n",
              "      <td>...</td>\n",
              "      <td>...</td>\n",
              "      <td>...</td>\n",
              "      <td>...</td>\n",
              "    </tr>\n",
              "    <tr>\n",
              "      <th>10853</th>\n",
              "      <td>265605954</td>\n",
              "      <td>Zurian Hechavarria</td>\n",
              "      <td>CUB</td>\n",
              "      <td>female</td>\n",
              "      <td>1.64</td>\n",
              "      <td>58</td>\n",
              "      <td>athletics</td>\n",
              "      <td>0</td>\n",
              "      <td>48</td>\n",
              "      <td>2</td>\n",
              "      <td>0</td>\n",
              "    </tr>\n",
              "    <tr>\n",
              "      <th>10854</th>\n",
              "      <td>214461847</td>\n",
              "      <td>Zuzana Hejnova</td>\n",
              "      <td>CZE</td>\n",
              "      <td>female</td>\n",
              "      <td>1.73</td>\n",
              "      <td>63</td>\n",
              "      <td>athletics</td>\n",
              "      <td>0</td>\n",
              "      <td>50</td>\n",
              "      <td>2</td>\n",
              "      <td>0</td>\n",
              "    </tr>\n",
              "    <tr>\n",
              "      <th>10855</th>\n",
              "      <td>88361042</td>\n",
              "      <td>di Xiao</td>\n",
              "      <td>CHN</td>\n",
              "      <td>male</td>\n",
              "      <td>1.85</td>\n",
              "      <td>100</td>\n",
              "      <td>wrestling</td>\n",
              "      <td>0</td>\n",
              "      <td>38</td>\n",
              "      <td>26</td>\n",
              "      <td>1</td>\n",
              "    </tr>\n",
              "    <tr>\n",
              "      <th>10856</th>\n",
              "      <td>900065925</td>\n",
              "      <td>le Quoc Toan Tran</td>\n",
              "      <td>VIE</td>\n",
              "      <td>male</td>\n",
              "      <td>1.60</td>\n",
              "      <td>56</td>\n",
              "      <td>weightlifting</td>\n",
              "      <td>0</td>\n",
              "      <td>195</td>\n",
              "      <td>25</td>\n",
              "      <td>1</td>\n",
              "    </tr>\n",
              "    <tr>\n",
              "      <th>10857</th>\n",
              "      <td>711404576</td>\n",
              "      <td>le Roux Hamman</td>\n",
              "      <td>RSA</td>\n",
              "      <td>male</td>\n",
              "      <td>1.85</td>\n",
              "      <td>70</td>\n",
              "      <td>athletics</td>\n",
              "      <td>0</td>\n",
              "      <td>155</td>\n",
              "      <td>2</td>\n",
              "      <td>1</td>\n",
              "    </tr>\n",
              "  </tbody>\n",
              "</table>\n",
              "<p>10858 rows × 11 columns</p>\n",
              "</div>"
            ],
            "text/plain": [
              "              id                name nationality  ... nationality_l  sport_l  sex_l\n",
              "0      736041664      A Jesus Garcia         ESP  ...            59        2      1\n",
              "1      532037425          A Lam Shin         KOR  ...           101        8      0\n",
              "2      435962603         Aaron Brown         CAN  ...            33        2      1\n",
              "3      521041435          Aaron Cook         MDA  ...           117       21      1\n",
              "4       33922579          Aaron Gate         NZL  ...           138        6      1\n",
              "...          ...                 ...         ...  ...           ...      ...    ...\n",
              "10853  265605954  Zurian Hechavarria         CUB  ...            48        2      0\n",
              "10854  214461847      Zuzana Hejnova         CZE  ...            50        2      0\n",
              "10855   88361042             di Xiao         CHN  ...            38       26      1\n",
              "10856  900065925   le Quoc Toan Tran         VIE  ...           195       25      1\n",
              "10857  711404576      le Roux Hamman         RSA  ...           155        2      1\n",
              "\n",
              "[10858 rows x 11 columns]"
            ]
          },
          "metadata": {
            "tags": []
          },
          "execution_count": 13
        }
      ]
    },
    {
      "cell_type": "code",
      "metadata": {
        "id": "T5M2oScEB-6R"
      },
      "source": [
        "new_athletes_data= athletes_data[['nationality_l',\t'sport_l'\t,'sex_l','height'\t,'weight','medal']]"
      ],
      "execution_count": 14,
      "outputs": []
    },
    {
      "cell_type": "code",
      "metadata": {
        "colab": {
          "base_uri": "https://localhost:8080/",
          "height": 419
        },
        "id": "UpJXgMc6CjNh",
        "outputId": "6e5e960f-b3e4-4c21-efcb-89ce487ca47e"
      },
      "source": [
        "new_athletes_data"
      ],
      "execution_count": 15,
      "outputs": [
        {
          "output_type": "execute_result",
          "data": {
            "text/html": [
              "<div>\n",
              "<style scoped>\n",
              "    .dataframe tbody tr th:only-of-type {\n",
              "        vertical-align: middle;\n",
              "    }\n",
              "\n",
              "    .dataframe tbody tr th {\n",
              "        vertical-align: top;\n",
              "    }\n",
              "\n",
              "    .dataframe thead th {\n",
              "        text-align: right;\n",
              "    }\n",
              "</style>\n",
              "<table border=\"1\" class=\"dataframe\">\n",
              "  <thead>\n",
              "    <tr style=\"text-align: right;\">\n",
              "      <th></th>\n",
              "      <th>nationality_l</th>\n",
              "      <th>sport_l</th>\n",
              "      <th>sex_l</th>\n",
              "      <th>height</th>\n",
              "      <th>weight</th>\n",
              "      <th>medal</th>\n",
              "    </tr>\n",
              "  </thead>\n",
              "  <tbody>\n",
              "    <tr>\n",
              "      <th>0</th>\n",
              "      <td>59</td>\n",
              "      <td>2</td>\n",
              "      <td>1</td>\n",
              "      <td>1.72</td>\n",
              "      <td>64</td>\n",
              "      <td>0</td>\n",
              "    </tr>\n",
              "    <tr>\n",
              "      <th>1</th>\n",
              "      <td>101</td>\n",
              "      <td>8</td>\n",
              "      <td>0</td>\n",
              "      <td>1.68</td>\n",
              "      <td>56</td>\n",
              "      <td>0</td>\n",
              "    </tr>\n",
              "    <tr>\n",
              "      <th>2</th>\n",
              "      <td>33</td>\n",
              "      <td>2</td>\n",
              "      <td>1</td>\n",
              "      <td>1.98</td>\n",
              "      <td>79</td>\n",
              "      <td>0</td>\n",
              "    </tr>\n",
              "    <tr>\n",
              "      <th>3</th>\n",
              "      <td>117</td>\n",
              "      <td>21</td>\n",
              "      <td>1</td>\n",
              "      <td>1.83</td>\n",
              "      <td>80</td>\n",
              "      <td>0</td>\n",
              "    </tr>\n",
              "    <tr>\n",
              "      <th>4</th>\n",
              "      <td>138</td>\n",
              "      <td>6</td>\n",
              "      <td>1</td>\n",
              "      <td>1.81</td>\n",
              "      <td>71</td>\n",
              "      <td>0</td>\n",
              "    </tr>\n",
              "    <tr>\n",
              "      <th>...</th>\n",
              "      <td>...</td>\n",
              "      <td>...</td>\n",
              "      <td>...</td>\n",
              "      <td>...</td>\n",
              "      <td>...</td>\n",
              "      <td>...</td>\n",
              "    </tr>\n",
              "    <tr>\n",
              "      <th>10853</th>\n",
              "      <td>48</td>\n",
              "      <td>2</td>\n",
              "      <td>0</td>\n",
              "      <td>1.64</td>\n",
              "      <td>58</td>\n",
              "      <td>0</td>\n",
              "    </tr>\n",
              "    <tr>\n",
              "      <th>10854</th>\n",
              "      <td>50</td>\n",
              "      <td>2</td>\n",
              "      <td>0</td>\n",
              "      <td>1.73</td>\n",
              "      <td>63</td>\n",
              "      <td>0</td>\n",
              "    </tr>\n",
              "    <tr>\n",
              "      <th>10855</th>\n",
              "      <td>38</td>\n",
              "      <td>26</td>\n",
              "      <td>1</td>\n",
              "      <td>1.85</td>\n",
              "      <td>100</td>\n",
              "      <td>0</td>\n",
              "    </tr>\n",
              "    <tr>\n",
              "      <th>10856</th>\n",
              "      <td>195</td>\n",
              "      <td>25</td>\n",
              "      <td>1</td>\n",
              "      <td>1.60</td>\n",
              "      <td>56</td>\n",
              "      <td>0</td>\n",
              "    </tr>\n",
              "    <tr>\n",
              "      <th>10857</th>\n",
              "      <td>155</td>\n",
              "      <td>2</td>\n",
              "      <td>1</td>\n",
              "      <td>1.85</td>\n",
              "      <td>70</td>\n",
              "      <td>0</td>\n",
              "    </tr>\n",
              "  </tbody>\n",
              "</table>\n",
              "<p>10858 rows × 6 columns</p>\n",
              "</div>"
            ],
            "text/plain": [
              "       nationality_l  sport_l  sex_l  height  weight  medal\n",
              "0                 59        2      1    1.72      64      0\n",
              "1                101        8      0    1.68      56      0\n",
              "2                 33        2      1    1.98      79      0\n",
              "3                117       21      1    1.83      80      0\n",
              "4                138        6      1    1.81      71      0\n",
              "...              ...      ...    ...     ...     ...    ...\n",
              "10853             48        2      0    1.64      58      0\n",
              "10854             50        2      0    1.73      63      0\n",
              "10855             38       26      1    1.85     100      0\n",
              "10856            195       25      1    1.60      56      0\n",
              "10857            155        2      1    1.85      70      0\n",
              "\n",
              "[10858 rows x 6 columns]"
            ]
          },
          "metadata": {
            "tags": []
          },
          "execution_count": 15
        }
      ]
    },
    {
      "cell_type": "markdown",
      "metadata": {
        "id": "QKO-y_ISC2K3"
      },
      "source": [
        "# **splitting the dataset into Test set and Training set**"
      ]
    },
    {
      "cell_type": "code",
      "metadata": {
        "id": "_CE1ZUrpC_aX"
      },
      "source": [
        "x=new_athletes_data.iloc[:,:-1].values \n",
        "y=new_athletes_data.iloc[:,-1].values"
      ],
      "execution_count": 16,
      "outputs": []
    },
    {
      "cell_type": "code",
      "metadata": {
        "colab": {
          "base_uri": "https://localhost:8080/"
        },
        "id": "TveZXQgnDLz6",
        "outputId": "8f8aef47-0cbb-4599-8d8e-2b5a04b5ae59"
      },
      "source": [
        "print(x)\n",
        "print(y)"
      ],
      "execution_count": 17,
      "outputs": [
        {
          "output_type": "stream",
          "text": [
            "[[ 59.     2.     1.     1.72  64.  ]\n",
            " [101.     8.     0.     1.68  56.  ]\n",
            " [ 33.     2.     1.     1.98  79.  ]\n",
            " ...\n",
            " [ 38.    26.     1.     1.85 100.  ]\n",
            " [195.    25.     1.     1.6   56.  ]\n",
            " [155.     2.     1.     1.85  70.  ]]\n",
            "[0 0 0 ... 0 0 0]\n"
          ],
          "name": "stdout"
        }
      ]
    },
    {
      "cell_type": "code",
      "metadata": {
        "id": "VmpugR7mDbbX"
      },
      "source": [
        "from sklearn.model_selection import train_test_split\n",
        "x_train,x_test,y_train,y_test=train_test_split(x,y,train_size=0.75,test_size=0.25,random_state=0)"
      ],
      "execution_count": 18,
      "outputs": []
    },
    {
      "cell_type": "code",
      "metadata": {
        "colab": {
          "base_uri": "https://localhost:8080/"
        },
        "id": "ZkWdSYFzDjE5",
        "outputId": "f0430cb9-df33-457d-8590-6d495a558c60"
      },
      "source": [
        "print(x_train)\n",
        "print(y_train)"
      ],
      "execution_count": 19,
      "outputs": [
        {
          "output_type": "stream",
          "text": [
            "[[  6.    18.     1.     1.87  97.  ]\n",
            " [ 71.     2.     1.     1.8   78.  ]\n",
            " [105.    18.     0.     1.64  60.  ]\n",
            " ...\n",
            " [ 26.    14.     1.     1.8   90.  ]\n",
            " [ 38.     6.     1.     1.72  65.  ]\n",
            " [ 73.    11.     0.     1.7   55.  ]]\n",
            "[0 0 0 ... 0 0 0]\n"
          ],
          "name": "stdout"
        }
      ]
    },
    {
      "cell_type": "code",
      "metadata": {
        "colab": {
          "base_uri": "https://localhost:8080/"
        },
        "id": "blfQZ2ohDo1P",
        "outputId": "aab0ee5d-0a3e-48e7-917d-1845437b8534"
      },
      "source": [
        "print(x_test)\n",
        "print(y_test)"
      ],
      "execution_count": 20,
      "outputs": [
        {
          "output_type": "stream",
          "text": [
            "[[ 71.     2.     1.     1.89  78.  ]\n",
            " [ 48.     2.     0.     1.71  60.  ]\n",
            " [135.    14.     1.     1.8   73.  ]\n",
            " ...\n",
            " [ 67.    13.     1.     1.7   73.  ]\n",
            " [ 80.    10.     0.     1.61  52.  ]\n",
            " [173.     5.     1.     1.89  90.  ]]\n",
            "[0 0 0 ... 0 0 1]\n"
          ],
          "name": "stdout"
        }
      ]
    },
    {
      "cell_type": "markdown",
      "metadata": {
        "id": "Rm26a38dD9L_"
      },
      "source": [
        "# **Feature Scalling**"
      ]
    },
    {
      "cell_type": "code",
      "metadata": {
        "id": "lARc1RK8DtzH"
      },
      "source": [
        "from sklearn.preprocessing import StandardScaler\n",
        "sc = StandardScaler()\n",
        "X_train = sc.fit_transform(x_train)\n",
        "X_test = sc.transform(x_test)"
      ],
      "execution_count": 21,
      "outputs": []
    },
    {
      "cell_type": "code",
      "metadata": {
        "colab": {
          "base_uri": "https://localhost:8080/"
        },
        "id": "Xh9CVSHKEtHS",
        "outputId": "3a2fc357-cf5a-4f0c-a9b5-ee35c0ef10f6"
      },
      "source": [
        "print(X_train)\n",
        "print(X_test)"
      ],
      "execution_count": 22,
      "outputs": [
        {
          "output_type": "stream",
          "text": [
            "[[-1.49425506  1.01735905  0.91845467  0.89843998  1.52952314]\n",
            " [-0.37059005 -0.93667102  0.91845467  0.27877784  0.35860166]\n",
            " [ 0.21717319  1.01735905 -1.08878536 -1.13759275 -0.75069238]\n",
            " ...\n",
            " [-1.14851198  0.52885153  0.91845467  0.27877784  1.09813102]\n",
            " [-0.94106613 -0.4481635   0.91845467 -0.42940745 -0.44255515]\n",
            " [-0.33601574  0.16247089 -1.08878536 -0.60645378 -1.05882961]]\n",
            "[[-0.37059005 -0.93667102  0.91845467  1.0754863   0.35860166]\n",
            " [-0.76819459 -0.93667102 -1.08878536 -0.51793062 -0.75069238]\n",
            " [ 0.73578781  0.52885153  0.91845467  0.27877784  0.05046443]\n",
            " ...\n",
            " [-0.43973866  0.40672465  0.91845467 -0.60645378  0.05046443]\n",
            " [-0.21500566  0.04034401 -1.08878536 -1.40316224 -1.24371195]\n",
            " [ 1.39269966 -0.57029038  0.91845467  1.0754863   1.09813102]]\n"
          ],
          "name": "stdout"
        }
      ]
    },
    {
      "cell_type": "markdown",
      "metadata": {
        "id": "J8yjfMnIKyCm"
      },
      "source": [
        "# **Train Logistic Regression model on Training set**"
      ]
    },
    {
      "cell_type": "code",
      "metadata": {
        "colab": {
          "base_uri": "https://localhost:8080/"
        },
        "id": "EAYBgJCfLDU6",
        "outputId": "6d4bfb1b-049d-4542-bcd3-69313d0c013f"
      },
      "source": [
        "from sklearn.linear_model import LogisticRegression\n",
        "Classifier=LogisticRegression(random_state=0)\n",
        "Classifier.fit(X_train,y_train)"
      ],
      "execution_count": 23,
      "outputs": [
        {
          "output_type": "execute_result",
          "data": {
            "text/plain": [
              "LogisticRegression(C=1.0, class_weight=None, dual=False, fit_intercept=True,\n",
              "                   intercept_scaling=1, l1_ratio=None, max_iter=100,\n",
              "                   multi_class='auto', n_jobs=None, penalty='l2',\n",
              "                   random_state=0, solver='lbfgs', tol=0.0001, verbose=0,\n",
              "                   warm_start=False)"
            ]
          },
          "metadata": {
            "tags": []
          },
          "execution_count": 23
        }
      ]
    },
    {
      "cell_type": "markdown",
      "metadata": {
        "id": "iMEy7ryuNiMD"
      },
      "source": [
        "# predicting new result"
      ]
    },
    {
      "cell_type": "code",
      "metadata": {
        "colab": {
          "base_uri": "https://localhost:8080/"
        },
        "id": "UhBOG7ezNqFE",
        "outputId": "5d8aba4c-d0f3-449a-8833-a0d37682fefa"
      },
      "source": [
        "print(Classifier.predict(sc.transform([[59,2,1,1.71,64]])))"
      ],
      "execution_count": 24,
      "outputs": [
        {
          "output_type": "stream",
          "text": [
            "[0]\n"
          ],
          "name": "stdout"
        }
      ]
    },
    {
      "cell_type": "code",
      "metadata": {
        "id": "6CqYZG02gZqG"
      },
      "source": [
        ""
      ],
      "execution_count": 25,
      "outputs": []
    }
  ]
}